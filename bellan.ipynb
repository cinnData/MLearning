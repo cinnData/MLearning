{
"cells": [
{
"cell_type": "markdown",
"metadata": {
"id": "mup0Y3XyMmZ8"
},
"source": [
"**Name:**\n",
"\n",
"**ID:**"
]
},
{
"cell_type": "markdown",
"metadata": {
"id": "GXTyT4DrM8H6"
},
"source": [
"**Section 1: Customer**\n",
"\n",
"I love vegan food and I feel comfortable with Mid-range prices so based on my preferences as a customer I will
filter the data as following :\n",
"\n",
"1. *priceRange*: column must have \\$\\$-\\$\\$\\$ (mid range price)\n",
"2. *diets*: column must contain the vegan keyword\n",
"3. *bubble*: column (average rating of the restaurant) greater than or equal 4.5\n",
"\n",
"After filtering the data we can summarize it by showing out the *name*, *meals*, *features*, *neigh* and *main
cuisines* offered for each restaurant."
]
},
{
"cell_type": "code",
"execution_count": 3,
"metadata": {
"colab": {
"base_uri": "https://localhost:8080/",
"height": 241
},
"id": "E38B7DwkNDUi",
"outputId": "e1f71707-4563-4728-9421-52146ff9bcf9"
},
"outputs": [
{
"data": {
"text/html": [
"\n",
" <div id=\"df-b98de170-b51d-4fe7-8408-2268e811406d\" class=\"colab-df-container\">\n",
" <div>\n",
"<style scoped>\n",
" .dataframe tbody tr th:only-of-type {\n",
" vertical-align: middle;\n",
Maurice B.ipynb.pdf[1/2/2024 11:21:01
PM]
" }\n",
"\n",
" .dataframe tbody tr th {\n",
" vertical-align: top;\n",
" }\n",
"\n",
" .dataframe thead th {\n",
" text-align: right;\n",
" }\n",
"</style>\n",
"<table border=\"1\" class=\"dataframe\">\n",
" <thead>\n",
" <tr style=\"text-align: right;\">\n",
" <th></th>\n",
" <th>name</th>\n",
" <th>cuisines</th>\n",
" <th>meals</th>\n",
" <th>features</th>\n",
" <th>neigh</th>\n",
" </tr>\n",
" </thead>\n",
" <tbody>\n",
" <tr>\n",
" <th>1</th>\n",
" <td>Vrutal</td>\n",
" <td>Bar, Healthy, Pub</td>\n",
" <td>Lunch, Dinner, Brunch, Late Night, Drinks</td>\n",
" <td>Takeout, Reservations, Outdoor Seating, Seatin...</td>\n",
" <td>Poblenou</td>\n",
" </tr>\n",
" <tr>\n",
" <th>3</th>\n",
" <td>Le Romane</td>\n",
" <td>Italian, Pizza, Mediterranean, European, Healt...</td>\n",
" <td>NaN</td>\n",
" <td>NaN</td>\n",
" <td>Eixample</td>\n",
" </tr>\n",
" <tr>\n",
" <th>5</th>\n",
" <td>Blu Bar</td>\n",
" <td>Bar, Mediterranean, Spanish, Healthy, Internat...</td>\n",
" <td>NaN</td>\n",
" <td>NaN</td>\n",
" <td>Poblenou</td>\n",
" </tr>\n",
" <tr>\n",
" <th>16</th>\n",
" <td>Prado de Flores</td>\n",
" <td>Mediterranean, Spanish, Italian, Seafood, Catalan</td>\n",
" <td>Brunch, Breakfast, Lunch, Dinner</td>\n",
" <td>Takeout, Seating, Highchairs Available, Wheelc...</td>\n",
" <td>Barrio Gotico (Barri Gotic)</td>\n",
" </tr>\n",
Maurice B.ipynb.pdf[1/2/2024 11:21:01
PM]
" <tr>\n",
" <th>19</th>\n",
" <td>9 Nine</td>\n",
" <td>Steakhouse, International, Mediterranean, Euro...</td>\n",
" <td>Lunch, Dinner</td>\n",
" <td>Reservations, Seating, Street Parking, Highcha...</td>\n",
" <td>Eixample</td>\n",
" </tr>\n",
" </tbody>\n",
"</table>\n",
"</div>\n",
" <div class=\"colab-df-buttons\">\n",
"\n",
" <div class=\"colab-df-container\">\n",
" <button class=\"colab-df-convert\" onclick=\"convertToInteractive('df-b98de170-b51d-4fe7-8408-
2268e811406d')\"\n",
" title=\"Convert this dataframe to an interactive table.\"\n",
" style=\"display:none;\">\n",
"\n",
" <svg xmlns=\"http://www.w3.org/2000/svg\" height=\"24px\" viewBox=\"0 -960 960 960\">\n",
" <path d=\"M120-120v-720h720v720H120Zm60-500h600v-160H180v160Zm220 220h160v-
160H400v160Zm0 220h160v-160H400v160ZM180-400h160v-160H180v160Zm440 0h160v-160H620v160ZM180-
180h160v-160H180v160Zm440 0h160v-160H620v160Z\"/>\n",
" </svg>\n",
" </button>\n",
"\n",
" <style>\n",
" .colab-df-container {\n",
" display:flex;\n",
" gap: 12px;\n",
" }\n",
"\n",
" .colab-df-convert {\n",
" background-color: #E8F0FE;\n",
" border: none;\n",
" border-radius: 50%;\n",
" cursor: pointer;\n",
" display: none;\n",
" fill: #1967D2;\n",
" height: 32px;\n",
" padding: 0 0 0 0;\n",
" width: 32px;\n",
" }\n",
"\n",
"
.colab-df-convert:hover {\n",
" background-color: #E2EBFA;\n",
" box-shadow: 0px 1px 2px rgba(60, 64, 67, 0.3), 0px 1px 3px 1px rgba(60, 64, 67, 0.15);\n",
" fill: #174EA6;\n",
" }\n",
"\n",
" .colab-df-buttons div {\n",
" margin-bottom: 4px;\n", "
}\n",
"\n",
Maurice B.ipynb.pdf[1/2/2024 11:21:01
PM]
" [theme=dark] .colab-df-convert {\n",
" background-color: #3B4455;\n",
" fill: #D2E3FC;\n",
" }\n",
"\n",
" [theme=dark] .colab-df-convert:hover {\n",
" background-color: #434B5C;\n",
" box-shadow: 0px 1px 3px 1px rgba(0, 0, 0, 0.15);\n",
" filter: drop-shadow(0px 1px 2px rgba(0, 0, 0, 0.3));\n",
" fill: #FFFFFF;\n",
" }\n",
" </style>\n",
"\n",
" <script>\n",
" const buttonEl =\n",
" document.querySelector('#df-b98de170-b51d-4fe7-8408-2268e811406d button.colab-df-convert');\n",
" buttonEl.style.display =\n",
" google.colab.kernel.accessAllowed ? 'block' : 'none';\n",
"\n",
" async function convertToInteractive(key) {\n",
" const element = document.querySelector('#df-b98de170-b51d-4fe7-8408-2268e811406d');\n",
" const dataTable =\n",
" await google.colab.kernel.invokeFunction('convertToInteractive',\n",
" [key], {});\n",
" if (!dataTable) return;\n",
"\n",
" const docLinkHtml = 'Like what you see? Visit the ' +\n",
" '<a target=\"_blank\" href=https://colab.research.google.com/notebooks/data_table.ipynb>data table
notebook</a>'\n",
" + ' to learn more about interactive tables.';\n",
" element.innerHTML = '';\n",
" dataTable['output_type'] = 'display_data';\n",
" await google.colab.output.renderOutput(dataTable, element);\n",
" const docLink = document.createElement('div');\n",
" docLink.innerHTML = docLinkHtml;\n",
" element.appendChild(docLink);\n",
" }\n",
" </script>\n",
" </div>\n",
"\n",
"\n",
"<div id=\"df-ab579d6c-a217-4d0e-ac9b-a38c74f0d2e4\">\n",
" <button class=\"colab-df-quickchart\" onclick=\"quickchart('df-ab579d6c-a217-4d0e-ac9b-
a38c74f0d2e4')\"\n",
" title=\"Suggest charts\"\n",
" style=\"display:none;\">\n",
"\n",
"<svg xmlns=\"http://www.w3.org/2000/svg\" height=\"24px\"viewBox=\"0 0 24 24\"\n",
" width=\"24px\">\n",
" <g>\n",
" <path d=\"M19 3H5c-1.1 0-2 .9-2 2v14c0 1.1.9 2 2 2h14c1.1 0 2-.9 2-2V5c0-1.1-.9-2-2-2zM9 17H7v-
7h2v7zm4 0h-2V7h2v10zm4 0h-2v-4h2v4z\"/>\n",
" </g>\n",
"</svg>\n",
Maurice B.ipynb.pdf[1/2/2024 11:21:01
PM]
" </button>\n",
"\n",
"<style>\n",
" .colab-df-quickchart {\n",
"
--bg-color: #E8F0FE;\n",
"
--fill-color: #1967D2;\n",
"
--hover-bg-color: #E2EBFA;\n",
"
--hover-fill-color: #174EA6;\n",
"
--disabled-fill-color: #AAA;\n",
"
--disabled-bg-color: #DDD;\n",
" }\n",
"\n",
" [theme=dark] .colab-df-quickchart {\n",
"
--bg-color: #3B4455;\n",
"
--fill-color: #D2E3FC;\n",
"
--hover-bg-color: #434B5C;\n",
"
--hover-fill-color: #FFFFFF;\n",
"
--disabled-bg-color: #3B4455;\n",
"
--disabled-fill-color: #666;\n",
" }\n",
"\n",
" .colab-df-quickchart {\n",
" background-color: var(--bg-color);\n",
" border: none;\n",
" border-radius: 50%;\n",
" cursor: pointer;\n",
" display: none;\n",
" fill: var(--fill-color);\n",
" height: 32px;\n",
" padding: 0;\n",
" width: 32px;\n",
" }\n",
"\n",
" .colab-df-quickchart:hover {\n",
" background-color: var(--hover-bg-color);\n",
" box-shadow: 0 1px 2px rgba(60, 64, 67, 0.3), 0 1px 3px 1px rgba(60, 64, 67, 0.15);\n",
" fill: var(--button-hover-fill-color);\n",
" }\n",
"\n",
" .colab-df-quickchart-complete:disabled,\n",
" .colab-df-quickchart-complete:disabled:hover {\n",
" background-color: var(--disabled-bg-color);\n",
" fill: var(--disabled-fill-color);\n",
" box-shadow: none;\n",
" }\n",
"\n",
" .colab-df-spinner {\n",
" border: 2px solid var(--fill-color);\n",
" border-color: transparent;\n",
" border-bottom-color: var(--fill-color);\n",
" animation:\n",
" spin 1s steps(1) infinite;\n",
" }\n",
"\n",
Maurice B.ipynb.pdf[1/2/2024 11:21:01
PM]
" @keyframes spin {\n",
" 0% {\n",
" border-color: transparent;\n",
" border-bottom-color: var(--fill-color);\n",
" border-left-color: var(--fill-color);\n",
" }\n",
" 20% {\n",
" border-color: transparent;\n",
" border-left-color: var(--fill-color);\n",
" border-top-color: var(--fill-color);\n",
" }\n",
" 30% {\n",
" border-color: transparent;\n",
" border-left-color: var(--fill-color);\n", "
border-top-color: var(--fill-color);\n",
" border-right-color: var(--fill-color);\n",
" }\n",
" 40% {\n",
" border-color: transparent;\n",
" border-right-color: var(--fill-color);\n",
" border-top-color: var(--fill-color);\n",
" }\n",
" 60% {\n",
" border-color: transparent;\n",
" border-right-color: var(--fill-color);\n",
" }\n",
" 80% {\n",
" border-color: transparent;\n",
" border-right-color: var(--fill-color);\n",
" border-bottom-color: var(--fill-color);\n",
" }\n",
" 90% {\n",
" border-color: transparent;\n",
" border-bottom-color: var(--fill-color);\n",
" }\n",
" }\n",
"</style>\n",
"\n",
" <script>\n",
" async function quickchart(key) {\n",
" const quickchartButtonEl =\n",
" document.querySelector('#' + key + ' button');\n",
" quickchartButtonEl.disabled = true; // To prevent multiple clicks.\n",
" quickchartButtonEl.classList.add('colab-df-spinner');\n",
" try {\n",
" const charts = await google.colab.kernel.invokeFunction(\n",
" 'suggestCharts', [key], {});\n",
" } catch (error) {\n",
" console.error('Error during call to suggestCharts:', error);\n",
" }\n",
" quickchartButtonEl.classList.remove('colab-df-spinner');\n",
" quickchartButtonEl.classList.add('colab-df-quickchart-complete');\n", "
}\n",
" (() => {\n",
Maurice B.ipynb.pdf[1/2/2024 11:21:01
PM]
" let quickchartButtonEl =\n",
" document.querySelector('#df-ab579d6c-a217-4d0e-ac9b-a38c74f0d2e4 button');\n",
" quickchartButtonEl.style.display =\n",
" google.colab.kernel.accessAllowed ? 'block' : 'none';\n", "
})();\n",
" </script>\n",
"</div>\n",
"\n",
" </div>\n",
" </div>\n"
],
"text/plain": [
" name cuisines \\\n",
"1 Vrutal Bar, Healthy, Pub \n",
"3 Le Romane Italian, Pizza, Mediterranean, European, Healt... \n",
"5 Blu Bar Bar, Mediterranean, Spanish, Healthy, Internat... \n",
"16 Prado de Flores Mediterranean, Spanish, Italian, Seafood, Catalan \n",
"19 9 Nine Steakhouse, International, Mediterranean, Euro... \n",
"\n",
" meals \\\n",
"1 Lunch, Dinner, Brunch, Late Night, Drinks \n",
"3 NaN \n",
"5 NaN \n",
"16 Brunch, Breakfast, Lunch, Dinner \n",
"19 Lunch, Dinner \n",
"\n",
" features \\\n",
"1 Takeout, Reservations, Outdoor Seating, Seatin... \n",
"3 NaN \n",
"5 NaN \n",
"16 Takeout, Seating, Highchairs Available, Wheelc... \n",
"19 Reservations, Seating, Street Parking, Highcha... \n",
"\n",
" neigh \n",
"1 Poblenou \n",
"3 Eixample \n",
"5 Poblenou \n",
"16 Barrio Gotico (Barri Gotic) \n",
"19 Eixample "
]
},
"execution_count": 3,
"metadata": {},
"output_type": "execute_result"
}
],
"source": [
"import pandas as pd\n",
"\n",
"df = pd.read_csv('trip.csv')\n",
"# so that priceRange becomes a string obj and not a obj\n",
"# which maintain more precise results\n",
"df['priceRange'] = df['priceRange'].astype(str)\n",
"\n",
Maurice B.ipynb.pdf[1/2/2024 11:21:01
PM]
"# filtering data by picking up the row that have vegan/vegetarian as a diet,\n",
"# priceRange = $$-$$$ which means midrange for this dataset\n",
"# and bubble greater than or equal to 4.5 the avg rating for the restaurant.\n",
"filtered_data = df[(df['diets'].str.contains('Vegan')) &\n",
" (df['diets'].str.contains('Vegetarian')) &\n",
" (df['priceRange'] == \"$$ - $$$\") &\n",
" (df['bubble'] >= 4.5)]\n",
"\n",
"# after filtering we need to summarize the list of the resulting resaturant\n",
"summary = filtered_data[ ['name','cuisines','meals','features','neigh'] ]\n",
"summary.head()"
]
},
{
"cell_type": "markdown",
"metadata": {
"id": "49OtAN7J1cgn"
},
"source": [
"**Section 2: Business Owner**\n",
"\n",
"As a business owner i will conduct this investigation in two ways.\n",
"1. Use the *.plot.scatter()* to plot the number of photos vs number of excellent,avg,terrible ratings\n",
"2. Use *.corr()* to calculate the correlation between number of photos and number of people rating a specific
rating"
]
},
{
"cell_type": "code",
"execution_count": 4,
"metadata": {
"colab": {
"base_uri": "https://localhost:8080/",
"height": 1000
},
"id": "mmxI5t3x2tJ2",
"outputId": "beed5cdf-df01-400e-f2a4-3ea333c44578"
},
"outputs": [
{
"name": "stdout",
"output_type": "stream",
"text": [
"Correlation between number of photos and number of people who rated excellent 0.82\n",
"Correlation between number of photos and number of people who rated average 0.66\n",
"Correlation between number of photos and number of people who rated terrible 0.55\n"
]
},
{
"data": {
"image/png":
"iVBORw0KGgoAAAANSUhEUgAAATwAAAE8CAYAAABdBQ0GAAAAOXRFWHRTb2Z0d2FyZQBNYXRwb
G90bGliIHZlcnNpb24zLjcuMSwgaHR0cHM6Ly9tYXRwbG90bGliLm9yZy/bCgiHAAAACXBIWXMAAA9hAAAP
YQGoP6dpAABJUUlEQVR4nO3deVxU9f4/8NcwwrAOq4ILiCaCiIJYJoo7Oiq3TL1dv+i30sxcM5fUrHvdytAsM5cs
Maurice B.ipynb.pdf[1/2/2024 11:21:01
PM]
W+R2K+xqZd1CcGEVyRUUFBlADG+ylAi4ILK8f3/4m/PlwAAzMMMMzPv5eJzHgznnM5/zOQfOm3M+n8/5fCRE
RGCMMRNgZugCMMZYW+GAxxgzGRzwGGMmgwMeY8xkcMBjjJkMDniMMZPBAY8xZjI44DHGTAYHPMaY
yeCAx4zS9evXIZFIEBERYeiisA6EAx4ziIiICEgkErXL66+/bujitVpBQQFef/11jBkzBnZ2dpBIJIiPjzd0sUxeJ0MXgJm
2TZs2oVevXqJ1fn5+6NmzJyoqKmBubm6gkrVOVlYWtm7dCi8vLwwYMAApKSmGLhIDBzxmYJMmTcLjjz+udpul
pWUbl+aRe/fuwcbGplV5DB48GLdu3YKTkxMOHTqEZ599VkelY63Bj7TMKDVWh3fw4EH4+vrC0tISfn5++OGHH
zB79mx4enoKaeLj49U+QqrLc/bs2bC1tUVubi4mT54MOzs7zJo1CwBQW1uLHTt2oH///rC0tISrqyvmz5+P27dvN1t+
Ozs7ODk5tfTwmZ7wHR4zqLKyMvz555+idS4uLmrT/vLLL5gxYwYGDBiA8PBw3L59G3PnzkX37t1bVYbq6mooF
AoEBwfjvffeg7W1NQBg/vz5iIiIwJw5c7B06VLk5eVh9+7dSE1NRXJycrt93DZlHPCYQYWEhDRY19gQjWvXrkX37
t2RnJwMW1tbAMC4ceMwevRo9OzZs8VlqKysxLPPPovw8HBh3cmTJ/HZZ5/h66+/xsyZM4X1Y8aMwcSJE3Hw4E
HRetY+cMBjBrVnzx707du32XQ3b95Eeno63njjDSHYAcCoUaMwYMAAlJeXt6ocCxcuFH0+ePAg7O3tMX78eNEd
6ODBg2Fra4u4uDgOeO0QBzxmUEOGDGm00aKu3377DQDQp0+fBtv69OmDCxcutLgMnTp1Qo8ePUTrsrOzUVZ
Whi5duqj9TnFxcYv3xwyHAx7rcCQSidr1NTU1atfLZDKYmYnb72pra9GlSxd8/fXXar/TuXPn1hWSGQQHPNYuqOr
ocnJyGmyrv87R0REAUFpaKlqvukvUxGOPPYbjx49j+PDhsLKy0rK0zFhxtxTWLnTr1g1+fn748ssvcffuXWF9QkIC0t
PTRWl79uwJqVSKxMRE0fqPPvpI4/397W9/Q01NDd56660G26qrqxsEU9Y+8B0eazfeeecdTJkyBcOHD8ecOXNw+/
Zt7N69G35+fqIgaG9vj2effRa7du2CRCLBY489hp9//lmrerdRo0Zh/vz5CA8PR1paGiZMmABzc3NkZ2fj4MGD+PDD
D/HXv/61yTzefvttAMDly5cBAP/6179w8uRJAMDf//53bQ+f6QIxZgD79+8nAHT27Fm12/Py8ggA7d+/X7T+wIED5O
PjQzKZjPz8/Oinn36i6dOnk4+PjyjdH3/8QdOnTydra2tydHSk+fPnU0ZGRoM8X3jhBbKxsWm0nPv27aPBgweTlZUV
2dnZ0YABA2j16tV08+bNZo8RQKMLMwwJEc9Ly9q3gIAAdO7cGceOHTN0UZiR4zo81m5UVVWhurpatC4+Ph4X
L17E6NGjDVMo1q7wHR5rN65fv46QkBD87//+L7p164arV6/i448/hr29PTIyMuDs7GzoIjIjx40WrN1wdHTE4MGD8d
lnn+GPP/6AjY0NQkNDsWXLFg52TCN8h8cYMxlch8cYMxkc8BhjJoPr8DRQW1uLmzdvCnMTMMaMCxHhzp076
NatW4P3ouvigKeBmzdvwt3d3dDFYIw148aNGw1GvqmLA54G7OzsADw6mXK53MClYYzVV15eDnd3d+FabQwH
PA2oHmPlcjkHPMaMWHNVTtxowRgzGRzwGGMmgwMeY8xkcB0eYyZIqVQiNzcXffr0gZeXl6GL02b4Do8xE1JS
UoKJEyfC29sbkydPRt++fTFx4kSNJhfvCDjgMWZCZs6ciePHj4vWHT9+HGFhYQYqUdvigMeYiVAqlYiJiWkwe1tN
TQ1iYmKQnZ1toJK1HQ54jJmI3NzcJrermxGuo+GAx5iJeOyxx5rcrm6S846GAx5jJqJv375QKBSQSqWi9VKpFAqF
wiRaazngMWZCIiMjERISIloXEhKCyMhIA5WobXE/PMZMiKOjI6Kjo5GdnY2cnByT64fHAY8xE+Tl5WVSgU6FH
2kZYyaDAx5jzGRwwGOMmQwOeIwxk8EBjzFmMjjgMcZMBgc8xpjJ4IDHGDMZHPAYYyaDAx5jzGRwwGOMm
QwOeIwxk2HQgLdhwwZIJBLR4uPjI2x/8OABFi9eDGdnZ9ja2mL69OkoKioS5ZGfn4/Q0FBYW1ujS5cuWLVqFaqrq
0Vp4uPjERgYCJlMhj59+iAiIqItDo8xZmQMfofXv39/FBQUCMvJkyeFbcuXL8d//vMfHDx4EAkJCbh58yamTZsmbK
+pqUFoaCgePnyIU6dO4Z///CciIiKwbt06IU1eXh5CQ0MxZswYpKWlYdmyZXjppZcQExPTpsfJGDMCZEDr168nf39
/tdtKS0vJ3NycDh48KKzLzMwkAJSSkkJERFFRUWRmZkaFhYVCmr1795JcLqfKykoiIlq9ejX1799flPeMGTNIoVBo
XM6ysjICQGVlZRp/hzHWdjS9Rg1+h5ednY1u3bqhd+/emDVrFvLz8wEA58+fR1VVlWh0Vh8fH3h4eCAlJQUAkJK
SggEDBsDV1VVIo1AoUF5ejsuXLwtp6o/wqlAohDzUqaysRHl5uWhhjLV/Bg14Tz75JCIiIhAdHY29e/ciLy8PI0aMwJ
07d1BYWAgLCws4ODiIvuPq6orCwkIAQGFhoSjYqbartjWVpry8HBUVFWrLFR4eDnt7e2Fxd3fXxeEyxgzMoCMeT
5o0Sfh54MCBePLJJ9GzZ0/8+9//hpWVlcHKtXbtWqxYsUL4XF5ezkGPsQ7A4I+0dTk4OKBv377IycmBm5sbHj58iN
LSUlGaoqIiuLm5AQDc3NwatNqqPjeXRi6XNxpUZTIZ5HK5aGGMtX9GFfDu3r2L3NxcdO3aFYMHD4a5uTlOnDg
hbM/KykJ+fj6CgoIAAEFBQUhPT0dxcbGQ5tixY5DL5fD19RXS1M1DlUaVB2MdgVKpxJEjR5CdnW3oohi3NmpEU
WvlypUUHx9PeXl5lJycTCEhIeTi4kLFxcVERLRgwQLy8PCg2NhYOnfuHAUFBVFQUJDw/erqavLz86MJEyZQWlo
aRUdHU+fOnWnt2rVCmmvXrpG1tTWtWrWKMjMzac+ePSSVSik6OlrjcnIrLTNWt27dIoVCQQCERaFQUElJiaGL1
qY0vUYNGvBmzJhBXbt2JQsLC+revTvNmDGDcnJyhO0VFRW0aNEicnR0JGtra5o6dSoVFBSI8rh+/TpNmjSJrKysy
MXFhVauXElVVVWiNHFxcRQQEEAWFhbUu3dv2r9/v1bl5IDHjJVCoSCpVCoKeFKpVKtuVx2BpteohIjIUHeX7U
V5eTns7e1RVlbG9XnMaCiVSnh7eze53VSmYtT0GjWqOjzGmOZyc3Ob3J6Tk9NGJdEPfdRLcsBjrJ167LHHmtzep0
+fNiqJbpWUlGDixInw9vbG5MmT0bdvX0ycOBG3b99udd4c8Bhrp/r27QuFQgGpVCpaL5VKoVAo2u3j7MyZM3H8
+HHRuuPHjyMsLKzVeXPAY6wdi4yMbPDqZEhICCIjIw1UotZRKpWIiYlBTU2NaH1NTQ1iYmJa/Xhr0DctGGOt4+
joiOjoaGRnZyMnJwd9+vRpt3d2gGb1kq05Pg54jHUAXl5e7TrQqei7XpIfaRljRkPf9ZIc8BhjRkWf9ZL8SMsYMyr6rJf
kgMcYM0r6qJfkR1rGmMnggMcYMxkc8BhjJoMDHmPMZHDAY4yZDK0D3o0bN/Df//5X+HzmzBksW7YM+/bt02
nBGGNM17QOeDNnzkRcXByAR1Mgjh8/HmfOnMGbb76JTZs26byAjDGmK1oHvIyMDAwZMgQA8O9//xt+fn44d
eoUvv76a0REROi6fIwxpjNaB7yqqirIZDIAj8aoevrppwEAPj4+KCgo0G3pGGNMh7QOeP3798fHH3+MpKQkHDt2D
BMnTgQA3Lx5E87OzjovIGOM6YrWAW/r1q345JNPMHr0aISFhcHf3x8A8NNPPwmPuowxZoxaNGtZTU0NysvL4e
joKKy7fv06rK2t0aVLF50W0BjwrGWMGTdNr9EWDR4glUpRXV2NkydPAgC8vb3h6enZooIyxlhb0fqR9t69e3jxxRf
RtWtXjBw5EiNHjkS3bt0wd+5c3L9/Xx9lZK2gj6nuGGuvtA54K1asQEJCAv7zn/+gtLQUpaWl+PHHH5GQkICVK1fq
o4ysBfQ51R1j7ZXWdXguLi44dOgQRo8eLVofFxeHv/3tb/jjjz90WT6j0B7r8CZOnIjjx4+LZn+SSqUICQlBdHS0AUv
GmO5peo1qfYd3//59uLq6NljfpUsXfqQ1Evqe6o6x9krrgBcUFIT169fjwYMHwrqKigps3LgRQUFBLS7Ili1bIJFIsGzZ
MmHdgwcPsHjxYjg7O8PW1hbTp09HUVGR6Hv5+fkIDQ0VWohXrVqF6upqUZr4+HgEBgZCJpOhT58+Hf6NEE2
mumPMFGndSrtjxw5MnDgRPXr0EPrgXbx4EZaWloiJiWlRIc6ePYtPPvkEAwcOFK1fvnw5fvnlFxw8eBD29vZYsmQ
Maurice B.ipynb.pdf[1/2/2024 11:21:01
PM]
Jpk2bhuTkZACP7lhCQ0Ph5uaGU6dOoaCgAM8//zzMzc3xzjvvAADy8vIQGhqKBQsW4Ouvv8aJEyfw0ksvoWvXrlA
oFC0qr7HT91R3jLVb1AL37t2jffv20YoVK2jFihX06aef0v3791uSFd25c4e8vLzo2LFjNGrUKHr11VeJiKi0tJTMzc3p4
MGDQtrMzEwCQCkpKUREFBUVRWZmZlRYWCik2bt3L8nlcqqsrCQiotWrV1P//v1F+5wxYwYpFAqNy1hWVkY
AqKysrEXHaAgKhYKkUikBEBapVKrVcTPWXmh6jWr9SJuYmAgLCwvMmzcP77//Pt5//3289NJLMDc3R2JiotYBd
/HixQgNDW0wLdv58+dRVVUlWu/j4wMPDw+kpKQAAFJSUjBgwABRnaJCoUB5eTkuX74spKmft0KhEPJQp7Ky
EuXl5aKlvdHnVHeMtVdaP9KOGTMGBQUFDd6oKCsrw5gxYxpUlDflwIEDuHDhAs6ePdtgW2FhISwsLODg4CBa7
+rqisLCQiFN/QYU1efm0pSXl6OiogJWVlYN9h0eHo6NGzdqfBzGSJ9T3THWXmkd8IgIEomkwfpbt27BxsZG43xu3
LiBV199FceOHYOlpaW2xdCrtWvXYsWKFcLn8vJyuLu7G7BELaePqe4Ya680DnjTpk0DAEgkEsyePVsYIgp41Hhw
6dIlDBs2TOMdnz9/HsXFxQgMDBTlk5iYiN27dyMmJgYPHz5EaWmp6C6vqKgIbm5uAAA3NzecOXNGlK+qFbdu
mvotu0VFRZDL5Wrv7gBAJpOJjo8x1jFoHPDs7e0BPLrDs7OzEwULCwsLDB06FPPmzdN4x+PGjUN6erpo3Zw5c+
Dj44M1a9bA3d0d5ubmOHHiBKZPnw4AyMrKQn5+vtD9JSgoCJs3b0ZxcbHwiH3s2DHI5XL4+voKaaKiokT7OXbs
WKu60DDG2iltW0M2bNhAd+/ebWFbStPqttISES1YsIA8PDwoNjaWzp07R0FBQRQUFCRsr66uJj8/P5owYQKlpaV
RdHQ0de7cmdauXSukuXbtGllbW9OqVasoMzOT9uzZQ1KplKKjozUuV3tspWXMlGh6jbaoWwoRUXFxMSUlJVFS
UhIVFxe3NBuR+gGvoqKCFi1aRI6OjmRtbU1Tp06lgoIC0XeuX79OkyZNIisrK3JxcaGVK1dSVVWVKE1cXBwFBA
SQhYUF9e7dm/bv369VuTjgMWbcNL1GtX6X9v79+1iyZAm+/PJL1NbWAnj0jubzzz+PXbt2wdraWud3oYbWHt+lZc
yU6O1d2uXLl/NoKYyxdolHS9EA3+ExZtx4tBTGGKvHaEZLYYwxfdP6TYsPP/wQCoVCp6OlMMZYW2jRrGX379
/H119/jatXrwIA+vXrh1mzZjX65kJ7x3V4jBk3vc5aZm1trdVbFYwxZgxaFPCys7MRFxeH4uJioS+eyrp163RSMMYY0
zWtA96nn36KhQsXwsXFBW5ubqKRUyQSCQc8xpjR0jrgvf3229i8eTPWrFmjj/IwxpjeaB3wbt++jWeffVYfZWGszS
mVSuTm5vIAqSZC6354zz77LI4ePaqPsjDWZniictOkUbeUnTt3Cj/fu3cP27dvR2hoKAYMGABzc3NR2qVLl+q+lAb
G3VI6Hp6ovGPR9BrVKOD16tVLo51KJBJcu3ZN81K2ExzwOhalUglvb+8mt/Pjbfui0354eXl5OisYY4amyUTlHPA6p
hb1w1NR3Ryqm9SHMX3QRSMDT1RuurRutACAzz//HH5+frC0tISlpSX8/Pzw2Wef6bpsjAl02cjQt29fKBQKSKVS0
XqpVAqFQsF3dx2Y1gFv3bp1ePXVV/HUU0/h4MGDOHjwIJ566iksX76cOx0zvZk5cyaOHz8uWnf8+HGEhYW1KD
+eqNw0aT14QOfOnbFz584Gf2iRkZF45ZVX8Oeff+q0gMaAGy0MS5+NDDxRecegt8EDqqqq8PjjjzdYP3jwYFRXV2
ubHWPN0mcjA09Ublq0fqR97rnnsHfv3gbr9+3bh1mzZumkUIzVxY0MTFda1Er7+eef4+jRoxg6dCgA4PTp08jPz8fzzz
+PFStWCOm2b9+um1Iyk6ZqZGisozDfoTFNaV2HN2bMGM0ylkgQGxvbokIZG67DM7zbt28jLCxMNKq2QqFAZG
QkHB0dDVgyZgx0+qaFqeOAZzy4kYGpo9cRjxkzFG5kYK3Roo7HjDHWHnHAY4yZDIMGvL1792LgwIGQy+WQ
y+UICgrCkSNHhO0PHjzA4sWL4ezsDFtbW0yfPh1FRUWiPPLz8xEaGgpra2t06dIFq1atatAfMD4+HoGBgZDJZOjTp
w8iIiLa4vAYY0ZGo4AXGBgovLO4adMm3L9/Xyc779GjB7Zs2YLz58/j3LlzGDt2LKZMmYLLly8DAJYvX47//Oc/
OHjwIBISEnDz5k1MmzZN+H5NTQ1CQ0Px8OFDnDp1Cv/85z8REREhesUtLy8PoaGhGDNmDNLS0rBs2TK89NJL
PIcuY6aINGBpaUk3btwgIiIzMzMqKirS5Gst4ujoSJ999hmVlpaSubk5HTx4UNiWmZlJACglJYWIiKKiosjMzIwKCwu
FNHv37iW5XE6VlZVERLR69Wrq37+/aB8zZswghUKhcZnKysoIAJWVlbXm0BhjeqLpNapRK21AQADmzJmD4OB
gEBHee+892Nraqk3b0gEEampqcPDgQdy7dw9BQUE4f/48qqqqRC94+/j4wMPDAykpKRg6dChSUlIwYMAAuLq6C
mkUCgUWLlyIy5cvY9CgQUhJSWnwkrhCocCyZcsaLUtlZSUqKyuFz+Xl5S06JsaYcdEo4EVERGD9+vX4+eefIZFIc
OTIEXTq1PCrLZmmMT09HUFBQXjw4AFsbW3xww8/wNfXF2lpabCwsICDg4MovaurKwoLCwEAhYWFomCn2q7
a1lSa8vJyVFRUwMrKqkGZwsPDsXHjRq2OgzFm/DQKeN7e3jhw4AAAwMzMDCdOnECXLl10UgBvb2+kpaWhrK
wMhw4dwgsvvICEhASd5N1Sa9euFb0iV15eDnd3dwOWiJkqnlVNt7TueFxbW6vTAlhYWAgvfw8ePBhnz57Fhx9+iB
kzZuDhw4coLS0V3eUVFRXBzc0NAODm5oYzZ86I8lO14tZNU79lt6ioCHK5XO3dHQDIZDLIZDKdHB9rvwwZbE
pKSjBz5kx+lU7HWtQtJTc3F6+88gpCQkIQEhKCpUuXNjuEj6Zqa2tRWVmJwYMHw9zcHCdOnBC2ZWVlIT8/H0F
BQQCAoKAgpKeno7i4WEhz7NgxyOVy+Pr6Cmnq5qFKo8qDsfqMYQpHXQ94yv4/bVtDoqOjycLCgoYMGULLly+
n5cuX05AhQ0gmk9HRo0e1yuv111+nhIQEysvLo0uXLtHrr79OEolEyGfBggXk4eFBsbGxdO7cOQoKCqKgoCDh+9X
V1eTn50cTJkygtLQ0io6Ops6dO9PatWuFNNeuXSNra2tatWoVZWZm0p49e0gqlVJ0dLTG5eRWWtOiUChIKpUSAG
GRSqVatey3RlZWlmjf9RelUtkm5WhPNL1GtQ54AQEBtGbNmgbr16xZQ4MGDdIqrxdffJF69uxJFhYW1LlzZxo3bp
woaFZUVNCiRYvI0dGRrK2taerUqVRQUCDK4/r16zRp0iSysrIiFxcXWrlyJVVVVYnSxMXFUUBAAFlYWFDv3r1
p//79WpWTA57pMIZgExUV1WQZoqKi9F6G9kbTa1Tr0VIsLS2Rnp7eoE5DqVRi4MCBePDggdZ3mcaOR0sxHUeO
HMHkyZMb3R4VFYVJkybptQw8b672NL1Gta7D69y5M9LS0hqsT0tL01nLLWOG0tzoyr///juys7P1WgaeVU1/tA548
+bNw8svv4ytW7ciKSkJSUlJ2LJlC+bPn4958+bpo4yMtZnGgo3KvHnz2qQRg2dV0xNtn5Vra2tp+/bt1L17d5JIJCSRS
Kh79+60Y8cOqq2tbeETuHHjOjzDycrKoqioqDatqC8pKSGFQiGqN5NIJAZpxFAqlW1+/O2R3urw6rpz5w4AwM7Ort
WB15hxHV7bM4Z+aNnZ2YiPj8fLL7/caBquTzMOeqvDq8vOzq7DBztmGMbQD83Lyws9evRoMk1OTk4blYbpAg8
AyoyOUqlETEyMaIYy4NEAEzExMXpvNKiLp4jsWDjgMaOjycTbbYVbTDsWDnjM6BjbXRW3mHYcWgW8qqoqj
Bs3rk0fKZjpMba7KkdHR0RHR0OpVCIqKgpKpRLR0dH8En87pFXAMzc3x6VLl/RVFsYExnhX5eXlhUmTJvFjbDu
mdbeU5cuXQyaTYcuWLfoqk9HhbimGwxNvM03obSLu6upqfPHFFzh+/DgGDx4MGxsb0fbt27drX1rGGsETbzNd0jr
gZWRkIDAwEMCj7gN1SSQS3ZSKMcb0QOuAFxcXp49yMMaY3rW4W0pOTg5iYmJQUVEBAGjFG2qMMdYmtA
54t27dwrhx49C3b19MnjwZBQUFAIC5c+di5cqVOi8gY4zpitYBb/ny5TA3N0d+fj6sra2F9TNmzEB0dLROC8cYY7qk
dR3e0aNHERMT0+Clai8vL/z22286KxhjjOma1nd49+7dE93ZqZSUlPDUhowxo6Z1wBsxYgS+/PJL4bNEIkFtbS3effd
Maurice B.ipynb.pdf[1/2/2024 11:21:01
PM]
djBkzRqeFY7qlVCpx5MgRfjWQmSytH2nfffddjBs3DufOncPDhw+xevVqXL58GSUlJUhOTtZHGVkrGcNgmowZA6
3v8Pz8/KBUKhEcHIwpU6bg3r17mDZtGlJTU5sd5YIZhjEMpsmYMWjVEO+moj2/S2voKf+USiVyc3P5XVimV3p7l
xYAbt++jc8//xyZmZkAAF9fX8yZMwdOTk4tKy3Tm+YG00xNTdVLIOLHaGaMtH6kTUxMhKenJ3bu3Inbt2/j9u3b2
LlzJ3r16oXExER9lJG1QnPVDLt379bLfvkxmhkjrR9pBwwYgKCgIOzdu1cYoLGmpgaLFi3CqVOnkJ6erpeCGlJ7fqQ
FHrWsnzx5stHtun6sNfRjNDM9epu1LCcnBytXrhSNRiuVSrFixQqewakV9Nll5JVXXmlyu65/b8Y0JwVjdWkd8AIDA
4W6u7oyMzPh7++vVV7h4eF44oknYGdnhy5duuCZZ55BVlaWKM2DBw+wePFiODs7w9bWFtOnT0dRUZEoTX5+
PkJDQ2FtbY0uXbpg1apVqK6uFqWJj49HYGAgZDIZ+vTpg4iICK3Kqi8lJSWYOHEivL29MXnyZL3Mah8QENDkdl
3PEWFsc1IwJtBkVu+LFy8Ky4EDB8jDw4O2bdtGSUlJlJSURNu2bSNPT086cOCAVrOFKxQK2r9/P2VkZFBaWhpN
njyZPDw86O7du0KaBQsWkLu7O504cYLOnTtHQ4cOpWHDhgnbq6uryc/Pj0JCQig1NZWioqLIxcWF1q5dK6S5du0
aWVtb04oVK+jKlSu0a9cukkqlFB0drVE5NZ3VvCUUCgVJpdJWz2qflZXV5Az1utqPptp6f8y0aXqNahTwJBIJmZmZ
kUQiaXIxMzNrVaGLi4sJACUkJBARUWlpKZmbm9PBgweFNJmZmQSAUlJSiIgoKiqKzMzMqLCwUEizd+9eksvlV
FlZSUREq1evpv79+4v2NWPGDI0vPn0FvKysLFFAqL80FrzqunXrFikUCtH3FAoFlZSUiNKVlJRolE5X2np/7U1z/6C
YdjS9RjXqlpKXl9fqO0lNlJWVAYDQveX8+fOoqqoSTebi4+MDDw8PpKSkYOjQoUhJScGAAQPg6uoqpFEoFFi4cC
EuX76MQYMGISUlpcGEMAqFAsuWLVNbjsrKSlRWVgqfy8vLdXWIIprUdTVXud9Ua+jOnTtFfeCio6PbbI4I1UxfP
CeFGHfXMSyNAl7Pnj31XQ7U1tZi2bJlGD58OPz8/AAAhYWFsLCwgIODgyitq6srCgsLhTR1g51qu2pbU2nKy8tRU
VEBKysr0bbw8HBs3LhRZ8fWmNbWdSmVStGFo1JTU4OYmBhRS6nqomrrOSJ4Tgqxpv5B8fBq+teijsc3b97EyZMn
UVxcjNraWtG2pUuXtqggixcvRkZGRpPdJ9rK2rVrsWLFCuFzeXk53N3ddb4f1fyrx48fR01NjbBeKpUiJCSk2UDR3B
1iXXxRGV5z/6Cys7P5n4OeaR3wIiIiMH/+fFhYWMDZ2Vk0cY9EImlRwFuyZAl+/vlnJCYmisbZc3Nzw8OHD1FaWi
q6yysqKoKbm5uQ5syZM6L8VK24ddPUb9ktKiqCXC5vcHcHADKZrM2Guvroo48wZMgQ3Lp1S1jn4OCAvXv3Nvt
dbd5d5ovK8HRRhcFaSdvKwR49etDbb79NNTU1La5gVKmtraXFixdTt27d1FbeqhotDh06JKy7evWq2kaLoqIiIc0nn3
xCcrmcHjx4QESPGi38/PxEeYeFhRm80YKo9a2ZY8eOJYlE0mTjR90lKipK58fANKOLRiqmnk5baetycnKinJycFhesr
oULF5K9vT3Fx8dTQUGBsNy/f19Is2DBAvLw8KDY2Fg6d+4cBQUFUVBQkLBd1S1lwoQJlJaWRtHR0dS5c2e13VJ
WrVpFmZmZtGfPHqPoltLcBXD06FFRWnWtemPHjtU42PFFZXjcXUc/9BbwVq1aReHh4S0umGjnjVyU+/fvF9JUV
FTQokWLyNHRkaytrWnq1KlUUFAgyuf69es0adIksrKyIhcXF1q5ciVVVVWJ0sTFxVFAQABZWFhQ7969Rftojr4C
XlRUVLMBasyYMQ2Cmqp7x+nTpzUOdLq8qLhLRctxdx390PQa1fpd2pqaGvzlL39BRUUFBgwYAHNzc9H27du3a
5Ndu6Cvd2mbe+dURSKRiKbBVDVq/PHHH7hw4YJG+9JF1wfuUqE73F1HtzS9RrUOeG+//TbWrVsHb29vuLq6Nmi
0iI2NbXmpjZQ+Bw+YOHFig1ZaXTl69Ciqq6t1dlGpK6sq+HLrLzMkvQU8R0dHfPDBB5g9e3Zry9hu6DPg3b59G2F
hYWq7K7SGXC4XOnLrgrYjoOhy4E99DCLKA5N2LBpfo9o+K7u6uppc3Y0+W2mJHr0eNnjwYK0aHzRZdPl7aq6+
UdX6q+mrbpqeF13Xd+kjT2Z4emu0eOedd+iVV15pccHaI30HPHUtd3WX+t1OVA0QgYGBWnVBaWljw61btyg4OFi
j4KrLVkh1eZmZmbWq8YVbSTsmvQW8Z555huRyOfXq1Yv+8pe/0NSpU0VLR6TPgNdc15ShQ4c22kp75swZjYJQa
+9qmgrIdYNFc8fy+eef08aNG0XdbVp6Xs6ePavzc21qTy4diU4HD6jLwcEB06ZN0/ZrrBHN9b5ft24dJk2apLZV74knn
oBCocCxY8dEr/jVfzWtNe9vNvY6lMqwYcMQGRmp0bHMnTtX+NnZ2Rlnz55Fr1691KZtLq/58+fj/PnzTabRNk9+08
EEtFEAbtcMeYfX3F1Hc/26Wpu/pnV3WVlZtG/fvibT1l+cnZ1bfF4aK3tTj+18h9dx6e2R1hQZog5P23olpVKp9kLXN
GA1prkgcebMmQYBV5vlu+++a3Tf2tRRavrYznV4HZPeAp6npyf16tWr0aUj0mXAU3cHos/e97q4q2kqSDTX4NLc8t
hjjzV6fjSto2yujHXxmw4dk94C3o4dO0TLtm3baObMmeTk5KSzV86MjS4CniZ3II3dpWmiqUe51t7VNBYkmgtImi5K
pbLR8zN27Nhmy96SoK461zExMfyaXAfQ5o+0u3fvptmzZ+sqO6Oii4Cnr0cpTQKpuoAVHBxM3377rVYXev2ArMm
7wJosUVFRjZ6fsWPHNnt8zZXj008/bdF5Y+1Hmwe83NxcsrOz01V2RqW1AU+fleUKhYLMzMw0CqRKpZK+/fbbB
n3qWnqha9KwoMkSExPT7Plp6u5Xk3LUP0auy+tY2jzgbd26lXr27Kmr7IxKawNeaxsOGtPcaCn6eLzVJL/6i1QqJWdn
50YDsy7OT3PlqHuM0dHRevsHxAxDbwEvICCABg0aJCwBAQHk5uZGUqmUPvnkkxYX2JgZ2x2eqr6uf//+WgUKb
cbfa2yf9cuq7nHZ2dm5wd3VtWvXGn2E1MX5UVcOdcuIESOaTcODpLY/egt4GzZsEC2bNm2ivXv3UmZmZosLa+y
MpQ5PXb2TNoFCkzq3+o9+mtZ11X/kbOwRtLH1urrz/PTTT5s8vvp3mXyH1zFwPzwd0kXA00V3CG26gAQGBjb4vi
Z1XfWDTFvVdemqu0hr6hW5Dq/94oCnQ7rsh9fSrifaXsiNvWs6dOhQje8ODfFmQmu65qg0NuiAtne3rP3QecCTSCR
kZmbW5CKVSltdcGOk7zctmnPr1q1m3zpo7i5F28fhqKgovTW26Ftj3XCaOhZNBjRgxkvngwf88MMPjW5LSUnBzp0
7G8xRy3Rj5syZSEtL0yhtSEiI8DJ//TyOHTum8T779OkjGla+sTS6pouBOR0dHREdHd1gwIWmRmweP368rg6BGbP
WRNWrV6/SM888Q1KplJ5//nm6fv16a7IzWoa8w9P0UdbMzIyCg4NblQd0XIenzfh7bdERmF8r67j0Wof3+++/00svv
UTm5ub0l7/8hdLT01tUyPbCkAFP27cZ1AUXbfLQ5C2N5oJES4JXW3YE1kU9ITMuegl4paWltHr1arKysqKgoCBKT
ExsVSHbC30PD9XUxadtY0XdejVV3s29yQCAfH19mwwA2gQJbYMXD9vEWkvnAW/r1q3k5OREvr6+dPjw4VYXs
D3RR8DT5i5Im+4owcHBlJubq7YzcHMtlWPHjhXtvyVDwrckeLXXxhFmPHQ+L62ZmRmsrKwQEhICqVTaaLrvv/9
ek+zaFV3NWla3Qv6VV15RW4EeFBSEN954Q1Rpr83MZlKpFA4ODigtLW2Qt4ODA27dutXodyUSCSZMmIBvvvm
mxfPPHjlyBJMnT250e1RUFCZNmiRap+2MaIzVp/NpGmfPni2ag7Yx+/fv17yU7URrA566Caw1UT/InD17FiEhISgvL
9e6DCpffPEFXnzxxSbTjBgxAqdOnWrR/LMtDV7jxo1DXFycqGVYIpFgzJgxOHHiRJP7ZExv0zSaotY+0gYHB2vU8
bX+IpVKKTg4WHisbK4vmSbL66+/3qrv66MOj4gaTFSkWsaOHduic85MC79poUMtDXiaTG/Y1ktr57/VpD5N25Zdb
rRgraXpNWoGA0pMTMRTTz2Fbt26QSKR4PDhw6LtRIR169aha9euQv1hdna2KE1JSQlmzZoFuVwOBwcHzJ07F3f
v3hWluXTpEkaMGAFLS0u4u7vj3Xff1fehAXjU2ffUqVNtsi9NDB48WOuZvurTpLOxquOvUqlEVFQUlEoloqOjG63/
Maurice B.ipynb.pdf[1/2/2024 11:21:01
PM]
S0hIaDK/nJycFpWVsQbaJv6qFxUVRW+++SZ9//33BIB++OEH0fYtW7aQvb09HT58mC5evEhPP/009erViyoqKoQ0
EydOJH9/f/r1118pKSmJ+vTpQ2FhYcL2srIycnV1pVmzZlFGRgZFRkaSlZWVVkNZteQOr7mx6gyxtOZxVh994jR93
Y3v8Fhz2t0jbf2AV1tbS25ubrRt2zZhXWlpKclkMoqMjCQioitXrhAgflH+yJEjJJFI6Pfffycioo8++ogcHR2psrJSSLNmz
Rry9vbWuGwtCXiavvsKgHx8fNok4GnSH6+xJTAwsMlHUnXdV5rr1qLNoJ2MNaXdB7zc3FwCQKmpqaJ0I0eOpKV
LlxIR0eeff04ODg6i7VVVVSSVSun7778nIqLnnnuOpkyZIkoTGxtLABq9gB88eEBlZWXCcuPGDa0Cnq6GPtfVUjdw
NNag0Fxdo7qg1VhfQnX9AOvX4bVkWHbGGtMu6vCaUlhYCABwdXUVrXd1dRW2FRYWokuXLqLtnTp1gpOTky
iNujzq7qO+8PBw2NvbC4u7u7tWZW9uhvu2VlNTg6qqKty+fRuRkZEICQkRbff398cHH3wAhULRoI+lVCqFQqFQ2
5Vk5syZOH78uGjd8ePHMWTIELXrw8LChM/NnaNPP/20yXo/xlrCaAOeIa1duxZlZWXCcuPGDa2+b2ZmfKc1ISEB
Tz/9NH799Vfs2rULZ86cQWBgIADgwoULeOKJJ1BVVYVRo0aJvjds2DC1o68olUrExMSI+uoBj4LrrVu31K6PiYkR
Gp0ee+yxJstbvxyM6YLxXZn/n5ubGwCgqKhItL6oqEjY5ubmhuLiYtH26upqlJSUiNKoy6PuPuqTyWSQy+WiRVMlJ
SV44403NE7fVmpqanDy5ElMnjwZffv2RUhISIMhp1StpcHBwcK6pKQkhIWF4fbt26K0Lb2LVbW49u3bV+s7SsZay
2gDXq9eveDm5ibqZV9eXo7Tp08jKCgIABAUFITS0lJRV4vY2FjU1tbiySefFNIkJiaiqqpKSHPs2DF4e3vr5XFJm7Hr
DKm8vLzB+IU1NTWIjY1t0JWm/uMo0PwdWmPqdmtR93jd2Hh+jOlEG9UpqnXnzh1KTU2l1NRUAkDbt2+n1NRU
+u2334joUbcUBwcH+vHHH+nSpUs0ZcoUtd1SBg0aRKdPn6aTJ0+Sl5eXqFtKaWkpubq60nPPPUcZGRl04MABsra2
1ku3FH03VrTkbQ1dLppOvOPs7KzVmxY8XBNrrXbRShsXF6f2wnrhhReI6FHXlH/84x/k6upKMpmMxo0bR1lZWaI
8bt26RWFhYWRra0tyuZzmzJlDd+7cEaW5ePEiBQcHk0wmo+7du9OWLVu0KqemJ1Pbseu0Wfr37082NjYGDXj137
Jo7I2KpqZkZEwfdD5aiinT9MXk5l6cN3ZSqbRBY0Ndjb34X38o9ebWM6ZrOh8txZRpM1qKunkT2guFQoGqqiokJCS
0aKQUxgxF02vUaBst2quPPvoIDg4Ohi6GVgIDA4X3XQ8dOsQNCazD0njWMqaZRYsWobS01NDF0JidnR0OHTqE
Xr16AWh8xi/GOgJ+pNVAR67Dk0gkGD58OJKSkgxdFMZajB9pDcDYXinTBBHh5MmTGDlyZIPOxYx1NBzwdKil
nXGNQXJycoPOxYx1NBzwdKhv374YM2aMoYuhlq2tbZPba2trRe+6MtYRccDTMYlEotFkR20pODgY+fn5UCgUz
Q5swKMLs46MA54OKZVKxMbGwhjageRyOb799lsolUokJSXB0dERkZGRGDZsWJPf02QId8baKw54OmRMjRbl5
eUYNGiQqEuJo6MjkpKSMGLEiAZ3ejxKCTMFHPB0yNgaLRqbHOfHH3/E+PHjReu4czEzBdzxWIf69u0LBwcHo+
94zJ2LmanigKdDSqXSqIJdc6MGe3l5caBjJoUDng4Z08Cf/v7+RhfMlEolcnNz+Y6SGQzX4enQ+vXrDV0EwWeffSb6
rFQqceTIEYP0syspKcHEiRPh7e0tDDE/ceJEfrODtTkOeDqiVCpx9epVQxcDEokECoUCjz/+OADjCDaNzW7Gb3awt
sYBT0caaxFtaxMmTBC1tjYWbEJCQtrkbq+p2c34zQ7W1jjgdSBHjx4VzeXaVLC5cOFCm9ztNdc3kd/sYG2JA56O+P
v7G2zfqk7D9fvWadIRWt+Pls31TeQ3O1hb4oCnI+vWrWuT/YwYMQJjx44VrWus07AmHaH1/WjJ888yY8IBTwdUj4
76NHnyZCiVSiQmJuLEiRNQKpWIiooShmZXN8duY8FGHX0+WvL8s8xYcD88HWiLd2iXLVsmuhvStNNwZGQk
wsLCmg3I+ny05Dc7mLHgOzwdaIt3aKurq1v0PVWwUSqVCAwMNOigAV5eXpg0aRIHO2YwHPB0IC8vT+/7aO0d
mJeXF44fP86DBjCTxo+0OnD69Gm95W1mZobx48fr5K6IHy2ZqeOApwPXrl3TW97Dhw/X+R0YDxrATBUHPB3Iz
8/XS77e3t5ITEzUS96MmSKTqsPbs2cPPD09YWlpiSeffBJnzpzRSb766nT81Vdf6SVfxkyVyQS8b7/9FitWrMD69etx4
cIF+Pv7Q6FQoLi4uNV5+/r66qCE/0fVcqoaAIAxphsmE/C2b9+OefPmYc6cOfD19cXHH38Ma2trfPHFF4YuWoOAyS
2njOmHSdThPXz4EOfPn8fatWuFdWZmZggJCUFKSkqD9JWVlaisrBQ+l5eXN5l/cyMLN+fw4cMAwC2njOmZSdzh/
fnnn6ipqYGrq6tovaurKwoLCxukDw8Ph729vbC4u7s3mX/fvn0bvN+qibqdfrlTLmP6ZxIBT1tr165FWVmZsNy4caPZ7
xw6dEjroMeProy1LZN4pHVxcYFUKkVRUZFofVFREdzc3Bqkl8lkkMlkWu3D0dERJ06cQHZ2NhISElBUVARXV1f
07NkTv/32G4D/e/TlR1fGDMMkAp6FhQUGDx6MEydO4JlnngEA1NbW4sSJE1iyZIlO96VJp14OdIwZhkkEPABYs
WIFXnjhBTz++OMYMmQIduzYgXv37mHOnDmGLhpjrI2YTMCbMWMG/vjjD6xbtw6FhYUICAhAdHR0g4YMxlj
HJSEiMnQhjF15eTns7e1RVlYGuVxu6OIwxurR9BrlVlrGmMkwmUfa1lDdBDfXAZkxZhiqa7O5B1YOeBq4c+cOAD
TbAZkxZlh37tyBvb19o9u5Dk8DtbW1uHnzJuzs7CCRSJpMW15eDnd3d9y4cYPr+zTA50s7fL7UIyLcuXMH3bp1azC
NQV18h6cBMzMz9OjRQ6vvyOVy/oPUAp8v7fD5aqipOzsVbrRgjJkMDniMMZPBAU/HZDIZ1q9fr/W7uKaKz5d2+
Hy1DjdaMMZMBt/hMcZMBgc8xpjJ4IDHGDMZHPAYYyaDA54O6WveW2OXmJiIp556Ct26dYNEIhEmJVIhIqxbt
w5du3aFlZUVQkJCkJ2dLUpTUlKCWbNmQS6Xw8HBAXPnzsXdu3dFaS5duoQRI0bA0tIS7u7uePfdd/V9aHoRHh6
OJ554AnZ2dujSpQueeeYZZGVlidI8ePAAixcvhrOzM2xtbTF9+vQGI3bn5+cjNDQU1tbW6NKlC1atWoXq6mpRmvj4
eAQGBkImk6FPnz6IiIjQ9+EZN2I6ceDAAbKwsKAvvviCLl++TPPmzSMHBwcqKioydNH0Lioqit588036/vvvCQD98
MMPou1btmwhe3t7Onz4MF28eJGefvpp6tWrF1VUVAhpJk6cSP7+/vTrr79SUlIS9enTh8LCwoTtZWVl5OrqSrNmza
KMjAyKjIwkKysr+uSTT9rqMHVGoVDQ/v37KSMjg9LS0mjy5Mnk4eFBd+/eFdIsWLCA3N3d6cSJE3Tu3DkaOnQo
DRs2TNheXV1Nfn5+FBISQqmpqRQVFUUuLi60du1aIc21a9fI2tqaVqxYQVeuXKFdu3aRVCql6OjoNj1eY8IBT0eG
DBlCixcvFj7X1NRQt27dKDw83IClanv1A15tbS25ubnRtm3bhHWlpaUkk8koMjKSiIiuXLlCAOjs2bNCmiNHjpBEIq
Hff/+diIg++ugjcnR0pMrKSiHNmjVryNvbW89HpH/FxcUEgBISEojo0fkxNzengwcPCmkyMzMJAKWkpBDRo38yZ
mZmVFhYKKTZu3cvyeVy4RytXr2a+vfvL9rXjBkzSKFQ6PuQjBY/0uqAat7bkJAQYV1T896akry8PBQWForOjb29P
Z588knh3KSkpMDBwQGPP/64kCYkJARmZmY4ffq0kGbkyJGwsLAQ0igUCmRlZeH27dttdDT6UVZWBgBwcnICA
Jw/fx5VVVWic+bj4wMPDw/RORswYIBoxG6FQoHy8nJcvnxZSFM3D1UaU/6b5ICnA9rOe2tKVMff1LkpLCxEly5d
RNs7deoEJycnURp1edTdR3tUW1uLZcuWYfjw4fDz8wPw6HgsLCzg4OAgSlv/nDV3PhpLU15ejoqKCn0cjtHj0VIY
M6DFixcjIyMDJ0+eNHRRTALf4emAtvPemhLV8Td1btzc3FBcXCzaXl1djZKSElEadXnU3Ud7s2TJEvz888+Ii4sTD
T/m5uaGhw8forS0VJS+/jlr7nw0lkYul8PKykrXh9MucMDTgbrz3qqo5r0NCgoyYMkMr1evXnBzcxOdm/Lycpw+fVo4
Maurice B.ipynb.pdf[1/2/2024 11:21:01
PM]
N0FBQSgtLcX58+eFNLGxsaitrcWTTz4ppElMTERVVZWQ5tixY/D29oajo2MbHY1uEBGWLFmCH374AbGxsejVq
5do++DBg2Fubi46Z1lZWcjPzxeds/T0dNE/imPHjkEul8PX11dIUzcPVRqT/ps0dKtJR3HgwAGSyWQUERFBV65coZ
dffpkcHBxErWgd1Z07dyg1NZVSU1MJAG3fvp1SU1Ppt99+I6JH3VIcHBzoxx9/pEuXLtGUKVPUdksZNGgQnT59m
k6ePEleXl6ibimlpaXk6upKzz33HGVkZNCBAwfI2tq6XXZLWbhwIdnb21N8fDwVFBQIy/3794U0CxYsIA8PD4qNja
Vz585RUFAQBQUFCdtV3VImTJhAaWlpFB0dTZ07d1bbLWXVqlWUmZlJe/bs4W4phi5AR7Jr1y7y8PAgCwsLGjJk
CP3666+GLlKbiIuLIwANlhdeeIGIHnVN+cc//kGurq4kk8lo3LhxlJWVJcrj1q1bFBYWRra2tiSXy2nOnDl0584dUZqLF
y9ScHAwyWQy6t69O23ZsqWtDlGn1J0rALR//34hTUVFBS1atIgcHR3J2tqapk6dSgUFBaJ8rl+/TpMmTSIrKytycXGh
lStXUlVVlShNXFwcBQQEkIWFBfXu3Vu0D1PEw0MxxkwG1+ExxkwGBzzGmMnggMcYMxkc8BhjJoMDHmPMZ
HDAY4yZDA54jDGTwQGPMWYyOOC1kevXr0MikSAtLc3QRRFcvXoVQ4cOhaWlJQICAgxdnGapGz5enzw9PbFj
x442219bMvZji4+Ph0QiEQZQiIiIaDBcVkuYTMCbPXs2JBIJtmzZIlp/+PBhSCQSA5XKsNavXw8bGxtkZWU1eMmc
GR9jD1LtgckEPACwtLTE1q1b2/0IuXU9fPiwxd/Nzc1FcHAwevbsCWdnZx2WimmKiBpMvMP0x6QCXkhICNzc3B
AeHt5omg0bNjR4vNuxYwc8PT2Fz7Nnz8YzzzyDd955B66urnBwcMCmTZtQXV2NVatWwcnJCT169MD+/fsb5H/16
lUMGzYMlpaW8PPzQ0JCgmh7RkYGJk2aBFtbW7i6uuK5557Dn3/+KWwfPXo0lixZgmXLlsHFxQUKhULtcdTW1m
LTpk3o0aMHZDIZAgICEB0dLWyXSCQ4f/48Nm3aBIlEgg0bNqjNR7W/JUuWwN7eHi4uLvjHP/6Buq9gV1ZW4rX
XXkP37t1hY2ODJ598EvHx8aJ8vvvuO/Tv3x8ymQyenp54//33Rds9PT3x1ltvISwsDDY2NujevTv27NmjtkwqN27cwN/
+9jc4ODjAyckJU6ZMwfXr1xtN//jjj+O9994TPj/zzDMwNzcXZkf773//C4lEgpycHCHN/fv38eKLL8LOzg4eHh7Yt2+f
KM/09HSMHTsWVlZWcHZ2xssvv9xgtrW6VI9qR44cweDBgyGTyXDy5Enk5uZiypQpcHV1ha2tLZ544gkcP35c+N7
o0aPx22+/Yfny5ZBIJKKnkpMnT2LEiBGwsrKCu7s7li5dinv37gnbi4uL8dRTT8HKygq9evXC119/3eR5Vfnss8/Qr18/
WFpawsfHBx999JGw7cUXX8TAgQNRWVkJ4NE/3kGDBuH5558X0iQnJ2P06NGwtraGo6MjFAqFcLNRW1uL8PB
w9OrVC1ZWVvD398ehQ4c0KpfKjz/+iMDAQFhaWqJ3797YuHGj6J+HRCLBZ599hqlTp8La2hpeXl6mMzzUCy+8Q
FOmTKHvv/+eLC0t6caNG0RE9MMPPxDqnIb169eTv7+/6LsffPAB9ezZU5SXnZ0dLV68mK5evUqff/45ASCFQkGb
N28mpVJJb731Fpmbmwv7ycvLIwDUo0cPOnToEF25coVeeuklsrOzoz///JOIiG7fvi0M8ZOZmUkXLlyg8ePH05gxY4
R9jxo1imxtbWnVqlV09epVunr1qtrj3b59O8nlcoqMjKSrV6/S6tWrydzcnJRKJRERFRQUUP/+/WnlypVUUFDQYGSS
+vt79dVX6erVq/TVV1+RtbU17du3T0jz0ksv0bBhwygxMZFycnJo27ZtJJPJhH2dO3eOzMzMaNOmTZSVlUX79+8n
Kysr0cgdPXv2JDs7OwoPD6esrCzauXMnSaVSOnr0qJAGdSYIevjwIfXr149efPFFunTpEl25coVmzpxJ3t7eool+6lqxY
gWFhoYS0aMRXJycnMjFxYWOHDlCRERfffUVde/eXVQmJycn2rNnD2VnZ1N4eDiZmZkJ5/zu3bvUtWtXmjZtGq
Wnp9OJEyeoV69ewigx6qhGlhk4cCAdPXqUcnJy6NatW5SWlkYff/wxpaenk1KppL///e9kaWkpDLF169Yt6tGjB23atE
kYToqIKCcnh2xsbOiDDz4gpVJJycnJNGjQIJo9e7awz0mTJpG/vz+lpKTQuXPnaNiwYWRlZUUffPBBo+X86quvqGv
XrvTdd9/RtWvX6LvvviMnJyeKiIggokdDgvXu3ZuWLVtGRESvvfYaeXp6UllZGRERpaamkkwmo4ULF1JaWhplZG
TQrl276I8//iAiorfffpt8fHwoOjqacnNzaf/+/SSTySg+Pl50nm7fvk1ERPv37yd7e3uhfImJiSSXyykiIoJyc3Pp6NGj5OnpS
Rs2bBDSqK63b775hrKzs2np0qWmMzyUKuAREQ0dOpRefPFFImp5wOvZsyfV1NQI67y9vWnEiBHC5+rqarKxsRF
m5lIFvLpDGlVVVVGPHj1o69atRET01ltv0YQJE0T7vnHjBgEQhlMaNWoUDRo0qNnj7datG23evFm07oknnqBFixY
Jn/39/Wn9+vVN5jNq1Cjq168f1dbWCuvWrFlD/fr1IyKi3377jaRSqTC7mMq4ceOEsdlmzpxJ48ePF21ftWoV+fr6Cp97
9uxJEydOFKWZMWMGTZo0SfhcN+D961//Im9vb1G5KisrycrKimJiYtQey08//UT29vZUXV1NaWlp5ObmRq+++iqt
WbOGiB4F7pkzZ4rK9L//+7/C59raWurSpQvt3buXiIj27dtHjo6OoukVf/nllwazidWlupAPHz6sdntd/fv3p127donKUz9Iz
Z07l15++WXRuqSkJDIzM6OKigrKysoiAHTmzBlhu2oGtKYC3mOPPUbffPONaN1bb70lGpPv1KlTZG5uTv/4xz+oU
6dOlJSUJGwLCwuj4cOHq837wYMHZG1tTadOnWpwLKoxEJsLeOPGjaN33nlH9P1//etf1LVrV+EzAPr73/8ufL579y
6Z5JwWW7duxdixY/Haa6+1OI/+/fvDzOz/agRcXV2FSVgAQCqVwtnZucHQ5XVHm+3UqRMef/xxZGZmAgAuXryI
uLg42NraNthfbm4u+vbtC+DRiLhNKS8vx82bNzF8+HDR+uHDh+PixYsaHuH/GTp0qOgRKigoCO+//z5qamqQnp6O
mpoaoWwqlZWVQr1gZmYmpkyZ0qAsO3bsQE1NDaRSqZBvXUFBQY1W0l+8eBE5OTmws7MTrX/w4AFyc3PVf
mfEiBG4c+cOUlNTcerUKYwaNQqjR48WGrISEhKwatUq0XcGDhwo/CyRSETD0WdmZsLf3x82Njai46qtrUVWVla
DCXTqqjtDGwDcvXsXGzZswC+//IKCggJUV1ejoqIC+fn5jeahOg+XLl0SPaYSEWpra5GXlwelUolOnTqJ/mZ8fHyab
PG8d+8ecnNzMXfuXMybN09YX11dDXt7e+FzUFAQXnvtNbz11ltYs2YNgoODhW1paWl49tln1eafk5OD+/fvY/z48a
L1qsdiTVy8eBHJycnYvHmzsK6mpgYPHjzA/fv3YW1tDUD8+7OxsTHNSXxGjhwJhUKBtWvXYvbs2aJtZmZmovop
AKJhxVXMzc1FnyUSidp1tbW1Gpfr7t27eOqpp7B169YG27p27Sr8XPcCM7S7d+9CKpXi/PnzQuBSURe4dbnfwYM
Hq62P6ty5s9rvODg4wN/fH/Hx8UhJScH48eMxcuRIzJgxA0qlEtnZ2Rg1apToO639nTam/u/wtddew7Fjx/Dee++hT58+
sLKywl//+tdmG6Xu3r2L+fPnY+nSpQ22eXh4QKlUal02VR3kp59+Kgyxr1L3d1xbW4vk5GRIpVJRvSeAJufMUOX/y
y+/oHv37qJtMplM4zJu3LgR06ZNa7DN0tJS+Ln+788kAx4AbNmyBQEBAfD29hat79y5MwoLC0FEwl2NLvvO/frrrx
g5ciSAR/8xz58/jyVLlgAAAgMD8d1338HT0xOdOrX8VyOXy9GtWzckJyeLLuDk5GQMGTJE6/xUc8PWPQYvLy9I
pVIMGjQINTU1KC4uxogRI9R+v1+/fkhOThatS05ORt++fUUX0K+//tpgP/369VObZ2BgIL799lt06dIFcrlc42MZNWo
U4uLicObMGWzevBlOTk7o168fNm/ejK5duza4U21Kv379EBERgXv37gkBLDk5GWZmZg3+rpqTnJyM2bNnY+rUq
QAeXdD1G2AsLCxQU1MjWhcYGIgrV66gT58+avP18fER/s6eeOIJAI/mx6g/QVBdrq6u6NatG65du4ZZs2Y1mm7bt
m24evUqEhISoFAosH//fsyZMwfAozurEydOYOPGjQ2+5+vrC5lMhvz8/Ab/YDQVGBiIrKysRo+7UY0+xHcwdevwV
J577jmytLQU1eFduXKFJBIJbdmyhXJycmj37t3k6OjYoA6vfl6jRo2iV199VbSubp2Lqg7Pw8ODvv/+e8rMzKSXX36Z
Maurice B.ipynb.pdf[1/2/2024 11:21:01
PM]
bG1thYrc33//nTp37kx//etf6cyZM5STk0PR0dE0e/Zsqq6ubnQ/6nzwwQckl8vpwIEDdPXqVVqzZo2o0YJI8zo8W1tbW
r58OV29epW++eYbsrGxoY8//lhIM2vWLPL09BQquE+fPk3vvPMO/fzzz0REdP78eVGjRUREhNpGC7lcTlu3bqWsrC
zavXt3g/kXUKcO7969e+Tl5UWjR4+mxMREunbtGsXFxdErr7wiNBSpc/jwYZJKpeTm5iase/XVV0kqldL//M//iNKqq
zOre87u3btHXbt2penTp1N6ejrFxsZS7969NWq0UNVNqUydOpUCAgIoNTWV0tLS6KmnniI7OzvR73r8+PH09NNP
03//+1/hb+bixYtkZWVFixcvptTUVFIqlXT48GFavHix8D3VfCG//vornTt3joKDg5tttPj000/JysqKPvzwQ8rKyqJLly7R
F198Qe+//z4REV24cIEsLCzop59+IiKiTz75hOzs7Cg3N5eIiLKyssjCwoIWLlxIFy9epMzMTProo4+Ecr/55pvk7OxME
RERlJOTQ+fPn6edO3cKjSLN1eFFR0dTp06daMOGDZSRkUFXrlyhyMhIevPNN4U0df9ehHWNHnEHoy5I5eXlkY
WFBdWP+3v37iV3d3eysbGh559/njZv3qyzgPfNN9/QkCFDyMLCgnx9fSk2Nlb0HaVSSVOnTiUHBweysrIiHx8fWrZ
smVA5r2nAq6mpoQ0bNlD37t3J3Nyc/P39hdZIFU0D3qJFi2jBggUkl8vJ0dGR3njjDVFjwcOHD2ndunXk6elJ5ubm1L
VrV5o6dSpdunRJSHPo0CHy9fUlc3Nz8vDwoG3btjU4Vxs3bqRnn32WrK2tyc3NjT788ENRmvp/wAUFBfT888+Ti4s
LyWQy6t27N82bN09oKVTn1q1bJJFIaMaMGcI6VcNV3SCuKlNTAY+I6NKlSzRmzBiytLQkJycnmjdvXqMt3kSNB7
y8vDwaM2YMWVlZkbu7O+3evbvB7zolJYUGDhxIMplM9Dd75swZGj9+PNna2pKNjQ0NHDhQ1GBVUFBAoaGhJ
JPJyMPDg7788ku1x1bf119/LcyH4ejoSCNHjqTvv/+eKioqyNfXt0FjydNPP03Dhg0T/jnHx8fTsGHDSCaTkYODAykU
CuG4a2traceOHeTt7U3m5ubUuXNnUigUlJCQoPY81Q94RI+CnqrFWS6X05AhQ0S9B9QFPJ7TgjVp9OjRCAgI0Hs
Pf09PTyxbtgzLli3T636YaTOpjseMMdPGAY8xZjL4kZYxZjL4Do8xZjI44DHGTAYHPMaYyeCAxxgzGRzwGGMm
gwMeY8xkcMBjjJkMDniMMZPx/wBJdjGLe31NCAAAAABJRU5ErkJggg==",
"text/plain": [
"<Figure size 300x300 with 1 Axes>"
]
},
"metadata": {},
"output_type": "display_data"
},
{
"data": {
"image/png":
"iVBORw0KGgoAAAANSUhEUgAAATwAAAE8CAYAAABdBQ0GAAAAOXRFWHRTb2Z0d2FyZQBNYXRwb
G90bGliIHZlcnNpb24zLjcuMSwgaHR0cHM6Ly9tYXRwbG90bGliLm9yZy/bCgiHAAAACXBIWXMAAA9hAAAP
YQGoP6dpAABJMklEQVR4nO3deVgUV9o//G/TNg0IDQgCLiwaWVRURKNiRFzQBpk8bmN4kIlb1JgY96gxz29iN
AuaxRiX0ZhF4oyDGZwsE4MgoogLccclIg2I0USWyCKigiz3+4cvNRQ00A3ddGPfn+uq67KrTlWfKrtuTp1z6hwJERE
YY8wEmBk6A4wx1lY44DHGTAYHPMaYyeCAxxgzGRzwGGMmgwMeY8xkcMBjjJkMDniMMZPBAY8xZjI44D
GjdPPmTUgkEkRHRxs6K+wpwgGPGUR0dDQkEona5Y033jB09lotKSkJc+bMgZeXF6ysrNCzZ0/MnTsXubm5hs6aS
etg6Aww07Z+/Xr06NFDtM7X1xfu7u549OgRZDKZgXLWOqtXr0ZRURGmTZsGT09P3LhxA9u2bcOBAweQlpYGF
xcXQ2fRJHHAYwYVGhqKwYMHq91mYWHRxrl54sGDB+jYsWOrjrFp0yaMGDECZmb/fYgKCQlBUFAQtm3bhn
fffbe12WQtwI+0zCg1VocXGxuLPn36wMLCAr6+vvjuu+8wa9YseHh4CGmSk5MhkUiQnJzc7DFnzZoFa2trZGdnY8
KECbCxsUFkZCQAoKamBps3b0bfvn1hYWEBZ2dnvPzyyyguLm42/yNHjhQFu9p1nTp1Qnp6ulbXgukOl/CYQd27d
w93794VrXN0dFSb9qeffkJ4eDj69euHqKgoFBcX46WXXkK3bt1alYeqqioolUqMGDECH330EaysrAAAL7/8MqKjoz
F79mwsXrwYOTk52LZtGy5evIiTJ09q/bhdVlaGsrKyRs+P6R8HPGZQwcHBDdY1NkTjmjVr0K1bN5w8eRLW1tYA
gLFjx2LUqFFwd3dvcR4qKiowbdo0REVFCetOnDiBL774Anv37sX06dOF9aNHj0ZISAhiY2NF6zWxefNmPH78GOH
h4S3OK2sdDnjMoLZv3w4vL69m0925cwdXrlzBm2++KQQ7AAgKCkK/fv1QWlraqny88soros+xsbGwtbXFuHHjRC
XQQYMGwdraGkePHtUq4KWkpGDdunV44YUXMGbMmFbllbUcBzxmUEOGDGm00aKuX3/9FQDQq1evBtt69eq
FCxcutDgPHTp0QPfu3UXrMjMzce/ePTg5Oandp6CgQOPjX79+HZMnT4avry+++OKLFueTtR4HPPbUkUgkatdXV1
erXS+Xyxs0MNTU1MDJyQl79+5Vu0/nzp01ysvt27cxfvx42NraIi4uDjY2Nhrtx/SDAx5rF2rr6LKyshpsq7/O3t4eAFBS
UiJaX1tK1MQzzzyDw4cP47nnnoOlpaWWuX2isLAQ48ePR0VFBZKSktClS5cWHYfpDndLYe1C165d4evriz179qCsr
ExYf+zYMVy5ckWU1t3dHVKpFCkpKaL1f/vb3zT+vhdeeAHV1dV45513GmyrqqpqEEzre/DgASZMmIDff/8dcXFx8
PT01Pi7mf5wCY+1G++//z4mTpyI5557DrNnz0ZxcTG2bdsGX19fURC0tbXFtGnTsHXrVkgkEjzzzDM4cOCAVvVuQ
UFBePnllxEVFYW0tDSMHz8eMpkMmZmZiI2Nxaeffoo///nPje4fGRmJM2fOYM6cOUhPTxf1vbO2tsakSZNadA1Y
KxFjBrB7924CQGfPnlW7PScnhwDQ7t27Rev37dtHPj4+JJfLydfXl/7zn//Q1KlTycfHR5Tujz/+oKlTp5KVlRXZ29vTy
y+/TFevXm1wzJkzZ1LHjh0bzeeuXbto0KBBZGlpSTY2NtSvXz9atWoV3blzp8nzc3d3JwBqF3d39yb3ZfojIeJ5aVn75u
fnh86dOyMxMdHQWWFGjuvwWLtRWVmJqqoq0brk5GRcunQJo0aNMkymWLvCJTzWbty8eRPBwcH4y1/+gq5du
+L69evYuXMnbG1tcfXqVTg4OBg6i8zIcaMFazfs7e0xaNAgfPHFF/jjjz/QsWNHhIWFYcOGDRzsmEa4hMcYMxlch8
cYMxkc8BhjJoPr8DRQU1ODO3fuwMbGptH3NBljhkNEuH//Prp27drgvei6OOBp4M6dO3B1dTV0Nhhjzbh9+3aDkW
/q4oCngdoRLm7fvg2FQmHg3DDG6istLYWrq2uzo9FwwNNA7WOsQqHggMeYEWuuyokbLRhjJoMDHmPMZHD
AY4yZDK7DY8yAVCoVsrOz0atXLx4ktA1wCY8xAygqKkJISAi8vb0xYcIEeHl5ISQkRKNJvlnLccBjzACmT5+Ow4
Maurice B.ipynb.pdf[1/2/2024 11:21:01
PM]
cPi9YdPnwYERERBsqRaeCAx1gbU6lUSEhIaDCLWnV1NRISEpCZmWmgnD39OOAx1says7Ob3K5uZjamGxzwG
GtjzzzzTJPb1U02znSDAx5jbczLywtKpRJSqVS0XiqVQqlUcmutHnHAY8wAYmJiEBwcLFoXHByMmJgYA+XINH
A/PMYMwN7eHvHx8cjMzERWVhb3w2sjHPAYMyBPT08OdG2IH2kZYyaDAx5jzGRwwGOMmQwOeIwxk8EBjz
FmMjjgMcZMBgc8xpjJ4IDHGDMZHPAYYyaDAx5jzGRwwGOMmQwOeIwxk2HQgPf2229DIpGIFh8fH2F7eXk5F
i5cCAcHB1hbW2Pq1KnIz88XHePWrVsICwuDlZUVnJycsHLlSlRVVYnSJCcnw9/fH3K5HL169UJ0dHRbnB5jzMgY
vITXt29f5ObmCsuJEyeEbcuWLcOPP/6I2NhYHDt2DHfu3MGUKVOE7dXV1QgLC8Pjx49x6tQpfP3114iOjsZbb70lp
MnJyUFYWBhGjx6NtLQ0LF26FHPnzkVCQkKbnidjzAiQAa1du5YGDBigdltJSQnJZDKKjY0V1qWnpxMASk1NJS
KiuLg4MjMzo7y8PCHNjh07SKFQUEVFBRERrVq1ivr27Ss6dnh4OCmVSo3zee/ePQJA9+7d03gfxljb0fQeNXgJLzM
zE127dkXPnj0RGRmJW7duAQDOnz+PyspK0aiwPj4+cHNzQ2pqKgAgNTUV/fr1g7Ozs5BGqVSitLQUv/zyi5Cm/siy
SqVSOIY6FRUVKC0tFS2MsfbPoAFv6NChiI6ORnx8PHbs2IGcnBwEBgbi/v37yMvLg7m5Oezs7ET7ODs7Iy8vDwC
Ql5cnCna122u3NZWmtLQUjx49UpuvqKgo2NraCourq6suTpcxZmAGHfE4NDRU+Hf//v0xdOhQuLu741//+hcsLS0Nl
q81a9Zg+fLlwufS0lIOeow9BQz+SFuXnZ0dvLy8kJWVBRcXFzx+/BglJSWiNPn5+XBxcQEAuLi4NGi1rf3cXBqFQt
FoUJXL5VAoFKKFMdb+GVXAKysrQ3Z2Nrp06YJBgwZBJpMhKSlJ2J6RkYFbt24hICAAABAQEIArV66goKBAS
JOYmAiFQoE+ffoIaeoeozZN7TGY8VOpVDh48CAyMzMNnRXW3rVRI4paK1asoOTkZMrJyaGTJ09ScHAwOTo6U
kFBARERLViwgNzc3OjIkSN07tw5CggIoICAAGH/qqoq8vX1pfHjx1NaWhrFx8dT586dac2aNUKaGzdukJWVFa1cu
ZLS09Np+/btJJVKKT4+XuN8ciutYRQWFpJSqSQAwqJUKqmoqMjQWWNGRtN71KABLzw8nLp06ULm5ubUrVs3
Cg8Pp6ysLGH7o0eP6NVXXyV7e3uysrKiyZMnU25urugYN2/epNDQULK0tCRHR0dasWIFVVZWitIcPXqU/Pz8yN
zcnHr27Em7d+/WKp8c8AxDqVSSVCoVBTypVKpVlyJmGjS9RyVERIYqXbYXpaWlsLW1xb1797g+r42oVCp4e3s3
uZ2nN2S1NL1HjaoOjz29tK2Hy87ObnJ7VlaWLrLFTAwHPKZXRUVFCAkJgbe3NyZMmAAvLy+EhISguLi4yf2eee
aZJrf36tVLl9lkJoIDHtOr6dOn4/Dhw6J1hw8fRkRERJP7eXl5QalUQiqVitZLpVIolUp+nGUtwgGP6Y1KpUJCQgKqq
6tF66urq5GQkNDs421MTEyD1wKDg4MRExOj87wy02DQNy3Y002TerimSmr29vaIj49HZmYmsrKy0KtXLy7ZsVb
hgMf0Rlf1cJ6enhzomE7wIy3TG66HY8aGAx7TK66HY8aEH2mZXnE9HDMmHPBYm+B6OGYM+JGWMWYyOO
AxxkwGBzzGmMnggMcYMxkc8BhjJkPrgHf79m389ttvwuczZ85g6dKl2LVrl04zxhhjuqZ1wJs+fTqOHj0K4MkUiOP
GjcOZM2fwf//3f1i/fr3OM8gYY7qidcC7evUqhgwZAgD417/+BV9fX5w6dQp79+5FdHS0rvPHGGM6o3XAq6yshFwu
B/BkXLP/+Z//AQD4+PggNzdXt7ljjDEd0jrg9e3bFzt37sTx48eRmJiIkJAQAMCdO3fg4OCg8wwyxpiuaB3wNm7ciM8
++wyjRo1CREQEBgwYAAD4z3/+IzzqMsaYMWrRrGXV1dUoLS2Fvb29sO7mzZuwsrKCk5OTTjNoDHjWMsaMm
6b3aIsGD5BKpaiqqsKJEycAAN7e3vDw8GhRRhljrK1o/Uj74MEDzJkzB126dMHIkSMxcuRIdO3aFS+99BIePnyojzy
y/5+2Ux0yxsS0DnjLly/HsWPH8OOPP6KkpAQlJSX44YcfcOzYMaxYsUIfeTR5LZ3qkDEmpnUdnqOjI/bv349Ro0aJ1
h89ehQvvPAC/vjjD13mzygYug4vJCQEhw8fFs3+JZVKERwcjPj4+DbPD2PGRtN7VOsS3sOHD+Hs7NxgvZOTEz/S6
kFrpzpkjP2X1gEvICAAa9euRXl5ubDu0aNHWLduHQICAlqckQ0bNkAikWDp0qXCuvLycixcuBAODg6wtrbG1KlT
kZ+fL9rv1q1bCAsLE1qIV65ciaqqKlGa5ORk+Pv7Qy6Xo1evXu3qjRBNpjpkjGlG61bazZs3IyQkBN27dxf64F26dAk
WFhZISEhoUSbOnj2Lzz77DP379xetX7ZsGX766SfExsbC1tYWr732GqZMmYKTJ08CeFLKCQsLg4uLC06dOoXc3
FzMmDEDMpkM77//PgAgJycHYWFhWLBgAfbu3YukpCTMnTsXXbp0gVKpbFF+25KupjpkjAGgFnjw4AHt2rWLli
9fTsuXL6fPP/+cHj582JJD0f3798nT05MSExMpKCiIlixZQkREJSUlJJPJKDY2Vkibnp5OACg1NZWIiOLi4sjMzIzy8v
KENDt27CCFQkEVFRVERLRq1Srq27ev6DvDw8NJqVRqnMd79+4RALp3716LzrG1lEolSaVSAiAsUqlUq3Ng7Gm
m6T2q9SNtSkoKzM3NMW/ePHz88cf4+OOPMXfuXMhkMqSkpGgdcBcuXIiwsLAGU/mdP38elZWVovU+Pj5wc3N
DamoqACA1NRX9+vUT1SkqlUqUlpbil19+EdLUP7ZSqRSOoU5FRQVKS0tFiyHxVIeM6YbWj7SjR49Gbm5ugzcq7
t27h9GjRzeoXG/Kvn37cOHCBZw9e7bBtry8PJibm8POzk603tnZGXl5eUKa+g0otZ+bS1NaWopHjx7B0tKywXdHRU
Vh3bp1Gp+HvvFUh4zphtYBj4ggkUgarC8sLETHjh01Ps7t27exZMkSJCYmwsLCQtts6NWaNWuwfPly4XNpaSlcXV
0NmKMneKpDxlpH44A3ZcoUAIBEIsGsWbOEIaKAJ40Hly9fxvDhwzX+4vPnz6OgoAD+/v6i46SkpGDbtm1ISEjA4
8ePUVJSIirl5efnw8XFBQDg4uKCM2fOiI5b24pbN039lt38/HwoFAq1pTsAkMvlovNjjD0dNA54tra2AJ6U8GxsbETB
wtzcHMOGDcO8efM0/uKxY8fiypUronWzZ8+Gj48PVq9eDVdXV8hkMiQlJWHq1KkAgIyMDNy6dUvo/hIQEID33n
sPBQUFwiN2YmIiFAoF+vTpI6SJi4sTfU9iYmKrutAwxtopbVtD3n77bSorK2thW0rT6rbSEhEtWLCA3Nzc6MiRI3Tu
3DkKCAiggIAAYXtVVRX5+vrS+PHjKS0tjeLj46lz5860Zs0aIc2NGzfIysqKVq5cSenp6bR9+3aSSqUUHx+vcb4M3U
rLGGuapvdoi7qlEBEVFBTQ8ePH6fjx41RQUNDSw4jUD3iPHj2iV199lezt7cnKyoomT55Mubm5on1u3rxJoaGhZGlp
SY6OjrRixQqqrKwUpTl69Cj5+fmRubk59ezZk3bv3q1VvjjgMWbcNL1HtX6X9uHDh3jttdewZ88e1NTUAHjyXueM
GTOwdetWWFlZ6bwUamiGfpeWMdY0vb1Lu2zZMh4thTHWLvFoKRrgEh5jxo1HS2GMsXqMZrQUxhjTN63ftPj00
0+hVCp1OloKY4y1hRbNWvbw4UPs3bsX169fBwD07t0bkZGRjb650N5xHR5jxk2vs5ZZWVlp9VYFY4wZgxYFvM
zMTBw9ehQFBQVCX7xab731lk4yxhhjuqZ1wPv888/xyiuvwNHRES4uLqKRUyQSCQc8xpjR0jrgvfvuu3jvvfewevVq
feSHMcb0RuuAV1xcjGnTpukjL4wZNZVKhezsbB6AtR3Tuh/etGnTcOjQIX3khTGjxBOhPz006payZcsW4d8PHjzAp
k2bEBYWhn79+kEmk4nSLl68WPe5NDDulmLaeCJ046fpPapRwOvRo4dGXyqRSHDjxg3Nc9lOcMAzXSqVCt7e3k1
u58dbw9NpP7ycnBydZYyx9kSTidA54LUfLeqHV6u2cKhuUh/GWsqYGgd4IvSni9aNFgDw5ZdfwtfXFxYWFrCwsIC
vry+++OILXeeNmRhjbBzw8vKCUqmEVCoVrZdKpVAqlQYPyEw7Wge8t956C0uWLMHzzz+P2NhYxMbG4vnnn8
eyZcu40zFrlenTp+Pw4cOidYcPH0ZERISBcvQET4T+9NB68IDOnTtjy5YtDX6EMTExWLRoEe7evavTDBoDbrTQv/
Maurice B.ipynb.pdf[1/2/2024 11:21:01
PM]
bQOMAToRsvvQ0eUFlZicGDBzdYP2jQIFRVVWl7OMYAtI/GAZ4Ivf3T+pH2xRdfxI4dOxqs37VrFyIjI3WSKWZ6u
HGAtYUWtdJ++eWXOHToEIYNGwYAOH36NG7duoUZM2Zg+fLlQrpNmzbpJpfsqVfbONBYB18uWTFd0LoOb/T
o0ZodWCLBkSNHWpQpY8N1eG2juLgYERERopGzlUolYmJiYG9vb8CcMWOn0zctTB0HvLbFjQNMW3od8Zgxfe
LGAaYvLep4zBhj7REHPMaYyTBowNuxYwf69+8PhUIBhUKBgIAAHDx4UNheXl6OhQsXwsHBAdbW1pg6dSry8/
NFx7h16xbCwsJgZWUFJycnrFy5skF/wOTkZPj7+0Mul6NXr16Ijo5ui9NjjBkZjQKev7+/8D7j+vXr8fDhQ518effu3bFh
wwacP38e586dw5gxYzBx4kT88ssvAIBly5bhxx9/RGxsLI4dO4Y7d+5gypQpwv7V1dUICwvD48ePcerUKXz99deIjo4
WveKWk5ODsLAwjB49GmlpaVi6dCnmzp3Lc+gyZopIAxYWFnT79m0iIjIzM6P8/HxNdmsRe3t7+uKLL6ikpIRkMh
nFxsYK29LT0wkApaamEhFRXFwcmZmZUV5enpBmx44dpFAoqKKigoiIVq1aRX379hV9R3h4OCmVSo3zdO/ePQJ
A9+7da82pMcb0RNN7VKNWWj8/P8yePRsjRowAEeGjjz6CtbW12rQtHUCguroasbGxePDgAQICAnD+/HlUVlaKXt
r28fGBm5sbUlNTMWzYMKSmpqJfv35wdnYW0iiVSrzyyiv45ZdfMHDgQKSmpjZ48VupVGLp0qWN5qWiogIVFR
XC59LS0hadE2PMuGgU8KKjo7F27VocOHAAEokEBw8eRIcODXdtyTSNV65cQUBAAMrLy2FtbY3vvvsOffr0QV
paGszNzWFnZydK7+zsjLy8PABAXl6eKNjVbq/d1lSa0tJSPHr0CJaWlg3yFBUVhXXr1ml1Howx46dRwPP29sa+ffsA
AGZmZkhKSoKTk5NOMuDt7Y20tDTcu3cP+/fvx8yZM3Hs2DGdHLul1qxZI3pFrrS0FK6urgbMEXsaGNPApqZK64
7HNTU1Os2Aubm58GL4oEGDcPbsWXz66acIDw/H48ePUVJSIirl5efnw8XFBQDg4uKCM2fOiI5X24pbN039lt38/H
woFAq1pTsAkMvlkMvlOjk/pn/GHkiKioowffp0fmXOCLSoW0p2djYWLVqE4OBgBAcHY/Hixc0O76OpmpoaVFRU
YNCgQZDJZEhKShK2ZWRk4NatWwgICAAABAQE4MqVKygoKBDSJCYmQqFQoE+fPkKauseoTVN7DNZ+Ge
MIyeoY68CmJknb1pD4+HgyNzenIUOG0LJly2jZsmU0ZMgQksvldOjQIa2O9cYbb9CxY8coJyeHLl++TG+88QZJJB
LhOAsWLCA3Nzc6cuQInTt3jgICAiggIEDYv6qqinx9fWn8+PGUlpZG8fHx1LlzZ1qzZo2Q5saNG2RlZUUrV66k9PR
02r59O0mlUoqPj9c4n9xKa5yUSiVJpVICICxSqVSrFnh9y8jIEOWv/qJSqQydxaeCpveo1gHPz8+PVq9e3WD96tWrae
DAgVoda86cOeTu7k7m5ubUuXNnGjt2rChoPnr0iF599VWyt7cnKysrmjx5MuXm5oqOcfPmTQoNDSVLS0tydHSkFS
tWUGVlpSjN0aNHyc/Pj8zNzalnz560e/durfLJAc/4tJdAEhcX12Q+4+LiDJ3Fp4Km96jWo6VYWFjgypUrDepKVCoV
+vfvj/Lycq1LmcaOR0sxPgcPHsSECRMa3R4XF4fQ0NA2zJF67WHo+qeBpveo1nV4nTt3RlpaWoP1aWlpOmu5Zaw5
uh4hWaVS4eDBg8jMzGxNthrgWc+MjLZFx3Xr1pGdnR1t2LCBUlJSKCUlhaKiosjOzo7Wr1/fwgKpceNHWuOkizq8
wsJCUiqVomMolUoqKirSWT6Lior0/h2mTm91eDU1NbRp0ybq1q0bSSQSkkgk1K1bN9q8eTPV1NS0OMPGjAOe/m
RkZFBcXFyL6tx0EUjasuFDpVK1+FxZ0/RWh1fX/fv3AQA2NjYtPUS7wHV4uqfLvmktHSGZ69eeHnqrw6vLxsbmq
Q92TD902TfN09MToaGhWgcnTaaGZE8XHgCUtTmVSoWEhATR7GTAkwEkEhISdN5w0BieGtL0cMBjbc5YSlbcg
mp6OOCxNmdMJauYmJgGw4cFBwcjJiamzfLA2o5WAa+yshJjx45ts0cO9nQyppKVvb094uPjoVKpEBcXB5VKhfj4e
H6p/ymlVcCTyWS4fPmyvvLCTIixlaxa2vDB2hetu6UsW7YMcrkcGzZs0FeejA53S9EfnnSb6YLeJuKuqqrCV199hcO
HD2PQoEHo2LGjaPumTZu0zy0zWTzpNmtLWge8q1evwt/fH8CT7gV1SSQS3eSKMcb0QOuAd/ToUX3kgzHG9K7F
3VKysrKQkJCAR48eAQBa8YYaY4y1Ca0DXmFhIcaOHQsvLy9MmDABubm5AICXXnoJK1as0HkGGWNMV7QO
eMuWLYNMJsOtW7dgZWUlrA8PD0d8fLxOM8cYY7qkdR3eoUOHkJCQgO7du4vWe3p64tdff9VZxhhjTNe0LuE9e
PBAVLKrVVRUxFMbMsaMmtYBLzAwEHv27BE+SyQS1NTU4IMPPsDo0aN1mjmmv6HHGTNFWj/SfvDBBxg7di
zOnTuHx48fY9WqVfjll19QVFSEkydP6iOPJoknb2ZM97Qu4fn6+kKlUmHEiBGYOHEiHjx4gClTpuDixYvNjoLBN
MeTNzOme60a4t1UtPW7tC0delylUiE7O7tF76W2Zl/GDE1v79ICQHFxMb788kukp6cDAPr06YPZs2ejU6dOLcstE9F
kgMy6Qak1j7/86MxMidaPtCkpKfDw8MCWLVtQXFyM4uJibNmyBT169EBKSoo+8mhytB0gszWPv/zozEyKttOh+fr
60rx586iqqkpYV1VVRfPnzydfX19tD9cuGGKaRk2nD8zIyBClqb80NSVga/ZlzJhoeo9qXcLLysrCihUrRKPVSqVSLF
++nGd50iFNB8hs7vE3Jiam0S4txjK3BGNtReuA5+/vL9Td1ZWeno4BAwZodayoqCg8++yzsLGxgZOTEyZNmoSMj
AxRmvLycixcuBAODg6wtrbG1KlTkZ+fL0pz69YthIWFwcrKCk5OTli5ciWqqqpEaZKTk+Hv7w+5XI5evXohOjpaq7
y2NU2HHm/u8Xft2rXw8vJCSEgIiouLtdqXZ+1iTx1NiouXLl0Sln379pGbmxt9+OGHdPz4cTp+/Dh9+OGH5OHhQfv
27dOqGKpUKmn37t109epVSktLowkTJpCbmxuVlZUJaRYsWECurq6UlJRE586do2HDhtHw4cOF7VVVVeTr60vBw
cF08eJFiouLI0dHR1qzZo2Q5saNG2RlZUXLly+na9eu0datW0kqlVJ8fLxG+TTEI219GRkZjc5ar+7xt/6i7nG4sX0bS8u
YsdL0HtUo4EkkEjIzMyOJRNLkYmZm1qpMFxQUEAA6duwYERGVlJSQTCaj2NhYIU16ejoBoNTUVCIiiouLIzMz
M8rLyxPS7NixgxQKBVVUVBAR0apVq6hv376i7woPD9f4pjZkwCssLCSlUikKSEqlkoqKioQ0RUVFDdI0ttQPmOr2
rX98xgyhqT/y9ek04N28eVPjpTUyMzMJAF25coWIiJKSkggAFRcXi9K5ubnRpk2biIjor3/9Kw0YMEC0/caNGwSALl
y4QEREgYGBtGTJElGar776ihQKhdp8lJeX071794Tl9u3bBgt4zZXA6v4oVCoVrVu3rsmAFxcXp/Z7VCqVxj8uxvRJ
kz/y9ek04LWF6upqCgsLo+eee05Yt3fvXjI3N2+Q9tlnn6VVq1YREdG8efNo/Pjxou0PHjwQ3dyenp70/vvvi9L89NNPB
IAePnzY4Phr165VGyzaOuA114o6YsSIBj+KM2fOcMsra9daUs2iacBrUcfjO3fu4MSJEygoKEBNTY1o2+LFi1tySCxc
uBBXr17FiRMnWrS/Lq1ZswbLly8XPpeWlsLV1bVN86BSqbBv374m05w6dUr0ubY/nVKpxOHDh1FdXS1sk0qlCA4
O5rcomFFTqVSiTvC1qqurkZCQgMzMzFb9hrUOeNHR0Xj55Zdhbm4OBwcH0cQ9EomkRQHvtddew4EDB5CSkiIa
Z8/FxQWPHz9GSUkJ7OzshPX5+flwcXER0pw5c0Z0vNpW3Lpp6rfs5ufnQ6FQwNLSskF+5HK5wYa6UvfmQ2Pq/7
Gp/VGcPXsWAETHMOScr4xpStu3jLSmbXGze/fu9O6771J1dbW2uzZQU1NDCxcupK5du6p91KpttNi/f7+w7vr162o
bLfLz84U0n332GSkUCiovLyeiJ40W9TtFR0REGGWjhSYtrs0ttY/yXC/H2puWdobXWx1ep06dKCsrS9vd1HrllVfI1ta
WkpOTKTc3V1jq1qstWLCA3Nzc6MiRI3Tu3DkKCAiggIAAYXttt5Tx48dTWloaxcfHU+fOndV2S1m5ciWlp6fT9u3
bja5bSkZGBu3atatVga522b17t97yyZi+6bMOT+uAt3LlSoqKitJ2N/VfrsEN++jRI3r11VfJ3t6erKysaPLkyZSbmys6zs2b
Maurice B.ipynb.pdf[1/2/2024 11:21:01
PM]
Nyk0NJQsLS3J0dGRVqxYQZWVlaI0R48eJT8/PzI3N6eePXtqFRT0GfDUtUjpYnFwcKAbN24QkXbN+4wZWku6S
ml6j2o9PFR1dTX+9Kc/4dGjR+jXrx9kMplo+6ZNm7Q5XLugz+GhQkJCGjQw6Iq9vT2GDBnCI6GwdikzMxNZWVk
aDVmm6T2qdcB799138dZbb8Hb2xvOzs4NGi2OHDmizeHaBX0FvObGvdPE+++/jzfffLPR7WZmZqLGjdrWWp5hjj
1N9DYe3scff4yvvvoKs2bNak3+TFrtYJu///67Runt7OxQWlqqNnBVVlY2uW9jLbmtbd5v7/Q94CkPqGqktH2+dnZ2Nr
m6IF3V4bWmvs7BwUFtnUZ8fHyrWnJNTUt68RvT8Zl6ehseasmSJdi6dau2uzGoH2xTU4WFhWrXK5VKODg4aH28
1o6EUjub2qFDh9rVrGr6HvCUB1Q1ctpG0kmTJpFCoaAePXrQn/70J5o8ebJoeRrpooTXXP8ibZe6zfQ3btxoUAJ0cHC
gkSNH6nwklKZKqdqUZAzRcqzvAU95QFXD0VsJz87ODlOmTEFQUBAcHR1ha2srWph6zfUgr9v4o4m6dXE9evTA
3bt3cejQIaxbtw6HDh3C3bt38f3332s0iKg2miqlalKSKSoqQkhICLy9vTFhwoRGx+rTB30PeMoDqrYDbRSA27W2KO
HVHwhA00WTurjaNy4SEhJaVarStJSqUqkoPj6e1q1bR4cOHRIdw5Dj73EJ7+nV7kZLMWa6arRo7mZPSEjQOuBpch
PpqiI9Li5OozzZ2Ng0eLy+ceOGUQQEfQdcHlDVMPQW8Dw8PKhHjx6NLk8jXQW85nqQaxpQtL2JdHETtvbVNwc
Hh2bPry1ajvU94CkPqGoYehseaunSpaLPlZWVuHjxIuLj47Fy5UptD2dSauepaKwHeXNzTNSlaV1ca4fb0Wb0lqYUF
hYiLy+vyTQdOrRotDKtNPd/oKnG+tnp6vhMT3QVYbdt20azZs3S1eGMij7fpa3fWlm/tRV1SkjqRj9prrWztaUqXYze
UrusW7eu2eMZe2mI+9kZpzavw8vOziYbGxtdHc6o6CPgqbtxmmu4qBvUNL3x9DlvrbbLoUOHmp1/w9jru7iOzji1ec
DbuHEjubu76+pwRkUfAU/djWNmZqZxaUzTG6+wsFBtqdHMzKzZm7S50mH9/EqlUpLJZI2WUOtqroGmLRowtO0
LaAyNLkw9vQU8Pz8/GjhwoLD4+fmRi4sLSaVS+uyzz1qcYWOm64DX0pKTSqXSqPGg7o3X2COkg4NDs49hzeUz
MDCwQQnz4sWLDQKsnZ0dffXVV0K+MjIyWjzZkC609LHUGBpdmHp6a7SYNGmS6LOZmRk6d+6MUaNGwcfH
R9vDmaTmOqiqG+EkKCgIixYt0qjxoHYY7MYaLIAnjQh3795tcpgoLy+vJufHaKxy/u7du0hMTERSUhKSkpJw7tw5z
JkzBwDg4ODQ6GtydelzEvCmXv9qahQZnrj8KdBGAbhda+sSXv2SU2BgII0ZM0bjxoPakpQuSiSt6WbRkgYPfdeHtfa
xlOvwjBN3PNahtqrDk0gkNHjwYCosLGzRmxf1bzxd1jlpOz9GSx/b9d3i2do/AtzPzjjpPOBJJBIyMzNrcpFKpa3OuDH
SRwnvm2++aTSoyWSyFnUFUXfjGapEok0nauBJl5W2aqjQxR8BniDJuOh8iPcffvih0W2pqanYsmULampqUF5ersnh2
hVdjXisrhNvhw4dUFVV1ar8ff755wgKClLbwbW4uBgRERFtPsy7tqM5q1SqFnfQ1XawTXXD6vNI0O2bxvdoa6Lq9e
vXadKkSSSVSmnGjBl08+bN1hzOaOnzXdrWLNqU1FpSImntEE6anG9rSpstbW3lx9Knj17r8H7//XeaO3cuyWQy+tOf
/kRXrlxpUSbbC2McD0+fN6mu3iZQF1gaG7m5JVr7uM6PpU8PvQS8kpISWrVqFVlaWlJAQAClpKS0KpPthS4CnrZ
1WvWX2o7CuiipNVdy03W9X/086yLQcCdgVpfOA97GjRupU6dO1KdPH/r+++9bncH2xFhKeGPGjKEzZ85oHCzUl
dSaK2G1l0DCnYBZXTpvtDAzM4OlpSWCg4MhlUobTfftt99qcrh2paWNFvUr00NCQpCYmNhgJrGWGjFiBBYtWo
SBAweqrazXZM7bupX1KpUK+/btw9q1axtNHxcXh9DQUJ3kvzWaaxRpTSMIa390Pk3jjBkztB6G3FSpa40NDAzElSt
XdBbsAODEiRM4ceIEgIYtr029ZVFX7TBRgYGBwrGaUv9tAkNNR9jcWyAc7JhabVLebOe0faTVdWusJkttHVtt/dz
nn3+udR2hJsevZQzDJHFrK6ul80daU6bNI622/c/ai/olSGPqy8aDbTJN71GtZy3TpZSUFDz//PPo2rUrJBIJvv/+e9F2IsJb
b72FLl26CPWH9ec/LSoqQmRkJBQKBezs7PDSSy+hrKxMlOby5csIDAyEhYUFXF1d8cEHH+jtnJobGMDYmJk1/R
NYt24dVCoV4uPjhWCXkJCAhISEBnWDdUdRbkuenp4IDQ3lYMeaZdCA9+DBAwwYMADbt29Xu/2DDz7Ali1bsH
PnTpw+fRodO3aEUqkUvc0RGRmJX375BYmJiThw4ABSUlIwf/58YXtpaSnGjx8Pd3d3nD9/Hh9++CHefvtt7Nq1Sy/n
pM0w7caguRJrRESEEEhqp1gMCQlpch+ejpAZrbZ4vtYEAPruu++EzzU1NeTi4kIffvihsK6kpITkcjnFxMQQEdG1a9cI
AJ09e1ZIc/DgQZJIJPT7778TEdHf/vY3sre3p4qKCiHN6tWrydvbW+O8taQOr7k6MWNZpFIpOTg4aNTvTtO6SV11X
dG2/yAzXe1utJT6AS87O5sA0MWLF0XpRo4cSYsXLyYioi+//JLs7OxE2ysrK0kqldK3335LREQvvvgiTZw4UZTmyJ
EjBKDRyu3y8nK6d++esNy+fVurgFdUVNTieWY1Wd58802dH7N+frXtn9dYkGyJlvQfZKZN04Bn0EfaptTOcOXs7C
xa7+zsLGzLy8uDk5OTaHuHDh3QqVMnURp1x6j7HfVFRUXB1tZWWFxdXbXKu729PX744QfY2dlptZ+mPDw8dH
7MN998EwkJCVi3bh0OHTokqrMDNKub1HQmteaoG6Cz/qChtQN2MqYN/c+L1w6tWbMGy5cvFz6XlpZqHfSmT5+
O0tJSXWcNAPTSHzIqKgrHjx8XPtdvlW2ubvLQoUMYN25cq/Ohbf/B5qaZZKwuoy3hubi4AADy8/NF6/Pz84VtLi4u
KCgoEG2vqqpCUVGRKI26Y9T9jvrkcjkUCoVo0UbtTavLTsZ1ubm56fR4MpkMp06dEq1TV4Ly9/dv8JaNVCqFUqn
USbADtG/l5gYSpg2jDXg9evSAi4sLkpKShHWlpaU4ffo0AgICAAABAQEoKSnB+fPnhTRHjhxBTU0Nhg4dKqRJS
UlBZWWlkCYxMRHe3t56Gw9O311Tpk2bhsDAwCZf8dNGZWVlo11Mzp49i8DAQHh7e+PChQsN0unqMbaWtq3c
PI8E00ob1Smqdf/+fbp48SJdvHiRANCmTZvo4sWL9OuvvxIR0YYNG8jOzo5++OEHunz5Mk2cOJF69OhBjx49Eo4R
EhJCAwcOpNOnT9OJEyfI09OTIiIihO0lJSXk7OxML774Il29epX27dtHVlZWWs2wpm0rbXx8vN5bVzt16tRow4hCo
WhQ4d/SNz9sbGwarJNIJOTv76+31lJ9j6PHnj7topX26NGjan/MM2fOJKInXVP++te/krOzM8nlcho7dixlZGSIjlFYWE
gRERFkbW1NCoWCZs+eTffv3xeluXTpEo0YMYLkcjl169aNNmzYoFU+tQ14rR0KqiVL37596Y033qD9+/c3aOEcN
mwYjRkzRuffqa+Ap+9x9Iwdd7/RXrsIeO2FMZbwtF0cHBxo//79GqfXpESo7yGY9DGOnjEzhveT2ysOeDqk6cVs6W
xjbbUMGzaMZDKZ2m311/v7+xushGeqeArIluPBA3RIkxeTi4qK4OXlpdEk08bq0KFDqKqqQq9evUBETQ6CMGLE
CFE3FtY6PL5f67SLwQOeJhMnTmzXwQ540qWn9iX82vHm1LUE29jY4JNPPjFADp9ezbXsc/cb3eCApwMqlUqjwT
ONXf0uHjExMQgODm6Q7v79+3j22WcREhKC4uLitsreU6257jjc/UY3OODpQHsbEkqdwMBA4ZFJpVLh4MGDzZ
Yq+PUu3WmsRF3bsZsfZ3WkLSoU27vmKkT1MQWjrheZTEZjxoxRO4qLg4MDFRUVqW0l1GThxgvd4BGcW67d
Dx7Qnnh5ecHBwcHQ2WhSZWUlNm7c2OAVsBEjRiAzMxP29vZqX9rXBNcv6Ya9vb0wmVJcXFyDgVdZ6/HgATq
gUqnaRYPFjRs3EB8fr3ZIdE1f2leH65d0y9PTkx9h9YRLeDrQXurwaltW1Q2J3pJz4Pol1t5wCU8HmpsXwlj8/PPPyMz
MBBE1mFqxJUPT63rgAMb0rX3cqUZOX8NA6cPkyZPh7e2NCRMmwMvLS+ha0lgrYf2x90aMGIFvvvmG65dYu8R
vWmiguV7c7WlqRjMzM1GArju1YnFxMSIiIkR1eUqlEu+++y7++OMPngaRGS1N37TgR1oTU780Wn/k4MYaNRh7
Maurice B.ipynb.pdf[1/2/2024 11:21:01
PM]
GnDA0wFjabSoX3rTRlZWlhDcuJWwIZVK1aDek7U/XIenA3fu3DF0FgAAfn5+jW4bNmxYk/v26tVLeMOirSfSNma
1c/Gqq/dk7Q8HPB24dOmSobMAANiwYQMCAwMbtBpLpVLY2to2+urS6NGjsWjRIr6p1VDXGZtfqWu/OODpgLF
0S7l58yaOHz/eaD3du+++22AwgODgYEgkEr6p1ajtjN3YfB9cEm5/uA5PBxwdHQ2dBQDNT9+o7k0LamTcO54GUb
Mhm0z12rRXxlE0aefu3r1r6CzAwcEBI0eObDLN1q1bAYjftOBx2BrHQzY9fTjg6YAxvEdbWFgIiUSCESNGNJrmxIk
TDR7D+KZuHA/Z9PThgKcDubm5hs4CgCelsUWLFjWbpi6+qZumbhBUfqWu/eI6PB3IyMgwdBYAQKiTay5NfTEx
MQ3esOCb+onaIZu4M/bTgQOeDuTl5Rn0+83MzDBu3DjhRlQqlTh8+LCodbH2FTJ1Nyvf1M3jzthPB36k1YGqqiqDf
v9zzz0nKo219DFM3bBRjD1NuISnAxKJpNlHSX0wMzPD8OHDkZKSIlrPJTbG1OOApwNtFexGjBghmh1t3LhxTZb
a+DGMMTEOeO2ARCLB6NGjkZSUxKU2xlrBpOrwtm/fDg8PD1hYWGDo0KE4c+aMTo4rk8l0cpxa9ScEGj9+PPbv
3w+A69kYaw2TKeF98803WL58OXbu3ImhQ4di8+bNUCqVyMjIgJOTU6uO7erqihs3bmi934ABAzB06FC4ublhyJAh
qKqqEkpuXJJjTPdMZsTjoUOH4tlnn8W2bdsAPBkI09XVFYsWLcIbb7zR5L7Njabq7e0NlUqlcV68vb3x448/ciBjTEc0
HfHYJB5pHz9+jPPnz4u6apiZmSE4OBipqakN0ldUVKC0tFS0NGXChAka52XMmDFITU3lYMeYAZhEwLt79y6qq6
vh7OwsWu/s7Ky203BUVBRsbW2FxdXVtcnj105/2JS+ffvi7NmzSEpK4olvGDMQkwh42lqzZg3u3bsnLLdv3252nwM
HDqhd37NnT5w9exZXr17F4MGDdZ1VxpgWTKLRwtHREVKpFPn5+aL1+fn5cHFxaZBeLpdDLpdr9R1hYWEgIrz+
+us4cOAA+vTpg40bN/KjK2NGxCRKeObm5hg0aBCSkpKEdTU1NUhKSkJAQIBOv+ujjz7C9evX8e2333KwY8zIm
EQJDwCWL1+OmTNnYvDgwRgyZAg2b96MBw8eYPbs2YbOGmOsjZhMwAsPD8cff/yBt956C3l5efDz80N8fHyDh
gzG2NPLZPrhtYamfXwYY4bB/fAYY6wek3mkbY3aQnBzHZAZY4ZRe28298DKAU8D9+/fB4BmOyAzxgzr/v37sL
W1bXQ71+FpoKamBnfu3IGNjU2zc7+WlpbC1dUVt2/f5vo+8PWoi6+FmC6vBxHh/v376Nq1K8zMGq+p4xKeBszMz
NC9e3et9lEoFPyjroOvx3/xtRDT1fVoqmRXixstGGMmgwMeY8xkcMDTMblcjrVr12r9Lu7Tiq/Hf/G1EDPE9eBGC8a
YyeASHmPMZHDAY4yZDA54jDGTwQGPMWYyOODpkL7mvTV2b7/9NiQSiWjx8fERtpeXl2PhwoVwcHCAtbU1
pk6d2mD06fYsJSUFzz//PLp27QqJRILvv/9etJ2I8NZbb6FLly6wtLREcHAwMjMzRWmKiooQGRkJhUIBOzs7vPTSS
ygrK2vDs9Cd5q7HrFmzGvxeQkJCRGn0dT044OlI7by3a9euxYULFzBgwAAolUoUFBQYOmttom/fvsjNzRWWEydO
CNuWLVuGH3/8EbGxsTh27Bju3LmDKVOmGDC3uvXgwQMMGDAA27dvV7v9gw8+wJYtW7Bz506cPn0aHTt2h
FKpRHl5uZAmMjISv/zyCxITE3HgwAGkpKRg/vz5bXUKOtXc9QCAkJAQ0e8lJiZGtF1v14OYTgwZMoQWLlwofK
6urqauXbtSVFSUAXPVNtauXUsDBgxQu62kpIRkMhnFxsYK69LT0wkApaamtlEO2w4A+u6774TPNTU15OLiQh9+
+KGwrqSkhORyOcXExBAR0bVr1wgAnT17Vkhz8OBBkkgk9Pvvv7dZ3vWh/vUgIpo5cyZNnDix0X30eT24hKcD2s5
7+zTKzMxE165d0bNnT0RGRuLWrVsAgPPnz6OyslJ0bXx8fODm5mYS1yYnJwd5eXmi87e1tcXQoUOF809NTYWd
nZ1oVrvg4GCYmZnh9OnTbZ7ntpCcnAwnJyd4e3vjlVdeQWFhobBNn9eDA54OaDvv7dNm6NChiI6ORnx8PHbs2IG
cnBwEBgbi/v37yMvLg7m5Oezs7ET7mMq1qT3Hpn4beXl5cHJyEm3v0KEDOnXq9FReo5CQEOzZswdJSUnYuHEjj
h07htDQUFRXVwPQ7/Xg0VJYq4WGhgr/7t+/P4YOHQp3d3f861//gqWlpQFzxozR//7v/wr/7tevH/r3749nnnkGycnJG
Dt2rF6/m0t4OqDtvLdPOzs7O3h5eSErKwsuLi54/PgxSkpKRGlM5drUnmNTvw0XF5cGjVtVVVUoKioyiWvUs2dPO
Do6IisrC4B+rwcHPB1oy3lv24OysjJkZ2ejS5cuGDRoEGQymejaZGRk4NatWyZxbXr06AEXFxfR+ZeWluL06dPC+Q
cEBKCkpATnz58X0hw5cgQ1NTUYOnRom+e5rf32228oLCxEly5dAOj5erSqyYMJ9u3bR3K5nKKjo+natWs0f/58srO
zo7y8PENnTe9WrFhBycnJlJOTQydPnqTg4GBydHSkgoICIiJasGABubm50ZEjR+jcuXMUEBBAAQEBBs617ty/f58u
XrxIFy9eJAC0adMmunjxIv36669ERLRhwways7OjH374gS5fvkwTJ06kHj160KNHj4RjhISE0MCBA+n06dN04sQJ8v
T0pIiICEOdUqs0dT3u379Pr7/+OqWmplJOTg4dPnyY/P39ydPTk8rLy4Vj6Ot6cMDToa1bt5KbmxuZm5vTkCFD6Oef
fzZ0ltpEeHg4denShczNzalbt24UHh5OWVlZwvZHjx7Rq6++Svb29mRlZUWTJ0+m3NxcA+ZYt44ePUoAGiwzZ84ko
iddU/7617+Ss7MzyeVyGjt2LGVkZIiOUVhYSBEREWRtbU0KhYJmz55N9+/fN8DZtF5T1+Phw4c0fvx46ty5M8lkM
nJ3d6d58+Y1KBjo63rw8FCMMZPBdXiMMZPBAY8xZjI44DHGTAYHPMaYyeCAxxgzGRzwGGMmgwMeY8xkc
MBjjJkMDngGcPPmTUgkEqSlpRk6K4Lr169j2LBhsLCwgJ+fn6Gz0yx1Q4frk4eHBzZv3txm39eWnuZzq88kA17tmPo
bNmwQrf/+++8hkUgMlCvDWrt2LTp27IiMjAzRi+7MOJlSkNIlkwx4AGBhYYGNGzeiuLjY0FnRmcePH7d43+zsbIw
YMQLu7u5wcHDQYa6YpogIVVVVhs6GUdDXtTDZgBccHAwXFxdERUU1mubtt99u8Hi3efNmeHh4CJ9nzZqFSZ
Mm4f3334ezszPs7Oywfv16VFVVYeXKlejUqRO6d++O3bt3Nzj+9evXMXz4cFhYWMDX1xfHjh0Tbb969SpCQ0Nh
bW0NZ2dnvPjii7h7966wfdSoUXjttdewdOlSODo6QqlUqj2PmpoarF+/Ht27d4dcLoefnx/i4+OF7RKJBOfPn8f69eshkUj
w9ttvqz1O7fe99tprsLW1haOjI/7617+i7uvYFRUVeP3119GtWzd07NgRQ4cORXJysug4//73v9G3b1/I5XJ4eHjg448/F
m338PDAO++8g4iICHTs2BHdunVrckIYALh9+zZeeOEF2NnZoVOnTpg4cSJu3rzZaPrBgwfjo48+Ej5PmjQJMplMm
Bnrt99+g0QiEcZoA4CHDx9izpw5sLGxgZubG3bt2iU65pUrVzBmzBhYWlrCwcEB8+fPb3KmreTkZEgkEhw8eBCD
Bg2CXC7HiRMnkJ2djYkTJ8LZ2RnW1tZ49tlncfjwYWG/UaNG4ddff8WyZcuEWb9qnThxAoGBgbC0tISrqysWL16
MBw8eCNsLCgrw/PPPw9LSEj169MDevXubvK4AcPbsWYwbNw6Ojo6wtbVFUFAQLly4IGyfPn06wsPDRftUVlbC
0dERe/bsAfDkNxgVFYUePXrA0tISAwYMwP79+1t9LQAgNzcXYWFhwjn985//bFACLikpwdy5c01zeKjaSUS+/fZbs
rCwoNu3bxMR0XfffUeoc0nUTU7zySefkLu7u+hYNjY2tHDhQrp+/Tp9+eWXBICUSiW99957pFKp6J133iGZTCZ8T
05ODgGg7t270/79++natWs0d+5csrGxobt37xIRUXFxMXXu3JnWrFlD6enpdOHCBRo3bhyNHj1a+O6goCCytramlSt
X0vXr1+n69etqz3fTpk2kUCgoJiaGrl+/TqtWrSKZTEYqlYqIiHJzc6lv3760YsUKys3NbXRUitrvW7JkCV2/fp3+8Y9/k
JWVFe3atUtIM3fuXBo+fDilpKRQVlYWffjhhySXy4XvOnfuHJmZmdH69espIyODdu/eTZaWlrR7927hGO7u7mRjY0
NRUVGUkZFBW7ZsIalUSocOHRLSoM7kMI8fP6bevXvTnDlz6PLly3Tt2jWaPn06eXt7U0VFhdpzWb58OYWFhRH
Maurice B.ipynb.pdf[1/2/2024 11:21:01
PM]
Rk9FMOnXqRI6OjnTw4EEiIvrHP/5B3bp1E+WpU6dOtH37dsrMzKSoqCgyMzMTrnlZWRl16dKFpkyZQleuXKGkp
CTq0aOHMGKKOrWjivTv358OHTpEWVlZVFhYSGlpabRz5066cuUKqVQq+n//7/+RhYWFMNxUYWEhde/endav
X0+5ubnCyDNZWVnUsWNH+uSTT0ilUtHJkydp4MCBNGvWLOE7Q0NDacCAAZSamkrnzp2j4cOHk6WlJX3yySe
N5jMpKYn+/ve/U3p6Ol27do1eeuklcnZ2ptLSUiIiOnDgAFlaWop+Nz/++CNZWloKad59913y8fGh+Ph4ys7Opt27d5N
cLqfk5ORWXQsiouDgYPLz86Off/6Zzp8/T0FBQQ3OKTg4mJ5//nnTHB6q7qxJw4YNozlz5hBRywOeu7s7VVdXC+u
8vb0pMDBQ+FxVVUUdO3YUZqmqDXgbNmwQ0lRWVlL37t1p48aNRET0zjvv0Pjx40Xfffv2bQIgDC0UFBREAwc
ObPZ8u3btSu+9955o3bPPPkuvvvqq8HnAgAG0du3aJo8TFBREvXv3ppqaGmHd6tWrqXfv3kRE9Ouvv5JUKm0ws9T
YsWNpzZo1REQ0ffp0GjdunGj7ypUrqU+fPsJnd3d3CgkJEaUJDw+n0NBQ4XPdgPf3v/+dvL29RfmqqKggS0tLSkhIU
Hsu//nPf8jW1paqqqooLS2NXFxcaMmSJbR69WoiehK4p0+fLsrTX/7yF+FzTU0NOTk50Y4dO4iIaNeuXWRvb09lZW
VCmp9++onMzMwaHROx9ib//vvv1W6vq2/fvrR161ZRfuoHqZdeeonmz58vWnf8+HEyMzOjR48eUUZGBgGgM2fO
CNtrZ5BrKuDVV11dTTY2NvTjjz8S0ZPfrqOjI+3Zs0dIExERQeHh4UREVF5eTlZWVnTq1KkG+a0d466l16I2/3VnO
MvMzBSd0/Hjx0mhUFB5eTnPWrZx40Z8/fXXSE9Pb/Ex+vbtCzOz/15KZ2dn9OvXT/gslUrh4ODQYNjquiP+dujQAY
MHDxbycenSJRw9ehTW1tbCUju5dXZ2trDfoEGDmsxbaWkp7ty5g+eee060/rnnnmvROQ8bNkz0CBUQEIDMzExUV
1fjypUrqK6uhpeXlyjfx44dE/Kcnp6uNi+1x6h73LoCAgIaze+lS5eQlZUFGxsb4Ts7deqE8vJy0bWqq3aSoYsXL+LYsW
MICgrCqFGjhMfvY8eOYdSoUaJ9+vfvL/xbIpGIhiJPT0/HgAED0LFjR9F51dTUICMjQ20eatWdnQt4MmL066+/jt69e
8POzg7W1tZIT08XZoJrzKVLlxAdHS269kqlEjU1NcjJyUF6ejo6dOgg+s34+Pg0mGCpvvz8fMybNw+enp6wtbWFQq
FAWVmZkJ8OHTrghRdeEB6PHzx4gB9++AGRkZEAgKysLDx8+BDjxo0T5W3Pnj0N/n+0vRYZGRno0KED/P39hX
169eoFe3t70XUpKyuDg4MDT+IzcuRIKJVKrFmzBrNmzRJtMzMzE9VPAU/qJuqTyWSizxKJRO26mpoajfNVVlaG5
59/Hhs3bmywrXYobACiG8zQysrKIJVKcf78eUilUtE2a2trvX7voEGD1NZHde7cWe0+dnZ2GDBgAJKTk5Gamopx48
Zh5MiRCA8Ph0qlQmZmJoKCgkT7tPb/tDH1/w9ff/11JCYm4qOPPkKvXr1gaWmJP//5z802SpWVleHll1/G4sWLG2x
zc3ODSqVqUf5mzpyJwsJCfPrpp3B3d4dcLkdAQIAoP5GRkQgKCkJBQQESExNhaWmJkJAQIV8A8NNPP6Fbt26iY
8vlctFnXV2LusrKytClSxckJydzwAOADRs2wM/PD97e3qL1nTt3Rl5eHohIKNXosu/czz//jJEjRwJ4MknJ+fPn8dprrwE
A/P398e9//xseHh7o0KHl/00KhQJdu3bFyZMnRTfwyZMnMWTIEK2PV39e0J9//hmenp6QSqUYOHAgqqurUVBQgM
DAQLX79+7dGydPnhStO3nyJLy8vERB8ueff27wPb1791Z7TH9/f3zzzTdwcnKCQqHQ+FyCgoJw9OhRnDlzBu+99x
46deqE3r1747333kOXLl3g5eWl8bF69+6N6OhoPHjwQLhpT548CTMzswa/q+acPHkSs2bNwuTJkwE8uWHrN8CYm
5uLSsTAk+tw7do19OrVS+1xfXx8hN/Zs88+C+BJCan+BEvq8vO3v/0NEyZMAPCkgahu4xkADB8+HK6urvjmm29w
8OBBTJs2TfgD0adPH8jlcty6davBH5HmNHctvL29UVVVhYsXLwol16ysLFHvC39/f+Tl5aFDhw6m20pbV79+/RAZ
GYktW7aI1o8aNQp//PEHPvjgA2RnZ2P79u04ePCgzr53+/bt+O6773D9+nUsXLgQxcXFmDNnDgBg4cKFKCoqQkR
EBM6ePYvs7GwkJCRg9uzZDX7ozVm5ciU2btyIb775BhkZGXjjjTeQlpaGJUuWaJ3nW7duYfny5cjIyEBMTAy2bt0q
HMfLywuRkZGYMWMGvv32W+Tk5ODMmTOIiorCTz/9BABYsWIFkpKS8M4770ClUuHrr7/Gtm3b8Prrr4u+5+TJ
k/jggw+gUqmwfft2xMbGNprfyMhIODo6YuLEiTh+/DhycnKQnJyMxYsX47fffmv0XEaNGoWEhAR06NBBqC4YN
WoU9u7dq/WNGRkZCQsLC8ycORNXr17F0aNHsWjRIrz44osN5qRtjqenJ7799lukpaXh0qVLmD59eoOSpIeHB1JSU
vD7778LwWf16tU4deoUXnvtNaSlpSEzMxM//PCD8EfU29sbISEhePnll3H69GmcP38ec+fObXYqTU9PT/z9739Heno
6Tp8+jcjISLX7TJ8+HTt37kRiYqLwOAsANjY2eP3117Fs2TJ8/fXXyM7OxoULF7B161Z8/fXXrboWPj4+CA4Oxvz5
83HmzBlcvHgR8+fPh6WlpVBICQ4ORkBAACZNmmTarbR15eTkkLm5uajRgohox44d5OrqSh07dqQZM2bQe++916
DRov6xgoKCaMmSJaJ1dSuZaxst/vnPf9KQIUPI3Nyc+vTpQ0eOHBHto1KpaPLkyWRnZ0eWlpbk4+NDS5cuFSrn1X
2POtXV1fT2229Tt27dSCaT0YABA4TWyFqaNlq8+uqrtGDBAlIoFGRvb09vvvmmqLHg8ePH9NZbb5GHhwfJZDLq
0qULTZ48mS5fviyk2b9/P/Xp04dkMhm5ubnRhx9+2OBarVu3jqZNm0ZWVlbk4uJCn376qSgN6jRaED1paZ4xYwY5
OjqSXC6nnj170rx58+jevXuNnk9hYSFJJBKhcp3ovw1XO3fubJCn+hX79a/Z5cuXafTo0WRhYUGdOnWiefPmNTkP
Q21FfXFxsWh9Tk4OjR49miwtLcnV1ZW2bdvW4P86NTWV+vfvT3K5XPSbPXPmDI0bN46sra2pY8eO1L9/f1GDV
W5uLoWFhZFcLic3Nzfas2eP2nOr68KFCzR48GCysLAgT09Pio2NVbvPtWvXCAC5u7uLfhNETxp5Nm/eTN7e3iST
yahz586kVCrp2LFjrb4Wd+7codDQUJLL5eTu7k7//Oc/ycnJSfR/WFpaSosWLeI5LZjmRo0aBT8/P7338Pfw8MDSpUu
xdOlSvX4Pezr99ttvcHV1xeHDhxtM7M11eIyxdu3IkSMoKytDv379kJubi1WrVsHDw0OoH6+LAx5jrF2rrKzEm2++iR
s3bsDGxgbDhw/H3r17G7SqAwA/0jLGTAa30jLGTAYHPMaYyeCAxxgzGRzwGGMmgwMeY8xkcMBjjJkMDniM
MZPBAY8xZjL+PwMywrIe16nMAAAAAElFTkSuQmCC",
"text/plain": [
"<Figure size 300x300 with 1 Axes>"
]
},
"metadata": {},
"output_type": "display_data"
},
{
"data": {
Maurice B.ipynb.pdf[1/2/2024 11:21:01
PM]
"image/png":
"iVBORw0KGgoAAAANSUhEUgAAATwAAAE8CAYAAABdBQ0GAAAAOXRFWHRTb2Z0d2FyZQBNYXRwb
G90bGliIHZlcnNpb24zLjcuMSwgaHR0cHM6Ly9tYXRwbG90bGliLm9yZy/bCgiHAAAACXBIWXMAAA9hAAAP
YQGoP6dpAABIMUlEQVR4nO3de1xU1fo/8M8wwABylasXLhYKKnjBS+L9gg7KKU1P+VXLS1mamtfUPOeopRl
YHTPNLKsD9s0vGpXdRBAVQZHEGyqFDCCGpUCJgBdEYJ7fH/7Yhw0DzAwzzgzzvF+v/Xo5e6/Z+9nDzOPea629
loSICIwxZgYsDB0AY4w9KpzwGGNmgxMeY8xscMJjjJkNTniMMbPBCY8xZjY44THGzAYnPMaY2eCExxgzG5z
wmFG6evUqJBIJYmJiDB0Ka0M44TGDiImJgUQiUbm8/vrrhg6v1VJTU/HUU0/B29sbNjY28PLyQnh4ONLS0gwdml
mzNHQAzLxt2LABXbp0Ea0LCgqCr68vKisrYWVlZaDIWkehUMDCwgLz58+Hl5cXbt26hS+//BLDhw/HgQMHEB4
ebugQzZKEBw9ghhATE4M5c+bg9OnT6N+/v6HDEbl79y7atWun8/3eu3cPjz32GPr06YOEhASd75+1jG9pmVFqqg4v
Li4OPXr0gI2NDYKCgrB//37Mnj0bfn5+Qpljx45BIpHg2LFjLe5z9uzZsLe3R35+PiZMmAAHBwfMmDEDAKBUKrF
161b07NkTNjY28PT0xLx583Dr1i2tzsnOzg7u7u4oKyvT6v2s9fiWlhlUeXk5/vrrL9E6Nzc3lWUPHDiAqVOnIjg4GJG
Rkbh16xZefPFFdOrUqVUx1NTUQC6XY+jQoXjvvfdgZ2cHAJg3b55wJbp48WIUFBTgww8/xPnz55GWlqbW7XZFR
QUePHiAv/76C1988QWysrLwj3/8o1XxMu1xwmMGFRYW1mhdU7Usa9asQadOnZCWlgZ7e3sAwJgxYzBy5Ej4+v
pqHUNVVRWeeeYZREZGCutOnDiBzz77DHv27MH06dOF9aNGjUJ4eDji4uJE65vy7LPPIjExEQBgbW2NefPmYe3
atVrHylqHEx4zqB07dqBbt24tlrt+/TouXbqEf/zjH0KyA4ARI0YgODgYFRUVrYrjlVdeEb2Oi4uDk5MTxo4dK7oC7de
vH+zt7ZGcnKxWwouKisKKFStw7do17N69Gw8ePEBNTU2rYmXa44THDGrgwIFqNVr89ttvAAB/f/9G2/z9/XHu3D
mtY7C0tETnzp1F63Jzc1FeXg4PDw+V7ykpKVFr33369BH+/dxzzyEkJASzZ8/G119/rXW8THuc8FibI5FIVK6vra1Vu
V4mk8HCQtx+p1Qq4eHhgT179qh8j7u7u8ZxWVtb46mnnkJUVBQqKytha2ur8T5Y63DCYyahro4uLy+v0baG61xcX
ACgUWto3VWiOh5//HEcPnwYQ4YM0WliqqysBBHh9u3bnPAMgLulMJPQsWNHBAUF4YsvvsCdO3eE9SkpKbh0
6ZKorK+vL6RSKVJTU0XrP/roI7WP9+yzz6K2thYbN25stK2mpqbFriWqbnnLysrwzTffwNvbu8lbZaZffIXHTMbbb7
+NiRMnYsiQIZgzZw5u3bqFDz/8EEFBQaIk6OTkhGeeeQbbt2+HRCLB448/jp9++kntejfgYWPIvHnzEBkZiczMTIwb
Nw5WVlbIzc1FXFwcPvjgA/z9739v8v3jx49H586d8cQTT8DDwwOFhYWIjo7G9evXsW/fvlZ9DqwViDEDiI6OJgB0
+vRpldsLCgoIAEVHR4vW7927lwIDA0kmk1FQUBD98MMPNGXKFAoMDBSV+/PPP2nKlClkZ2dHLi4uNG/ePMr
Kymq0z1mzZlG7du2ajHPXrl3Ur18/srW1JQcHBwoODqZVq1bR9evXmz2/Dz/8kIYOHUpubm5kaWlJ7u7u9OSTT1Jq
amrzHwzTK360jJm8Pn36wN3dHUlJSYYOhRk5rsNjJqO6urpRH7Zjx47hwoULGDlypGGCYiaFr/CYybh69SrCwsLw
3HPPoWPHjrh8+TI+/vhjODk5ISsrC66uroYOkRk5brRgJsPFxQX9+vXDZ599hj///BPt2rVDREQEoqKiONkxtfAVHm
PMbHAdHmPMbHDCY4yZDa7DU4NSqcT169fh4ODQ5HOajDHDof//uF7Hjh0bPRddHyc8NVy/fh3e3t6GDoMx1oJr
1641GvmmPk54anBwcADw8MN0dHQ0cDSMsYYqKirg7e0t/FabwglPDXW3sY6OjpzwGDNiLVU5caMFY8xscMJjj
JkNTniMMbPBdXiMsRYpFArk5+fD398fXbt2NXQ4WuMrPMZYk0pLSxEeHo6AgABMmDAB3bp1Q3h4uNaTkRsa
JzzGWJOmT5+Ow4cPi9YdPnwY06ZNM1BErcMJjzGmkkKhQGJiYqPZ3mpra5GYmIjc3FwDRaY9TniMMZXy8/Ob
3a5qBjljxwmPMabS448/3ux2VZOiGztOeIwxlbp16wa5XA6pVCpaL5VKIZfLTbK1lhMeY6xJsbGxCAsLE60LCwtDb
GysgSJqHe6HxxhrkouLCxISEpCbm4u8vDyT74fHCY8x1qKuXbuadKKrw7e0jDGzwQmPMWY2OOExxswGJzzGm
NnghMcYMxuc8BhjZoMTHmPMbHDCY4yZDU54jDGzwQmPMWY2OOExxswGJzzGmNkwaMJ74403IJFIREtgY
KCw/f79+1i4cCFcXV1hb2+PKVOmoLi4WLSPwsJCREREwM7ODh4eHli5ciVqampEZY4dO4aQkBDIZDL4+/sjJib
mUZweY8zIGPwKr2fPnrhx44awnDhxQti2bNky/Pjjj4iLi0NKSgquX7+OyZMnC9tra2sRERGBBw8e4OTJk9i9ezdiYm
Kwbt06oUxBQQEiIiIwatQoZGZmYunSpZg7dy4SExMf6XkyxowAGdD69eupd+/eKreVlZWRlZUVxcXFCeuys7MJA
KWnpxMRUXx8PFlYWFBRUZFQZufOneTo6EhVVVVERLRq1Srq2bOnaN9Tp04luVyudpzl5eUEgMrLy9V+D2Ps0
VH3N2rwK7zc3Fx07NgRjz32GGbMmIHCwkIAwNmzZ1FdXS0abTUwMBA+Pj5IT08HAKSnpyM4OBienp5CGblcj
oqKCvzyyy9CmYYjtsrlcmEfqlRVVaGiokK0MMZMn0ET3hNPPIGYmBgkJCRg586dKCgowLBhw3D79m0UFRXB2
toazs7Oovd4enqiqKgIAFBUVCRKdnXb67Y1V6aiogKVlZUq44qMjISTk5OweHt76+J0GWMGZtARj8ePHy/8u1evX
njiiSfg6+uLr776Cra2tgaLa82aNVi+fLnwuqKigpMeY22AwW9p63N2dka3bt2Ql5cHLy8vPHjwAGVlZaIyxcXF8PLyA
gB4eXk1arWte91SGUdHxyaTqkwmg6Ojo2hhjJk+o0p4d+7cQX5+Pjp06IB+/frBysoKR44cEbbn5OSgsLAQoaGhAID
Q0FBcunQJJSUlQpmkpCQ4OjqiR48eQpn6+6grU7cPc6VQKHDw4EGTnD2eMa09okYUlVasWEHHjh2jgoICSktLo7
CwMHJzc6OSkhIiIpo/fz75+PjQ0aNH6cyZMxQaGkqhoaHC+2tqaigoKIjGjRtHmZmZlJCQQO7u7rRmzRqhzJUrV8jO
zo5WrlxJ2dnZtGPHDpJKpZSQkKB2nG2plfbmzZskl8sJgLDI5XIqLS01dGiMaU3d36hBE97UqVOpQ4cOZG1tTZ06d
aKpU6dSXl6esL2yspIWLFhALi4uZGdnR08//TTduHFDtI+rV6/S+PHjydbWltzc3GjFihVUXV0tKpOcnEx9+vQha2tre
uyxxyg6OlqjONtSwpPL5SSVSkUJTyqVatRNhzFjo+5vVEJEZKirS1NRUVEBJycnlJeXm3R9nkKhQEBAQLPb28JUf
Mz8qPsbNao6PKZf+fn5zW7Py8trchvX+bG2gBOeGXn88ceb3e7v799oXWlpKcLDwxEQEIAJEyagW7duCA8Px61bt/
QVJmN6wwnPjHTr1g1yuRxSqVS0XiqVQi6Xq7ydnT59Og4fPixad/jwYUybNk2vsTKmD5zwzExsbGyjR+3CwsIQGx
vbqKxCoUBiYiJqa2tF62tra5GYmMi3t8zkGPRJC/boubi4ICEhAbm5ucjLy4O/v3+TDRXq1PlxIwczJZzwzFTXrl1bTFb
a1PkxZsz4lpY1SZs6P8aMGSc81ixN6vwYM3Z8S8uapUmdH2PGjhMeU4s6dX6MGTu+pWWMmQ1OeIwxs8EJjzFm
NjjhMcbMBic8xpjZ0DjhXbt2Db///rvwOiMjA0uXLsWuXbt0GhhjjOmaxglv+vTpSE5OBvBwCsSxY8ciIyMD//znP7Fh
wwadB8gYY7qiccLLysrCwIEDAQBfffUVgoKCcPLkSezZswcxMTG6jo8xxnRG44RXXV0NmUwG4OG4aE899RQ
AIDAwEDdu3NBtdIwxpkMaJ7yePXvi448/xvHjx5GUlITw8HAAwPXr1+Hq6qrzABljTFc0TnibN2/GJ598gpEjR2Lat
Maurice B.ipynb.pdf[1/2/2024 11:21:01
PM]
Gno3bs3AOCHH34QbnUZY8wYaTVrWW1tLSoqKuDi4iKsu3r1Kuzs7ODh4aHTAI1BW5m1jLG2St3fqFaDB0ilUtT
U1ODEiRMAgICAAPj5+WkVKGOMPSoa39LevXsXL7zwAjp06IDhw4dj+PDh6NixI1588UXcu3dPHzG2STztIWOP
nsYJb/ny5UhJScGPP/6IsrIylJWV4fvvv0dKSgpWrFihjxjbFJ72kDHD0bgOz83NDV9//TVGjhwpWp+cnIxnn30Wf/75p
y7jMwq6rMMLDw/H4cOHRTOBSaVShIWFISEhobWhMmaW1P2NanyFd+/ePXh6ejZa7+Hhwbe0LeBpDxkzLI0TX
mhoKNavX4/79+8L6yorK/Hmm28iNDRU60CioqIgkUiwdOlSYd39+/excOFCuLq6wt7eHlOmTEFxcbHofYWFhYiIi
BBaiFeuXImamhpRmWPHjiEkJAQymQz+/v4GeyJEnWkPGWP6o3Er7datWxEeHo7OnTsLffAuXLgAGxsbJCYmah
XE6dOn8cknn6BXr16i9cuWLcOBAwcQFxcHJycnLFq0CJMnT0ZaWhqAh1dGERER8PLywsmTJ3Hjxg3MnDkTVlZ
WePvttwEABQUFiIiIwPz587Fnzx4cOXIEc+fORYcOHSCXy7WKV1s87SFjBkZauHv3Lu3atYuWL19Oy5cvp08//ZT
u3bunza7o9u3b1LVrV0pKSqIRI0bQkiVLiIiorKyMrKysKC4uTiibnZ1NACg9PZ2IiOLj48nCwoKKioqEMjt37iRHR0e
qqqoiIqJVq1ZRz549RcecOnUqyeVytWMsLy8nAFReXq7VOdYnl8tJKpUSAGGRSqUaxcMYE1P3N6rxLW1qaiqsra3
x0ksv4d///jf+/e9/Y+7cubCyskJqaqrGCXfhwoWIiIhoNBXg2bNnUV1dLVofGBgIHx8fpKenAwDS09MRHBwsqlOUy
+WoqKjAL7/8IpRpuG+5XC7sQ5WqqipUVFSIFl3haQ8ZMxyNb2lHjRqFGzduNHqiory8HKNGjWpUId+cvXv34ty5c
zh9+nSjbUVFRbC2toazs7NovaenJ4qKioQyDRtQ6l63VKaiogKVlZWwtbVtdOzIyEi8+eabap+HJnjaQ8YMR+OER0S
QSCSN1t+8eRPt2rVTez/Xrl3DkiVLkJSUBBsbG03D0Ks1a9Zg+fLlwuuKigp4e3vr9Bg87SFjj57aCW/y5MkAAIlEgtm
zZwtDRAEPGw8uXryIwYMHq33gs2fPoqSkBCEhIaL9pKam4sMPP0RiYiIePHiAsrIy0VVecXExvLy8AABeXl7IyM
gQ7beuFbd+mYYtu8XFxXB0dFR5dQcAMplMdH6MsbZB7YTn5OQE4OEVnoODgyhZWFtbY9CgQXjppZfUPvCY
MWNw6dIl0bo5c+YgMDAQq1evhre3N6ysrHDkyBFMmTIFAJCTk4PCwkKh+0toaCg2bdqEkpIS4RY7KSkJjo6O6N
Gjh1AmPj5edJykpKRWdaFhjJkoTVtD3njjDbpz546WbSnNq99KS0Q0f/588vHxoaNHj9KZM2coNDSUQkNDhe01NT
UUFBRE48aNo8zMTEpISCB3d3das2aNUObKlStkZ2dHK1eupOzsbNqxYwdJpVJKSEhQOy5dttIyxnRP3d+oVt1SiIh
KSkro+PHjdPz4cSopKdF2NyINE15lZSUtWLCAXFxcyM7Ojp5++mm6ceOG6D1Xr16l8ePHk62tLbm5udGKFSuourp
aVCY5OZn69OlD1tbW9Nhjj1F0dLRGcXHCY8y4qfsb1fhZ2nv37mHRokX44osvoFQqATx8FnTmzJnYvn077OzsdH4
Vamg8Hh5jxk1vz9IuW7aMR0thjJkkHi1FDXyFx5hx49FSGGOsAaMZLYUxxvRN4yctPvjgA8jlcp2OlsIYY4+CVrO
W3bt3D3v27MHly5cBAN27d8eMGTOafHLB1HEdHmPGTa+zltnZ2Wn0VAVjjBkDrRJebm4ukpOTUVJSIvTFq7Nu
3TqdBMYYY7qmccL79NNP8corr8DNzQ1eXl6ikVMkEgknPMaY0dI44b311lvYtGkTVq9erY94GGNMbzROeLdu3cI
zzzyjj1iYDikUCuTn5/MAo4zVo3E/vGeeeQaHDh3SRyxMB3iib8aapla3lG3btgn/vnv3LrZs2YKIiAgEBwfDyspKVHb
x4sW6j9LATKlbCk/0zcyRur9RtRJely5d1DqoRCLBlStX1I/SRJhKwlMoFAgICGh2O9/esrZIp/3wCgoKdBYY0x91Jvr
mhMfMmVb98OrUXRyqmtSHPXo80Tc31rDmadxoAQCff/45goKCYGNjAxsbGwQFBeGzzz7TdWxMQ926dYNcLo
dUKhWtl0qlkMvlbToBcGMNU4fGCW/dunVYsmQJnnzyScTFxSEuLg5PPvkkli1bxp2OjYC5TvQ9ffp0HD58WLTu8
OHDmDZtmoEiYsZI48ED3N3dsW3btkZfpNjYWLz66qv466+/dBqgMTCVRov6zGmib26sYXobPKC6uhr9+/dvtL5fv
36oqanRdHdMT8xpom9urGHq0viW9vnnn8fOnTsbrd+1axdmzJihk6AY0wQ31jB1adVK+/nnn+PQoUMYNGgQAOD
UqVMoLCzEzJkzsXz5cqHcli1bdBMlY82oa6xpqsM1X92xOhrX4Y0aNUq9HUskOHr0qFZBGRtTrMMzN7du3cK0ad
NEo27L5XLExsbCxcXFgJGxR0GnT1qYO054psOcGmvYf+l1xGPGjJU5NdYwzWnV8ZgxxkwRJzzGmNkwaMLbuX
MnevXqBUdHRzg6OiI0NBQHDx4Utt+/fx8LFy6Eq6sr7O3tMWXKFBQXF4v2UVhYiIiICNjZ2cHDwwMrV65s1B/w
2LFjCAkJgUwmg7+/P2JiYh7F6THGjIxaCS8kJER4JnHDhg24d++eTg7euXNnREVF4ezZszhz5gxGjx6NiRMn4pdffg
EALFu2DD/++CPi4uKQkpKC69evY/LkycL7a2trERERgQcPHuDkyZPYvXs3YmJiRI+4FRQUICIiAqNGjUJmZiaWL
l2KuXPn8hy6jJkjUoONjQ1du3aNiIgsLCyouLhYnbdpxcXFhT777DMqKysjKysriouLE7ZlZ2cTAEpPTyciovj4eLKws
KCioiKhzM6dO8nR0ZGqqqqIiGjVqlXUs2dP0TGmTp1Kcrlc7ZjKy8sJAJWXl7fm1BhjeqLub1StVto+ffpgzpw5GDp0
KIgI7733Huzt7VWW1XYAgdraWsTFxeHu3bsIDQ3F2bNnUV1dLXoQPjAwED4+PkhPT8egQYOQnp6O4OBgeHp6
CmXkcjleeeUV/PLLL+jbty/S09MbPUwvl8uxdOnSJmOpqqpCVVWV8LqiokKrc2KMGRe1El5MTAzWr1+Pn376CR
KJBAcPHoSlZeO3ajNN46VLlxAaGor79+/D3t4e+/fvR48ePZCZmQlra2s4OzuLynt6eqKoqAgAUFRUJEp2ddvrtjVXp
qKiApWVlbC1tW0UU2RkJN58802NzoMxZvzUSngBAQHYu3cvAMDCwgJHjhyBh4eHTgIICAhAZmYmysvL8fXX
X2PWrFlISUnRyb61tWbNGtEjchUVFfD29jZgRDywJWO6oHHHY6VSqdMArK2thYe7+/Xrh9OnT+ODDz7A1KlT8
eDBA5SVlYmu8oqLi+Hl5QUA8PLyQkZGhmh/da249cs0bNktLi6Go6Ojyqs7AJDJZJDJZDo5v9YqLS3F9OnTDf7IF
Cdc1hZo1S0lPz8fr776KsLCwhAWFobFixe3OESPupRKJaqqqtCvXz9YWVnhyJEjwracnBwUFhYiNDQUABAaGopL
ly6hpKREKJOUlARHR0f06NFDKFN/H3Vl6vZh7Aw9sCWPJMzaFE1bQxISEsja2poGDhxIy5Yto2XLltHAgQNJJpP
RoUOHNNrX66+/TikpKVRQUEAXL16k119/nSQSibCf+fPnk4+PDx09epTOnDlDoaGhFBoaKry/pqaGgoKCaNy4cZ
SZmUkJCQnk7u5Oa9asEcpcuXKF7OzsaOXKlZSdnU07duwgqVRKCQkJasdpqFbanJwcAtDkolAo9B6DXC4nqVQq
Oq5UKtWolZsxfVP3N6pxwuvTpw+tXr260frVq1dT3759NdrXCy+8QL6+vmRtbU3u7u40ZswYUdKsrKykBQsWkIuL
C9nZ2dHTTz9NN27cEO3j6tWrNH78eLK1tSU3NzdasWIFVVdXi8okJydTnz59yNramh577DGKjo7WKE5DJbz4+Ph
mE158fLxej28MCZcxdaj7G9V4tBQbGxtcunSpUT2OQqFAr169cP/+fY2vMo2doUZLMfTQ5QcPHsSECROa3B4fH4/
x48fr7fiMqUvd36jGdXju7u7IzMxstD4zM1NnLbfsIV3NQqZQKHDw4EHk5uZqdHweSZi1OZpeOr755pvk7OxMUVF
RlJqaSqmpqRQZGUnOzs60YcMGLS9IjZshn7QoLS0luVwuupWUy+VUWlra4ntv3ryp9XvrcB0eMwV6q8NTKpW0Z
csW6tSpE0kkEpJIJNSpUyfaunUrKZVKrQM2ZsbwaJlCoaD4+HiN6s10kaxak3AflZycHI0/G9a26K0Or77bt28DABwc
HLTdhUkwxRGPdV3/Z4wjCRtLH0VmeHqrw6vPwcGhzSc7U6XO1IWa6Nq1K8aPH280yQ4wfB9FZnp4ANA2qq03
Maurice B.ipynb.pdf[1/2/2024 11:21:01
PM]
OCgUCiQmJopmKQMeDkKRmJiocQMNMw+c8NooXbXwGitdX8Ey88AJrw2LjY1tNDRWWFgYYmNjDRSR7rT1
K1imHxolvOrqaowZM4ZvF0yEi4sLEhISoFAoEB8fD4VCgYSEhDZRod/Wr2CZfmiU8KysrHDx4kV9xcL0xBgbHHS
hLV/BMv3QuFvKsmXLIJPJEBUVpa+YjI4pdksxJ8bYZYY9WnqbiLumpgb/+c9/cPjwYfTr1w/t2rUTbd+yZYvm0TL
WCjz5NlOXxgkvKysLISEhAB52DahPIpHoJirGGNMDjRNecnKyPuJgjDG907pbSl5eHhITE1FZWQkAaMUTaowx9
khonPBu3ryJMWPGoFu3bpgwYQJu3LgBAHjxxRexYsUKnQfIGGO6onHCW7ZsGaysrFBYWAg7Ozth/dSpU5GQk
KDT4BhjTJc0rsM7dOgQEhMT0blzZ9H6rl274rffftNZYIwxpmsaX+HdvXtXdGVXp7S01GimNmSMMVU0TnjDhg3
DF198IbyWSCRQKpV45513MGrUKJ0G19ZoO9Q6Y0w3NL6lfeeddzBmzBicOXMGDx48wKpVq/DLL7+gtLQUaW
lp+ojR5PFAlYwZB42v8IKCgqBQKDB06FBMnDgRd+/exeTJk3H+/PkWR7AwVzxQJWPGoVVDvJuL1jxLq6uh1hU
KBfLz80XPi6pax5g50tuztABw69YtfP7558jOzgYA9OjRA3PmzEH79u21i7YNU2egyuaSlarb4VGjRkEikeDo0aPCOr5
FZqxlGt/Spqamws/PD9u2bcOtW7dw69YtbNu2DV26dEFqaqo+YjRprR2oUtXtcHJycqNH/PgWmTE1aDodWlBQEL3
00ktUU1MjrKupqaGXX36ZgoKCNN2dSWjtNI3aTpeYk5Mjeo86C09VyMyRur9Rja/w8vLysGLFCtFIs1KpFMuXL+d
5BJqg7kCVDbuttHQ7rAr/DRhrmsYJLyQkRKi7qy87Oxu9e/fWaF+RkZEYMGAAHBwc4OHhgUmTJiEnJ0dU5v79+
1i4cCFcXV1hb2+PKVOmoLi4WFSmsLAQERERsLOzg4eHB1auXImamhpRmWPHjiEkJAQymQz+/v6IiYnRKNbW
aGmo9dLSUoSHhyMgIAATJkxAt27dEB4eDjc3N42PxXM5MNYMdS4XL1y4ICx79+4lHx8fevfdd+n48eN0/Phxevfd
d8nPz4/27t2r0WWoXC6n6OhoysrKoszMTJowYQL5+PjQnTt3hDLz588nb29vOnLkCJ05c4YGDRpEgwcPFrbX1NR
QUFAQhYWF0fnz5yk+Pp7c3NxozZo1QpkrV66QnZ0dLV++nH799Vfavn07SaVSSkhIUCvO1t7StqS5W15V2wCQR
CLR+BaZsbZK3d+oWglPIpGQhYUFSSSSZhcLC4tWBV1SUkIAKCUlhYiIysrKyMrKiuLi4oQy2dnZBIDS09OJiCg+
Pp4sLCyoqKhIKLNz505ydHSkqqoqIiJatWoV9ezZU3SsqVOnqp0g9JnwWqqnO336NMnlctG60aNH0+jRo0Xr5HI5lZ
aW6jw+xurLycmh+Ph4o6srVvc3qla3lIKCAh1cS7asvLwcAITuLWfPnkV1dbWo/iswMBA+Pj5IT0/HoEGDkJ6ejuDg
YHh6egpl5HI5XnnlFfzyyy/o27cv0tPTG9WhyeVyLF26VGUcVVVVqKqqEl5XVFTo6hQbaame7s8//0RCQoLKeRua
m8uB++gxXWorTwuplfB8fX31HQeUSiWWLl2KIUOGICgoCABQVFQEa2trODs7i8p6enqiqKhIKFM/2dVtr9vWXJ
mKigpUVlbC1tZWtC0yMhJvvvmmzs6tORYWzVejWlo+/BOpmrdB1bq28sVkxqW5p4VMaVg4rToeX79+HSdOnEBJ
SQmUSqVo2+LFi7UKZOHChcjKysKJEye0er8urVmzBsuXLxdeV1RUwNvbWy/Havj5NdSw8aUlbeWLyYyHQqEQ/
Qdap7a2FomJicjNzTWZuwiNE15MTAzmzZsHa2truLq6iibukUgkWiW8RYsW4aeffkJqaqponD0vLy88ePAAZWVloq
u84uJieHl5CWUyMjJE+6trxa1fpmHLbnFxMRwdHRtd3QGATCZ7ZENdtdQxee3atbh9+zb69u3b4peqLX0xmfFo7dN
CRkXTysHOnTvTW2+9RbW1tVpXMNZRKpW0cOFC6tixo8pK0LpGi6+//lpYd/nyZZWNFsXFxUKZTz75hBwdHen
+/ftE9LDRomGn6GnTphlFowWR6lZaVUtLDRPx8fHNvj8+Pl4v8bO2raWGNWNowNBpK2197du3p7y8PK0Dq++V
V14hJycnOnbsGN24cUNY7t27J5SZP38++fj40NGjR+nMmTMUGhpKoaGhwva6binjxo2jzMxMSkhIIHd3d5XdUlau
XEnZ2dm0Y8cOo+qWUlpaSkOHDm0x4TXsetKwxcwUvpjMNGn7tNCjoreEt3LlSoqMjNQ6MNHBm/hhRkdHC2Uq
KytpwYIF5OLiQnZ2dvT000/TjRs3RPu5evUqjR8/nmxtbcnNzY1WrFhB1dXVojLJycnUp08fsra2pscee0x0jJboO+ERt
Xx1Vn/JyMho1FVl1KhRjbqq6PuLaaxdFJjulZaWNvrOGVNXKHV/oxoPD1VbW4u//e1vqKysRHBwMKysrETbt2zZo
snuTEJrhocC1Osi0tIwUvWFhITgwoULqK2tFa2XSCQqp8vUdSsttwSbr+a6QhmS3oaHioyMRGJiovDjbNhowf5LX4n
h3LlzKtc39X/X9u3bdZqIuCXYfKnqCmVSNL10dHZ21uh2sC3Q9pa2uXqPhreD6tzSWlhYUM+ePdW+9a1bdu3apbN
bT23qCfnWl+mb3urwPD09ze6Lq03C02RoJ7lcThkZGRonMm2W1ta7aNISfPPmTaOu92Fth96Gh1qyZAm2b9+u6dv
MjiZDOx0+fBhr166FXC4XDbvVWqqqGFo7UKgmA5ryXB7M2GjcaPH000/j6NGjcHV1Rc+ePRs1Wnz77bc6DdAYa
NNooUkjRJ3Tp0/jX//6l8rOw7qm7lwaqoSHh+Pw4cOiRhOpVIqwsDChDk9Xc3kwpg51f6MaX+E5Oztj8uTJGDFiBNz
c3ODk5CRa2EPdunXT+IqtbqCA1iQ8qVSKkJAQfPrpp82Wa81AoeoMaKpO73zGHjWNW2mjo6P1EUebFBsbi2nTpq
mdwOpuB3/77Tetj1lbW4tz587Bx8dHrWOp0lI3mroBTZvrotDauTwMgUeYMQOPpEbRxLW247FCoaD4+HhKTEzU
uEOxtsuuXbs0bk3VdSODsffOr8ONK6ZPb620fn5+1KVLlyaXtkhXT1q01MIZEhKi1jO16iyffvqp2q2pdYYOHUoWFh
Y6S1DG3ju/jqkkZtY0nQ4AWl/DQTOrq6tx/vx5JCQkYOXKlZruzqy0dJvXVIdiTdQ1HgwfPrzZcvVvKUtLSzFx4kSV
Q3O1ZqQVdW59DY1HmDFeeqli0FWG/fDDD2n27Nm62p1R0eWztOqOjNJwmTlzplrlXF1d6cqVK00eS9WVi1wub3
Rl13BpqyOt8AgzxkebKga93dI2JT8/nxwcHHS1O6Oiy4Sn7sgo2i71n+T4/PPPydnZucmESKR+B+m22tmcR5gxPtpUM
TzyhLd582by9fXV1e6Miq5HS9FkZJSGs5PpKiGqG4uFhYXR12W19tE1rsMzHtr+B6S3Ory+ffuKevATEYqKivDnn3
/io48+0nR3Zqmlurz6SLN+4S1qWDfV0pwaQ4YMaTRheEOG6s6hq8EZVHUfUjVROtM/fY+urHHCmzRpkui1hYUF
3N3dMXLkSAQGBmodiDmp65Tc1NMK27dvR15eHv744w+89NJLeonh/PnzePXVV5vsI2hhYYHBgwcjNTW1yX0Y
epgoXY3aYgqNK+ZC7/03dX9R2va09pZW1S2XOl02Wrq8HzZsmNbdWFp6rzrdRwx5K8h1b22XSdThtWXaJjx1Wp
vqOiU39QNt7o+vKmnqYjl06FCL52bohMOtq22XNv03dT5aioWFBaRSabNL3Ryq7KFJkyY1umVMTEwUVQtQC3
V0zT23WncrplAoEB8fD4VCoZMRV9SZGtLQz8qa4qNrTD2qvtcJCQk6qSZRe7SU77//vslt6enp2LZtG5RKJe7fv9/qoI
yNPkZLycjIwNq1a9Wu/1K3funWrVsaPb/bVOzqTAmpr9FQ1G0EUWfUFmYe1P6NtubS8/LlyzRp0iSSSqU0c+ZMun
r1amt2Z7S0uaXduHFjs7dc/v7+ra7/aq47hkKhoJCQkCYfFdNF/Zuu6/A07XBqKo+uMf3Tax3eH3/8QXPnziUrKyv629/
+RpcuXdIqSFOhTcJ79dVXta5Da6n+S93E0FxC0EWy0HXC0TaBtlQPyto+vSS8srIyWrVqFdna2lJoaCilpqa2KkhToU
3CS0hI0Drhqapwr381pyoxWFhY0LBhw1TG0lxC0EWy0MU+DN0IwkybzhPe5s2bqX379tSjRw/67rvvWh2gKdG2ldb
FxUXlj7elriT1f9yqruaaW4YOHdrqWzpDTLrDra6sNXQ+L62FhQVsbW0RFhbWbCuguQ/xXr/C3dLSEgMGDMDNm
zeF7VZWVlAqlY3mlK1jaWmJ6upq4fWwYcNw8uRJKJVKtWK1sLDA2LFjtaq0N2RHYl03gvBgnuZF5/PSzpw5k+e
Maurice B.ipynb.pdf[1/2/2024 11:21:01
PM]
dbUZTySI3NxdnzpxBeno6vL298cILLzS7n5qaGiQlJaFfv35NDtnUHKVSqdawRqoSgiHnm23p6RN1k5ahn/5gRu6RX
G+aOHUul5uqVxs6dKhQRt1BAxYvXqzWkE3NLU3VA+7bt4+GDRvWqKGhpWkiH8XtrS4aQXggAPPET1roUEsfp
jqPgJWWlqrdkLF06VKtE13dUv9piZbqAaVSKYWEhBhNHZq2jSDc8GG+9DYvrS6lpqbiySefRMeOHSGRSPDdd9+
JthMR1q1bhw4dOgj1h7m5uaIypaWlmDFjBhwdHeHs7IwXX3wRd+7cEZW5ePEihg0bBhsbG3h7e+Odd97R6Xm09N
TBiRMn4Ofnh/DwcJ0etzn1JwJSdataX93EP815lE8udO3aFePHj9e47s3QT38wE/Bo8q9q8fHx9M9//pO+/fZbAkD79+8
XbY+KiiInJyf67rvv6MKFC/TUU09Rly5dqLKyUigTHh5OvXv3pp9//pmOHz9O/v7+NG3aNGF7eXk5eXp60owZMyg
rK4tiY2PJ1taWPvnkE7XjbO0VnqEWdW5V6y9SqdSkbwf5Cs98mdwtbcOEp1QqycvLi959911hXVlZGclkMoqNjSUi
ol9//ZUA0OnTp4UyBw8eJIlEQn/88QcREX300Ufk4uJCVVVVQpnVq1dTQECA2rGpW4fXmjo3dZa6vnbqDhOvzq1
qw8XKyqpR0mypDs0Q3ViawnV45snkE15+fj4BoPPnz4vKDR8+nBYvXkxEJAxhXl91dTVJpVL69ttviYjo+eefp4kTJ
4rKHD16lAA0+UO+f/8+lZeXC8u1a9da/DD1PXR7/eSTn5/faOh2fR9TFWOc3pAfNzNPJlGH15yioiIAgKenp2i9p6ens
K2oqAgeHh6i7ZaWlmjfvr2ojKp91D9GQ5GRkXBychIWb2/vFuN1cXHB8ePH0b9/fzXOTnOzZs0SRoxYsGABKioq1
H5vSEiI1iOo1HVLUaW5biyqKBQKHDx4sFE9rC7pc6QNZvqMNuEZ0po1a1BeXi4s165dU/u9CoVCLzHt3r0b4eHh
OH36NBITE9XuiAwAn3zySaMhptRVf0j4+uqmN2zYgVpV+dLSUoSHhyMgIAATJkxAt27dEB4ejlu3bmkVkzq0bfhg
bZvRJjwvLy8AQHFxsWh9cXGxsM3LywslJSWi7TU1NSgtLRWVUbWP+sdoSCaTwdHRUbS0pLS0FP3799foyktTh
w8fxvz589UuL5VKIZfL0b9/f+GqZ9++fRg6dKjGx27YwqlJi6imV4KM6YvRJrwuXbrAy8sLR44cEdZVVFTg1KlTC
A0NBQCEhoairKwMZ8+eFcocPXoUSqUSTzzxhFAmNTVV9LhWUlISAgICdHqbM336dFEc+qBO95H6nJ2dsXPnT
uE1EWHz5s04efKkxsdu2C1F3QE4NbkSZEzvHk2Vomq3b9+m8+fP0/nz5wkAbdmyhc6fP0+//fYbET3sluLs7Ezff/89X
bx4kSZOnKiyW0rfvn3p1KlTdOLECeratauoW0pZWRl5enrS888/T1lZWbR3716ys7Mz6W4pISEharfSyuVytQcgUDX
PRXMtnOq0iPKgAOxRMIlW2uTkZJU/glmzZhHRw64pa9euJU9PT5LJZDRmzBjKyckR7ePmzZs0bdo0sre3J0dHR5o
zZw7dvn1bVObChQs0dOhQkslk1KlTJ4qKitIozpY+TE3mmdXFsn//frK0tFS7fL9+/dTqMrNv3z6dD8DZ1vrGGVMX
HPZfJpHwTIWxXOFJJBIaPXo0ubq66mX/dT9iTR/taqn86NGjG00oXncupsIYu+Cw/+KEp0PaDh6gj8XX11cv+7Wyst
Lb5zd69GiVxzSlhMcdmo2byffDMzUfffQRnJ2d9X6c+s/I6lJ1dTWSkpJ0vl+FQoGjR4+q3Hb06FGTaLTghpe2gxOejix
YsECv/coehfT09EbrWttZuC080N8WzoE9xAlPB+quADTpDGyM6rr7ALrrLNwW5o9tC+fAHuKEpwMtXQGYAldX
V4wdO1Z4rU5nYXWu/upGMm74aFtdp2hTeBKiLZwD+/8eUZ2iSTOWVlp9La6urnTlyhW1zycjI8Ps5o9tC+fQlul8Eh
9zps4EIdbW1qKnOUxFdHQ0Zs+eLVp38OBBTJgwocn3hISE4MKFCyrnnmhu7ovc3Fzk5eWZ9MQ6beEc2iKdT+LD
mpaYmGiUyU4qlaJ3797NPo7WcCQZoOU6K1X7q99i2VQi6Nq1q8knibZwDuaM6/B04NSpU4YOQaWwsDB8/PHH
zZZRVeHeXJ1VSEhIs/vjFktmzDjh6YC2Y83pw+LFi0XjwA0YMECrCvfY2NhGQ0ppm0AZMxac8HSgqUm1DaFDh
w6N1jWVvGJjY5vcT1MDaWqbQBkzCo+kCcXEtdQCpO70i496adiKqO30hw1xiyUzNuq20nKjRRtW129u27ZtyM/P
h7+/P8aPH9/q/dZd/XGLJTM1nPB04MCBA4YOQaW6ltOAgABhnVwuR2xsrE4GP22rLZYKhUL4D6Itnp854zo8HSg
sLDR0CGpLSkrCU089ZegwjJIh5t5gjxYnPB1oOGeGMVMqlThx4gSGDx/OP+QGeO6Nto8Tng6UlZUZOgSNpaWl8
Q+5Hh4CyjxwwtMBMsGn85RKJf+Q6+EhoMwDJzwdaN++vaFD0Br/kB/iIaDMAyc8Hbh7966hQ9Aa/5Af4iGgzAMn
PB1oOBn4o2Zra9vsdn9/f1hYiP/U/ENuTJsnUphp4YSnA+Xl5QY9fmVlZbPbY2NjRYN7AvxDVqWpx+l0OWE7Myw
eD08NLY21JZFIDBCVWK9evXDx4sVG60ePHo0jR44A4LHcWNul7nh4fIXXRqxfvx5yuVy0Ti6X4+uvvxZed+3aFe
PHj+dkx8wWP1rWRtja2vLzrYy1gBNeG1HX2tpWn29lTBc44Zm4urkkOMkx1jKzqsPbsWMH/Pz8YGNjgyeeeAIZG
Rk62a9MJtPJfhrq06dPi2W4tZUx9ZlNwtu3bx+WL1+O9evX49y5c+jduzfkcrlO+tA5Ozu3PsAG5HI5jh492uzcEtxtgjEN
PYrRSI3BwIEDaeHChcLr2tpa6tixI0VGRrb43pZGU+3UqZNORigeOnQo7du3TzQiMY8uzFjLeMTjeh48eICzZ89izZo
1wjoLCwuEhYUhPT29UfmqqipUVVUJrysqKprd/zPPPIOtW7dqFNOhQ4dQU1MDS0tL1NTUNNmqyqMLM6Y7Zp
Hw/vrrL9TW1jaag9XT0xOXL19uVD4yMhJvvvmm2vt///331U54EokEo0aNavTkQ0u49ZWx1jObOjxNrFmzBuXl5cJy
7dq1Ft/z008/qVzfsOFh3Lhxos7AjLFHxyyu8Nzc3CCVShuNTFxcXAwvL69G5WUymcYtrxERESAivPbaa0hKSsLYs
WPx3nvvAeBHuhgzFmaR8KytrdGvXz8cOXIEkyZNAvBwAMwjR45g0aJFOj1WXZKrj29HGTMOZpHwAGD58uW
YNWsW+vfvj4EDB2Lr1q24e/cu5syZY+jQGGOPiNkkvKlTp+LPP//EunXrUFRUhD59+iAhIaFRQwZjrO3i4aHUoO7
QM4wxw+DhoRhjrAGzuaVtjbqL4JY6IDPGDKPut9nSDSsnPDXcvn0bAODt7W3gSBhjzbl9+zacnJya3M51eGpQKp
W4fv06HBwcWhzOvaKiAt7e3rh27ZrJ1vfxORiHtnAOwKM5DyLC7du30bFjx0YTVtXHV3hqsLCwQOfOnTV6j6Ojo
0l/SQE+B2PRFs4B0P95NHdlV4cbLRhjZoMTHmPMbHDC0zGZTIb169frbRTkR4HPwTi0hXMAjOs8uNGCMWY2
+AqPMWY2OOExxswGJzzGmNnghMcYMxuc8HRIX/Pe6kNkZCQGDBgABwcHeHh4YNKkScjJyRGVuX//PhYuX
AhXV1fY29tjypQpjUaNNiZRUVGQSCRYunSpsM5UzuGPP/7Ac889B1dXV9ja2iI4OBhnzpwRthMR1q1bhw4dOsD
W1hZhYWHIzc01YMRitbW1WLt2Lbp06QJbW1s8/vjj2Lhxo+jZVqM4B/1NnGZe9u7dS9bW1vSf//yHfvnlF3rppZfI2d
mZiouLDR2aSnK5nKKjoykrK4syMzNpwoQJ5OPjQ3fu3BHKzJ8/n7y9venIkSN05swZGjRoEA0ePNiAUTctIyOD/Pz
8qFevXrRkyRJhvSmcQ2lpKfn6+tLs2bPp1KlTdOXKFUpMTKS8vDyhTFRUFDk5OdF3331HFy5coKeeeoq6dOlClZ
WVBoz8vzZt2kSurq70008/UUFBAcXFxZG9vT198MEHQhljOAdOeDrSmnlvjUFJSQkBoJSUFCIiKisrIysrK4qLixPK
ZGdnEwBKT083VJgq3b59m7p27UpJSUk0YsQIIeGZyjmsXr2ahg4d2uR2pVJJXl5e9O677wrrysrKSCaTUWxs7KMIs
UURERH0wgsviNZNnjyZZsyYQUTGcw58S6sDdfPehoWFCeuam/fWGJWXlwMA2rdvDwA4e/YsqqurRecUGBgIHx
8fozunhQsXIiIiQhQrYDrn8MMPP6B///545pln4OHhgb59++LTTz8VthcUFKCoqEh0Hk5OTnjiiSeM5jwGDx6MI0eO
QKFQAAAuXLiAEydOYPz48QCM5xx48AAd0HTeW2OjVCqxdOlSDBkyBEFBQQCAoqIiWFtbw9nZWVTW09M
Maurice B.ipynb.pdf[1/2/2024 11:21:01
PM]
TRUVFBohStb179+LcuXM4ffp0o22mcg5XrlzBzp07sXz5cvzjH//A6dOnsXjxYlhbW2PWrFlCrKq+X8ZyHq+//joqKio
QGBgIqVSK2tpabNq0CTNmzAAAozkHTngMCxcuRFZWFk6cOGHoUDRy7do1LFmyBElJSbCxsTF0OFpTKpXo37
8/3n77bQBA3759kZWVhY8//hizZs0ycHTq+eqrr7Bnzx783//9H3r27InMzEwsXboUHTt2NKpz4FtaHdB03ltjsmjRIvz0
009ITk4WDYHl5eWFBw8eoKysTFTemM7p7NmzKCkpQUhICCwtLWFpaYmUlBRs27YNlpaW8PT0NPpzAIAOHT
qgR48eonXdu3dHYWEhAAixGvP3a+XKlXj99dfxP//zPwgODsbzzz+PZcuWITIyEoDxnAMnPB2oP+9tnbp5b0NDQw
0YWdOICIsWLcL+/ftx9OhRdOnSRbS9X79+sLKyEp1TTk4OCgsLjeacxowZg0uXLiEzM1NY+vfvjxkzZgj/NvZzAIA
hQ4Y06hKkUCjg6+sLAOjSpQu8vLxE51FRUYFTp04ZzXncu3ev0cCbUqkUSqUSgBGdwyNrHmnj9u7dSzKZjGJiYu
jXX3+ll19+mZydnamoqMjQoan0yiuvkJOTEx07doxu3LghLPfu3RPKzJ8/n3x8fOjo0aN05swZCg0NpdDQUANG3bL6
rbREpnEOGRkZZGlpSZs2baLc3Fzas2cP2dnZ0ZdffimUiYqKImdnZ/r+++/p4sWLNHHiRKPqljJr1izq1KmT0C3l22+/J
Tc3N1q1apVQxhjOgROeDm3fvp18fHzI2tqaBg4cSD///LOhQ2oSAJVLdHS0UKayspIWLFhALi4uZGdnR08//TTduH
HDcEGroWHCM5Vz+PHHHykoKIhkMhkFBgbSrl27RNuVSiWtXbuWPD09SSaT0ZgxYygnJ8dA0TZWUVFBS5YsI
R8fH7KxsaHHHnuM/vnPf1JVVZVQxhjOgYeHYoyZDa7DY4yZDU54jDGzwQmPMWY2OOExxswGJzzGmNnghM
cYMxuc8BhjZoMTHmPMbHDCM7CrV69CIpEgMzPT0KEILl++jEGDBsHGxgZ9+vQxdDgtkkgk+O677x7Z8fz8/LB
169ZHdrxHyRjOLSYmRjSk1xtvvNHi93D27NmYNGlSi/s2+4Q3e/ZsSCQSREVFidZ/9913kEgkBorKsNavX4927dohJ
ydH9LA3M06PMkmpm1haY+rUqcJAorpm9gkPAGxsbLB582bcunXL0KHozIMHD7R+b35+PoYOHQpfX1+4urrqM
CqmLiJCTU2NocPQm6a+n9XV1bC1tYWHh4dejssJD0BYWBi8vLyEsbtUUXVZvXXrVvj5+Qmv6/73e/vtt+Hp6QlnZ
2ds2LABNTU1WLlyJdq3b4/OnTsjOjq60f4vX76MwYMHw8bGBkFBQUhJSRFtz8rKwvjx42Fvbw9PT088//zz+Ouvv
4TtI0eOxKJFi7B06VK4ublBLperPA+lUokNGzagc+fOkMlk6NOnDxISEoTtEokEZ8+exYYNGyCRSPDGG2+o3E/d8
RYtWgQnJye4ublh7dq1olmqqqqq8Nprr6FTp05o164dnnjiCRw7dky0n2+++QY9e/aETCaDn58f/v3vf4u2+/n5YePGjZg
2bRratWuHTp06YceOHSpjqnPt2jU8++yzcHZ2Rvv27TFx4kRcvXq1yfL9+/fHe++9J7yeNGkSrKyscOfOHQDA77//D
olEgry8PKHMvXv38MILL8DBwQE+Pj7YtWuXaJ+XLl3C6NGjYWtrC1dXV7z88svC/lQ5duwYJBIJDh48iH79+kEm
k+HEiRPIz8/HxIkT4enpCXt7ewwYMACHDx8W3jdy5Ej89ttvWLZsGSQSieiu5MSJExg2bBhsbW3h7e2NxYsX4+7d
u8L2kpISPPnkk7C1tUWXLl2wZ8+eZj/XN954A7t378b3338vHKvu79nSZ17329i0aRM6duyIgIAAoTpn3759GDFiBG
xsbLBnz55Gt7R1PvnkE3h7e8POzg7PPvusMC2BKkqlEpGRkcIsar1798bXX3/Nw0PNmjWLJk6cSN9++y3Z2NjQtWv
XiIho//79hHofz/r166l3796i977//vvk6+sr2peDgwMtXLiQLl++TJ9//jkBILlcTps2bSKFQkEbN24kKysr4TgFBQUEgDp
37kxff/01/frrrzR37lxycHCgv/76i4iIbt26Re7u7rRmzRrKzs6mc+fO0dixY2nUqFHCsUeMGEH29va0cuVKunz5Ml2+fF
nl+W7ZsoUcHR0pNjaWLl++TKtWrSIrKytSKBRERHTjxg3q2bMnrVixgm7cuEG3b99WuZ+64y1ZsoQuX75MX375J
dnZ2YlG+Zg7dy4NHjyYUlNTKS8vj959912SyWTCsc6cOUMWFha0YcMGysnJoejoaLK1tRWN2OLr60sODg4UGRl
JOTk5tG3bNpJKpXTo0CGhDADav38/ERE9ePCAunfvTi+88AJdvHiRfv31V5o+fToFBASIRu6ob/ny5RQREUFED0f
0aN++Pbm5udHBgweJiOjLL7+kTp06iWJq37497dixg3JzcykyMpIsLCyEz/zOnTvUoUMHmjx5Ml26dImOHDlCXbp0
oVmzZqk8PhFRcnIyAaBevXrRoUOHKC8vj27evEmZmZn08ccf06VLl0ihUNC//vUvsrGxod9++42IiG7evEmdO3emD
Rs2CEN8ERHl5eVRu3bt6P333yeFQkFpaWnUt29fmj17tnDM8ePHU+/evSk9PZ3OnDlDgwcPJltbW3r//fdVxnj79m16
9tlnKTw8XDhWVVWVWp/5rFmzyN7enp5//nnKysqirKws4bvv5+dH33zzDV25coWuX79O0dHR5OTkJBx3/fr11K5d
Oxo9ejSdP3+eUlJSyN/fn6ZPny6Uqfsd13nrrbcoMDCQEhISKD8/n6Kjo0kmk/HwUPU/qEGDBgkzL2mb8Hx9fam2tlZ
YFxAQQMOGDRNe19TUULt27YSZmur+6FFRUUKZ6upq6ty5M23evJmIiDZu3Ejjxo0THfvatWsEQBheZ8SIEdS3b
98Wz7djx460adMm0boBAwbQggULhNe9e/em9evXN7ufESNGUPfu3UmpVArrVq9eTd27dyciot9++42kUin98ccfove
NGTOG1qxZQ0RE06dPp7Fjx4q2r1y5knr06CG89vX1pfDwcFGZqVOn0vjx44XX9RPe//7v/1JAQIAorqqqKrK1taXEx
ESV5/LDDz+Qk5MT1dTUUGZmJnl5edGSJUto9erVRPQwcdf/cfn6+tJzzz0nvFYqleTh4UE7d+4kIqJdu3aRi4uLaMrL
AwcOkIWFRZPjI9YlvO+++07l9vp69uxJ27dvF8XTMEm9+OKL9PLLL4vWHT9+nCwsLKiyspJycnIIAGVkZAjb62Z
0ayrhETVOLETqfeazZs0iT09P0X86dd/9rVu3ivanKuFJpVL6/fffhXUHDx4kCwsLIcHXj+v+/ftkZ2dHJ0+ebPSZ8C1tP
Zs3b8bu3buRnZ2t9T569uwpGvnV09MTwcHBwmupVApXV1eUlJSI3ld/1FdLS0v0799fiOPChQtITk6Gvb29sAQGBg
J4WN9Wp1+/fs3GVlFRgevXr2PIkCGi9UOGDNHqnAcNGiS6hQoNDUVubi5qa2tx6dIl1NbWolu3bqK4U1JShJizs7N
VxlK3j/r7rS80NLTJeC9cuIC8vDw4ODgIx2zfvj3u378v+qzqGzZsGG7fvo3z588jJSUFI0aMwMiRI4XbtZSUFIwcOVL
0nl69egn/lkgk8PLyEv6m2dnZ6N27N9q1ayc6L6VS2Whk44b69+8ven3nzh289tpr6N69O5ydnWFvb4/s7Gxh+PemXLh
wATExMaLPXi6XQ6lUoqCgANnZ2bC0tBR9ZwIDA1XeSrZE3c88ODgY1tbWLZ6zKj4+PujUqZPwOjQ0tMnPMy8
vD/fu3cPYsWNF5//FF1/wJD71DR8+HHK5HGvWrMHs2bNF2ywsLET1U8DDCtaGrKysRK8lEonKdXVDX6vjzp07e
PLJJ7F58+ZG2zp06CD8u/4PzNDu3LkDqVSKs2fPQiqVirbZ29vr9bj9+vVTWR/l7u6u8j3Ozs7o3bs3jh07hvT0dIwdOx
bDhw8XWgtzc3MxYsQI0Xta+zdtSsO/4WuvvYakpCS899578Pf3h62tLf7+97+32Ch1584dzJs3D4sXL260zcfHR6etoO
p+5k19P3X9va2rKz1w4IAoSQI8a1kjUVFR6NOnDwICAkTr3d3dUVRUBCISrmp02Xfu559/xvDhwwEANTU1OHv2
LBYtWgQACAkJwTfffAM/Pz9YWmr/J3N0dETHjh2RlpYm+gGnpaVh4MCBGu/v1KlTjc6ha9eukEql6Nu3L2pra1FS
UoJhw4apfH/37t2RlpYmWpeWloZu3bqJkuTPP//c6Djdu3dXuc+QkBDs27cPHh4ecHR0VPtcRowYgeTkZGRkZGDTp
k1o3749unfvjk2bNqFDhw7o1q2b2vvq3r07YmJicPfuXeHHnJaWBgsLi0bfq5akpaVh9uzZePrppwE8/DE3bICxtrYWX
REDDz+HX3/9Ff7+/ir3GxgYKHzPBgwYAODhfB8NJzxqqKljafOZa6KwsBDXr19Hx44dATz8DjT1efbo0QMymQyF
hYWN/qPiW9oGgoODMWPGDGzbtk20fuTIkfjzzz/xzjvvID8/Hzt27MDBgwd1dtwdO3Zg//79uHz5MhYuXIhbt27hhR
Maurice B.ipynb.pdf[1/2/2024 11:21:01
PM]
deAPBwGsXS0lJMmzYNp0+fRn5+PhITEzFnzpxGX76WrFy5Eps3b8a+ffuQk5OD119/HZmZmViyZInGMRcWFmL
58uXIyclBbGwstm/fLuynW7dumDFjBmbOnIlvv/0WBQUFyMjIQGRkJA4cOAAAWLFiBY4cOYKNGzdCoVBg9+7
d+PDDD/Haa6+JjpOWloZ33nkHCoUCO3bsQFxcXJPxzpgxA25ubpg4cSKOHz+OgoICHDt2DIsXL8bvv//e5LmMHD
kSiYmJsLS0FKoLRo4ciT179jT60bRkxowZsLGxwaxZs5CVlYXk5GS8+uqreP755xvNy9qSrl274ttvv0VmZiYuXLiA6
dOnN7qS9PPzQ2pqKv744w+h5X716tU4efIkFi1ahMzMTOTm5uL7778X/hMNCAhAeHg45s2bh1OnTuHs2bOYO3cu
bG1tm43Hz88PFy9eRE5ODv766y9UV1dr/Zlrou7zvHDhAo4fP47Fixfj2WefVTnjmYODA1577TUsW7YMu3fvRn5+
Ps6dO4ft27dzwlNlw4YNjb5U3bt3x0cffYQdO3agd+/eyMjIaPTDbI2oqChERUWhd+/eOHHiBH744Qe4ubkBgHBVVlt
bi3HjxiE4OBhLly6Fs7Nzo5miWrJ48WIsX74cK1asQHBwMBISEvDDDz+ga9euGsc8c+ZMVFZWYuDAgVi4cCGW
LFmCl19+WdgeHR2NmTNnYsWKFQgICMCkSZNw+vRp+Pj4AHh4ZfDVV19h7969CAoKwrp167Bhw4ZG1QkrVq
zAmTNn0LdvX7z11lvYsmVLk91u7OzskJqaCh8fH0yePBndu3fHiy++iPv37zd79TFs2DAolUpRchs5ciRqa2sb1d+1xM
7ODomJiSgtLcWAAQPw97//HWPGjMGHH36o0X4AYMuWLXBxccHgwYPx5JNPQi6XIyQkRFRmw4YNuHr1Kh5
//HHhFrJXr15ISUmBQqHAsGHD0LdvX6xbt064QgIe/n06duyIESNGYPLkyXj55Zdb7P/20ksvISAgAP3794e7uzvS0t
K0/sw14e/vj8mTJ2PChAkYN24cevXqhY8++qjJ8hs3bsTatWsRGRmJ7t27Izw8HAcOHADPacG0MnLkSPTp00fvPfz9
/PywdOlSLF26VK/HYeaBr/AYY2aDEx5jzGzwLS1jzGzwFR5jzGxwwmOMmQ1OeIwxs8EJjzFmNjjhMcbMBic8xpj
Z4ITHGDMbnPAYY2bj/wEF/7uV45YOqgAAAABJRU5ErkJggg==",
"text/plain": [
"<Figure size 300x300 with 1 Axes>"
]
},
"metadata": {},
"output_type": "display_data"
}
],
"source": [
"df.plot.scatter(x='excellent', y='photos',\n",
" title='Figure 1', figsize=(3,3), color='black',\n",
" xlabel='Number of people who rated excellent', ylabel='Number of photos');\n",
"\n",
"df.plot.scatter(x='average', y='photos',\n",
" title='Figure 2', figsize=(3,3), color='black',\n",
" xlabel='Number of people who rated average', ylabel='Number of photos');\n",
"\n",
"df.plot.scatter(x='terrible', y='photos',\n",
" title='Figure 3', figsize=(3,3), color='black',\n",
" xlabel='Number of people who rated terrible', ylabel='Number of photos');\n",
"\n",
"print(\"Correlation between number of photos and number of people who rated excellent\",\n",
" df['excellent'].corr(df['photos']).round(2))\n",
"print(\"Correlation between number of photos and number of people who rated average\",\n",
" df['average'].corr(df['photos']).round(2))\n",
"print(\"Correlation between number of photos and number of people who rated terrible\",\n",
" df['terrible'].corr(df['photos']).round(2))"
]
},
{
"cell_type": "markdown",
"metadata": {
"id": "QFfdDkzjHk3C"
},
"source": [
"As we can see the Correlation between number of photos and number of people rating excellent is pretty high
(close to 1) which mean that this relation is a strong realtion. This shows that increasing the number of photos increase
the number of people that will rate excellent.\n",
"Where as the relation between number of photos and number number of people rating terrible is 0.55 which is
Maurice B.ipynb.pdf[1/2/2024 11:21:01
PM]
moderatle positive.\n",
"Since photos is one feature we can also investigate more about the options of reserving a table and reserving a
online."
]
},
{
"cell_type": "code",
"execution_count": 5,
"metadata": {
"colab": {
"base_uri": "https://localhost:8080/",
"height": 1000
},
"id": "EATwhJaNJjGZ",
"outputId": "ab7d0296-8e3f-49fe-f282-09519d58e6f3"
},
"outputs": [
{
"name": "stdout",
"output_type": "stream",
"text": [
"Correlation between thefork and number of people who rated excellent -0.07\n",
"Correlation between thefork and number of people who rated terrible -0.06\n",
"Correlation between justeat and number of people who rated excellent -0.08\n",
"Correlation between justeat and number of people who rated terrible -0.06\n"
]
},
{
"data": {
"image/png":
"iVBORw0KGgoAAAANSUhEUgAAAS8AAAE8CAYAAACRnDftAAAAOXRFWHRTb2Z0d2FyZQBNYXRwbG9
0bGliIHZlcnNpb24zLjcuMSwgaHR0cHM6Ly9tYXRwbG90bGliLm9yZy/bCgiHAAAACXBIWXMAAA9hAAAPYQ
GoP6dpAAA7HUlEQVR4nO3deVwT1/4//lcIkLAGEAmIIFjcEVAQBBdcwNR63dpar21VsFXbq63Vul73Fa2tpde1doF
Pe2u1WrX9VmurKFgRa4uIC7K6QKu4y6ICkrx/f/hjLiMBEgyG6Pv5eOTxMGfOnPOe0bydnDk5IyEiAmOMmRgzYw
fAGGMNwcmLMWaSOHkxxkwSJy/GmEni5MUYM0mcvBhjJomTF2PMJHHyYoyZJE5ejDGTxMmLNbqLFy9CIpE
gPj7e2KGwpwgnL/bY4uPjIZFItL5mz55t7PAe25UrVzB79mz07dsXdnZ2kEgkSExMNHZYzzxzYwfAnh5LliyBt7e3q
MzX1xetWrXC/fv3YWFhYaTIHk9WVhZWrVqFNm3aoHPnzkhJSTF2SAycvJgBDRw4EEFBQVq3yeXyJxzNQ3fv3o
WNjc1jtREYGIibN2/CyckJO3bswIgRIwwUHXsc/LWRNbraxry2b9+Ojh07Qi6Xw9fXF7t27UJUVBS8vLyEOomJiVq/
pmlrMyoqCra2tsjLy8MLL7wAOzs7vPbaawAAjUaD2NhYdOrUCXK5HEqlEhMnTsTt27frjd/Ozg5OTk4NPXzWSPjK
ixlMUVERbty4ISpzdnbWWnfPnj0YOXIkOnfujJiYGNy+fRtvvPEG3N3dHyuGyspKqFQq9OzZEx9++CGsra0BABMn
TkR8fDyio6Px7rvv4sKFC1i3bh3S0tKQnJxssl9pn2WcvJjBRERE1Cirbbm4OXPmwN3dHcnJybC1tQUA9O/fH3369E
GrVq0aHEN5eTlGjBiBmJgYoezIkSP4/PPP8c033+DVV18Vyvv27Yvnn38e27dvF5Uz08DJixnM+vXr0bZt23rrXb58G
adPn8a///1vIXEBQHh4ODp37ozi4uLHiuPtt98Wvd++fTsUCgUiIyNFV4aBgYGwtbXFoUOHOHmZIE5ezGCCg4NrH
bCv7tKlSwAAHx+fGtt8fHxw4sSJBsdgbm6Oli1bispycnJQVFQEFxcXrftcu3atwf0x4+HkxZo0iUSitVytVmstl8lkMDM
T34fSaDRwcXHBN998o3Wf5s2bP16QzCg4ebEnrmpMKzc3t8a2R8scHR0BAHfu3BGVV1296eK5557DgQMH0KN
HD1hZWekZLWuqeKoEe+JatGgBX19ffPXVVygtLRXKk5KScPr0aVHdVq1aQSqV4vDhw6LyDRs26NzfK6+8ArVaj
aVLl9bYVllZWSMxMtPAV17MKFasWIGhQ4eiR48eiI6Oxu3bt7Fu3Tr4+vqKEppCocCIESOwdu1aSCQSPPfcc/jpp5/
0GqcKDw/HxIkTERMTg5MnT2LAgAGwsLBATk4Otm/fjk8++QQvv/xynW0sW7YMAHD27FkAwNdff40jR44AAO
bNm6fv4TNDIMYeU1xcHAGgP/74Q+v2CxcuEACKi4sTlW/dupXat29PMpmMfH196ccff6SXXnqJ2rdvL6p3/fp1eum
ll8ja2pocHR1p4sSJdObMmRptjh07lmxsbGqNc/PmzRQYGEhWVlZkZ2dHnTt3ppkzZ9Lly5frPUYAtb6YcUiI+LmNr
OkICAhA8+bNsX//fmOHwpo4HvNiRvHgwQNUVlaKyhITE5Geno4+ffoYJyhmUvjKixnFxYsXERERgddffx0tWrRA
ZmYmNm3aBIVCgTNnzqBZs2bGDpE1cTxgz4zC0dERgYGB+Pzzz3H9+nXY2Nhg0KBBWLlyJScuphO+8mKMmS
Qe82KMmSROXowxk/TMjXlpNBpcvnxZWIucMda0EBFKSkrQokWLGr9Tre6ZS16XL1+Gh4eHscNgjNWjoKCgxgo
h1T1zycvOzg7AwxNjb29v5GgYY48qLi6Gh4eH8FmtzTOXvKq+Ktrb23PyYqwJq29YhwfsGWMmiZMXY8wkcfJijJk
Maurice B.ipynb.pdf[1/2/2024 11:21:01
PM]
ko455HT58GKtXr0ZqaiquXLmCXbt2YdiwYXXuk5iYiGnTpuHs2bPw8PDAvHnzEBUV1SjxRUVFYdeuXXU+EML
MzAwWFhYgIlhYWMDDwwPdu3eHRqPBX3/9hdu3b+PatWvw9PTE+PHj4erqiitXruDQoUMoKSmBg4MD7ty5g7t3
76JFixZ4/fXX0apVK+Tl5cHHxwdEhO+++w6JiYkgIowePRphYWGi7Xl5eZBKpVCr1fDx8UGbNm0e67izs7OF9utqq
7562rZnZ2cjKSkJEokE4eHhBo216lwY4hw0BkOdV/b/M85KPA/t3buX5s6dSzt37iQAtGvXrjrrnz9/nqytrWnatGmUkZ
FBa9euJalUSvv27dO5z6KiIgJARUVFtdb56quv6ly/qam/VCoV3bp1S+dzUuXmzZukUqnqbau+etq29+vXj3r27Fkj1n79
+hksVkOcg8ZgqPP6rNDlM0pE1GRWUtMlec2cOZM6deokKhs5ciSpVCqd+9HlxBg7+TzuSyqV6nVOqqhUKpJKpfW
2VV89bdslEonWWCUSicFiNcQ5aAyGOq/PiqcyefXq1YumTJkiKvvyyy/J3t6+1n3KysqoqKhIeBUUFNR5YsaOHWv0
5GOoV3Z2ts7nPysrS6e26qv3yy+/GD3WhrbbGAx1Xo19HE+SrsnLpAbsCwsLoVQqRWVKpRLFxcW4f/++1n1iYmK
gUCiEV32z65OSkgwWr7FpezpPbfLy8nRqq756x44d07lPbe3ror4YGtpuYzDUeTX2cTRFJpW8GmLOnDkoKioSXgU
FBXXWDw8Pf0KRNT5tD3WtzXPPPadTW/XV6969u859amtfF/XF0NB2G4Ohzquxj6NJekJXgvVCI31tfBSPedWOx
7waB4956eepHPOaOXMm+fr6ispGjRpl8AH7rVu3Gj0BPc6roXeobt26pdPdrvrqadver18/6tWrV41YG3q3UVsfhjgHjc
FQ5/VZoWvyMupKqqWlpcJ3+S5dumDNmjXo27cvnJyc4OnpiTlz5uDvv//GV199BQC4cOECfH19MWnSJIwbNw4H
Dx7Eu+++iz179kClUunUZ3FxMRQKBYqKiur9beMbb7yBHTt26DTPCwDMzc2FeV5EhIKCAty+fRvXr1+Hh4cHJk
yYAKVSiatXr+LQoUNCLI/O8/Ly8kJubq7wVaFqnpdGo8Ho0aPRo0cP0fbc3FyYm5ujsrLSIHODcnJyhPbraqu+etq25+
TkCOOKhpjnVb0PADrFbSyGOq9PO50/o08ik9bm0KFDWv/XHDt2LBE9vPMXHh5eY5+AgACytLSk1q1b13gWYH
10zeqMMeMwiSsvY9Dnyosx9uTp+hl96u82MsaeTpy8GGMmiZMXY8wkcfJijJkkTl6MMZPEyYsxZpI4eTHGTBInL
8aYSeLkxRgzSZy8GGMmiZMXY8wkcfJijJkkTl6MMZPEyYsxZpI4eTHGTBInL8aYSeLkxRgzSZy8GGMmiZMXY
8wkcfJijJkkTl6MMZPEyYsxZpI4eTHGTBInL8aYSeLkxRgzSZy8GGMmiZMXY8wkcfJijJkkTl6MMZPEyYsxZpI4e
THGTJLRk9f69evh5eUFuVyOkJAQHD9+vM76sbGxaNeuHaysrODh4YGpU6eirKzsCUXLGGsqjJq8tm3bhmnTpmH
hwoU4ceIE/P39oVKpcO3aNa31t2zZgtmzZ2PhwoU4d+4cvvjiC2zbtg3//ve/n3DkjDFjM2ryWrNmDcaPH4/o6Gh07Ng
RmzZtgrW1Nb788kut9Y8ePYoePXrg1VdfhZeXFwYMGIBRo0bVe7XGGHv6GC15VVRUIDU1FREREf8LxswMER
ERSElJ0bpPWFgYUlNThWR1/vx57N27Fy+88EKt/ZSXl6O4uFj0YoyZPnNjdXzjxg2o1WoolUpRuVKpRGZmptZ9X
n31Vdy4cQM9e/YEEaGyshJvvfVWnV8bY2JisHjxYoPGzhgzPqMP2OsjMTERK1aswIYNG3DixAns3LkTe/bswdKlS
2vdZ86cOSgqKhJeBQUFTzBixlhjMdqVl7OzM6RSKa5evSoqv3r1KlxdXbXuM3/+fIwePRpvvvkmAKBz5864e/cuJky
YgLlz58LMrGYulslkkMlkhj8AxphRGe3Ky9LSEoGBgUhISBDKNBoNEhISEBoaqnWfe/fu1UhQUqkUAEBEjRcsY6
zJMdqVFwBMmzYNY8eORVBQEIKDgxEbG4u7d+8iOjoaADBmzBi4u7sjJiYGADB48GCsWbMGXbp0QUhICHJzc
zF//nwMHjxYSGKMsWdDg5JXXl4e4uLikJeXh08++QQuLi74+eef4enpiU6dOunczsiRI3H9+nUsWLAAhYWFCAgI
wL59+4RB/Pz8fNGV1rx58yCRSDBv3jz8/fffaN68OQYPHozly5c35DAYYyZMQnp+30pKSsLAgQPRo0cPHD58GOf
OnUPr1q2xcuVK/Pnnn9ixY0djxWoQxcXFUCgUKCoqgr29vbHDYYw9QtfPqN5jXrNnz8ayZcuwf/9+WFpaCuX9+vX
DsWPHGhYtY4zpSe/kdfr0aQwfPrxGuYuLC27cuGGQoBhjrD56Jy8HBwdcuXKlRnlaWhrc3d0NEhRjjNVH7+T1z3/+
E7NmzUJhYSEkEgk0Gg2Sk5Mxffp0jBkzpjFiZIyxGvROXitWrED79u3h4eGB0tJSdOzYEb1790ZYWBjmzZvXGDE
yxlgNet9trJKfn48zZ86gtLQUXbp0QZs2bQwdW6Pgu42MNW26fkYbPEnV09MTnp6eDd2dMcYei07Ja9q0aTo3uGb
NmgYHwxhjutIpeaWlpenUmEQieaxgGGNMVzolr0OHDjV2HIwxppfHWlWioKCA18dijBmF3smrsrIS8+fPh0KhgJe
XF7y8vKBQKDBv3jw8ePCgMWJkjLEa9L7b+M4772Dnzp344IMPhHW3UlJSsGjRIty8eRMbN240eJCMMfYoved5
KRQKbN26FQMHDhSV7927F6NGjUJRUZFBAzQ0nufFWNPWaKtKyGQyeHl51Sj39vYWrTLBGGONSe/kNXnyZ
CxduhTl5eVCWXl5OZYvX47JkycbNDjGGKuNTmNeL774ouj9gQMH0LJlS/j7+wMA0tPTUVFRgf79+xs+QsYY00
Kn5KVQKETvX3rpJdF7Dw8Pw0XEGGM60Cl5xcXFNXYcjDGmF5N66CxjjFVp0KoSO3bswHfffYf8/HxUVFSItp0
4ccIggTHGWF30vvL6z3/+g+joaCiVSqSlpSE4OBjNmjXD+fPna8z9YoyxxqJ38tqwYQM2b96MtWvXwtLSEjNnzsT+/
fvx7rvvNvkJqoyxp4feySs/Px9hYWEAACsrK5SUlAAARo8ejW+//daw0THGWC30Tl6urq64desWgIerqVY9q/HChQt
o4IrSjDGmN72TV79+/fDjjz8CAKKjozF16lRERkZi5MiRWp/nyBhjjUHvH2ZrNBpoNBqYmz+8Ubl161YcPXoUbdq0
wcSJE5v87xv5h9mMNW26fkb1Tl75+fnw8PCoseQzEaGgoKDJP5SDkxdjTVujrSrh7e2N69ev1yi/desWvL299W2OMc
YaRO/kRURaH7RRWloKuVxukKAYY6w+Os+wr3r8mUQiwfz582FtbS1sU6vV+P333xEQEGDwABljTBudr7zS0tK
QlpYGIsLp06eF92lpacjMzIS/vz/i4+P1DmD9+vXw8vKCXC5HSEgIjh8/Xmf9O3fuYNKkSXBzc4NMJkPbtm2xd+9ev
ftljJk2na+8qh5/Fh0djU8++cQgg93btm3DtGnTsGnTJoSEhCA2NhYqlQpZWVlwcXGpUb+iogKRkZFwcXHBjh074O7
ujkuXLsHBweGxY2GMmRa97zYaUkhICLp164Z169YBeDgNw8PDA++88w5mz55do/6mTZuwevVqZGZmwsLCok
F98t1Gxpq2RrvbaCgVFRVITU1FRETE/4IxM0NERARSUlK07vPjjz8iNDQUkyZNglKphK+vL1asWAG1Wl1rP+Xl5
SguLha9GGOmz2jJ68aNG1Cr1VAqlaJypVKJwsJCrfucP38eO3bsgFqtxt69ezF//nx89NFHWLZsWa39xMTEQKFQCC
9e9ZWxp4NJLUao0Wjg4uKCzZs3IzAwECNHjsTcuXOxadOmWveZM2cOioqKhBc/4Zuxp0ODFiM0BGdnZ0ilUly9e
lVUfvXqVbi6umrdx83NDRYWFpBKpUJZhw4dUFhYiIqKCq0/TZLJZJDJZIYNnjFmdA1OXhkZGVpXUh0yZIhO+1
taWiIwMBAJCQkYNmwYgIdXVgkJCbU+Qq1Hjx7YsmULNBoNzMweXjRmZ2fDzc2tyf+mkjFmYKSnvLw88vPzI4
lEQmZmZiSRSIQ/m5mZ6dXW1q1bSSaTUXx8PGVkZNCECRPIwcGBCgsLiYho9OjRNHv2bKF+fn4+2dnZ0eTJkyk
rK4t++ukncnFxoWXLluncZ1FREQGgoqIivWJljD0Zun5G9b7ymjJlCry9vZGQkABvb28cP34cN2/exPvvv48PP/xQr7Z
GjhyJ69evY8GCBSgsLERAQAD27dsnDOLn5+cLV1jAw0es/fLLL5g6dSr8/Pzg7u6OKVOmYNasWfoeBmPMxOk9z
8vZ2RkHDx6En58fFAoFjh8/jnbt2uHgwYN4//33kZaW1lixGgTP82KsaWu0eV5qtRp2dnYAHiayy5cvAwBatWqFrKys
Maurice B.ipynb.pdf[1/2/2024 11:21:01
PM]
BobLGGP60ftro6+vL9LT0+Ht7Y2QkBB88MEHsLS0xObNm9G6devGiJExxmrQO3nNmzcPd+/eBQAsWbIE//jHP9C
rVy80a9YM27ZtM3iAjDGmjUF+23jr1i04OjpqXeerqeExL8aaNl0/owaZpOrk5GSIZhhjTGcm9fMgxhirwsmLMWaSO
HkxxkwSJy/GmEnSe8C+6mnZj5JIJJDL5fDx8eFHoDHGGp3eyWvYsGGQSCR4dIZFVZlEIkHPnj2xe/duODo6GixQx
hirTu+vjfv370e3bt2wf/9+YYG//fv3IyQkBD/99BMOHz6MmzdvYvr06Y0RL2OMAWjAldeUKVOwefNmhIWFCWX
9+/eHXC7HhAkTcPbsWcTGxmLcuHEGDZQxxqrT+8orLy9P66xXe3t7nD9/HgDQpk0b3Lhx4/GjY4yxWuidvAIDAz
Fjxgxcv35dKLt+/TpmzpyJbt26AQBycnL4QReMsUal99fGL774AkOHDkXLli2FBFVQUIDWrVvjhx9+AACUlpZi3rx
5ho2UMcaqadAPszUaDX799VdkZ2cDANq1a4fIyEjRqqdNFf8wm7GmTdfPqFGfmG0MnLwYa9oadVWJhIQEJCQk
4Nq1a9BoNKJtX375ZUOaZIwxveidvBYvXowlS5YgKCgIbm5uJrGGF2Ps6aN38tq0aRPi4+MxevToxoiHMcZ0ovcIe0
VFhWiCKmOMGYPeyevNN9/Eli1bGiMWxhjTmd5fG8vKyrB582YcOHAAfn5+sLCwEG1fs2aNwYJjjLHa6J28Tp06
hYCAAADAmTNnRNt48J4x9qTonbwOHTrUGHEwxphemv6UeMYY00KnK68XX3wR8fHxsLe3x4svvlhn3Z07dxok
MMYYq4tOyUuhUAjjWQqFolEDYowxXfBvGxljTYqun1G9x7yWLVuGCxcuPFZwjDH2uPROXtu3b4ePjw/CwsKw
YcMGg6yYun79enh5eUEulyMkJATHjx/Xab+tW7dCIpFg2LBhjx0DY8y06J280tPTcerUKfTp0wcffvghWrRogUGDB
mHLli24d++e3gFs27YN06ZNw8KFC3HixAn4+/tDpVLh2rVrde538eJFTJ8+Hb169dK7T8aY6XvsMa/k5GRs2bIF27d
vR1lZGYqLi/XaPyQkBN26dcO6desAPFzo0MPDA++88w5mz56tdR+1Wo3evXtj3Lhx+O2333Dnzh3s3r1bp/54zIuxpq
3RxrweZWNjAysrK1haWuLBgwd67VtRUYHU1FRERET8LyAzM0RERCAlJaXW/ZYsWQIXFxe88cYb9fZRXl6O4
uJi0YsxZvoalLwuXLiA5cuXo1OnTggKCkJaWhoWL16MwsJCvdq5ceMG1Go1lEqlqFypVNba1pEjR/DFF1/gs88+06
mPmJgYKBQK4cUPBmHs6aD3z4O6d++OP/74A35+foiOjsaoUaPg7u7eGLHVUFJSgtGjR+Ozzz6Ds7OzTvvMmTM
H06ZNE94XFxdzAmPsKaB38urfvz++/PJLdOzY8bE7d3Z2hlQqxdWrV0XlV69ehaura436eXl5uHjxIgYPHiyUVS1Db
W5ujqysLDz33HOifWQyGWQy2WPHyhhrWvT62vjgwQNheoIhWFpaIjAwEAkJCUKZRqNBQkICQkNDa9Rv3749
Tp8+jZMnTwqvIUOGoG/fvjh58iRfUTH2DNHrysvCwgJlZWUGDWDatGkYO3YsgoKCEBwcjNjYWNy9exfR0dEA
gDFjxsDd3R0xMTGQy+Xw9fUV7e/g4AAANcoZY083vb82Tpo0CatWrcLnn38Oc/MGPXxIZOTIkbh+/ToWLFiAwsJ
CBAQEYN++fcIgfn5+vkk8D5Ix9mTpPc9r+PDhSEhIgK2tLTp37gwbGxvR9qa+qgTP82KsaWu05zY6ODjgpZdeeqzg
GGPscemdvOLi4hojDsYY00uDBpMqKytx4MABfPrppygpKQEAXL58GaWlpQYNjjHGaqP3ldelS5fw/PPPIz8/H+Xl
5YiMjISdnR1WrVqF8vJybNq0qTHiZIwxEb2vvKZMmYKgoCDcvn0bVlZWQnnVQD5jjD0Jel95/fbbbzh69CgsLS1F5
V5eXvj7778NFhhjjNVF7ysvjUYDtVpdo/yvv/6CnZ2dQYJijLH66J28BgwYgNjYWOG9RCJBaWkpFi5ciBdeeMGQsT
HGWK30nqT6119/QaVSgYiQk5ODoKAg5OTkwNnZGYcPH4aLi0tjxWoQPEmVsaZN189og1ZSraysxLZt25Ceno7S
0lJ07doVr732mmgAv6ni5MVY09aoycuUcfJirGlrtGWg/+///g979uwR3s+cORMODg4ICwvDpUuXGhYtY4zpSe/ktW
LFCuHrYUpKCtatW4cPPvgAzs7OmDp1qsEDZIwxbfSe51VQUAAfHx8AwO7du/Hyyy9jwoQJ6NGjB/r06WPo+BhjT
Cu9r7xsbW1x8+ZNAMCvv/6KyMhIAIBcLsf9+/cNGx1jjNVC7yuvyMhIvPnmm+jSpQuys7OFuV1nz56Fl5eXoeNjjD
Gt9L7yWr9+PUJDQ3H9+nV8//33aNasGQAgNTUVo0aNMniAjDGmDU+VYIw1KY36xOzffvsNr7/+OsLCwoQfY3/
99dc4cuRIw6JljDE96Z28vv/+e6hUKlhZWeHEiRMoLy8HABQVFWHFihUGD5AxxrTRO3ktW7YMmzZtwmeffQYL
CwuhvEePHjhx4oRBg2OMsdronbyysrLQu3fvGuUKhQJ37twxREyMMVYvvZOXq6srcnNza5QfOXIErVu3NkhQjDF
WH72T1/jx4zFlyhT8/vvvkEgkuHz5Mr755htMnz4db7/9dmPEyBhjNeg9SXX27NnQaDTo378/7t27h969e0Mmk2H69O
l45513GiNGxhirocHzvCoqKpCbm4vS0lJ07NgRtra2uH//fpNf04vneTHWtDXqPC8AsLS0RMeOHREcHAwLCwusWb
MG3t7eDW2OMcb0onPyKi8vx5w5cxAUFISwsDDs3r0bwMMnaHt7e+Pjjz/mJXEYY0+MzmNeCxYswKeffoqIiAgcP
XoUI0aMQHR0NI4dO4Y1a9ZgxIgRkEqljRkrY4wJdE5e27dvx1dffYUhQ4bgzJkz8PPzQ2VlJdLT0yGRSBozRsYYq0
Hnr41//fUXAgMDAQC+vr6QyWSYOnUqJy7GmFHonLzUarXoKdnm5uawtbU1SBDr16+Hl5cX5HI5QkJCcPz48Vrrf
vbZZ+jVqxccHR3h6OiIiIiIOuszxp5OOn9tJCJERUVBJpMBAMrKyvDWW2/BxsZGVG/nzp16BbBt2zZMmzYNmzZt
QkhICGJjY6FSqZCVlaX1GZCJiYkYNWoUwsLCIJfLsWrVKgwYMABnz56Fu7u7Xn0zxkyXzvO8oqOjdWowLi5Or
wBCQkLQrVs3rFu3DgCg0Wjg4eGBd955B7Nnz653f7VaDUdHR6xbtw5jxoyptz7P82KsadP1M6rzlZe+SUkXFRUVS
E1NxZw5c4QyMzMzREREICUlRac27t27hwcPHsDJyUnr9vLycmHZHuDhiWGMmb4GT1I1hBs3bkCtVkOpVIrKlU
olCgsLdWpj1qxZaNGiBSIiIrRuj4mJgUKhEF4eHh6PHTdjzPiMmrwe18qVK7F161bs2rULcrlca505c+agqKhIeBUUFD
zhKBljjUHvH2YbkrOzM6RSKa5evSoqv3r1KlxdXevc98MPP8TKlStx4MAB+Pn51VpPJpMJNxkYY08Po155WVpaIj
AwEAkJCUKZRqNBQkICQkNDa93vgw8+wNKlS7Fv3z4EBQU9iVAZY02MUa+8AGDatGkYO3YsgoKCEBwcjNj
YWNy9e1e4uzlmzBi4u7sjJiYGALBq1SosWLAAW7ZsgZeXlzA2Zmtra7B5Z4yxps/oyWvkyJG4fv06FixYgMLCQgQ
EBGDfvn3CIH5+fj7MzP53gbhx40ZUVFTg5ZdfFrWzcOFCLFq06EmGzhgzIn5uI2OsSWn09bwYY8yYOHkxxkwSJy
/GmEni5MUYM0mcvBhjJomTF2PMJHHyYoyZJE5ejDGTxMmLMWaSOHkxxkwSJy/GmEni5MUYM0mcvBhjJom
TF2PMJHHyYoyZJE5ejDGTxMmLMWaSOHkxxkwSJy/GmEni5MUYM0mcvBhjJomTF2PMJHHyYoyZJE5ejDGTx
MmLMWaSOHkxxkwSJy/GmEni5MUYM0mcvBhjJomTF2PMJHHyYoyZJHNjBwAA69evx+rVq1FYWAh/f3+sXbs
WwcHBtdbfvn075s+fj4sXL6JNmzZYtWoVXnjhBYPHtXz5cixcuBBqtfqx2jEzM4NMJoObmxtcXV0hl8thZmaG0tJSlJ
WV4ebNmygpKYFEIkFZWRnKy8shkUjg5eWFjRs34vjx4/h//+//wd3dHQMHDkRGRgYSEhLw4MEDWFpawsbGBs2
bN4eDgwOICG3btsUrr7yCNm3aIDs7G0lJSbh69SpcXV0RHh4OIkJSUhIkEgk8PT2hVqvh4+Mj1M/LyxPeA8Avv/yCj
Rs3oqSkBKNHj0ZUVBS++OILJCYmon///oiKigIA0b7V+wgPD9fatra+qqvaLpVKRTFqq1PVZ23t6VqvIeo7jsZm7P51
0SgxkpFt3bqVLC0t6csvv6SzZ8/S+PHjycHBga5evaq1fnJyMkmlUvrggw8oIyOD5s2bRxYWFnT69Gmd+isqKiIAVFR
Maurice B.ipynb.pdf[1/2/2024 11:21:01
PM]
UVGudhIQEAmDyL3t7e73qN2vWTPS+Z8+eOrVhbm5O3bt3r7OOk5NTnX2pVCq6desWERHdvHmTVCqV1naq6tV
VpyH1GkJb24/Tnqn1r4uGxKjLZ5SIyOjJKzg4mCZNmiS8V6vV1KJFC4qJidFa/5VXXqFBgwaJykJCQmjixIk69afLiZ
FIJEZPPM/aSyqVkkqlIiIilUpFUqm0znp11WlIvYbQ1vbjtGdq/euiITGaRPIqLy8nqVRKu3btEpWPGTOGhgwZonUfD
w8P+vjjj0VlCxYsID8/P631y8rKqKioSHgVFBTUeWKWLVtm9A/ys/z65ZdfjNJvdna2Xv92s7KyDNqevozdf2PGqGvy
MuqA/Y0bN6BWq6FUKkXlSqUShYWFWvcpLCzUq35MTAwUCoXw8vDwqDOmhIQEPY6AGdqxY8eM0m9ubq5
e9fPy8gzanr6M3b8uGjvGp/5u45w5c1BUVCS8CgoK6qzfv3//JxQZ06Z79+5G6dfHx0ev+s8995xB29OXsfvXRWPHa
NTk5ezsDKlUiqtXr4rKq+6MaePq6qpXfZlMBnt7e9GrLnPnzoVEItHjKJghSKVSqFQqDBgwACqVClKptM56ddVpS
D1974C1bdtWa9sNbU9fxu5fF40eY2N819VHcHAwTZ48WXivVqvJ3d29zgH7f/zjH6Ky0NBQgw7YJyUlGX3sxxCvx
73b2KtXL6Pcbbx161a9dxvrqtOQeg2hre0nebfP2P3roiEx6jrmJSEiqpnSnpxt27Zh7Nix+PTTTxEcHIzY2Fh89913yMz
MhFKpxJgxY+Du7o6YmBgAwNGjRxEeHo6VK1di0KBB2Lp1K1asWIETJ07A19e33v6Ki4uhUChQVFRU71XYypU
rMW/ePIPO83Jzc4NcLodUKkVJSQnKyspw48YNlJaWAoDWeV6pqanYvXu3MM8rMzMTBw4cQEVFRb3zvHJyco
R5XkqlEuHh4QCApKQkAECrVq1QWVkpzL/JyclBbm6uaD7O/v37sWHDBhQXFwvzvOLj45GQkCCa51V93+p9V
M3zerRtbX1VV7Xd3NxcFKO2OlV91taervUaor7jaGzG7l8X+sSo82fUoGm2gdauXUuenp5kaWlJwcHBdOzYMWFbe
Hg4jR07VlT/u+++o7Zt25KlpSV16tSJ9uzZo3NfumZ1xphxmMyV15Omz5UXY+zJ0/Uz+tTfbWSMPZ04eTHGTBInL
8aYSWoSq0o8SVVDfMXFxUaOhDGmTdVns77h+GcueZWUlABAvT8TYowZV0lJCRQKRa3bn7m7jRqNBpcvX4a
dnV2dM+mLi4vh4eGBgoICviupIz5n+uHzpR0RoaSkBC1atICZWe0jW8/clZeZmRlatmypc31dflLExPic6YfPV011XX
FV4QF7xphJ4uTFGDNJnLxqIZPJsHDhQshkMmOHYjL4nOmHz9fjeeYG7BljTwe+8mKMmSROXowxk8TJizFmkjh
5McZMEievWqxfvx5eXl6Qy+UICQnB8ePHjR3SE3H48GEMHjwYLVq0gEQiwe7du0XbiQgLFiyAm5sbrKysEBERg
ZycHFGdW7du4bXXXoO9vT0cHBzwxhtvCCvFVjl16hR69eoFuVwODw8PfPDBB419aI0iJiYG3bp1g52dHVxcXDBs
2DBkZWWJ6pSVlWHSpElo1qwZbG1t8dJLL9V4DkN+fj4GDRoEa2truLi4YMaMGaisrBTVSUxMRNeuXSGTyeDj4
4P4+PjGPrymrVGXRDRR+j7F+2myd+9emjt3Lu3cuZMA1Him5sqVK0mhUNDu3bspPT2dhgwZQt7e3nT//n2hzvPPP
0/+/v507Ngx+u2338jHx4dGjRolbC8qKiKlUkmvvfYanTlzhr799luysrKiTz/99EkdpsGoVCqKi4ujM2fO0MmTJ+mFF1
4gT09PKi0tFeq89dZb5OHhQQkJCfTnn39S9+7dKSwsTNheWVlJvr6+FBERQWlpabR3715ydnamOXPmCHXOnz9P
1tbWNG3aNMrIyKC1a9eSVCqlffv2PdHjbUo4eWmh71O8n1aPJi+NRkOurq60evVqoezOnTskk8no22+/JSKijIwMAk
B//PGHUOfnn38miURCf//9NxERbdiwgRwdHam8vFyoM2vWLGrXrl0jH1Hju3btGgGgpKQkInp4fiwsLGj79u1CnXP
nzhEASklJIaKH/2GYmZlRYWGhUGfjxo1kb28vnKOZM2dSp06dRH2NHDmyST0d+0njr42PqKioQGpqKiIiIoQyMz
MzREREICUlxYiRGd+FCxdQWFgoOjcKhQIhISHCuUlJSYGDgwOCgoKEOhERETAzM8Pvv/8u1OnduzcsLS2FOiq
VCllZWbh9+/YTOprGUVRUBABwcnICAKSmpuLBgweic9a+fXt4enqKzlnnzp1FD1NWqVQoLi7G2bNnhTrV26iq8y
z/m+Tk9YiGPMX7WVF1/HWdm8LCQri4uIi2m5ubw8nJSVRHWxvV+zBFGo0G7733Hnr06CE8yaqwsBCWlpZwcH
AQ1X30nNV3PmqrU1xcjPv37zfG4TR5z9yqEow1lkmTJuHMmTM4cuSIsUN5JvCV1yMa8hTvZ0XV8dd1blxdXXHt
2jXR9srKSty6dUtUR1sb1fswNZMnT8ZPP/2EQ4cOiZZccnV1RUVFBe7cuSOq/+g5q+981FbH3t4eVlZWhj4ck8DJ6x
GWlpYIDAxEQkKCUKbRaJCQkIDQ0FAjRmZ83t7ecHV1FZ2b4uJi/P7778K5CQ0NxZ07d5CamirUOXjwIDQaDUJ
CQoQ6hw8fxoMHD4Q6+/fvR7t27eDo6PiEjsYwiAiTJ0/Grl27cPDgQXh7e4u2BwYGwsLCQnTOsrKykJ+fLzpnp0+fF
iX9/fv3w97eHh07dhTqVG+jqs4z/W/S2HcMmqKtW7eSTCaj+Ph4ysjIoAkTJpCDg4PobtDTqqSkhNLS0igtLY0A0Jo1
aygtLY0uXbpERA+nSjg4ONAPP/xAp06doqFDh2qdKtGlSxf6/fff6ciRI9SmTRvRVIk7d+6QUqmk0aNH05kzZ2jr1q1k
bW1tklMl3n77bVIoFJSYmEhXrlwRXvfu3RPqvPXWW+Tp6UkHDx6kP//8k0JDQyk0NFTYXjVVYsCAAXTy5Enat2
8fNW/eXOtUiRkzZtC5c+do/fr1PFXC2AE0VXU9xftpdujQIQJQ41X11HKNRkPz588npVJJMpmM+vfvT1lZWaI2bt6
8SaNGjSJbW1uyt7en6OhoKikpEdVJT0+nnj17kkwmI3d3d1q5cuWTOkSD0nauAFBcXJxQ5/79+/Svf/2LHB0dydramo
YPH05XrlwRtXPx4kUaOHAgWVlZkbOzM73//vv04MEDUZ1Dhw5RQEAAWVpaUuvWrUV9PIt4SRzGmEniMS/G
mEni5MUYM0mcvBhjJomTF2PMJHHyYoyZJE5ejDGTxMmLMWaSOHkxxkwSJ68GuHjxIiQSCU6ePGnsUASZmZ
no3r075HI5AgICjB1OvbQtMd2YvLy8EBsb+8T6e5Ka+rElJiZCIpEIP06Pj4+vsURQQ5hk8oqKioJEIsHKlStF5bt374Z
EIjFSVMa1cOFC2NjYICsrq8YPeFnT09QTjikwyeQFAHK5HKtWrTL5lTerq6ioaPC+eXl56NmzJ1q1aoVmzZoZMCq
mKyKq8dAM1nhMNnlFRETA1dUVMTExtdZZtGhRja9QsbGx8PLyEt5HRUVh2LBhWLFiBZRKJRwcHLBkyRJUV
lZixowZcHJyQsuWLREXF1ej/czMTISFhUEul8PX1xdJSUmi7WfOnMHAgQNha2sLpVKJ0aNH48aNG8L2Pn36YPL
kyXjvvffg7OwMlUql9Tg0Gg2WLFmCli1bQiaTISAgAPv27RO2SyQSpKamYsmSJZBIJFi0aJHWdqr6mzx5MhQKBZ
ydnTF//nxU/3lreXk5pk+fDnd3d9jY2CAkJASJiYmidr7//nt06tQJMpkMXl5e+Oijj0Tbvby8sHTpUowaNQo2NjZwd3fH
+vXrtcZUpaCgAK+88gocHBzg5OSEoUOH4uLFi7XWDwoKwocffii8HzZsGCwsLISnFP3111+QSCTIzc0V6ty7dw/jx
o2DnZ0dPD09sXnzZlGbp0+fRr9+/WBlZYVmzZphwoQJNZ56VF3V16Gff/4ZgYGBkMlkOHLkCPLy8jB06FAolUrY
2tqiW7duOHDggLBfnz59cOnSJUydOhUSiUT0beHIkSPo1asXrKys4OHhgXfffRd3794Vtl+7dg2DBw+GlZUVvL298c
0339R5Xqt8/vnn6NChA+RyOdq3b48NGzYI28aNGwc/Pz+Ul5cDePifaJcuXTBmzBihTnJyMvr06QNra2s4OjpCpVIJF
w4ajQYxMTHw9vaGlZUV/P39sWPHDp3iqvLDDz+ga9eukMvlaN26NRYvXiz6j0AikeDzzz/H8OHDYW1tjTZt2pjm
kjhjx46loUOH0s6dO0kul1NBQQEREe3atYtQ7ZAWLlxI/v7+on0//vhjatWqlagtOzs7mjRpEmVmZtIXX3xBAEilUtHy
5cspOzubli5dShYWFkI/Fy5cIADUsmVL2rFjB2VkZNCbb75JdnZ2dOPGDSIiun37trCsyblz5+jEiRMUGRlJffv2FfoO
Dw8nW1tbmjFjBmVmZlJmZqbW412zZg3Z29vTt99+S5mZmTRz5kyysLCg7OxsIiK6cuUKderUid5//326cuVKjRUcH
Maurice B.ipynb.pdf[1/2/2024 11:21:01
PM]
u1vypQplJmZSf/973/J2tqaNm/eLNR58803KSwsjA4fPky5ubm0evVqkslkQl9//vknmZmZ0ZIlSygrK4vi4uLIyspKtMJB
q1atyM7OjmJiYigrK4v+85//kFQqpV9//VWog2oP96ioqKAOHTrQuHHj6NSpU5SRkUGvvvoqtWvXTvSQjuqmTZtG
gwYNIqKHK104OTmRs7Mz/fzzz0RE9N///pfc3d1FMTk5OdH69espJyeHYmJiyMzMTDjnpaWl5ObmRi+++CKdPn2a
EhISyNvbW1hNQ5uqFTj8/Pzo119/pdzcXLp58yadPHmSNm3aRKdPn6bs7GyaN28eyeVyYVmhmzdvUsuWLWnJkiX
CEjpERLm5uWRjY0Mff/wxZWdnU3JyMnXp0oWioqKEPgcOHEj+/v6UkpJCf/75J4WFhZGVlRV9/PHHtcb53//+l9zc
3Oj777+n8+fP0/fff09OTk4UHx9PRA+XQWrdujW99957REQ0ffp08vLyoqKiIiIiSktLI5lMRm+//TadPHmSzpw5Q2vX
rqXr168TEdGyZcuoffv2tG/fPsrLy6O4uDiSyWSUmJgoOk+3b98mIqK4uDhSKBRCfIcPHyZ7e3uKj4+nvLw8+vXXX
8nLy4sWLVok1Kn6vG3ZsoVycnLo3XffNc0lcaqSFxFR9+7dady4cUTU8OTVqlUrUqvVQlm7du2oV69ewvvKykqysb
ERnpBTlbyqL+Py4MEDatmyJa1atYqIiJYuXUoDBgwQ9V1QUEAAhCVkwsPDqUuXLvUeb4sWLWj58uWism7dut
G//vUv4b2/vz8tXLiwznbCw8OpQ4cOpNFohLJZs2ZRhw4diIjo0qVLJJVKhaf8VOnfv7+wttSrr75KkZGRou0zZsygjh0
7Cu9btWpFzz//vKjOyJEjaeDAgcL76snr66+/pnbt2oniKi8vJysrK/rll1+0HsuPP/5ICoWCKisr6eTJk+Tq6kpTpkyhWbN
mEdHDJPzqq6+KYnr99deF9xqNhlxcXGjjxo1ERLR582ZydHQUPbJsz549NZ7qU13Vh3L37t1at1fXqVMnWrt2rSieR
xPOG2+8QRMmTBCV/fbbb2RmZkb379+nrKwsAkDHjx8Xtlc9iaiu5PXcc8/Rli1bRGVLly4VrSl29OhRsrCwoPnz55O
5uTn99ttvwrZRo0ZRjx49tLZdVlZG1tbWdPTo0RrHUrWGW33Jq3///rRixQrR/l9//TW5ubkJ7wHQvHnzhPelpaVk8mv
Yr1q1Cv369cP06dMb3EanTp1gZva/b9BKpVJ4gAIASKVSNGvWrMbyxtVXsTQ3N0dQUBDOnTsHAEhPT8ehQ4dg
a2tbo7+8vDy0bdsWwMOVNutSXFyMy5cvo0ePHqLyHj16ID09Xccj/J/u3buLvqaEhobio48+glqtxunTp6FWq4XYqpS
XlwvjaOfOncPQoUNrxBIbGwu1Wg2pVCq0W11oaGitA9Tp6enIzc2FnZ2dqLysrAx5eXla9+nVqxdKSkqQlpaGo0ePIj
w8HH369BFu4iQlJWHGjBmiffz8/IQ/SyQS0ZLV586dg7+/P2xsbETHpdFokJWVVePhF9VVf1ISAJSWlmLRokXYs2
cPrly5gsrKSty/fx/5+fm1tlF1Hk6dOiX6KkhE0Gg0uHDhArKzs2Fubi76N9O+ffs679zdvXsXeXl5eOONNzB+/HihvLK
yEgqFQngfGhqK6dOnY+nSpZg1axZ69uwpbDt58iRGjBihtf3c3Fzcu3cPkZGRovKqr566SE9PR3JyMpYvXy6UqdVqlJ
WV4d69e7C2tgYg/vuzsbEx/Qdw9O7dGyqVCnPmzEFUVJRom5mZmWg8B4Bo6eEqFhYWovcSiURrmUaj0Tmu0tJ
SDB48GKtWraqxzc3NTfhz9Q+LsZWWlkIqlSI1NVVIQlW0JWFD9hsYGKh1/KZ58+Za93FwcIC/vz8SExORkpKCy
MhI9O7dGyNHjkR2djZycnIQHh4u2udx/05r8+jf4fTp07F//358+OGH8PHxgZWVFV5++eV6b8iUlpZi4sSJePfdd2ts8/T
0RHZ2tt6xVY3ZffbZZ8Iy3FWq/x1rNBokJydDKpWKxgkB1LlGflX7e/bsgbu7u2ibTCbTOcbFixfjxRdfrLFNLpcLf370
78/kkxcArFy5EgEBAWjXrp2ovHnz5igsLAQRCVcbhpybdezYMfTu3RvAw//JUlNTMXnyZABA165d8f3338PLywvm
5g0/zfb29mjRogWSk5NFH8bk5GQEBwfr3V7VsxOrH0ObNm0glUrRpUsXqNVqXLt2Db169dK6f4cOHZCcnCwqS0
5ORtu2bUUfhmPHjtXop0OHDlrb7Nq1K7Zt2wYXFxfY29vrfCzh4eE4dOgQjh8/juXLl8PJyQkdOnTA8uXL4ebmVuM
Ksi4dOnRAfHw87t69KySj5ORkmJmZ1fh3VZ/k5GRERUVh+PDhAB5+OB+9+WBpaQm1Wi0q69q1KzIyMuDj46O1
3fbt2wv/zrp16wbg4Xr4jz7cozqlUokWLVrg/PnzeO2112qtt3r1amRmZiIpKQkqlQpxcXGIjo4G8PCKJyEhAYsXL66xX
8eOHSGTyZCfn1/jPwtdde3aFVlZWbUed61q/aLchFUf86oyevRoksvlojGvjIwMkkgktHLlSsrNzaV169aRo6NjjTGvR9
sKDw+nKVOmiMqqj1FUjXl5enrSzp076dy5czRhwgSytbUVBjH//vtvat68Ob388st0/Phxys3NpX379lFUVBRVVlbW2
o82H3/8Mdnb29PWrVspMzOTZs2aJRqwJ9J9zMvW1pamTp1KmZmZtGXLFrKxsaFNmzYJdV577TXy8vISBnd///13
WrFiBf30009ERJSamioasI+Pj9c6YG9vb0+rVq2irKwsWrduXY311lFtzOvu3bvUpk0b6tOnDx0+fJjOnz9Phw4donfeeU
e4SaLN7t27SSqVkqurq1A2ZcoUkkql9M9//lNUV9sYU/VzdvfuXXJzc6OXXnqJTp8+TQcPHqTWrVvrNGBfNZZTZfj
w4RQQEEBpaWl08uRJGjx4MNnZ2Yn+riMjI2nIkCH0119/Cf9m0tPTycrKiiZNmkRpaWmUnZ1Nu3fvFj29ver5AMe
OHaM///yTevbsWe+A/WeffUZWVlb0ySefUFZWFp06dYq+/PJL+uijj4iI6MSJE2RpaUk//vgjERF9+umnZGdnR3l5eU
RElJWVRZaWlvT2229Teno6nTt3jjZs2CDEPXfuXGrWrBnFx8dTbm4upaam0n/+8x/hhkB9Y1779u0jc3NzWrRoEZ05
c4YyMjLo22+/pblz5wp1qv97EcpqPeImTFvCuXDhAllaWtKj+Xjjxo3k4eFBNjY2NGbMGFq+fLnBkteWLVsoODiYL
C0tqWPHjnTw4EHRPtnZ2TR8+HBycHAgKysrat++Pb333nvCwLSuyUutVtOiRYvI3d2dLCwsyN/fX7irVkXX5PWvf/
2L3nrrLbK3tydHR0f697//LRoor6iooAULFpCXlxdZWFiQm5sbDR8+nE6dOiXU2bFjB3Xs2JEsLCzI09OTVq9eXeNc
LV68mEaMGEHW1tbk6upKn3zyiajOo/8Yr1y5QmPGjCFnZ2eSyWTUunVrGj9+vHDHS5ubN2+SRCKhkSNHCmV
VN22qJ+SqmOpKXkREp06dor59+5JcLicnJycaP358rXduiWpPXhcuXKC+ffuSlZUVeXh40Lp162r8XaekpJCfnx/JZD
LRv9njx49TZGQk2drako2NDfn5+Ylu1ly5coUGDRpEMpmMPD096auvvtJ6bI/65ptvhPXvHR0dqXfv3rRz5066f/8+de
zYscaNgiFDhlBYWJjwH21iYiKFhYWRTCYjBwcHUqlUwnFrNBqKjY2ldu3akYWFBTVv3pxUKhUlJSVpPU+PJi+i
hwms6s6pvb09BQcHi+6Ca0tevIb9M6RPnz4ICAho9JndXl5eeO+99/Dee+81aj/s2Wayk1QZY882Tl6MMZPEXxsZYya
Jr7wYYyaJkxdjzCRx8mKMmSROXowxk8TJizFmkjh5McZMEicvxphJ4uTFGDNJ/x8WslL27+MH9gAAAABJRU5E
rkJggg==",
"text/plain": [
"<Figure size 300x300 with 1 Axes>"
]
},
"metadata": {},
"output_type": "display_data"
},
Maurice B.ipynb.pdf[1/2/2024 11:21:01
PM]
{
"data": {
"image/png":
"iVBORw0KGgoAAAANSUhEUgAAAS8AAAE8CAYAAACRnDftAAAAOXRFWHRTb2Z0d2FyZQBNYXRwbG9
0bGliIHZlcnNpb24zLjcuMSwgaHR0cHM6Ly9tYXRwbG90bGliLm9yZy/bCgiHAAAACXBIWXMAAA9hAAAPYQ
GoP6dpAAA5nklEQVR4nO3deVxUVf8H8M8wwAzrsAkIAkPigmwqCIEhpOBoZpotPmqKmGk9miiawpNLqQhaj1G
KmS3Yommamr8sl1AwcUERyY1VFExBcQFxAZk5vz98cR9HBpiBwZlL3/frNa+Xc+6593zPZebrXc6cK2CMMRBC
CM8Y6DoAQghpDUpehBBeouRFCOElSl6EEF6i5EUI4SVKXoQQXqLkRQjhJUpehBBeouRFCOElSl6k3V28eBECg
QDr16/XdSikA6HkRdps/fr1EAgEKl9xcXG6Dq/Nrl69iri4ODz//POwsLCAQCBAenq6rsP6xzPUdQCk41i8eDHc3d2V
yry9veHm5ob79+/DyMhIR5G1TX5+PpYvX45u3brBx8cHR44c0XVIBJS8iBYNHToUAQEBKpeJxeKnHM0jd+/ehZ
mZWZu24e/vjxs3bsDGxgZbt27Fa6+9pqXoSFvQaSNpd01d89qyZQt69eoFsVgMb29vbN++HRMnToRUKuXqpKenqz
xNU7XNiRMnwtzcHMXFxXjhhRdgYWGBcePGAQAUCgWSk5Ph5eUFsVgMBwcHTJ06Fbdu3WoxfgsLC9jY2LS2
+6Sd0JEX0ZqqqipUVlYqldnZ2amsu2vXLowePRo+Pj5ITEzErVu38Oabb8LZ2blNMdTX10Mmk+G5557Dxx9/DFNT
UwDA1KlTsX79ekRHR2PGjBkoKSnB6tWrkZOTg8zMTN6e0v6TUfIiWhMREdGorKnp4uLj4+Hs7IzMzEyYm5sDA
AYNGoTw8HC4ubm1Ooba2lq89tprSExM5MoOHTqEr776Chs2bMDYsWO58ueffx5DhgzBli1blMoJP1DyIlqTkpKC7
t27t1jvypUrOH36NP7zn/9wiQsAwsLC4OPjg+rq6jbF8c477yi937JlCyQSCSIjI5WODP39/WFubo4DBw5Q8uIhSl5Ea
wIDA5u8YP+4S5cuAQA8PDwaLfPw8MDJkydbHYOhoSG6dOmiVFZYWIiqqirY29urXOfatWutbo/oDiUvotcEAoH
KcrlcrrJcJBLBwED5PpRCoYC9vT02bNigcp1OnTq1LUiiE5S8yFPXcE2rqKio0bIny6ytrQEAt2/fVipvOHpTR9euXfH
HH3+gf//+MDEx0TBaoq9oqAR56pycnODt7Y3vvvsONTU1XHlGRgZOnz6tVNfNzQ1CoRAHDx5UKl+zZo3a7b3++
uuQy+VYsmRJo2X19fWNEiPhBzryIjqxbNkyjBgxAv3790d0dDRu3bqF1atXw9vbWymhSSQSvPbaa1i1ahUEAgG6du
2KX3/9VaPrVGFhYZg6dSoSExNx6tQpDB48GEZGRigsLMSWLVvw6aef4tVXX212G0uXLgUAnD17FgDw/fff49C
hQwCA+fPna9p9og2MkDZKTU1lANjx48dVLi8pKWEAWGpqqlL5pk2bWM+ePZlIJGLe3t5s586d7JVXXmE9e/ZUq
nf9+nX2yiuvMFNTU2Ztbc2mTp3Kzpw502ibUVFRzMzMrMk4161bx/z9/ZmJiQmzsLBgPj4+bO7cuezKlSst9hFAky+i
GwLG6LmNRH/07t0bnTp1wr59+3QdCtFzdM2L6MTDhw9RX1+vVJaeno7c3FyEh4frJijCK3TkRXTi4sWLiIiIwBtvv
AEnJyfk5eVh7dq1kEgkOHPmDGxtbXUdItFzdMGe6IS1tTX8/f3x1Vdf4fr16zAzM8OwYcOQlJREiYuohY68CCG8R
Ne8CCG8RMmLEMJL/7hrXgqFAleuXOHmIieE6BfGGO7cuQMnJ6dGv1N93D8ueV25cgUuLi66DoMQ0oKysrJGM
4Q87h+XvCwsLAA82jGWlpY6joYQ8qTq6mq4uLhw39Wm/OOSV8OpoqWlJSUvQvRYS5d16II9IYSXKHkRQniJkh
chhJd0es3r4MGD+Oijj5CdnY2rV69i+/btGDlyZLPrpKenIzY2FmfPnoWLiwvmz5+PiRMntkt8T55zGxkZwczMjJu8Ti
QSwcvLC5cuXcKNGzcgEAhgbGwMLy8vDBgwAPv378fDhw9x//59DBw4ECEhIUhPT8e9e/dw69Yt9O3bF4MGDY
KHhwcOHjyI9PR0DBo0iOtPQkIC0tLSIJVKIZVKERwcDDc3NxQXF0MoFEIul8PDwwM//fQT0tLSMHjwYMTFxan
sS0FBAYqLi+Hh4YFu3bppvLyt9dtCn2MjOqTD6XjYb7/9xt5//322bds2BoBt37692foXLlxgpqamLDY2lp07d46tWrW
KCYVCtnv3brXbrKqqYgBYVVVVk3WcnJyanb+pvV9CobDV6woEApaRkcH15caNG0wmkynVkclk7ObNm2otf5K
m9dtCn2Mj7Ued7yhjjOnNTGrqJK+5c+cyLy8vpbLRo0czmUymdjvq7BhdJi5tvAQCAdcXmUzWKBkKhUJun7W0/E
ma1m8LfY6NtJ8OmbxCQ0NZTEyMUtk333zDLC0tm1znwYMHrKqqinuVlZU1u2N0nXi09UpMTGT5+fnN1tmzZ0+
zywsKCpT2TUvbe7J+W2ja1tOMjbQvdZMXry7Yl5eXw8HBQanMwcEB1dXVuH//vsp1EhMTIZFIuNc/ZXT93r17U
Vxc3Gydo0ePNrv8ySf5tLQ9VU8Dai1N23qasRH9wKvk1Rrx8fGoqqriXmVlZboO6akYPHgwunbt2mydZ599ttnlTz4U
tqXtqXqIbGtp2tbTjI3oB14lL0dHR1RUVCiVVVRUwNLSssnn8YlEIm40vTqj6lkHmN5MIBAgLi4O3bt3h0wmg1Ao
VFouFAohk8kwePDgZpc/eaeupe1p886epm09zdiInng6Z7EtgxrXvObOncu8vb2VysaMGaP1C/ZSqVSn16u0ebfx5s2bz
d6Ba2n5kzSt3xb6HBtpP+pe89LpTKo1NTXctYg+ffpg5cqVeP7552FjYwNXV1fEx8fj77//xnfffQcAKCkpgbe3N6ZNm
4ZJkyZh//79mDFjBnbt2gWZTKZWm9XV1ZBIJKiqqmrxKEzVOC9zc3PcunULwP/GeZWWlqKyslJpnNfzzz+Pffv2ob
6+Hvfu3cPAgQMRGhqKtLQ03L9/Hzdv3lQa55WZmYm0tDSlcV5JSUnYu3cv3N3d4ebmhuDgYEilUhQVFcHQ0BD
19fXw8PDAzz//jL179zY7zquwsBBFRUVNjn1qaXlb67eFPsdGtE/t7+hTSaVNOHDggMqjh6ioKMbYo+fwhYWFNVq
nd+/ezNjYmD3zzDONngXYEnWzOiFEN3hx5KULmhx5EUKePnW/o7y6YE8IIQ0oeRFCeImSFyGElyh5EUJ4iZIXI
YSXKHkRQniJkhchhJcoeRFCeImSFyGElyh5EUJ4iZIXIYSXKHkRQniJkhchhJcoeRFCeImSFyGElyh5EUJ4iZIXIYS
XKHkRQniJkhchhJcoeRFCeImSFyGElyh5EUJ4iZIXIYSXKHkRQniJkhchhJcoeRFCeImSFyGElyh5EUJ4iZIXIYSXK
HkRQniJkhchhJd0nrxSUlIglUohFosRFBSErKysZusnJyejR48eMDExgYuLC2bNmoUHDx48pWgJIfpCp8lr8+bNiI2Nx
aJFi3Dy5En4+flBJpPh2rVrKutv3LgRcXFxWLRoEc6fP4+vv/4amzdvxn/+85+nHDkhRNd0mrxWrlyJt956C9HR0ejVq
xfWrl0LU1NTfPPNNyrrHz58GP3798fYsWMhlUoxePBgjBkzpsWjNUJIx6Oz5FVXV4fs7GxERET8LxgDA0RERODI
kSMq1wkJCUF2djaXrC5cuIDffvsNL7zwQpPt1NbWorq6WulFCOE/Q101XFlZCblcDgcHB6VyBwcH5OXlqVxn7Nix
qKysxHPPPQfGGOrr6/H22283e9qYmJiIDz/8UKuxE0J0T+cX7DWRnp6OZcuWYc2aNTh58iS2bduGXbt2YcmSJU2u
Ex8fj6qqKu5VVlb2FCMmhLQXnR152dnZQSgUoqKiQqm8oqICjo6OKtdZsGABxo8fj8mTJwMAfHx8cPfuXUyZMg
Xvv/8+DAwa52KRSASRSKT9DhBCdEpnR17Gxsbw9/dHWloaV6ZQKJCWlobg4GCV69y7d69RghIKhQAAxlj7BUs
I0Ts6O/ICgNjYWERFRSEgIACBgYFITk7G3bt3ER0dDQCYMGECnJ2dkZiYCAAYPnw4Vq5ciT59+iAoKAhFRUV
YsGABhg8fziUxQsg/Q6uSV3FxMVJTU1FcXIxPP/0U9vb2+P333+Hq6govLy+1tzN69Ghcv34dCxcuRHl5OXr37o3du
Maurice B.ipynb.pdf[1/2/2024 11:21:01
PM]
3dzF/FLS0uVjrTmz58PgUCA+fPn4++//0anTp0wfPhwJCQktKYbhBAeEzANz7cyMjIwdOhQ9O/fHwcPHsT58+fxzD
PPICkpCSdOnMDWrVvbK1atqK6uhkQiQVVVFSwtLXUdDiHkCep+RzW+5hUXF4elS5di3759MDY25soHDhyIo0e
Pti5aQgjRkMbJ6/Tp03j55Zcbldvb26OyslIrQRFCSEs0Tl5WVla4evVqo/KcnBw4OztrJShCCGmJxsnrX//6F+bNm4fy8
nIIBAIoFApkZmZizpw5mDBhQnvESAghjWicvJYtW4aePXvCxcUFNTU16NWrFwYMGICQkBDMnz+/PWIkhJBG
NL7b2KC0tBRnzpxBTU0N+vTpg27dumk7tnZBdxsJ0W/qfkdbPUjV1dUVrq6urV2dEELaRK3kFRsbq/YGV65c2epgC
CFEXWolr5ycHLU2JhAI2hQMIYSoS63kdeDAgfaOgxBCNNKmWSXKyspofixCiE5onLzq6+uxYMECSCQSSKVSS
KVSSCQSzJ8/Hw8fPmyPGAkhpBGN7za+++672LZtG1asWMHNu3XkyBF88MEHuHHjBj7//HOtB0kIIU/SeJyXRCL
Bpk2bMHToUKXy3377DWPGjEFVVZVWA9Q2GudFiH5rt1klRCIRpFJpo3J3d3elWSYIIaQ9aZy8pk+fjiVLlqC2tpY
rq62tRUJCAqZPn67V4AghpClqXfMaNWqU0vs//vgDXbp0gZ+fHwAgNzcXdXV1GDRokPYjJIQQFdRKXhKJROn9
K6+8ovTexcVFexERQoga1Epeqamp7R0HIYRohFcPnSWEkAatmlVi69at+Omnn1BaWoq6ujqlZSdPntRKYIQQ0hyNj
7w+++wzREdHw8HBATk5OQgMDIStrS0uXLjQaOwXIYS0F42T15o1a7Bu3TqsWrUKxsbGmDt3Lvbt24cZM2bo/Q
BVQkjHoXHyKi0tRUhICADAxMQEd+7cAQCMHz8eP/74o3ajI4SQJmicvBwdHXHz5k0Aj2ZTbXhWY0lJCVo5ozQ
hhGhM4+Q1cOBA7Ny5EwAQHR2NWbNmITIyEqNHj1b5PEdCCGkPGv8wW6FQQKFQwNDw0Y3KTZs24fDhw+
jWrRumTp2q979vpB9mE6Lf1P2Oapy8SktL4eLi0mjKZ8YYysrK9P6hHJS8CNFv7TarhLu7O65fv96o/ObNm3B3d9d0
c4QQ0ioaJy/GmMoHbdTU1EAsFmslKEIIaYnaI+wbHn8mEAiwYMECmJqacsvkcjmOHTuG3r17az1AQghRRe0jr5yc
HOTk5IAxhtOnT3Pvc3JykJeXBz8/P6xfv17jAFJSUiCVSiEWixEUFISsrKxm69++fRvTpk1D586dIRKJ0L17d/z2228at
0sI4Te1j7waHn8WHR2NTz/9VCsXuzdv3ozY2FisXbsWQUFBSE5OhkwmQ35+Puzt7RvVr6urQ2RkJOzt7bF161Y4O
zvj0qVLsLKyanMshBB+0fhuozYFBQWhX79+WL16NYBHwzBcXFzw7rvvIi4urlH9tWvX4qOPPkJeXh6MjIxa1Sbdb
SREv7Xb3UZtqaurQ3Z2NiIiIv4XjIEBIiIicOTIEZXr7Ny5E8HBwZg2bRocHBzg7e2NZcuWQS6XN9lObW0tqqurlV6
EEP7TWfKqrKyEXC6Hg4ODUrmDgwPKy8tVrnPhwgVs3boVcrkcv/32GxYsWID//ve/WLp0aZPtJCYmQiKRcC+a9
ZWQjoFXkxEqFArY29tj3bp18Pf3x+jRo/H+++9j7dq1Ta4THx+Pqqoq7kVP+CakY2jVZITaYGdnB6FQiIqKCqXyioo
KODo6qlync+fOMDIyglAo5Mo8PT1RXl6Ouro6lT9NEolEEIlE2g2eEKJzrU5e586dUzmT6ksvvaTW+sbGxvD390da
WhpGjhwJ4NGRVVpaWpOPUOvfvz82btwIhUIBA4NHB40FBQXo3Lmz3v+mkhCiZUxDxcXFzNfXlwkEAmZgYM
AEAgH3bwMDA422tWnTJiYSidj69evZuXPn2JQpU5iVlRUrLy9njDE2fvx4FhcXx9UvLS1lFhYWbPr06Sw/P5/9+uu
vzN7eni1dulTtNquqqhgAVlVVpVGshJCnQ93vqMZHXjExMXB3d0daWhrc3d2RlZWFGzduYPbs2fj444812tbo0aNx/
fp1LFy4EOXl5ejduzd2797NXcQvLS3ljrCAR49Y27NnD2bNmgVfX184OzsjJiYG8+bN07QbhBCe03icl52dHfbv3w9f
X19IJBJkZWWhR48e2L9/P2bPno2cnJz2ilUraJwXIfqt3cZ5yeVyWFhYAHiUyK5cuQIAcHNzQ35+fivDJYQQzWh82
ujt7Y3c3Fy4u7sjKCgIK1asgLGxMdatW4dnnnmmPWIkhJBGNE5e8+fPx927dwEAixcvxosvvojQ0FDY2tpi8+bNWg+
QEEJU0cpvG2/evAlra2uV83zpG7rmRYh+U/c7qpVBqjY2NtrYDCGEqI1XPw8ihJAGlLwIIbxEyYsQwkuUvAghvKT
xBfuGp2U/SSAQQCwWw8PDgx6BRghpdxonr5EjR0IgEODJERYNZQKBAM899xx27NgBa2trrQVKCCGP0/i0cd++
fejXrx/27dvHTfC3b98+BAUF4ddff8XBgwdx48YNzJkzpz3iJYQQAK048oqJicG6desQEhLClQ0aNAhisRhTpkzB2bN
nkZycjEmTJmk1UEIIeZzGR17FxcUqR71aWlriwoULAIBu3bqhsrKy7dERQkgTNE5e/v7+eO+993D9+nWu7Pr165g7
dy769esHACgsLKQHXRBC2pXGp41ff/01RowYgS5dunAJqqysDM888wx++eUXAEBNTQ3mz5+v3UgJIeQxrfphtk
KhwN69e1FQUAAA6NGjByIjI5VmPdVX9MNsQvSbut9RnT4xWxcoeRGi39p1Vom0tDSkpaXh2rVrUCgUSsu++eab
1mySEEI0onHy+vDDD7F48WIEBASgc+fOvJjDixDS8WicvNauXYv169dj/Pjx7REPIYSoReMr7HV1dUoDVAkhRBc
0Tl6TJ0/Gxo0b2yMWQghRm8anjQ8ePMC6devwxx9/wNfXF0ZGRkrLV65cqbXgCCGkKRonr7/++gu9e/cGAJw5c0Z
pGV28J4Q8LRonrwMHDrRHHIQQohH9HxJPCCEqqHXkNWrUKKxfvx6WlpYYNWpUs3W3bdumlcAIIaQ5aiUviU
TCXc+SSCTtGhAhhKiDfttICNEr6n5HNb7mtXTpUpSUlLQpOEIIaSuNk9eWLVvg4eGBkJAQrFmzRiszpqakpEAqlU
IsFiMoKAhZWVlqrbdp0yYIBAKMHDmyzTEQQvhF4+SVm5uLv/76C+Hh4fj444/h5OSEYcOGYePGjbh3757GAWz
evBmxsbFYtGgRTp48CT8/P8hkMly7dq3Z9S5evIg5c+YgNDRU4zYJIfzX5mtemZmZ2LhxI7Zs2YIHDx6gurpao/WD
goLQr18/rF69GsCjiQ5dXFzw7rvvIi4uTuU6crkcAwYMwKRJk/Dnn3/i9u3b2LFjh1rt0TUvQvRbu13zepKZmRlMTExg
bGyMhw8farRuXV0dsrOzERER8b+ADAwQERGBI0eONLne4sWLYW9vjzfffLPFNmpra1FdXa30IoTwX6uSV0lJC
RISEuDl5YWAgADk5OTgww8/RHl5uUbbqayshFwuh4ODg1K5g4NDk9s6dOgQvv76a3z55ZdqtZGYmAiJRMK96M
EghHQMGv886Nlnn8Xx48fh6+uL6OhojBkzBs7Ozu0RWyN37tzB+PHj8eWXX8LOzk6tdeLj4xEbG8u9r66upgRGSA
egcfIaNGgQvvnmG/Tq1avNjdvZ2UEoFKKiokKpvKKiAo6Ojo3qFxcX4+LFixg+fDhX1jANtaGhIfLz89G1a1eldUQiE
UQiUZtjJYToF41OGx8+fMgNT9AGY2Nj+Pv7Iy0tjStTKBRIS0tDcHBwo/o9e/bE6dOncerUKe710ksv4fnnn8epU6foi
IqQfxCNjryMjIzw4MEDrQYQGxuLqKgoBAQEIDAwEMnJybh79y6io6MBABMmTICzszMSExMhFovh7e2ttL6VlR
UANConhHRsGp82Tps2DcuXL8dXX30FQ8NWPXxIyejRo3H9+nUsXLgQ5eXl6N27N3bv3s1dxC8tLeXF8yAJIU+X
xuO8Xn75ZaSlpcHc3Bw+Pj4wMzNTWq7vs0rQOC9C9Fu7PbfRysoKr7zySpuCI4SQttI4eaWmprZHHIQQopFWXUy
qr6/HH3/8gS+++AJ37twBAFy5cgU1NTVaDY4QQpqi8ZHXpUuXMGTIEJSWlqK2thaRkZGwsLDA8uXLUVtbi7Vr1
7ZHnIQQokTjI6+YmBgEBATg1q1bMDEx4cobLuQTQsjToPGR159//onDhw/D2NhYqVwqleLvv//WWmCEENIcjY+
8FAoF5HJ5o/LLly/DwsJCK0ERQkhLNE5egwcPRnJyMvdeIBCgpqYGixYtwgsvvKDN2AghpEkaD1K9fPkyZDIZGG
MoLCxEQEAACgsLYWdnh4MHD8Le3r69YtUKGqRKiH5T9zvaqplU6+vrsXnzZuTm5qKmpgZ9+/bFuHHjlC7g6ytK
XoTot3ZNXnxGyYsQ/dZu00B/++232LVrF/d+7ty5sLKyQkhICC5dutS6aAkhREMaJ69ly5Zxp4dHjhzB6tWrsWLFCtj
Maurice B.ipynb.pdf[1/2/2024 11:21:01
PM]
Z2WHWrFlaD5AQQlTReJxXWVkZPDw8AAA7duzAq6++iilTpqB///4IDw/XdnyEEKKSxkde5ubmuHHjBgBg7969iI
yMBACIxWLcv39fu9ERQkgTND7yioyMxOTJk9GnTx8UFBRwY7vOnj0LqVSq7fgIIUQljY+8UlJSEBwcjOvXr+Pnn
3+Gra0tACA7OxtjxozReoCEEKIKDZUghOiVdn1i9p9//ok33ngDISEh3I+xv//+exw6dKh10RJCiIY0Tl4///wzZDIZTEx
McPLkSdTW1gIAqqqqsGzZMq0HSAghqmicvJYuXYq1a9fiyy+/hJGREVfev39/nDx5UqvBEUJIUzROXvn5+RgwYE
CjcolEgtu3b2sjJkIIaZHGycvR0RFFRUWNyg8dOoRnnnlGK0ERQkhLNE5eb731FmJiYnDs2DEIBAJcuXIFGzZswJw
5c/DOO++0R4yEENKIxoNU4+LioFAoMGjQINy7dw8DBgyASCTCnDlz8O6777ZHjIQQ0kirx3nV1dWhqKgINTU16
NWrF8zNzXH//n29n9OLxnkRot/adZwXABgbG6NXr14IDAyEkZERVq5cCXd399ZujhBCNKJ28qqtrUV8fDwCAgIQ
EhKCHTt2AHj0BG13d3d88sknNCUOIeSpUfua18KFC/HFF18gIiIChw8fxmuvvYbo6GgcPXoUK1euxGuvvQahUNies
RJCCEft5LVlyxZ89913eOmll3DmzBn4+vqivr4eubm5EAgE7RkjIYQ0ovZp4+XLl+Hv7w8A8Pb2hkgkwqxZsyhxEUJ
0Qu3kJZfLlZ6SbWhoCHNzc60EkZKSAqlUCrFYjKCgIGRlZTVZ98svv0RoaCisra1hbW2NiIiIZusTQjomtU8bGWOY
OHEiRCIRAODBgwd4++23YWZmplRv27ZtGgWwefNmxMbGYu3atQgKCkJycjJkMhny8/NVPgMyPT0dY8aMQUh
ICMRiMZYvX47Bgwfj7NmzcHZ21qhtQgh/qT3OKzo6Wq0NpqamahRAUFAQ+vXrh9WrVwMAFAoFXFxc8O677yI
uLq7F9eVyOaytrbF69WpMmDChxfo0zosQ/abud1TtIy9Nk5I66urqkJ2djfj4eK7MwMAAEREROHLkiFrbuHfvHh4+f
AgbGxuVy2tra7lpe4BHO4YQwn+tHqSqDZWVlZDL5XBwcFAqd3BwQHl5uVrbmDdvHpycnBAREaFyeWJiIiQSCf
dycXFpc9yEEN3TafJqq6SkJGzatAnbt2+HWCxWWSc+Ph5VVVXcq6ys7ClHSQhpDxr/MFub7OzsIBQKUVFRoVRe
UVEBR0fHZtf9+OOPkZSUhD/++AO+vr5N1hOJRNxNBkJIx6HTIy9jY2P4+/sjLS2NK1MoFEhLS0NwcHCT661YsQ
JLlizB7t27ERAQ8DRCJYToGZ0eeQFAbGwsoqKiEBAQgMDAQCQnJ+Pu3bvc3c0JEybA2dkZiYmJAIDly5dj4cKF2
LhxI6RSKXdtzNzcXGvjzggh+k/nyWv06NG4fv06Fi5ciPLycvTu3Ru7d+/mLuKXlpbCwOB/B4iff/456urq8OqrryptZ9
GiRfjggw+eZuiEEB2i5zYSQvRKu8/nRQghukTJixDCS5S8CCG8RMmLEMJLlLwIIbxEyYsQwkuUvAghvETJixDCS
5S8CCG8RMmLEMJLlLwIIbxEyYsQwkuUvAghvETJixDCS5S8CCG8RMmLEMJLlLwIIbxEyYsQwkuUvAghvETJi
xDCS5S8CCG8RMmLEMJLlLwIIbxEyYsQwkuUvAghvETJixDCS5S8CCG8RMmLEMJLlLwIIbxEyYsQwkuUvAgh
vGSo6wAAICUlBR999BHKy8vh5+eHVatWITAwsMn6W7ZswYIFC3Dx4kV069YNy5cvxwsvvKD1uAQCgVp1GG
NKZdbW1mCM4fbt2wAAQ0NDdO/eHRKJBLm5uTA0NIRAIIClpSWsra0RGRmJtLQ0nD9/HiKRCGKxGKGhoRg6
dCjS09Ph5eUFPz8/eHh4ICEhARkZGXB2doa7uzsGDRqEkJAQFBcXIycnB+fPn2+ybOLEiQCAPXv24NixYwgODkZ
kZCQAoKCgAMXFxbh69SouX76stOxxDfWEQiHkcjk8PDzQrVu3JvdPQ/2W6jV4PDY3NzeN1tW0fU1j6yg0/Rtqs02
ttsV0bNOmTczY2Jh988037OzZs+ytt95iVlZWrKKiQmX9zMxMJhQK2YoVK9i5c+fY/PnzmZGRETt9+rRa7VVVVT
EArKqqqsk6ADrky9DQkFlaWiqVWVtbswEDBqisb2tryy5cuMAYY+zGjRtMJpOprCeTydjNmzeV9qGq+qrqNSgqK
mK2trZNxt7cuqo0176msXUUmv4N26vNltpS5zvKGGM6T16BgYFs2rRp3Hu5XM6cnJxYYmKiyvqvv/46GzZsmFJZ
UFAQmzp1qlrt/ZOTV2tetra2jDHGZDIZEwqFKusIhUImk8mU9qGq+qrqNWgucbW0rirNta9pbB2Fpn/D9mqzpbZ4kb
xqa2uZUChk27dvVyqfMGECe+mll1Su4+Liwj755BOlsoULFzJfX1+V9R88eMCqqqq4V1lZWbM7RtfJQh9f33zzjVr1
CgoKGGOM5efnq1Wvwe7du9WO5cl1VWmp/bZun4/U3Sfa7L+mn4MG6iYvnV6wr6yshFwuh4ODg1K5g4MDysvL
Va5TXl6uUf3ExERIJBLu5eLiop3g/0H279+vVr2ioiIAQHFxsVr1Ghw7dkztWJ5cV5WW2m/r9vlI3X2izf5r+jnQVIe/2x
gfH4+qqiruVVZWpuuQeGfgwIFq1fPw8AAAdO3aVa16DYKCgtSO5cl1VWmp/bZun4/U3Sfa7L+mnwNN6TR52dnZ
QSgUoqKiQqm8oqICjo6OKtdxdHTUqL5IJIKlpaXSqznsiTuH/3S2traIjo6GTCaDUChUWUcoFEImk3F3kbp3766y/pP
1GshkMtja2jYbR1PrqtJS+5rE1lE0tU8atEf/Nf0caExrJ7itFBgYyKZPn869l8vlzNnZudkL9i+++KJSWXBwMF2wV+PV
lruNN2/e1OhOlar6zd1lunDhglbvNjbXvqaxdRSa/g3bq01t3W0UMKbbQ43NmzcjKioKX3zxBQIDA5GcnIyffvoJeXl5c
HBwwIQJE+Ds7IzExEQAwOHDhxEWFoakpCQMGzYMmzZtwrJly3Dy5El4e3u32F51dTUkEgmqqqpaPApryzgvAL
h16xaA/43zsra2Rk5OjspxXgcOHMDZs2eVxnm9+OKLSEtLUxrnlZSUhP379yuN8+rfvz+KioqQm5uLs2fPNlnWMM5
r3759OHLkiNJYrsLCQhQVFaGiogKlpaVNjvNqqGdoaIj6+voWx+001Fd3fM/jsUmlUo3W1bR9TWPrKDT9G2qzTX
XaUvs7qtU020qrVq1irq6uzNjYmAUGBrKjR49yy8LCwlhUVJRS/Z9++ol1796dGRsbMy8vL7Zr1y6121I3qxNCdIM3
R15PmyZHXoSQp0/d72iHv9tICOmYKHkRQniJkhchhJf0YlaJp6nhEl91dbWOIyGEqNLw3Wzpcvw/LnnduXMHAOh
nQoTouTt37kAikTS5/B93t1GhUODKlSuwsLBocRxXdXU1XFxcUFZWxts7k9QH/UB9UB9jDHfu3IGTkxMMDJq+s
vWPO/IyMDBAly5dNFpHnZ8V6Tvqg36gPqinuSOuBnTBnhDCS5S8CCG8RMmrGSKRCIsWLYJIJNJ1KK1GfdAP1
Aft+8ddsCeEdAx05EUI4SVKXoQQXqLkRQjhJUpehBBeouTVhJSUFEilUojFYgQFBSErK0vXITUpMTER/fr1g4WF
Bezt7TFy5Ejk5+cr1Xnw4AGmTZsGW1tbmJub45VXXmn0LAB9kpSUBIFAgJkzZ3JlfOjD33//jTfeeAO2trYwMTGBj
48PTpw4wS1njGHhwoXo3LkzTExMEBERgcLCQh1G3JhcLseCBQvg7u4OExMTdO3aFUuWLFH6raFe9KMdJ0TkL
U2f4q1rMpmMpaamsjNnzrBTp06xF154gbm6urKamhquzttvv81cXFxYWloaO3HiBHv22WdZSEiIDqNuWlZWFpNK
pczX15fFxMRw5freh5s3bzI3Nzc2ceJEduzYMXbhwgW2Z88eVlRUxNVJSkpiEomE7dixg+Xm5rKXXnqJubu7s/v37+
swcmUJCQnM1taW/frrr6ykpIRt2bKFmZubs08//ZSrow/9oOSlgqZP8dY3165dYwBYRkYGY4yx27dvMyMjI7Zlyxauz
vnz5xkAduTIEV2FqdKdO3dYt27d2L59+1hYWBiXvPjQh3nz5rHnnnuuyeUKhYI5Ojqyjz76iCu7ffs2E4lE7Mcff3waIa
pl2LBhbNKkSUplo0aNYuPGjWOM6U8/6LTxCXV1dcjOzkZERARXZmBggIiICBw5ckSHkamvqqoKAGBjYwMAy
M7OxsOHD5X61LNnT7i6uupdn6ZNm4Zhw4YpxQrwow87d+5EQEAAXnvtNdjb26NPnz748ssvueUlJSUoLy9X6oN
EIkFQUJDe9AEAQkJCkJaWhoKCAgBAbm4uDh06hKFDhwLQn378436Y3ZLmnuKdl5eno6jUp1AoMHPmTPTv359
7mlJ5eTmMjY1hZWWlVLe5J43rwqZNm3Dy5EkcP3680TI+9OHChQv4/PPPERsbi//85z84fvw4ZsyYAWNjY0RFRX
Maurice B.ipynb.pdf[1/2/2024 11:21:01
PM]
FxavLEd12Ii4tDdXU1evbsCaFQCLlcjoSEBIwbNw4A9KYflLw6mGnTpuHMmTM4dOiQrkPRSFlZGWJiYrBv3z6Ix
WJdh9MqCoUCAQEBWLZsGQCgT58+OHPmDNauXYuoqCgdR6e+n376CRs2bMDGjRvh5eWFU6dOYebMmXBy
ctKrftBp4xNa8xRvfTF9+nT8+uuvOHDggNK0P46Ojqirq8Pt27eV6utTn7Kzs3Ht2jX07dsXhoaGMDQ0REZGBj777D
MYGhrCwcFB7/vQuXNn9OrVS6nM09MTpaWlAMDFqe+frffeew9xcXH417/+BR8fH4wfPx6zZs3inp2qL/2g5PUEY
2Nj+Pv7Iy0tjStTKBRIS0tDcHCwDiNrGmMM06dPx/bt27F//364u7srLff394eRkZFSn/Lz87mHy+qDQYMG4fTp0zh1
6hT3CggIwLhx47h/63sf+vfv32iISkFBAdzc3AAA7u7ucHR0VOpDdXU1jh07pjd9AIB79+41mgRQKBRCoVAA0KN
+PLVbAzyyadMmJhKJ2Pr169m5c+fYlClTmJWVFSsvL9d1aCq98847TCKRsPT0dHb16lXude/ePa7O22+/zVxdXdn+/
fvZiRMnWHBwMAsODtZh1C17/G4jY/rfh6ysLGZoaMgSEhJYYWEh27BhAzM1NWU//PADVycpKYlZWVmxX37
5hf31119sxIgRejdUIioqijk7O3NDJbZt28bs7OzY3LlzuTr60A9KXk1o7ine+gaAyldqaipX5/79++zf//43s7a2Zqampuzll1
9mV69e1V3QangyefGhD//3f//HvL29mUgkYj179mTr1q1TWq5QKNiCBQuYg4MDE4lEbNCgQSw/P19H0apWXV3
NYmJimKurKxOLxeyZZ55h77//PqutreXq6EM/aEocQggv0TUvQggvUfIihPASJS9CCC9R8iKE8BIlL0IIL1HyIoTwEi
UvQggvUfIihPASJS8tunjxIgQCAU6dOqXrUDh5eXl49tlnIRaL0bt3b12H0yKBQIAdO3Y8tfakUimSk5OfWntPkz70bf
369UrTGH3wwQctfg4nTpyIkSNHtrjtDpW8Jk6cCIFAgKSkJKXyHTt2QCAQ6Cgq3Vq0aBHMzMyQn5+v9ENaop+e
ZsJRN0m0xejRo7lJDbWtQyUvABCLxVi+fDlu3bql61C0pq6urtXrFhcX47nnnoObmxtsbW21GBVRF2MM9fX1ug6j3
TT1+Xz48CFMTExgb2/fLu12uOQVEREBR0dHbu4hVVQduiYnJ0MqlXLvG/5XWrZsGRwcHGBlZYXFixejvr4e773
3HmxsbNClSxekpqY22n5eXh5CQkIgFovh7e2NjIwMpeVnzpzB0KFDYW5uDgcHB4wfPx6VlZXc8vDwcEyfPh0zZ8
6EnZ0dZDKZyn4oFAosXrwYXbp0gUgkQu/evbF7925uuUAgQHZ2NhYvXgyBQIAPPvhA5XYa2ps+fTokEgns7Oyw
YMECpafF1NbWYs6cOXB2doaZmRmCgoKQnp6utJ2ff/4ZXl5eEIlEkEql+O9//6u0XCqVYsmSJRgzZgzMzMzg7Oy
MlJQUlTE1KCsrw+uvvw4rKyvY2NhgxIgRuHjxYpP1AwIC8PHHH3PvR44cCSMjI9TU1AAALl++DIFAgKKiIq7Ov
Xv3MGnSJFhYWMDV1RXr1q1T2ubp06cxcOBAmJiYwNbWFlOmTOG2p0p6ejoEAgF+//13+Pv7QyQS4dChQyguL
saIESPg4OAAc3Nz9OvXD3/88Qe3Xnh4OC5duoRZs2ZBIBAonS0cOnQIoaGhMDExgYuLC2bMmIG7d+9yy69du4b
hw4fDxMQE7u7u2LBhQ7P79YMPPsC3336LX375hWur4e/Z0j5v+G4kJCTAyckJPXr04C6ZbN68GWFhYRCLxdiwY
UOj08YGX3zxBVxcXGBqaorXX3+dm7pcFYVCgcTERO5pRn5+fti6dWvHmhInKiqKjRgxgm3bto2JxWJWVlbGGG
Ns+/btDI91ddGiRczPz09p3U8++YS5ubkpbcvCwoJNmzaN5eXlsa+//poBYDKZjCUkJLCCggK2ZMkSZmRkxLVTUl
LCALAuXbqwrVu3snPnzrHJkyczCwsLVllZyRhj7NatW6xTp04sPj6enT9/np08eZJFRkay559/nms7LCyMmZubs/fee4/
l5eWxvLw8lf1duXIls7S0ZD/++CPLy8tjc+fOZUZGRqygoIAxxtjVq1eZl5cXmz17Nrt69Sq7c+eOyu00tBcTE8Py8vLY
Dz/8wExNTZVmRJg8eTILCQlhBw8eZEVFReyjjz5iIpGIa+vEiRPMwMCALV68mOXn57PU1FRmYmKiNLOFm5sb
s7CwYImJiSw/P5999tlnTCgUsr1793J1ALDt27czxhirq6tjnp6ebNKkSeyvv/5i586dY2PHjmU9evRQmuHgcbGxsWzYs
GGMsUczH9jY2DA7Ozv2+++/M8YY++GHH5izs7NSTDY2NiwlJYUVFhayxMREZmBgwO3zmpoa1rlzZzZq1Ch2+
vRplpaWxtzd3VlUVJTK9hlj7MCBAwwA8/X1ZXv37mVFRUXsxo0b7NSpU2zt2rXs9OnTrKCggM2fP5+JxWJ26dIlx
hhjN27cYF26dGGLFy/mpjVijLGioiJmZmbGPvnkE1ZQUMAyMzNZnz592MSJE7k2hw4dyvz8/NiRI0fYiRMnWEhI
CDMxMWGffPKJyhjv3LnDXn/9dTZkyBCurdraWrX2eVRUFDM3N2fjx49nZ86cYWfOnOE++1KplP3888/swoUL7
MqVKyw1NZVJJBKu3UWLFjEzMzM2cOBAlpOTwzIyMpiHhwcbO3YsV6fhe9xg6dKlrGfPnmz37t2suLiYpaamMpF
I1LGmxHm8088++yz3BJTWJi83Nzcml8u5sh49erDQ0FDufX19PTMzM+OemNLwB0xKSuLqPHz4kHXp0oUtX76c
McbYkiVL2ODBg5XaLisrYwC4KUXCwsJYnz59Wuyvk5MTS0hIUCrr168f+/e//8299/PzY4sWLWp2O2FhYczT05M
pFAqubN68eczT05MxxtilS5eYUChkf//9t9J6gwYNYvHx8YwxxsaOHcsiIyOVlr/33nusV69e3Hs3Nzc2ZMgQpTqjR49
mQ4cO5d4/nry+//571qNHD6W4amtrmYmJCduzZ4/KvuzcuZNJJBJWX1/PTp06xRwdHVlMTAybN28eY+xREn78i+
Lm5sbeeOMN7r1CoWD29vbs888/Z4wxtm7dOmZtba30GLldu3YxAwODJud3a0heO3bsULn8cV5eXmzVqlVK8TyZc
N588002ZcoUpbI///yTGRgYsPv377P8/HwGgGVlZXHLG56s1FTyYqxxkmBMvX0eFRXFHBwclP4DafjsJycnK21PV
fISCoXs8uXLXNnvv//ODAwMuGT9eFwPHjxgpqam7PDhw432SYc7bWywfPlyfPvttzh//nyrt+Hl5aU0o6SDgwN8fHy
490KhELa2trh27ZrSeo/PJmloaIiAgAAujtzcXBw4cADm5ubcq2fPngAeXZ9q4O/v32xs1dXVuHLlCvr3769U3r9//1b1+
dlnn1U6TQkODkZhYSHkcjlOnz4NuVyO7t27K8WdkZHBxXz+/HmVsTRs4/HtPi44OLjJeHNzc1FUVAQLCwuuTRs
bGzx48EBpXz0uNDQUd+7cQU5ODjIyMhAWFobw8HDulCgjIwPh4eFK6/j6+nL/FggEcHR05P6m58+fh5+fH8zMzJ
T6pVAoGs2a+qSAgACl9zU1NZgzZw48PT1hZWUFc3NznD9/npsmuim5ublYv3690r6XyWRQKBQoKSnB+fPnYWh
oqPSZ6dmzp8rTtZaou899fHxgbGzcYp9VcXV1hbOzM/c+ODi4yf1ZVFSEe/fuITIyUqn/3333Xcd9AMeAAQMgk8kQ
Hx+PiRMnKi0zMDBQup4DPLq4+CQjIyOl9wKBQGVZw/S46qipqcHw4cOxfPnyRss6d+7M/fvxL4uu1dTUQCgUIjs7
G0KhUGmZubl5u7br7++v8vpNp06dVK5jZWUFPz8/pKen48iRI4iMjMSAAQO4u16FhYUICwtTWqetf9OmPPk3nD
NnDvbt24ePP/4YHh4eMDExwauvvtriDZmamhpMnToVM2bMaLTM1dVVq3fz1N3nTX0+tf25bbi2uGvXLqWEB3T
wpwclJSWhd+/e6NGjh1J5p06dUF5eDsYYd7ShzbFZR48exYABAwAA9fX1yM7OxvTp0wEAffv2xc8//wypVApDw9
bvfktLSzg5OSEzM1Ppy5iZmYnAwECNt3fs2LFGfejWrRuEQiH69OkDuVyOa9euITQ0VOX6np6eyMzMVCrLzMxE
9+7dlRLe0aNHG7Xj6empcpt9+/bF5s2bYW9vD0tLS7X7EhYWhgMHDiArKwsJCQmwsbGBp6cnEhIS0LlzZ3Tv3l3t
bXl6emL9+vW4e/cu98XMzMyEgYFBo89VSzIzMzFx4kS8/PLLAB59MZ+8+WBsbKx0pAo82g/nzp2Dh4eHyu327N
mT+5z169cPwKP5/Z98WMmTmmqrNftcE6Wlpbhy5QqcnJwAPPoMNLU/e/XqBZFIhNLS0kb/6XTY00bg0aHtuHHj
8NlnnymVh4eH4/r161ixYgWKi4uRkpKC33//XWvtpqSkYPv27cjLy8O0adNw69YtTJo0CcCjR5PdvHkTY8aMwfHjx1
Maurice B.ipynb.pdf[1/2/2024 11:21:01
PM]
FcXIw9e/YgOjq60QepJe+99x6WL1+OzZs3Iz8/H3FxcTh16hRiYmI0jrm0tBSxsbHIz8/Hjz/+iFWrVnHb6d69O8aNG4c
JEyZg27ZtKCkpQVZWFhITE7Fr1y4AwOzZs5GWloYlS5agoKAA3377LVavXo05c+YotZOZmYkVK1agoKAAKSk
p2LJlS5Pxjhs3DnZ2dhgxYgT+/PNPlJSUID09HTNmzMDly5eb7Et4eDj27NkDQ0ND7pQ8PDwcGzZsaPQFaMm4ce
MgFosRFRWFM2fO4MCBA3j33Xcxfvz4Rs8tbEm3bt2wbds2nDp1Crm5uRg7dmyjIzypVIqDBw/i77//5u5Az5s3D4cP
H8b06dNx6tQpFBYW4pdffuH+Q+zRoweGDBmCqVOn4tixY8jOzsbkyZNhYmLSbDxSqRR//fUX8vPzUVlZiYcPH7
Z6n2uiYX/m5ubizz//xIwZM/D666+rfPKQhYUF5syZg1mzZuHbb79FcXExTp48iVWrVnXs5AUAixcvbvQB8fT0xJo1
a5CSkgI/Pz9kZWU1+pK1RVJSEpKSkuDn54dDhw5h586dsLOzAwDuaEkul2Pw4MHw8fHBzJkzYWVl1eiJLS2ZM
WMGYmNjMXv2bPj4+GD37t3YuXMnunXrpnHMEyZMwP379xEYGIhp06YhJiYGU6ZM4ZanpqZiwoQJmD17Nnr
06IGRI0fi+PHjcHV1BfDof+yffvoJmzZtgre3NxYuXIjFixc3OmWfPXs2Tpw4gT59+mDp0qVYuXJlk0NBTE1NcfDgQ
bi6umLUqFHw9PTEm2++iQcPHjR7VBAaGgqFQqGUqMLDwyGXyxtd72qJqakp9uzZg5s3b6Jfv3549dVXMWjQIKx
evVqj7QDAypUrYW1tjZCQEAwfPhwymQx9+/ZVqrN48WJcvHgRXbt25U7TfH19kZGRgYKCAoSGhqJPnz5YuHA
hd+QCPPr7ODk5ISwsDKNGjcKUKVNaHF/11ltvoUePHggICECnTp2QmZnZ6n2uCQ8PD4waNQovvPACBg8eDF9f
X6xZs6bJ+kuWLMGCBQuQmJgIT09PDBkyBLt27QLNYU8QHh6O3r17t/vIbqlUipkzZ2LmzJnt2g75Z+jwR16EkI6Jk
hchhJfotJEQwkt05EUI4SVKXoQQXqLkRQjhJUpehBBeouRFCOElSl6EEF6i5EUI4SVKXoQQXvp/rseghh50dKwAA
AAASUVORK5CYII=",
"text/plain": [
"<Figure size 300x300 with 1 Axes>"
]
},
"metadata": {},
"output_type": "display_data"
},
{
"data": {
"image/png":
"iVBORw0KGgoAAAANSUhEUgAAAS8AAAE8CAYAAACRnDftAAAAOXRFWHRTb2Z0d2FyZQBNYXRwbG9
0bGliIHZlcnNpb24zLjcuMSwgaHR0cHM6Ly9tYXRwbG90bGliLm9yZy/bCgiHAAAACXBIWXMAAA9hAAAPYQ
GoP6dpAAA5oElEQVR4nO3deVQUV/YH8G/TQLPv0iyCqKCiKCgKQWPQCHaWMcbJwkRHRU2iEUcTJokaBbco
GjNKxjUxiYyZuCTGJRMNRhFQETVBcYksskWjgOICggrSfX9/eKgfbTfYjY1N6f2cU+fYr169ulXa16pX1e9JiIjAGG
MiY2LsABhjrCU4eTHGRImTF2NMlDh5McZEiZMXY0yUOHkxxkSJkxdjTJQ4eTHGRImTF2NMlDh5sVZXUlICiU
SCpKQkY4fCHiOcvNhDS0pKgkQi0brMmDHD2OE9tNLSUsyYMQODBw+Gra0tJBIJ0tLSjB3WE8/U2AGwx8f8+fP
RsWNHtbKAgAB06NABt2/fhpmZmZEiezh5eXlYsmQJ/Pz80LNnT2RmZho7JAZOXsyAnn/+efTt21frOgsLi0cczT01
NTWwtrZ+qDaCg4Nx9epVODk5YevWrXjttdcMFB17GHzbyFpdU31e33//Pbp37w4LCwsEBARg+/btiI6Oho+Pj1AnL
S1N622atjajo6NhY2ODwsJCvPDCC7C1tcWoUaMAACqVComJiejRowcsLCwgl8sxceJEXL9+/YHx29rawsnJqaWHz
1oJX3kxg6msrERFRYVamYuLi9a6u3btQlRUFHr27ImEhARcv34dEyZMgKen50PFUF9fD4VCgaeffhqffvoprKysAA
ATJ05EUlISxo0bh6lTp6K4uBgrV67EiRMnkJGRIdpb2icZJy9mMBERERplTQ0XN3PmTHh6eiIjIwM2NjYAgCFDh
mDQoEHo0KFDi2Oora3Fa6+9hoSEBKHs0KFD+PLLL/Htt99i5MiRQvngwYPx3HPP4fvvv1crZ+LAyYsZzKpVq9Cl
S5cH1rt06RJOnz6Njz76SEhcABAeHo6ePXuiqqrqoeJ455131D5///33sLe3R2RkpNqVYXBwMGxsbJCamsrJS4Q4eTG
DCQkJabLDvrE//vgDAODr66uxztfXF8ePH29xDKampmjfvr1a2blz51BZWQlXV1et21y+fLnF+2PGw8mLtWkSiURru
VKp1Fouk8lgYqL+HEqlUsHV1RXffvut1m3atWv3cEEyo+DkxR65hj6tgoICjXX3lzk6OgIAbty4oVbecPWmi86dO2Pf
vn0YMGAALC0t9YyWtVX8qgR75Dw8PBAQEIANGzagurpaKE9PT8fp06fV6nbo0AFSqRQHDhxQK1+9erXO+3v9
9dehVCqxYMECjXX19fUaiZGJA195MaNYtGgRhg8fjgEDBmDcuHG4fv06Vq5ciYCAALWEZm9vj9deew0rVqyAR
CJB586d8dNPP+nVTxUeHo6JEyciISEB2dnZGDp0KMzMzHDu3Dl8//33+Oyzz/Dqq68228bHH38MAPj9998BAN98
8w0OHToEAJg9e7a+h88MgRh7SOvXrycA9Ouvv2pdX1xcTABo/fr1auWbN2+mbt26kUwmo4CAAPrxxx/plVdeoW7
duqnVu3LlCr3yyitkZWVFjo6ONHHiRDpz5oxGm2PHjiVra+sm4/ziiy8oODiYLC0tydbWlnr27EkffvghXbp06YHHCK
DJhRmHhIjnbWRtR1BQENq1a4e9e/caOxTWxnGfFzOKu3fvor6+Xq0sLS0NJ0+exKBBg4wTFBMVvvJiRlFSUoKIiA
j8/e9/h4eHB3Jzc7F27VrY29vjzJkzcHZ2NnaIrI3jDntmFI6OjggODsaXX36JK1euwNraGi+++CIWL17MiYvphK+8GG
OixH1ejDFR4uTFGBOlJ67PS6VS4dKlS8JY5IyxtoWIcPPmTXh4eGj8TrWxJy55Xbp0CV5eXsYOgzH2ABcuXNAYI
aSxJy552draArh3Yuzs7IwcDWPsflVVVfDy8hK+q0154pJXw62inZ0dJy/G2rAHdetwhz1jTJQ4eTHGRImTF2NMlIza
53XgwAEsXboUWVlZKC0txfbt2/Hyyy83u01aWhpiY2Px+++/w8vLC7Nnz0Z0dHSrxRgdHY2dO3fC1NQUvXv3hkql
QkVFBW7evImamho4OTlBJpPhzp078Pf3xwsvvABvb2/s3r0bxcXF8PX1hb29PcLCwhAZGSm0m5+fj8LCQvj6+sLPz
0/4XFpaij///BNeXl5wc3ODr68vioqKcPToUY02AGDPnj3YtWsX5HI5Xn/9dfj5+Wkcw/37YuyxYMTheGj37t00a9Ys2
rZtGwGg7du3N1u/qKiIrKysKDY2ls6ePUsrVqwgqVRKycnJOu+zsrKSAFBlZWWz9TZs2NDsGE4tWZydnen48eOkU
Cg0yvVpo6ioiAoKCsjJyUlj/cCBA+natWtERHT16lWNfSkUCmE9Y22Rrt/RNjOSmi7J68MPP6QePXqolUVFRZFCod
Maurice B.ipynb.pdf[1/2/2024 11:21:01
PM]
B5PzqfGAMnrobFzMyMpFLpQyfB5hJew/lQKBQa+5JKpXqdL8YeNV2/o6Lq88rMzNSY2FShUCAzM7PJbWpra1F
VVaW2PEhr3obevXu3yZlvdHX16lVcvXq1yfV79uzBL7/8gj179mjsS6lUYs+ePTh37txDxcCYsYkqeZWVlUEul6uVy
eVyVFVV4fbt21q3SUhIgL29vbDo8nZ9enq6QeI1piNHjjS7XtvMPYyJiaiSV0vMnDkTlZWVwnLhwoUHbhMeHv4II
mtdTz31VLPrtU34ypiYiCp5ubm5oby8XK2svLwcdnZ2Tc7HJ5PJhLfpdX2rPikpyRDhamVmZgapVPpQbTg7Ozc7YJ9
CocDQoUOhUCg09iWVSqFQKPipIxM9USWvsLAwpKSkqJXt3bsXYWFhBt/X5s2bDd6ms7Mzjh07ptFvp8/Ioc7Ozvj
111/x66+/wsnJSWP9wIEDsWnTJgDApk2bNPYVEREhrGdMzIw6kmp1dbXQ99K7d28sW7YMgwcPhpOTE7y9vTFz
5kxcvHgRGzZsAAAUFxcjICAAMTExGD9+PPbv34+pU6di165dUCgUOu2zqqoK9vb2qKys1OkqbMKECdi2bRtMT
U3Rp08fKJVKXL16FTdv3kR1dTWcnJxgYWGB27dvo3v37nj++efRoUMH7N69G0VFRfDz84OdnZ3GO1rnzp1DQU
GB8O5Vw+fy8nKcP38e3t7ekMvl8PX1RUlJCTIzM7W+57V371789NNPcHV1bfI9r/v3xVhbpvN39JE8+2xCamqq1kf
9Y8eOJaJ78/CFh4drbBMUFETm5ubUqVMnjbkAH0TXx7CMMePQ9Tv6xI1hr++VF2Ps0dL1OyqqPi/GGGvAyYsxJk
qcvBhjosTJizEmSpy8GGOixMmLMSZKnLwYY6LEyYsxJkqcvBhjosTJizEmSpy8GGOixMmLMSZKnLwYY6LEyY
sxJkqcvBhjosTJizEmSpy8GGOixMmLMSZKnLwYY6LEyYsxJkqcvBhjosTJizEmSpy8GGOixMmLMSZKnLwYY6L
EyYsxJkqcvBhjosTJizEmSpy8GGOixMmLMSZKnLwYY6Jk9OS1atUq+Pj4wMLCAqGhoTh27Fiz9RMTE9G1a1dY
WlrCy8sL7733Hu7cufOIomWMtRVGTV5btmxBbGws5syZg+PHjyMwMBAKhQKXL1/WWn/jxo2YMWMG5syZg5
ycHHz11VfYsmULPvroo0ccOWPM2IyavJYtW4a33noL48aNQ/fu3bF27VpYWVnh66+/1lr/8OHDGDBgAEaOHAkf
Hx8MHToUb7zxxgOv1hhjjx+jJa+6ujpkZWUhIiLi/4MxMUFERAQyMzO1btO/f39kZWUJyaqoqAi7d+/GCy+80OR+a
mtrUVVVpbYwxsTP1Fg7rqiogFKphFwuVyuXy+XIzc3Vus3IkSNRUVGBp59+GkSE+vp6TJo0qdnbxoSEBMybN8+g
sTPGjM/oHfb6SEtLw6JFi7B69WocP34c27Ztw65du7BgwYImt5k5cyYqKyuF5cKFC48wYsZYazHalZeLiwukUinKy8
vVysvLy+Hm5qZ1m7i4OIwePRpvvvkmAKBnz56oqanB22+/jVmzZsHERDMXy2QyyGQywx8AY8yojHblZW5ujuD
gYKSkpAhlKpUKKSkpCAsL07rNrVu3NBKUVCoFABBR6wXLGGtzjHblBQCxsbEYO3Ys+vbti5CQECQmJqKmpg
bjxo0DAIwZMwaenp5ISEgAAAwbNgzLli1D7969ERoaioKCAsTFxWHYsGFCEmOMPRmMmryioqJw5coVxMfHo6
ysDEFBQUhOThY68c+fP692pTV79mxIJBLMnj0bFy9eRLt27TBs2DAsXLjQWIfAGDMSCT1h91tVVVWwt7dHZW
Ul7OzsjB0OY+w+un5HRfW0kTHGGnDyYoyJEicvxpgocfJijIkSJy/GmCi1KHl98803GDBgADw8PPDHH38AuDfO1s
6dOw0aHGOMNUXv5LVmzRrExsbihRdewI0bN6BUKgEADg4OSExMNHR8jDGmld7Ja8WKFVi3bh1mzZql9lZ737
59cfr0aYMGxxhjTdE7eRUXF6N3794a5TKZDDU1NQYJijHGHkTv5NWxY0dkZ2drlCcnJ8Pf398QMTHG2APp/dvG
2NhYxMTE4M6dOyAiHDt2DJs2bUJCQgK+/PLL1oiRMcY06J283nzzTVhaWmL27Nm4desWRo4cCQ8PD3z22Wf4
29/+1hoxMsaYhof6YfatW7dQXV0NV1dXQ8bUqviH2Yy1bbp+Rx9qSBwrKytYWVk9TBOMMdYienfYl5eXY/To0f
Dw8ICpqSmkUqnawhhjj4LeV17R0dE4f/484uLi4O7uDolE0hpxMcZYs/ROXocOHcLBgwcRFBTUCuEwxphu9L5t9P
Ly4skuGGNGp3fySkxMxIwZM1BSUtIK4TDGmG70vm2MiorCrVu30LlzZ1hZWcHMzExt/bVr1wwWHGOMNUXv
5MUjRzDG2gK9k9fYsWNbIw7GGNOLTsmrqqpKeNO1qqqq2br81jpj7FHQKXk5OjqitLQUrq6ucHBw0PpuFxFBIpE
IgxMyxlhr0il57d+/H05OTgCA1NTUVg2IMcZ0wTNmM8baFIP+MPvUqVM677hXr14612WMsZbSKXkFBQVBIpE
88M167vNijD0qOiWv4uLi1o6DMcb0olPy6tChQ2vHwRhjemnRYITnzp1DamoqLl++DJVKpbYuPj7eIIExxlhz9P5h9r
p16+Dv74/4+Hhs3boV27dvF5YdO3boHcCqVavg4+MDCwsLhIaG4tixY83Wv3HjBmJiYuDu7g6ZTIYuXbpg9+7deu
+XMSZuel95ffzxx1i4cCGmT5/+0DvfsmULYmNjsXbtWoSGhiIxMREKhQJ5eXlax8Wvq6tDZGQkXF1dsXXrVnh6eu
KPP/6Ag4PDQ8fCGBMZ0pOtrS0VFhbqu5lWISEhFBMTI3xWKpXk4eFBCQkJWuuvWbOGOnXqRHV1dS3eZ2VlJ
QGgysrKFrfBGGs9un5H9b5tfO211/DLL788dNKsq6tDVlYWIiIihDITExNEREQgMzNT6zY//vgjwsLCEBMTA7lcjo
CAACxatKjZ1zNqa2tRVVWltjDGxE/v20ZfX1/ExcXhyJEj6Nmzp8Z4XlOnTtWpnYqKCiiVSsjlcrVyuVyO3NxcrdsU
FRVh//79GDVqFHbv3o2CggJMnjwZd+/exZw5c7Ruk5CQgHnz5ukUE2NMPPT+eVDHjh2bbkwiQVFRkU7tXLp0CZ
6enjh8+DDCwsKE8g8//BDp6ek4evSoxjZdunTBnTt3UFxcLMxUtGzZMixduhSlpaVa91NbW4va2lrhc1VVFby8vPjnQ
Yy1Ua02b6OhXlh1cXGBVCpFeXm5Wnl5eTnc3Ny0buPu7g4zMzO1Kdb8/f1RVlaGuro6mJuba2wjk8kgk8kMEjNjrO
3Qu8+rMSJq8WQc5ubmCA4ORkpKilCmUqmQkpKidiXW2IABA1BQUKD2bll+fj7c3d21Ji7G2OOrRclrw4YN6Nmz
JywtLWFpaYlevXrhm2++0bud2NhYrFu3Dv/5z3+Qk5ODd955BzU1NRg3bhwAYMyYMZg5c6ZQ/5133sG1a9cwbdo
05OfnY9euXVi0aBFiYmJachiMMRHT+7Zx2bJliIuLw5QpUzBgwAAA9+ZynDRpEioqKvDee+/p3FZUVBSuXLmC+
Ph4lJWVISgoCMnJyUIn/vnz52Fi8v/51cvLC3v27MF7772HXr16wdPTE9OmTTPIO2eMMXFpUYf9vHnzMGbMGL
Xy//znP5g7d26b/xE3j+fFWNum63dU79vG0tJS9O/fX6O8f//+TT7xY4wxQ9M7efn6+uK7777TKN+yZQv8/PwMEhRjj
D2I3n1e8+bNQ1RUFA4cOCD0eWVkZCAlJUVrUmOMsdag95XXK6+8gqNHj8LFxQU7duzAjh074OLigmPHjmHEi
BGtESNjjGngCTgYY21Kq3XYM8ZYW8DJizEmSpy8GGOixMmLMSZKnLwYY6Kk93teI0aMgEQi0SiXSCSwsLC
Ar68vRo4cia5duxokQMYY00bvKy97e3vs378fx48fh0QigUQiwYkTJ7B//37U19djy5YtCAwMREZGRmvEyxhjAFpw
5eXm5oaRI0di5cqVwogPKpUK06ZNg62tLTZv3oxJkyZh+vTpOHTokMEDZowxoAUvqbZr1w4ZGRno0qWLWnl+fj
769++PiooKnD59GgMHDsSNGzcMGatB8EuqjLVtrfaSan19vdYJMnJzc4VZfCwsLLT2izHGmKHofds4evRoTJgwAR
999BH69esHAPj111+xaNEiYYyv9PR09OjRw7CRMsZYI3onr+XLl0Mul+OTTz4RJs+Qy+V47733hBFNhw4diueee8
6wkTLGWCMP9cPshglcxdR3xH1ejLVtrTb1WWP85WeMGYveHfbl5eUYPXo0PDw8YGpqCqlUqrYwxtijoPeVV3R
0NM6fP4+4uDi4u7vzU0XGmFHonbwOHTqEgwcPIigoqBXCYYwx3eh92+jl5dXiWbIZY8xQ9E5eiYmJmDFjBkpKS
lohHMYY043et41RUVG4desWOnfuDCsrK5iZmamtv3btmsGCY4yxpuidvBITE1shDMYY04/eyWvs2LGtEQdjjOlFp
Maurice B.ipynb.pdf[1/2/2024 11:21:01
PM]
+RVVVUlvJDa8FZ9U/jFVcbYo6BT8nJ0dERpaSlcXV3h4OCg9d0uIoJEIhFGlmCMsdakU/Lav38/nJycAACpqamtGh
BjjOlCp+QVHh4O4N5YXunp6Rg/fjzat2/fqoExxlhz9HrPy9TUFEuXLkV9fb1Bg1i1ahV8fHxgYWGB0NBQHDt2TKft
Nm/eDIlEgpdfftmg8TDG2j69X1J99tlnkZ6ebrAAtmzZgtjYWMyZMwfHjx9HYGAgFAoFLl++3Ox2JSUleP/99zFw4E
CDxcIYEw+9x/Nau3Yt5s2bh1GjRiE4OBjW1tZq61966SW9AggNDUW/fv2wcuVKAPcm8/Dy8sI//vEPzJgxQ+s2SqU
SzzzzDMaPH4+DBw/ixo0b2LFjh0774/G8GGvbWm08r8mTJwMAli1bprFO36eNdXV1yMrKwsyZM4UyExMTRERE
IDMzs8nt5s+fD1dXV0yYMAEHDx5sdh+1tbWora0VPj/oVQ/GmDjofduoUqmaXPR9TaKiogJKpRJyuVytXC6Xo6ys
TOs2hw4dwldffYV169bptI+EhATY29sLi5eXl14xMsbaJr2TV2N37twxVBw6uXnzJkaPHo1169bBxcVFp21mzpyJysp
KYblw4UIrR8kYexT0vm1UKpVYtGgR1q5di/LycuTn56NTp06Ii4uDj48PJkyYoHNbLi4ukEqlwkQeDcrLy+Hm5qZR
v7CwECUlJRg2bJhQplKp7h2IqSny8vLQuXNntW1kMhlkMpk+h8gYEwG9r7wWLlyIpKQkfPLJJzA3NxfKAwIC8O
WXX+rVlrm5OYKDg5GSkiKUqVQqpKSkICwsTKN+t27dcPr0aWRnZwvLSy+9hMGDByM7O5tvCRl7guh95bVhw
wZ88cUXGDJkCCZNmiSUBwYGap2M9kFiY2MxduxY9O3bFyEhIUhMTERNTQ3GjRsHABgzZgw8PT2RkJAACw
sLBAQEqG3v4OAAABrljLHHm97J6+LFi/D19dUoV6lUuHv3rt4BREVF4cqVK4iPj0dZWRmCgoKQnJwsdOKfP38e
JiYP1TXHGHsM6Z28unfvjoMHD6JDhw5q5Vu3bkXv3r1bFMSUKVMwZcoUrevS0tKa3TYpKalF+2SMiZveySs+Ph
5jx47FxYsXoVKpsG3bNuTl5WHDhg346aefWiNGxhjToPf92PDhw/G///0P+/btg7W1NeLj45GTk4P//e9/iIyMbI0YGW
NMg94/DxI7/nkQY22brt9R7glnjImSziOp6jozNs8exBh7FHRKXo1nDLp69So+/vhjKBQK4UXSzMxM7NmzB3Fxca0
SJGOM3U/vPq9XXnkFgwcP1ni1YeXKldi3b5/OQ9MYC/d5Mda2tVqf1549e/Dcc89plD/33HPYt2+fvs0xxliL6J28nJ2d
sXPnTo3ynTt3wtnZ2SBBMcbYg+j9kuq8efPw5ptvIi0tDaGhoQCAo0ePIjk5Wecxthhj7GHpnbyio6Ph7++Pf//739i2bRs
AwN/fH4cOHRKSGWOMtTa9ktfdu3cxceJExMXF4dtvv22tmBhj7IH06vMyMzPDDz/80FqxMMaYzvTusH/55Zfb/Os
QjLHHn959Xn5+fpg/fz4yMjK0Tn02depUgwXHGGNN0fsl1Y4dOzbdmESCoqKihw6qNfFLqoy1ba02b2NxcfFDBcY
YY4bQ4lElKioqUFFRYchYGGNMZ3olrxs3biAmJgYuLi6Qy+WQy+VwcXHBlClTcOPGjVYKkTHGNOl823jt2jWE
hYXh4sWLGDVqFPz9/QEAZ8+eRVJSElJSUnD48GE4Ojq2WrCMMdZA5+Q1f/58mJubo7CwUJjZp/G6oUOHYv78
+Vi+fLnBg2SMsfvpfNu4Y8cOfPrppxqJCwDc3NzwySefYPv27QYNjjHGmqJz8iotLUWPHj2aXB8QEICysjKDBMU
YYw+ic/JycXFBSUlJk+uLi4vh5ORkiJgYY+yBdE5eCoUCs2bNQl1dnca62tpaxMXFaR2kkDHGWoPOb9j/+eef6Nu3L
2QyGWJiYtCtWzcQEXJycrB69WrU1tbit99+g5eXV2vH/FD4DXvG2jaDv2Hfvn17ZGZmYvLkyZg5cyYacp5EIkFkZ
CRWrlzZ5hMXY+zxodfPgzp27Iiff/4Z169fx7lz5wAAvr6+3NfFGHvk9P5tI3BvHseQkBBDx8IYYzrjGbMZY6LEyYsx
JkptInmtWrUKPj4+sLCwQGhoKI4dO9Zk3XXr1mHgwIFwdHSEo6MjIiIimq3PGHs8GT15bdmyBbGxsZgzZw6OHz+
OwMBAKBQKXL58WWv9tLQ0vPHGG0hNTUVmZia8vLwwdOhQXLx48RFHzhgzJr1HUjW00NBQ9OvXDytXrg
QAqFQqeHl54R//+AdmzJjxwO2VSiUcHR2xcuVKjBkz5oH1+T0vxto2Xb+jRr3yqqurQ1ZWFiIiIoQyExMTREREID
MzU6c2bt26hbt37zb5ukZtbS2qqqrUFsaY+Bk1eVVUVECpVGqMVCGXy3X+kff06dPh4eGhlgAbS0hIgL29vbDwi7S
MPR6M3uf1MBYvXozNmzdj+/btsLCw0Fpn5syZqKysFJYLFy484igZY62hRS+pGoqLiwukUinKy8vVysvLy+Hm5tb
stp9++ikWL16Mffv2oVevXk3Wk8lkkMlkBomXMdZ2GPXKy9zcHMHBwUhJSRHKVCoVUlJSEBYW1uR2n3zyCR
YsWIDk5GT07dv3UYTKGGtjjHrlBQCxsbEYO3Ys+vbti5CQECQmJqKmpgbjxo0DAIwZMwaenp5ISEgAACxZsgTx
8fHYuHEjfHx8hL4xGxsb2NjYGO04GGOPltGTV1RUFK5cuYL4+HiUlZUhKCgIycnJQif++fPnYWLy/xeIa9asQV1d
HV599VW1dubMmYO5c+c+ytAZY0Zk9Pe8HjV+z4uxtk0U73kxxlhLcfJijIkSJy/GmChx8mKMiRInL8aYKHHyYoyJ
EicvxpgocfJijIkSJy/GmChx8mKMiRInL8aYKHHyYoyJEicvxpgocfJijIkSJy/GmChx8mKMiRInL8aYKHHyYoyJEicv
xpgocfJijIkSJy/GmChx8mKMiRInL8aYKHHyYoyJEicvxpgocfJijIkSJy/GmChx8mKMiRInL8aYKHHyYoyJEicvxpgo
mRo7AABYtWoVli5dirKyMgQGBmLFihUICQlpsv7333+PuLg4lJSUwM/PD0uWLMELL7xg8Lh69+6N7Oxsg7QlkU
jg5OSEdu3agYhw69Yt1NbWQqVS4ebNm6ivr4epqSlMTU1RW1sLAOjSpQuWL1+Ob7/9FikpKZBIJBgyZAgkEgnS0
tIglUrRrl07dO3aFY6OjiguLgYA9OvXD6+//jr8/PyQn5+PwsJCSKVSKJVK+Pr6goiQnp4OiUQCb29vobyhfsO68PBw
+Pn5Yc+ePVizZg1u3ryJ0aNHIzo6Gl999RV27tyJzp07Y/LkyWr7atjHd999hytXruAvf/kLIiMjhbbLy8vh5uamse/7aYv9
/np79uzB0aNHERYWBpVKJfw5MjJSa1sNsTX8Wdt+9dW47ebaM3S9ltY3hlaJkYxs8+bNZG5uTl9//TX9/vvv9NZbb5
GDgwOVl5drrZ+RkUFSqZQ++eQTOnv2LM2ePZvMzMzo9OnTOu2vsrKSAFBlZWWTdaZPn04ARL/Y29vrVd/JyU
mjTCqV6rStnZ1ds+tNTU2bXa9QKOjatWtERHT16lVSKBTN1isoKCBnZ+cm23N2dqaioqJm27p/v/rS1ra29gxdr6X1ja
ElMeryHSUiMnryCgkJoZiYGOGzUqkkDw8PSkhI0Fr/9ddfpxdffFGtLDQ0lCZOnKjT/nQ5McZOOk/iIpVKSaFQEBG
RQqFoMmk21GsucTUszs7OzbZ1/371pa1tbe0Zul5L6xtDS2IURfKqra0lqVRK27dvVysfM2YMvfTSS1q38fLyouXLl6
uVxcfHU69evbTWv3PnDlVWVgrLhQsXmj0xQUFBRv8iP8nLnj17jLLf/Px8vf7t5uXl6dSeoevpu39jammMuiYvo3bY
V1RUQKlUQi6Xq5XL5XKUlZVp3aasrEyv+gkJCbC3txcWLy+vZmPKycnR4wiYoR05csQo+y0oKNCrfmFhoU7tGb
qevvs3ptaO8bF/2jhz5kxUVlYKy4ULF5qt7+/v/4giY9o89dRTRtmvr6+vXvU7d+6sU3uGrqfv/o2ptWM0avJycXGBVC
pFeXm5WnnD0yht3Nzc9Kovk8lgZ2entjTnxIkTehwBMxSpVAqFQoGhQ4dCoVBAKpU2W8/Z2fmBbTo7OzfbVuP2
9H0C1qVLF61t39+eoevpu39javUYW+NeVx8hISE0ZcoU4bNSqSRPT89mO+z/8pe/qJWFhYUZtMM+Pj7e6H0/hljE+
rTx2rVrD3zaWFRUpNPTxubaun+/+tLWtrb2DF2vpfWNoSUx6trnJSEighFt2bIFY8eOxeeff46QkBAkJibiu+++Q25uLu
RyOcaMGQNPT08kJCQAAA4fPozw8HAsXrwYL774IjZv3oxFixbh+PHjCAgIeOD+qqqqYG9vj8rKygdehQUHB+P4
8eMGOU6JRAJnZ2e0a9cOAFBdXY27d++ivr6+2fe8EhMTsXHjRuzbtw8AMGTIEEilUqSmpsLExASurq7o0qULHB0
dUVJSAgDo27ev8J7XuXPnUFBQAFNTU9TX1wuX6unp6QCADh06COUN9RvWNbzntXfvXqxevRpVVVXCe15JS
Maurice B.ipynb.pdf[1/2/2024 11:21:01
PM]
UnYvn07OnXqJLzn1bCvhn189913uHz5svCeV0Pb5eXlkMvlGvu+n7bY76+3d+9eZGZmIiwsDACEP9//ntf9sTX82RB
XKI3bbq49Q9draX1j0CdGnb+jhs2zLbNixQry9vYmc3NzCgkJoSNHjgjrwsPDaezYsWr1v/vuO+rSpQuZm5tTjx49aNe
uXTrvS9eszhgzDtFceT1q+lx5McYePV2/o4/900bG2OOJkxdjTJQ4eTHGRKlNjCrxKDV08VVVVRk5EsaYNg3fzQd1
xz9xyevmzZsA8MCfCTHGjOvmzZuwt7dvcv0T97RRpVLh0qVLsLW1hUQiabJeVVUVvLy8cOHCBX4qqSM+Z/rh8
6UdEeHmzZvw8PCAiUnTPVtP3JWXiYkJ2rdvr3N9XX5SxNTxOdMPny9NzV1xNeAOe8aYKHHyYoyJEievJshkMs
yZMwcymczYoYgGnzP98Pl6OE9chz1j7PHAV16MMVHi5MUYEyVOXowxUeLkxRgTJU5eTVi1ahV8fHxgYWGB
0NBQHDt2zNghPRIHDhzAsGHD4OHhAYlEgh07dqitJyLEx8fD3d0dlpaWiIiIwLlz59TqXLt2DaNGjYKdnR0cHBww
YcIEVFdXq9U5deoUBg4cCAsLC3h5eeGTTz5p7UNrFQkJCejXrx9sbW3h6uqKl19+GXl5eWp17ty5g5iYGDg7O8PG
xgavvPKKxjwM58+fx4svvggrKyu4urrigw8+QH19vVqdtLQ09OnTBzKZDL6+vkhKSmrtw2vbWnVIRJHSdxbvx8nu3
btp1qxZtG3bNgKgMafm4sWLyd7ennbs2EEnT56kl156iTp27Ei3b98W6jz33HMUGBhIR44coYMHD5Kvry+98cYbw
vrKykqSy+U0atQoOnPmDG3atIksLS3p888/f1SHaTAKhYLWr19PZ86coezsbHrhhRfI29ubqqurhTqTJk0iLy8vSklJod9
++42eeuop6t+/v7C+vr6eAgICKCIigk6cOEG7d+8mFxcXmjlzplCnqKiIrKysKDY2ls6ePUsrVqwgqVRKycnJj/R42xJO
XlroO4v34+r+5KVSqcjNzY2WLl0qlN24cYNkMhlt2rSJiIjOnj1LAOjXX38V6vz8888kkUjo4sWLRES0evVqcnR0pNr
aWqHO9OnTqWvXrq18RK3v8uXLBIDS09OJ6N75MTMzo++//16ok5OTQwAoMzOTiO79h2FiYkJlZWVCnTVr1pC
dnZ1wjj788EPq0aOH2r6ioqLa1OzYjxrfNt6nrq4OWVlZiIiIEMpMTEwQERGBzMxMI0ZmfMXFxSgrK1M7N/b29gg
NDRXOTWZmJhwcHNC3b1+hTkREBExMTHD06FGhzjPPPANzc3OhjkKhQF5eHq5fv/6IjqZ1VFZWAgCcnJwAAF
lZWbh7967aOevWrRu8vb3VzlnPnj3VJlNWKBSoqqrC77//LtRp3EZDnSf53yQnr/u0ZBbvJ0XD8Td3bsrKyuDq6qq23t
TUFE5OTmp1tLXReB9ipFKp8O6772LAgAHCTFZlZWUwNzeHg4ODWt37z9mDzkdTdaqqqnD79u3WOJw274kbV
YKx1hITE4MzZ87g0KFDxg7licBXXvdpySzeT4qG42/u3Li5ueHy5ctq6+vr63Ht2jW1OtraaLwPsZkyZQp++uknpKam
qg255Obmhrq6Oty4cUOt/v3n7EHno6k6dnZ2sLS0NPThiAInr/uYm5sjODgYKSkpQplKpUJKSoowsemTqmPHjnBzc1
M7N1VVVTh69KhwbsLCwnDjxg1kZWUJdfbv3w+VSoXQ0FChzoEDB3D37l2hzt69e9G1a1c4Ojo+oqMxDCLClClT
sH37duzfvx8dO3ZUWx8cHAwzMzO1c5aXl4fz58+rnbPTp0+rJf29e/fCzs4O3bt3F+o0bqOhzhP9b9LYTwzaos2bN5N
MJqOkpCQ6e/Ysvf322+Tg4KD2NOhxdfPmTTpx4gSdOHGCANCyZcvoxIkT9McffxDRvVclHBwcaOfOnXTq1CkaP
ny41lclevfuTUePHqVDhw6Rn5+f2qsSN27cILlcTqNHj6YzZ87Q5s2bycrKSpSvSrzzzjtkb29PaWlpVFpaKiy3bt0S6kya
NIm8vb1p//799Ntvv1FYWBiFhYUJ6xtelRg6dChlZ2dTcnIytWvXTuurEh988AHl5OTQqlWr+FUJYwfQVjU3i/fjLDU
1lQBoLA2zlqtUKoqLiyO5XE4ymYyGDBlCeXl5am1cvXqV3njjDbKxsSE7OzsaN24c3bx5U63OyZMn6emnnyaZTEa
enp60ePHiR3WIBqXtXAGg9evXC3Vu375NkydPJkdHR7KysqIRI0ZQaWmpWjslJSX0/PPPk6WlJbm4uNA///lPunv3r
lqd1NRUCgoKInNzc+rUqZPaPp5EPCQOY0yUuM+LMSZKnLwYY6LEyYsxJkqcvBhjosTJizEmSpy8GGOixMmLM
SZKnLwYY6LEyasFSkpKIJFIkJ2dbexQBLm5uXjqqadgYWGBoKAgY4fzQNqGmG5NPj4+SExMfGT7e5Ta+rGlpaV
BIpEIP05PSkrSGCKoJUSZvKKjoyGRSLB48WK18h07dkAikRgpKuOaM2cOrK2tkZeXp/EDXtb2tPWEIwaiTF4AY
GFhgSVLloh+5M3G6urqWrxtYWEhnn76aXTo0AHOzs4GjIrpiog0Js1grUe0ySsiIgJubm5ISEhoss7cuXM1bqESExPh4
+MjfI6OjsbLL7+MRYsWQS6Xw8HBAfPnz0d9fT0++OADODk5oX379li/fr1G+7m5uejfvz8sLCwQEBCA9PR0tfVnz
pzB888/DxsbG8jlcowePRoVFRXC+kGDBmHKlCl499134eLiAoVCofU4VCoV5s+fj/bt20MmkyEoKAjJycnCeolEgqy
sLMyfPx8SiQRz587V2k7D/qZMmQJ7e3u4uLggLi4OjX/eWltbi/fffx+enp6wtrZGaGgo0tLS1Nr54Ycf0KNHD8hkMvj
4+OBf//qX2nofHx8sWLAAb7zxBqytreHp6YlVq1ZpjanBhQsX8Prrr8PBwQFOTk4YPnw4SkpKmqzft29ffPrpp8Lnl19
+GWZmZsIsRX/++SckEgkKCgqEOrdu3cL48eNha2sLb29vfPHFF2ptnj59Gs8++ywsLS3h7OyMt99+W2PWo8Yabod
+/vlnBAcHQyaT4dChQygsLMTw4cMhl8thY2ODfv36Yd++fcJ2gwYNwh9//IH33nsPEolE7W7h0KFDGDhwICwtLeH
l5YWpU6eipqZGWH/58mUMGzYMlpaW6NixI7799ttmz2uDL7/8Ev7+/rCwsEC3bt2wevVqYd348ePRq1cv1NbWArj
3n2jv3r0xZswYoU5GRgYGDRoEKysrODo6QqFQCBcOKpUKCQkJ6NixIywtLREYGIitW7fqFFeDnTt3ok+fPrCwsE
CnTp0wb948tf8IJBIJvvzyS4wYMQJWVlbw8/MT55A4Y8eOpeHDh9O2bdvIwsKCLly4QERE27dvJzQ6pDlz5lBgYK
DatsuXL6cOHTqotWVra0sxMTGUm5tLX331FQEghUJBCxcupPz8fFqwYAGZmZkJ+ykuLiYA1L59e9q6dSudPXuW
3nzzTbK1taWKigoiIrp+/bowrElOTg4dP36cIiMjafDgwcK+w8PDycbGhj744APKzc2l3Nxcrce7bNkysrOzo02bNlFubi5
9+OGHZGZmRvn5+UREVFpaSj169KB//vOfVFpaqjGCw/37mzZtGuXm5tJ///tfsrKyoi+++EKo8+abb1L//v3pwIEDVF
BQQEuXLiWZTCbs67fffiMTExOaP38+5eXl0fr168nS0lJthIMOHTqQra0tJSQkUF5eHv373/8mqVRKv/zyi1AHjSb3q
KurI39/fxo/fjydOnWKzp49SyNHjqSuXbuqTdLRWGxsLL344otEdG+kCycnJ3JxcaGff/6ZiIj++9//kqenp1pMTk5OtGr
VKjp37hwlJCSQiYmJcM6rq6vJ3d2d/vrXv9Lp06cpJSWFOnbsKIymoU3DCBy9evWiX375hQoKCujq1auUnZ1Na9eu
pdOnT1N+fj7Nnj2bLCwshGGFrl69Su3bt6f58+cLQ+gQERUUFJC1tTUtX76c8vPzKSMjg3r37k3R0dHCPp9//nkKDA
ykzMxM+u2336h///5kaWlJy5cvbzLO//73v+Tu7k4//PADFRUV0Q8//EBOTk6UlJRERPeGQerUqRO9++67RET0/vvvk
4+PD1VWVhIR0YkTJ0gmk9E777xD2dnZdObMGVqxYgVduXKFiIg+/vhj6tatGyUnJ1NhYSGtX7+eZDIZpaWlqZ2n
69evExHR+vXryd7eXojvwIEDZGdnR0lJSVRYWEi//PIL+fj40Ny5c4U6Dd+3jRs30rlz52jq1KniHBKnIXkRET311FM
0fvx4Imp58urQoQMplUqhrGvXrjRw4EDhc319PVlbWwsz5DQkr8bDuNy9e5fat29PS5YsISKiBQsW0NChQ9X2feHC
BQIgDCETHh5OvXv3fuDxenh40MKFC9XK+vXrR5MnTxY+BwYG0pw5c5ptJzw8nPz9/UmlUgll06dPJ39/fyIi+uOP
P0gqlQqz/DQYMmSIMLbUyJEjKTIyUm39Bx98QN27dxc+d+jQgZ577jm1OlFRUfT8888Lnxsnr2+++Ya6du2qFldtbS
1ZWlrSnj17tB7Ljz/+SPb29lRfX0/Z2dnk5uZG06ZNo+nTpxPRvSQ8cuRItZj+/ve/C59VKhW5urrSmjVriIjoiy++IEdHR
Maurice B.ipynb.pdf[1/2/2024 11:21:01
PM]
7Upy3bt2qUxq09jDV/KHTt2aF3fWI8ePWjFihVq8dyfcCZMmEBvv/22WtnBgwfJxMSEbt++TXl5eQSAjh07JqxvmIm
oueTVuXNn2rhxo1rZggUL1MYUO3z4MJmZmVFcXByZmprSwYMHhXVvvPEGDRgwQGvbd+7cISsrKzp8+LDGs
TSM4fag5DVkyBBatGiR2vbffPMNubu7C58B0OzZs4XP1dXVJPox7JcsWYJnn30W77//fovb6NGjB0xM/v8OWi6XC
xMoAIBUKoWzs7PG8MaNR7E0NTVF3759kZOTAwA4efIkUlNTYWNjo7G/wsJCdOnSBcC9kTabU1VVhUuXLmH
AgAFq5QMGDMDJkyd1PML/99RTT6ndpoSFheFf//oXlEolTp8+DaVSKcTWoLa2VuhHy8nJwfDhwzViSUxMhFKph
FQqFdptLCwsrMkO6pMnT6KgoAC2trZq5Xfu3EFhYaHWbQYOHIibN2/ixIkTOHz4MMLDwzFo0CDhIU56ejo++O
ADtW169eol/FkikagNWZ2Tk4PAwEBYW1urHZdKpUJeXp7G5BeNNZ4pCQCqq6sxd+5c7Nq1C6Wlpaivr8ft27dx/vz
5JttoOA+nTp1SuxUkIqhUKhQXFyM/Px+mpqZq/2a6devW7JO7mpoaFBYWYsKECXjrrbeE8vr6etjb2wufw8LC8P77
72PBggWYPn06nn76aWFddnY2XnvtNa3tFxQU4NatW4iMjFQrb7j11MXJkyeRkZGBhQsXCmVKpRJ37tzBrVu3YG
VlBUD978/a2lr8E3A888wzUCgUmDlzJqKjo9XWmZiYqPXnAFAberiBmZmZ2meJRKK1TKVS6RxXdXU1hg0bhiV
Llmisc3d3F/7c+MtibNXV1ZBKpcjKyhKSUANtSdiQ+w0ODtbaf9OuXTut2zg4OCAwMBBpaWnIzMxEZGQknnnmG
URFRSE/Px/nzp1DeHi42jYP+3falPv/Dt9//33s3bsXn376KXx9fWFpaYlXX331gQ9kqqurMXHiREydOlVjnbe3N/Lz8/
WOraHPbt26dcIw3A0a/x2rVCpkZGRAKpWq9RMCaHaM/Ib2d+3aBU9PT7V1MplM5xjnzZuHv/71rxrrLCwshD/f//cn
+uQFAIsXL0ZQUBC6du2qVt6uXTuUlZWBiISrDUO+m3XkyBE888wzAO79T5aVlYUpU6YAAPr06YMffvgBPj4+
MDVt+Wm2s7ODh4cHMjIy1L6MGRkZCAkJ0bu9hrkTGx+Dn58fpFIpevfuDaVSicuXL2PgwIFat/f390dGRoZaWUZ
GBrp06aL2ZThy5IjGfvz9/bW22adPH2zZsgWurq6ws7PT+VjCw8ORmpqKY8eOYeHChXBycoK/vz8WLlwId3d3jSvI
5vj7+yMpKQk1NTVCMsrIyICJiYnGv6sHycjIQHR0NEaMGAHg3pfz/ocP5ubmUCqVamV9+vTB2bNn4evrq7Xdbt26
Cf/O+vXrB+DeePj3T+7RmFwuh4eHB4qKijBq1Kgm6y1duhS5ublIT0+HQqHA+vXrMW7cOAD3rnhSUlIwb948je26
d+8OmUyG8+fPa/xnoas+ffogLy+vyeNuUpM3ym1Y4z6vBqNHjyYLCwu1Pq+zZ8+SRCKhxYsXU0FBAa1cuZIcHR0
1+rzubys8PJymTZumVta4j6Khz8vb25u2bdtGOTk59Pbbb5ONjY3QiXnx4kVq164dvfrqq3Ts2DEqKCig5ORkio6Opvr
6+ib3o83y5cvJzs6ONm/eTLm5uTR9+nS1Dnsi3fu8bGxs6L333qPc3FzauHEjWVtb09q1a4U6o0aNIh8fH6Fz9+jRo7Ro
0SL66aefiIgoKytLrcM+KSlJa4e9nZ0dLVmyhPLy8mjlypUa462jUZ9XTU0N+fn50aBBg+jAgQNUVFREqamp9I9//E
N4SKLNjh07SCqVkpubm1A2bdo0kkql9Le//U2trrY+psbnrKamhtzd3emVV16h06dP0/79+6lTp046ddg39OU0GDFiB
AUFBdGJEycoOzubhg0bRra2tmp/15GRkfTSSy/Rn3/+KfybOXnyJFlaWlJMTAydOHGC8vPzaceOHWqztzfMD3Dky
BH67bff6Omnn35gh/26devI0tKSPvvsM8rLy6NTp07R119/Tf/617+IiOj48eNkbm5OP/74IxERff7552Rra0uFhYVERJS
Xl0fm5ub0zjvv0MmTJyknJ4dWr14txD1r1ixydnampKQkKigooKysLPr3v/8tPBB4UJ9XcnIymZqa0ty5c+nMmTN09ux
Z2rRpE82aNUuo0/jfi1DW5BG3YdoSTnFxMZmbm9P9+XjNmjXk5eVF1tbWNGbMGFq4cKHBktfGjRspJCSEzM3N
qXv37rR//361bfLz82nEiBHk4OBAlpaW1K1bN3r33XeFjmldk5dSqaS5c+eSp6cnmZmZUWBgoPBUrYGuyWvy5Mk0
adIksrOzI0dHR/roo4/UOsrr6uooPj6efHx8yMzMjNzd3WnEiBF06tQpoc7WrVupe/fuZGZmRt7e3rR06VKNczVv3jx67
bXXyMrKitzc3Oizzz5Tq3P/P8bS0lIaM2YMubi4kEwmo06dOtFbb70lPPHS5urVqySRSCgqKkooa3ho0zghN8TUXPIiI
jp16hQNHjyYLCwsyMnJid56660mn9wSNZ28iouLafDgwWRpaUleXl60cuVKjb/rzMxM6tWrF8lkMrV/s8eOHaPIyEi
ysbEha2tr6tWrl9rDmtLSUnrxxRdJJpORt7c3bdiwQeux3e/bb78Vxr93dHSkZ555hrZt20a3b9+m7t27azwoeOmll6h///7C
f7RpaWnUv39/kslk5ODgQAqFQjhulUpFiYmJ1LVrVzIzM6N27dqRQqGg9PR0refp/uRFdC+BNTw5tbOzo5CQELW
n4NqSF49h/wQZNGgQgoKCWv3Nbh8fH7z77rt49913W3U/7Mkm2pdUGWNPNk5ejDFR4ttGxpgo8ZUXY0yUOHk
xxkSJkxdjTJQ4eTHGRImTF2NMlDh5McZEiZMXY0yUOHkxxkTp/wBahHVToh9GTQAAAABJRU5ErkJggg==",
"text/plain": [
"<Figure size 300x300 with 1 Axes>"
]
},
"metadata": {},
"output_type": "display_data"
},
{
"data": {
"image/png":
"iVBORw0KGgoAAAANSUhEUgAAAS8AAAE8CAYAAACRnDftAAAAOXRFWHRTb2Z0d2FyZQBNYXRwbG9
0bGliIHZlcnNpb24zLjcuMSwgaHR0cHM6Ly9tYXRwbG90bGliLm9yZy/bCgiHAAAACXBIWXMAAA9hAAAPYQ
GoP6dpAAA4+0lEQVR4nO3de1hU1f4/8PcwwHC/63ARQcULioKBEJqhCU7lMfOUx9KjoF208HjhVykpXlM0Sym1
LCs5laZpahcLMxBTJEkUL8lFbulRQPECigoy8/n94cP+umWAGRyc2fp5Pc9+Hmfttff+rBnm495rr9lLRkQExhiTGDN
jB8AYY63ByYsxJkmcvBhjksTJizEmSZy8GGOSxMmLMSZJnLwYY5LEyYsxJkmcvBhjksTJi7W50tJSyGQyJCcnGz
sU9gDh5MXuWXJyMmQymdZl1qxZxg7vnpWVlWHWrFkYPHgw7O3tIZPJkJ6ebuywHnrmxg6APTgWLlyITp06ico
CAgLg4+ODGzduwMLCwkiR3Zv8/HwsW7YMXbt2Re/evZGZmWnskBg4eTEDeuqppxASEqJ1nZWV1X2O5raamhr
Y2tre0z6Cg4Nx8eJFuLi4YOvWrRg1apSBomP3gi8bWZtrqs9ry5Yt6NmzJ6ysrBAQEIDt27cjJiYGvr6+Qp309HStl2na9
hkTEwM7OzsUFRXh6aefhr29PcaOHQsA0Gg0SEpKQq9evWBlZQWlUolJkybh8uXLLcZvb28PFxeX1jaftRE+82IGU
Maurice B.ipynb.pdf[1/2/2024 11:21:01
PM]
1VVhcrKSlGZm5ub1ro7d+7E6NGj0bt3byQmJuLy5ct46aWX4OXldU8x1NfXQ6VS4bHHHsN7770HGxsbAMCkSZO
QnJyMCRMmYOrUqSgpKcHq1atx5MgRZGRkSPaS9mHGyYsZTGRkZKOyph4XFx8fDy8vL2RkZMDOzg4AMGTI
EAwaNAg+Pj6tjqG2thajRo1CYmKiULZ//3589tln2LBhA8aMGSOUDx48GE8++SS2bNkiKmfSwMmLGcyaNWvQrV
u3FuudO3cOx48fx9tvvy0kLgCIiIhA7969UV1dfU9xvPbaa6LXW7ZsgaOjI6KiokRnhsHBwbCzs8OePXs4eUkQJy9m
MKGhoU122N/p77//BgD4+fk1Wufn54fDhw+3OgZzc3N06NBBVHbq1ClUVVWhffv2Wrc5f/58q4/HjIeTFzNpMplM
a7lardZarlAoYGYmvg+l0WjQvn17bNiwQes27dq1u7cgmVFw8mL3XUOfVmFhYaN1d5c5OzsDAK5cuSIqbzh700W
XLl3w22+/YcCAAbC2ttYzWmaqeKgEu+88PT0REBCAL7/8EteuXRPK9+7di+PHj4vq+vj4QC6X4/fffxeVf/TRRzof7
1//+hfUajUWLVrUaF19fX2jxMikgc+8mFEsWbIEI0aMwIABAzBhwgRcvnwZq1evRkBAgCihOTo6YtSoUVi1ahVk
Mhm6dOmCn376Sa9+qoiICEyaNAmJiYnIycnB0KFDYWFhgVOnTmHLli344IMP8Pzzzze7j3feeQcA8NdffwEAvvrq
K+zfvx8AMGfOHH2bzwyBGLtH69evJwD0559/al1fUlJCAGj9+vWi8k2bNlGPHj1IoVBQQEAA/fDDD/Tcc89Rjx49
RPUuXLhAzz33HNnY2JCzszNNmjSJTpw40Wif0dHRZGtr22Scn376KQUHB5O1tTXZ29tT79696a233qJz58612EYA
TS7MOGREPG8jMx1BQUFo164ddu/ebexQmInjPi9mFLdu3UJ9fb2oLD09HUePHsWgQYOMExSTFD7zYkZRWlqK
yMhI/Pvf/4anpyfy8vKwdu1aODo64sSJE3B1dTV2iMzEcYc9MwpnZ2cEBwfjs88+w4ULF2Bra4thw4Zh6dKlnLiYTvj
MizEmSdznxRiTJE5ejDFJeuj6vDQaDc6dOyc8i5wxZlqICFevXoWnp2ej36ne6aFLXufOnYO3t7exw2CMteDMmTON
nhByp4cuednb2wO4/cY4ODgYORrG2N2qq6vh7e0tfFeb8tAlr4ZLRQcHB05ejJmwlrp1uMOeMSZJnLwYY5LEyYsxJ
klG7fP6/fffsXz5cmRnZ6OsrAzbt2/Hs88+2+w26enpiIuLw19//QVvb2/MmTMHMTExbRKfv78/CgsLIZfLIZfL0bdvXz
z11FNITU2Fs7MzbGxsMGTIEBw9ehRpaWmws7ODQqHA0KFD0a5dO6Snp8PCwgK3bt3CkCFDhDgLCgpQVFQE
uVwOtVoNPz8/FBcX4+DBgwgPD0dUVBQAYNeuXTh48CC8vb3h7u4OPz8/dO3atU3aqq+GNphSTOwhY8TH8dDP
P/9Ms2fPpm3bthEA2r59e7P1i4uLycbGhuLi4ujkyZO0atUqksvllJKSovMxq6qqCABVVVU1WWfq1KnNPr+ptYu5uT
k9+uijLdZzcnIiR0dHretUKhVdunRJ5/Ya2sWLF0mlUplUTOzBost3lIjIZJ6kpkvyeuutt6hXr16istGjR5NKpdL5OLq8M
W2RuAy1yOVyvdpraCqViuRyuUnFxB4suiYvSfV5ZWZmNprYVKVSITMzs8ltamtrUV1dLVqa4+/vb5BY24parcauX
btw6tSp+37sgoIC7Nq1q9HMPcaMiT28JJW8ysvLoVQqRWVKpRLV1dW4ceOG1m0SExPh6OgoLC2Nrtc2o40pMka
cRUVFza6XynvHHgySSl6tER8fj6qqKmE5c+ZMs/W1TYRqiowRZ5cuXZpdL5X3jj0YJJW83N3dUVFRISqrqKiAg4
NDk/PxKRQKYTS9LqPqc3NzDRZvW5DL5VCpVEa5w9etWzeoVCrI5XKTiYk9vCSVvMLDw5Gamioq2717N8LD
ww16nDfffNOg+2tgbm6ORx99tMV6zs7OcHR01LouMjIS33zzjaFD09k333zTqN/R2DGxh5NRn6R67do1oZ+kb9++
WLFiBQYPHgwXFxd07NgR8fHxOHv2LL788ksAQElJCQICAhAbG4uJEyciLS0NU6dOxc6dO6FSqXQ6ZnV1NRwd
HVFVVdXiWVivXr1QUFAgGuf1j3/8A7/++itcXFxgbW2NIUOG4MSJE9i9ezfs7e1haWmJoUOHwt3dHampqbC0tER
dXZ1onNepU6dQWFgIc3Nz1NfXw8/PD6WlpcjMzBSN89q9ezcyMzPRsWNHKJVKkxpT1dAGU4qJPRh0/o7el3ufTd
izZ4/W4QDR0dFEdHsevoiIiEbbBAUFkaWlJXXu3LnRXIAt0fU2LGPMOHT9jj50z7DX58yLMXb/6fodlVSfF2OMNe
DkxRiTJE5ejDFJ4uTFGJMkTl6MMUni5MUYkyROXowxSeLkxRiTJE5ejDFJ4uTFGJMkTl6MMUni5MUYkyROXo
wxSeLkxRiTJE5ejDFJ4uTFGJMkTl6MMUni5MUYkyROXowxSeLkxRiTJE5ejDFJ4uTFGJMkTl6MMUni5MUYkyR
OXowxSeLkxRiTJE5ejDFJ4uTFGJMkTl6MMUni5MUYkyROXowxSTJ68lqzZg18fX1hZWWFsLAwZGVlNVs/KSkJ
3bt3h7W1Nby9vTFjxgzcvHnzPkXLGDMVRk1emzdvRlxcHObNm4fDhw8jMDAQKpUK58+f11p/48aNmDVrFubNm
4fc3Fx8/vnn2Lx5M95+++37HDljzNiMmrxWrFiBV155BRMmTEDPnj2xdu1a2NjY4IsvvtBa/8CBAxgwYADGjBkDX
19fDB06FC+++GKLZ2uMsQeP0ZJXXV0dsrOzERkZ+X/BmJkhMjISmZmZWrfp378/srOzhWRVXFyMn3/+GU8//X
STx6mtrUV1dbVoYYxJn7mxDlxZWQm1Wg2lUikqVyqVyMvL07rNmDFjUFlZicceewxEhPr6ekyePLnZy8bExEQs
WLDAoLEzxozP6B32+khPT8eSJUvw0Ucf4fDhw9i2bRt27tyJRYsWNblNfHw8qqqqhOXMmTP3MWLGWFsx2pmX
m5sb5HI5KioqROUVFRVwd3fXuk1CQgLGjRuHl19+GQDQu3dv1NTU4NVXX8Xs2bNhZtY4FysUCigUCsM3gDF
mVEY787K0tERwcDBSU1OFMo1Gg9TUVISHh2vd5vr1640SlFwuBwAQUdsFyxgzOUY78wKAuLg4REdHIyQkBK
GhoUhKSkJNTQ0mTJgAABg/fjy8vLyQmJgIABg+fDhWrFiBvn37IiwsDIWFhUhISMDw4cOFJMYYezgYNXmNHj0
aFy5cwNy5c1FeXo6goCCkpKQInfinT58WnWnNmTMHMpkMc+bMwdmzZ9GuXTsMHz4cixcvNlYTGGNGIqOH7
Hqruroajo6OqKqqgoODg7HDYYzdRdfvqKTuNjLGWANOXowxSeLkxRiTJE5ejDFJ4uTFGJOkViWvr776CgMGDI
Cnpyf+/vtvALefs/X9998bNDjGGGuK3snr448/RlxcHJ5++mlcuXIFarUaAODk5ISkpCRDx8cYY1rpnbxWrVqFdevW
Yfbs2aJR7SEhITh+/LhBg2OMsabonbxKSkrQt2/fRuUKhQI1NTUGCYoxxlqid/Lq1KkTcnJyGpWnpKTA39/fEDExxli
L9P5tY1xcHGJjY3Hz5k0QEbKysvDNN98gMTERn332WVvEyBhjjeidvF5++WVYW1tjzpw5uH79OsaMGQNPT098
8MEHeOGFF9oiRsYYa+Sefph9/fp1XLt2De3btzdkTG2Kf5jNmGnT9Tt6T4/EsbGxgY2Nzb3sgjHGWkXvDvuKigqM
GzcOnp6eMDc3h1wuFy2MMXY/6H3mFRMTg9OnTyMhIQEeHh6QyWRtERdjjDVL7+S1f/9+7Nu3D0FBQW0QDm
OM6Ubvy0Zvb2+e7IIxZnR6J6+kpCTMmjULpaWlbRAOY4zpRu/LxtGjR+P69evo0qULbGxsYGFhIVp/6dIlgwXHG
GNN0Tt58ZMjGGOmQO/kFR0d3RZxMMaYXnRKXtXV1cJI1+rq6mbr8qh1xtj9oFPycnZ2RllZGdq3bw8nJyetY7uIC
DKZTHg4IWOMtSWdkldaWhpcXFwAAHv27GnTgBhjTBc8YzZjzKQY9IfZx44d0/nAffr00bkuY4y1lk7JKygoCDKZ
rMWR9dznxRi7X3RKXiUlJW0dB2OM6UWn5OXj49PWcTDGmF5a9TDCU6dOYc+ePTh//jw0Go1o3dy5cw0SGGO
MNUfvH2avW7cO/v7+mDt3LrZu3Yrt27cLy44dO/QOYM2aNfD19YWVlRXCwsKQlZXVbP0rV64gNjYWHh4eUCg
U6NatG37++We9j8sYkza9z7zeeecdLF68GDNnzrzng2/evBlxcXFYu3YtwsLCkJSUBJVKhfz8fK3Pxa+rq0NUVBTat2
+PrVu3wsvLC3///TecnJzuORbGmMSQnuzt7amoqEjfzbQKDQ2l2NhY4bVarSZPT09KTEzUWv/jjz+mzp07U11dXau
Maurice B.ipynb.pdf[1/2/2024 11:21:01
PM]
PWVVVRQCoqqqq1ftgjLUdXb+jel82jho1Cr/++us9J826ujpkZ2cjMjJSKDMzM0NkZCQyMzO1bvPDDz8gPDwcsbG
xUCqVCAgIwJIlS5odnlFbW4vq6mrRwhiTPr0vG/38/JCQkIA//vgDvXv3bvQ8r6lTp+q0n8rKSqjVaiiVSlG5UqlEXl6e1
m2Ki4uRlpaGsWPH4ueff0ZhYSFef/113Lp1C/PmzdO6TWJiIhYsWKBTTIwx6dD750GdOnVqemcyGYqLi3Xaz7lz5+
Dl5YUDBw4gPDxcKH/rrbewd+9eHDx4sNE23bp1w82bN1FSUiLMVLRixQosX74cZWVlWo9TW1uL2tpa4XV1dT
W8vb3550GMmag2m7fRUANW3dzcIJfLUVFRISqvqKiAu7u71m08PDxgYWEhmmLN398f5eXlqKurg6WlZaNtFAo
FFAqFQWJmjJkOvfu87kRErZ6Mw9LSEsHBwUhNTRXKNBoNUlNTRWdidxowYAAKCwtFY8sKCgrg4eGhNXEx
xh5crUpeX375JXr37g1ra2tYW1ujT58++Oqrr/TeT1xcHNatW4f//ve/yM3NxWuvvYaamhpMmDABADB+/HjEx8cL9
V977TVcunQJ06ZNQ0FBAXbu3IklS5YgNja2Nc1gjEmY3peNK1asQEJCAqZMmYIBAwYAuD2X4+TJk1FZWYkZ
M2bovK/Ro0fjwoULmDt3LsrLyxEUFISUlBShE//06dMwM/u//Ort7Y1du3ZhxowZ6NOnD7y8vDBt2jSDjDljjElLqzrs
FyxYgPHjx4vK//vf/2L+/Pkm/yNufp4XY6ZN1++o3peNZWVl6N+/f6Py/v37N3nHjzHGDE3v5OXn54dvv/22UfnmzZv
RtWtXgwTFGGMt0bvPa8GCBRg9ejR+//13oc8rIyMDqampWpMaY4y1Bb3PvJ577jkcPHgQbm5u2LFjB3bs2AE3Nzd
kZWVh5MiRbREjY4w1whNwMMZMSpt12DPGmCng5MUYkyROXowxSeLkxRiTJE5ejDFJ0nuc18iRIyGTyRqVy2
QyWFlZwc/PD2PGjEH37t0NEiBjjGmj95mXo6Mj0tLScPjwYchkMshkMhw5cgRpaWmor6/H5s2bERgYiIyMjLaIlzH
GALTizMvd3R1jxozB6tWrhSc+aDQaTJs2Dfb29ti0aRMmT56MmTNnYv/+/QYPmDHGgFYMUm3Xrh0yMjLQrVs3
UXlBQQH69++PyspKHD9+HAMHDsSVK1cMGatB8CBVxkxbmw1Sra+v1zpBRl5enjCLj5WVldZ+McYYMxS9Lxv
HjRuHl156CW+//Tb69esHAPjzzz+xZMkS4Rlfe/fuRa9evQwbKWOM3UHv5LVy5UoolUq8++67wuQZSqUSM2bME
J5oOnToUDz55JOGjZQxxu5wTz/MbpjAVUp9R9znxZhpa7Opz+7EX37GmLHo3WFfUVGBcePGwdPTE+bm5pDL5
aKFMcbuB73PvGJiYnD69GkkJCTAw8OD7yoyxoxC7+S1f/9+7Nu3D0FBQW0QDmOM6Ubvy0Zvb+9Wz5LNGGO
GonfySkpKwqxZs1BaWtoG4TDGmG70vmwcPXo0rl+/ji5dusDGxgYWFhai9ZcuXTJYcIwx1hS9k1dSUlIbhMEYY/r
RO3lFR0e3RRyMMaYXnZJXdXW1MCC1YVR9U3jgKmPsftApeTk7O6OsrAzt27eHk5OT1rFdRASZTCY8WYIxxtq
STskrLS0NLi4uAIA9e/a0aUCMMaYLnZJXREQEgNvP8tq7dy8mTpyIDh06tGlgjDHWHL3GeZmbm2P58uWor683a
BBr1qyBr68vrKysEBYWhqysLJ2227RpE2QyGZ599lmDxsMYM316D1J94oknsHfvXoMFsHnzZsTFxWHevHk4fPg
wAgMDoVKpcP78+Wa3Ky0txRtvvIGBAwcaLBbGmHTo/TyvtWvXYsGCBRg7diyCg4Nha2srWv/MM8/oFUBYWB
j69euH1atXA7g9mYe3tzf+85//YNasWVq3UavVePzxxzFx4kTs27cPV65cwY4dO3Q6Hj/PizHT1mbP83r99dcBACtWr
Gi0Tt+7jXV1dcjOzkZ8fLxQZmZmhsjISGRmZja53cKFC9G+fXu89NJL2LdvX7PHqK2tRW1trfC6paEejDFp0PuyUaP
RNLnoO0yisrISarUaSqVSVK5UKlFeXq51m/379+Pzzz/HunXrdDpGYmIiHB0dhcXb21uvGBljpknv5HWnmzdvGioO
nVy9ehXjxo3DunXr4ObmptM28fHxqKqqEpYzZ860cZSMsftB78tGtVqNJUuWYO3ataioqEBBQQE6d+6MhIQE+Pr6
4qWXXtJ5X25ubpDL5cJEHg0qKirg7u7eqH5RURFKS0sxfPhwoUyj0dxuiLk58vPz0aVLF9E2CoUCCoVCnyYyxiRA
7zOvxYsXIzk5Ge+++y4sLS2F8oCAAHz22Wd67cvS0hLBwcFITU0VyjQaDVJTUxEeHt6ofo8ePXD8+HHk5OQIyzP
PPIPBgwcjJyeHLwkZe4jofeb15Zdf4tNPP8WQIUMwefJkoTwwMFDrZLQtiYuLQ3R0NEJCQhAaGoqkpCTU1NRgw
oQJAIDx48fDy8sLiYmJsLKyQkBAgGh7JycnAGhUzhh7sOmdvM6ePQs/P79G5RqNBrdu3dI7gNGjR+PChQuYO3cu
ysvLERQUhJSUFKET//Tp0zAzu6euOcbYA0jv5NWzZ0/s27cPPj4+ovKtW7eib9++rQpiypQpmDJlitZ16enpzW6bnJzc
qmMyxqRN7+Q1d+5cREdH4+zZs9BoNNi2bRvy8/Px5Zdf4qeffmqLGBljrBG9r8dGjBiBH3/8Eb/99htsbW0xd+5c5Ob
m4scff0RUVFRbxMgYY43o/fMgqeOfBzFm2nT9jnJPOGNMknR+kqquM2Pz7EGMsftBp+R154xBFy9exDvvvAOVS
iUMJM3MzMSuXbuQkJDQJkEyxtjd9O7zeu655zB48OBGQxtWr16N3377TedH0xgL93kxZtrarM9r165dePLJJxuVP/n
kk/jtt9/03R1jjLWK3snL1dUV33//faPy77//Hq6urgYJijHGWqL3INUFCxbg5ZdfRnp6OsLCwgAABw8eREpKis7P2GK
MsXuld/KKiYmBv78/PvzwQ2zbtg0A4O/vj/379wvJjDHG2ppeyevWrVuYNGkSEhISsGHDhraKiTHGWqRXn5eFhQ
W+++67toqFMcZ0pneH/bPPPmvywyEYYw8+vfu8unbtioULFyIjI0Pr1GdTp041WHCMMdYUvQepdurUqemdyWQo
Li6+56DaEg9SZcy0tdm8jSUlJfcUGGOMGUKrnypRWVmJyspKQ8bCGGM60yt5XblyBbGxsXBzc4NSqYRSqYSbm
xumTJmCK1eutFGIjDHWmM6XjZcuXUJ4eDjOnj2LsWPHwt/fHwBw8uRJJCcnIzU1FQcOHICzs3ObBcsYYw10Tl4
LFy6EpaUlioqKhJl97lw3dOhQLFy4ECtXrjR4kIwxdjedLxt37NiB9957r1HiAgB3d3e8++672L59u0GDY4yxpuicvMrK
ytCrV68m1wcEBKC8vNwgQTHGWEt0Tl5ubm4oLS1tcn1JSQlcXFwMERNjjLVI5+SlUqkwe/Zs1NXVNVpXW1uLh
IQErQ8pZIyxtqDzCPv//e9/CAkJgUKhQGxsLHr06AEiQm5uLj766CPU1tbi0KFD8Pb2buuY7wmPsGfMtBl8hH2HDh
2QmZmJ119/HfHx8WjIeTKZDFFRUVi9erXJJy7G2INDr58HderUCb/88gsuX76MU6dOAQD8/Py4r4sxdt/p/dtG4PY8
jqGhoYaOhTHGdMYzZjPGJImTF2NMkkwiea1Zswa+vr6wsrJCWFgYsrKymqy7bt06DBw4EM7OznB2dkZkZGSz9R
ljDyajJ6/NmzcjLi4O8+bNw+HDhxEYGAiVSoXz589rrZ+eno4XX3wRe/bsQWZmJry9vTF06FCcPXv2PkfOGDMmv
Z+kamhhYWHo168fVq9eDQDQaDTw9vbGf/7zH8yaNavF7dVqNZydnbF69WqMHz++xfo8zosx06brd9SoZ151dXXI
zs5GZGSkUGZmZobIyEhkZmbqtI/r16/j1q1bTQ7XqK2tRXV1tWhhjEmfUZNXZWUl1Gp1oydVKJVKnX/kPXPmTH
h6eooS4J0SExPh6OgoLDyQlrEHg9H7vO7F0qVLsWnTJmzfvh1WVlZa68THx6OqqkpYzpw5c5+jZIy1hVYNUjUUN
zc3yOVyVFRUiMorKirg7u7e7Lbvvfceli5dit9++w19+vRpsp5CoYBCoTBIvIwx02HUMy9LS0sEBwcjNTVVKNNoN
EhNTUV4eHiT27377rtYtGgRUlJSEBIScj9CZYyZGKOeeQFAXFwcoqOjERISgtDQUCQlJaGmpgYTJkwAAIwfPx5e
Xl5ITEwEACxbtgxz587Fxo0b4evrK/SN2dnZwc7OzmjtYIzdX0ZPXqNHj8aFCxcwd+5clJeXIygoCCkpKUIn/unTp2F
m9n8niB9//DHq6urw/PPPi/Yzb948zJ8//36GzhgzIqOP87rfeJwXY6ZNEuO8GGOstTh5McYkiZMXY0ySOHkxxiSJkx
djTJI4eTHGJImTF2NMkjh5McYkiZMXY0ySOHkxxiSJkxdjTJI4eTHGJImTF2NMkjh5McYkiZMXY0ySOHkxxiSJk
Maurice B.ipynb.pdf[1/2/2024 11:21:01
PM]
xdjTJI4eTHGJImTF2NMkjh5McYkiZMXY0ySOHkxxiSJkxdjTJI4eTHGJImTF2NMkjh5McYkiZMXY0ySOHkxxiSJ
kxdjTJI4eTHGJImTF2NMksyNHQAArFmzBsuXL0d5eTkCAwOxatUqhIaGNll/y5YtSEhIQGlpKbp27Yply5bh6aefNn
hcMpmsVduZm5tDoVCgpqZGKHN3d4eNjQ1KS0shk8kgk8lgb28Pb29vREVFYefOnSgsLIRCoYCtrS0GDhwIb29vp
KWlwc/PD4GBgQgPD8dHH32EAwcOwM3NDUqlEkOHDkVFRQXS0tLg7u6O9u3bY8iQIejfvz+Kiopw5MgR5Obm
olevXggMDISfnx+Ki4tx8OBBhIeHIyoqCgCwa9cuHDx4EBYWFrh165Zo3Z0KCgpQVFQEuVwOtVoNPz8/dO3atcn3
oqF+S/UaNMQRHh4OHx8fvY6l7ZhE1OTx9Y3tQaHvZ2jIYxr0WGRkmzZtIktLS/riiy/or7/+oldeeYWcnJyooqJCa/2Mj
AySy+X07rvv0smTJ2nOnDlkYWFBx48f1+l4VVVVBICqqqqarAPgoVkcHR3J2dlZ6zpXV1cqLi4mIqKLFy+SSqXS
Wk+lUtGlS5dE76G2+trqNSgsLCRXV9cW421uH83FeOe2+sb2oND3M2yrY7Z0LF2+o0RERk9eoaGhFBsbK7xWq9
Xk6elJiYmJWuv/61//omHDhonKwsLCaNKkSTodj5OXfourqysREalUKpLL5VrryOVyUqlUovdQW31t9Rrokrha2kdz
Md65rb6xPSj0/Qzb6pgtHUsSyau2tpbkcjlt375dVD5+/Hh65plntG7j7e1NK1euFJXNnTuX+vTpo7X+zZs3qaqqSljOnDn
T7Btj7GRhissXX3yhU72CggIiIsrPz9epXoOUlBS9Y7p7Hy0ds7X7fVDo+v4Ysv36/h000DV5GbXDvrKyEmq1GkqlUl
SuVCpRXl6udZvy8nK96icmJsLR0VFYvL29DRP8QyQtLU2neoWFhQCAoqIineo1OHjwoN4x3b2Plo7Z2v0+KHR9f
wzZfn3/DvT1wN9tjI+PR1VVlbCcOXPG2CFJzhNPPKFTPT8/PwBAly5ddKrXICwsTO+Y7t5HS8ds7X4fFLq+P4Zsv
75/B/oyavJyc3ODXC5HRUWFqLyiogLu7u5at3F3d9ervkKhgIODg2hpDhHp0YIHn6urKyZMmACVSgW5XK61jlwu
h0qlEu4idevWTWv9u+s1UKlUcHV11SmepvbR1DG1batPbA+Klt6ftmi/vn8HejPYBW4rhYaG0pQpU4TXarWavLy8
mu2w/8c//iEqCw8P5w77Vi663m28dOmSXneqtNVv7i5TcXHxPd9tbC7GO7fVN7YHhb6fYVsd01B3G2VExj3V2Lx5
M6Kjo/HJJ58gNDQUSUlJ+Pbbb5GXlwelUonx48fDy8sLiYmJAIADBw4gIiICS5cuxbBhw7Bp0yYsWbIEhw8fRkBA
QIvHq66uhqOjI6qqqlo8CzP0OC9bW1uUlJRoHef1yy+/oKCgQDTOy9fXF7t370bXrl3Rp08fhIeH45NPPsG+fftE47wq
Kyuxe/du0TivAQMGoLCwEEePHsVff/0lGudVWlqKzMxM0Viu3bt3IzMzE5aWlqirq2tynNepU6dQWFgIc3Nz1NfXt
zhup6G+ruN7GuIIDw+Hr6+vXsfSdkwATR5f39geFPp+hoY8pi7H0vk7atg82zqrVq2ijh07kqWlJYWGhtIff/whrIuIiKD
o6GhR/W+//Za6detGlpaW1KtXL9q5c6fOx9I1qzPGjEMyZ173mz5nXoyx+0/X7+gDf7eRMfZg4uTFGJMkTl6MMUky
iadK3E8NXXzV1dVGjoQxpk3Dd7Ol7viHLnldvXoVAPhnQoyZuKtXr8LR0bHJ9Q/d3UaNRoNz587B3t6+xXFc1dX
V8Pb2xpkzZyR7Z5LbYBq4DbojIly9ehWenp4wM2u6Z+uhO/MyMzNDhw4d9NpGl58VmTpug2ngNuimuTOuBtxhzx
iTJE5ejDFJ4uTVDIVCgXnz5kGhUBg7lFbjNpgGboPhPXQd9oyxBwOfeTHGJImTF2NMkjh5McYkiZMXY0ySOHk1
Yc2aNfD19YWVlRXCwsKQlZVl7JCalJiYiH79+sHe3h7t27fHs88+i/z8fFGdmzdvIjY2Fq6urrCzs8Nzzz3XaC4AU7J06
VLIZDJMnz5dKJNCG86ePYt///vfcHV1hbW1NXr37o1Dhw4J64kIc+fOhYeHB6ytrREZGYlTp04ZMeLG1Go1EhIS0
KlTJ1hbW6NLly5YtGiR6LeGJtGONnwgomTpO4u3salUKlq/fj2dOHGCcnJy6Omnn6aOHTvStWvXhDqTJ08mb29vS
k1NpUOHDtGjjz5K/fv3N2LUTcvKyiJfX1/q06cPTZs2TSg39TZcunSJfHx8KCYmhg4ePEjFxcW0a9cuKiwsFOosXbq
UHB0daceOHXT06FF65plnqFOnTnTjxg0jRi62ePFicnV1pZ9++olKSkpoy5YtZGdnRx988IFQxxTawclLC31n8TY158
+fJwC0d+9eIiK6cuUKWVhY0JYtW4Q6ubm5BIAyMzONFaZWV69epa5du9Lu3bspIiJCSF5SaMPMmTPpsccea3K9
RqMhd3d3Wr58uVB25coVUigU9M0339yPEHUybNgwmjhxoqjsn//8J40dO5aITKcdfNl4l7q6OmRnZyMyMlIoMzMz
Q2RkJDIzM40Yme6qqqoAAC4uLgCA7Oxs3Lp1S9SmHj16oGPHjibXptjYWAwbNkwUKyCNNvzwww8ICQnBqFG
j0L59e/Tt2xfr1q0T1peUlKC8vFzUBkdHR4SFhZlMGwCgf//+SE1NRUFBAQDg6NGj2L9/P5566ikAptOOh+6H2S1pb
hbvvLw8I0WlO41Gg+nTp2PAgAHCbErl5eWwtLSEk5OTqG5zM40bw6ZNm3D48GH8+eefjdZJoQ3FxcX4+OOPER
cXh7fffht//vknpk6dCktLS0RHRwtx6jPjuzHMmjUL1dXV6NGjB+RyOdRqNRYvXoyxY8cCgMm0g5PXAyY2NhYnT
pzA/v37jR2KXs6cOYNp06Zh9+7dsLKyMnY4raLRaBASEoIlS5YAAPr27YsTJ05g7dq1iI6ONnJ0uvv222+xYcMGbN
y4Eb169UJOTg6mT58OT09Pk2oHXzbepTWzeJuKKVOm4KeffsKePXtEj/1xd3dHXV0drly5IqpvSm3Kzs7G+fPn8cgj
j8Dc3Bzm5ubYu3cvPvzwQ5ibm0OpVJp8Gzw8PNCzZ09Rmb+/P06fPg0AQpym/rf15ptvYtasWXjhhRfQu3dvjBs3Dj
NmzBDmTjWVdnDyuoulpSWCg4ORmpoqlGk0GqSmpiI8PNyIkTWNiDBlyhRs374daWlp6NSpk2h9cHAwLCwsRG
3Kz8/H6dOnTaZNQ4YMwfHjx5GTkyMsISEhGDt2rPBvU2/DgAEDGg1RKSgogI+PDwCgU6dOcHd3F7WhuroaBw
8eNJk2AMD169cbPQRQLpdDo9EAMKF23LdbAxKyadMmUigUlJycTCdPnqRXX32VnJycqLy83NihafXaa6+Ro6Mj
paenU1lZmbBcv35dqDN58mTq2LEjpaWl0aFDhyg8PJzCw8ONGHXL7rzbSGT6bcjKyiJzc3NavHgxnTp1ijZs2EA2Nj
b09ddfC3WWLl1KTk5O9P3339OxY8doxIgRJjdUIjo6mry8vIShEtu2bSM3Nzd66623hDqm0A5OXk1obhZvUwNA67
J+/Xqhzo0bN+j1118nZ2dnsrGxoZEjR1JZWZnxgtbB3clLCm348ccfKSAggBQKBfXo0YM+/fRT0XqNRkMJCQmkV
CpJoVDQkCFDKD8/30jRalddXU3Tpk2jjh07kpWVFXXu3Jlmz55NtbW1Qh1TaAc/EocxJknc58UYkyROXowxSeLkx
RiTJE5ejDFJ4uTFGJMkTl6MMUni5MUYkyROXowxSeLk1QqlpaWQyWTIyckxdiiCvLw8PProo7CyskJQUJCxw2m
RTCbDjh077tvxfH19kZSUdN+Odz+ZetvS09Mhk8mEH9UnJyc3erRRa0gyecXExEAmk2Hp0qWi8h07dkAmkxkpKu
OaN28ebG1tkZ+fL/rBLDNNpp5wpECSyQsArKyssGzZMly+fNnYoRhMXV1dq7ctKirCY489Bh8fH7i6uhowKqYrIkJ
9fb2xw3hoSDZ5RUZGwt3dXXjGkDbz589vdAmVlJQEX19f4XVMTAyeffZZLFmyBEqlEk5OTli4cCHq6+vx5ptvws
XFBR06dMD69esb7T8vLw/9+/eHlZUVAgICsHfvXtH6EydO4KmnnoKdnR2USiXGjRuHyspKYf2gQYMwZcoUTJ8
+HW5ublCpVFrbodFosHDhQnTo0AEKhQJBQUFISUkR1stkMmRnZ2PhwoWQyWSYP3++1v00HG/KlClwdHSEm5
sbEhISRLPC1NbW4o033oCXlxdsbW0RFhaG9PR00X6+++479OrVCwqFAr6+vnj//fdF6319fbFo0SK8+OKLsLW1hZ
eXF9asWaM1pgZnzpzBv/71Lzg5OcHFxQUjRoxAaWlpk/VDQkLw3nvvCa+fffZZWFhY4Nq1awCA//3vf5DJZCgsLB
TqXL9+HRMnToS9vT06duyITz/9VLTP48eP44knnoC1tTVcXV3x6quvCvvTpuFy6JdffkFwcDAUCgX279+PoqIijBgx
Maurice B.ipynb.pdf[1/2/2024 11:21:01
PM]
AkqlEnZ2dujXrx9+++03YbtBgwbh77//xowZMyCTyURXC/v378fAgQNhbW0Nb29vTJ06FTU1NcL68+fPY/jw4bC2t
kanTp2wYcOGZt/XBp999hn8/f1hZWWFHj164KOPPhLWTZw4EX369EFtbS2A2/+J9u3bF+PHjxfqZGRkYNCgQbC
xsYGzszNUKpVw4qDRaJCYmCjMNhQYGIitW7fqFFeD77//Ho888gisrKzQuXNnLFiwQPQfgUwmw2effYaRI0fCxs
YGXbt2leYjcaKjo2nEiBG0bds2srKyojNnzhAR0fbt2wl3NGnevHkUGBgo2nblypXk4+Mj2pe9vT3FxsZSXl4eff755wS
AVCoVLV68mAoKCmjRokVkYWEhHKekpIQAUIcOHWjr1q108uRJevnll8ne3p4qKyuJiOjy5cvUrl07io+Pp9zcXDp
8+DBFRUXR4MGDhWNHRESQnZ0dvfnmm5SXl0d5eXla27tixQpycHCgb775hvLy8uitt94iCwsLKigoICKisrIy6tWr
F/2///f/qKysjK5evap1Pw3HmzZtGuXl5dHXX39NNjY2oicfvPzyy9S/f3/6/fffqbCwkJYvX04KhUI41qFDh8jMzIwWLlx
I+fn5tH79erK2thY9wcLHx4fs7e0pMTGR8vPz6cMPPyS5XE6//vqrUAcAbd++nYiI6urqyN/fnyZOnEjHjh2jkydP0pgx
Y6h79+6iJxncKS4ujoYNG0ZEt59w4OLiQm5ubvTLL78QEdHXX39NXl5eophcXFxozZo1dOrUKUpMTCQzMzPhPb
927Rp5eHjQP//5Tzp+/DilpqZSp06dKDo6WuvxiYj27NlDAKhPnz7066+/UmFhIV28eJFycnJo7dq1dPz4cSooKKA5c+
aQlZUV/f3330REdPHiRerQoQMtXLhQeHwREVFhYSHZ2trSypUrqaCggDIyMqhv374UExMjHPOpp56iwMBAysz
MpEOHDlH//v3J2tqaVq5c2WScX3/9NXl4eNB3331HxcXF9N1335GLiwslJycT0e1JTzp37kzTp08nIqI33niDfH19qaqq
ioiIjhw5QgqFgl577TXKycmhEydO0KpVq+jChQtERPTOO+9Qjx49KCUlhYqKimj9+vWkUCgoPT1d9D5dvnyZiIjWr
19Pjo6OQny///47OTg4UHJyMhUVFdGvv/5Kvr6+NH/+fKFOw/dt48aNdOrUKZo6dao0H4nTkLyIiB599FFhppPWJi8f
Hx9Sq9VCWffu3WngwIHC6/r6erK1tRVmRmlIXkuXLhXq3Lp1izp06EDLli0jIqJFixbR0KFDRcc+c+YMARAeHRIR
EUF9+/Ztsb2enp60ePFiUVm/fv3o9ddfF14HBgbSvHnzmt1PREQE+fv7k0ajEcpmzpxJ/v7+RET0999/k1wup7Nnz4q2G
zJkCMXHxxMR0ZgxYygqKkq0/s0336SePXsKr318fOjJJ58U1Rk9ejQ99dRTwus7k9dXX31F3bt3F8VVW1tL1tbWtG
vXLq1t+eGHH8jR0ZHq6+spJyeH3N3dadq0aTRz5kwiup2Ex4wZI4rp3//+t/Bao9FQ+/bt6eOPPyYiok8//ZScnZ1F08Xt3
LmTzMzMmnyOW8OXcseOHVrX36lXr160atUqUTx3J5yXXnqJXn31VVHZvn37yMzMjG7cuEH5+fkEgLKysoT1D
TMoNZe8unTpQhs3bhSVLVq0SPQstAMHDpCFhQUlJCSQubk57du3T1j34osv0oABA7Tu++bNm2RjY0MHDhxo1J
YXX3yRiFpOXkOGDKElS5aItv/qq6/Iw8NDeA2A5syZI7y+du0aSf4Z9suWLcMTTzyBN954o9X76NWrl+jJkUqlUpi
8Arj9FElXV1ecP39etN2dT400NzdHSEgIcnNzAdyecWXPnj2ws7NrdLyioiJ069YNwO2nnDanuroa586dw4ABA0TlA
wYMwNGjR3Vs4f959NFHRZcp4eHheP/996FWq3H8+HGo1Wohtga1tbVCP1pubi5GjBjRKJakpCSo1WrI5XJhv3cK
Dw9vsoP66NGjKCwshL29vaj85s2bKCoq0rrNwIEDcfXqVRw5cgQHDhxAREQEBg0aJNzE2bt3L958803RNn369BH
+LZPJ4O7uLnymubm5CAwMhK2trahdGo0G+fn5jSabuFNISIjo9bVr1zB//nzs3LkTZWVlqK+vx40bN4THQTfl6NGj
OHbsmOhSkIig0WhQUlKCgoICmJubi/5mevTo0eydu5qaGhQVFeGll17CK6+8IpTX19fD0dFReB0eHo433ngDixYtws
yZM/HYY48J63JycjBq1Cit+y8sLMT169cRFRUlKm+49NTF0aNHkZGRgcWLFwtlarUaN2/exPXr12FjYwNA/PnZ2t
pKfwKOxx9/HCqVCvHx8YiJiRGtMzMzE/XnAMCtW7ca7cPCwkL0WiaTaS1reAyuLq5du4bhw4dj2bJljdZ5eHgI/77z
y2Js165dg1wuR3Z2tpCEGmhLwoY8bnBwsNb+m3bt2mndxsnJCYGBgUhPT0dmZiaioqLw+OOPY/To0SgoKMCpU6
cQEREh2uZeP9Om3P0ZvvHGG9i9ezfee+89+Pn5wdraGs8//3yLN2SuXbuGSZMmYerUqY3WdezYUZiKTB8NfXbr1
q1DWFiYaN2dn7FGo0FGRgbkcrmonxAArK2tW9z/zp074eXlJVqnUCh0jnHBggX45z//2WjdnZOx3P35ST55Abenhg
8KCkL37t1F5e3atUN5eTmISDjbMOTYrD/++AOPP/44gNv/k2VnZ2PKlCkAgEceeQTfffcdfH19YW7e+rfZwcEBnp6e
yMjIEH0ZMzIyEBoaqvf+Dh482KgNXbt2hVwuR9++faFWq3H+/HkMHDhQ6/b+/v7IyMgQlWVkZKBbt26iL8Mff/z
R6Dj+/v5a9/nII49g8+bNaN++PRwcHHRuS0REBPbs2YOsrCwsXrwYLi4u8Pf3x+LFi+Hh4dHoDLI5/v7+SE5ORk1Nj
ZCMMjIyYGZm1ujvqiUZGRmIiYnByJEjAdz+ct5988HS0hJqtVpU9sgjj+DkyZPw8/PTut8ePXoIf2f9+vUDcPs5/ndPS
nInpVIJT09PFBcXC1OXabN8+XLk5eVh7969UKlUWL9+PSZMmADg9hlPamoqFixY0Gi7nj17QqFQ4PTp043+s9D
VI488gvz8/Cbb3aQmL5RN2J19Xg3GjRtHVlZWoj6vkydPkkwmo6VLl1JhYSGtXr2anJ2dG/V53b2vux8/TCTuo2jo8+r
YsSNt27aNcnNz6dVXXyU7OzuhE/Ps2bPUrl07ev755ykrK4sKCwspJSWFYmJiqL6+vsnjaLNy5UpycHCgTZs2UV5e
Hs2cOVPUYU+ke5+XnZ0dzZgxg/Ly8mjjxo1ka2tLa9euFeqMHTuWfH19hc7dgwcP0pIlS+inn34iIqLs7GxRh31ycrL
WDnsHBwdatmwZ5efn0+rVq0kul1NKSopQB3f0edXU1FDXrl1p0KBB9Pvvv1NxcTHt2bOH/vOf/wg3SbTZsWMHye
Vycnd3F8qmTZtGcrmcXnjhBVFdbX1Md75nNTU15OHhQc899xwdP36c0tLSqHPnzjp12Df05TQYOXIkBQUF0ZEj
RygnJ4eGDx9O9vb2os86KiqKnnnmGfrf//4n/M0cPXqUrK2tKTY2lo4cOUIFBQW0Y8cO0eztTz75JPXt25f++OMPOn
ToED322GMtdtivW7eOrK2t6YMPPqD8/Hw6duwYffHFF/T+++8TEdHhw4fJ0tKSfvjhByIi+uSTT8je3p6KioqIiCg/P5
8sLS3ptddeo6NHj1Jubi599NFHQtyzZ88mV1dXSk5OpsLCQsrOzqYPP/xQuCHQUp9XSkoKmZub0/z58+nEiRN08uR
J+uabb2j27NlCnTv/XoSyJltswrQlnJKSErK0tKS78/HHH39M3t7eZGtrS+PHj6fFixcbLHlt3LiRQkNDydLSknr27Elpa
WmibQoKCmjkyJHk5ORE1tbW1KNHD5o+fbrQMa1r8lKr1TR//nzy8vIiCwsLCgwMFO6qNdA1eb3++us0efJkcnBwI
GdnZ3r77bdFHeV1dXU0d+5c8vX1JQsLC/Lw8KCRI0fSsWPHhDpbt26lnj17koWFBXXs2FE07XvDe7VgwQIaNWo
U2djYkLu7O33wwQeiOnf/MZaVldH48ePJzc2NFAoFde7cmV555RXhjpc2Fy9eJJlMRqNHjxbKGm7a3JmQG2JqLnk
RER07dowGDx5MVlZW5OLiQq+88kqTd26Jmk5eJSUlNHjwYLK2tiZvb29avXp1o886MzOT+vTpQwqFQvQ3m5W
VRVFRUWRnZ0e2trbUp08f0c2asrIyGjZsGCkUCurYsSN9+eWXWtt2tw0bNlBQUBBZWlqSs7MzPf7447Rt2za6ceM
G9ezZs9GNgmeeeYb69+8v/Eebnp5O/fv3J4VCQU5OTqRSqYR2azQaSkpKou7du5OFhQW1a9eOVCoV7d27V+v7dH
fyIrqdwBrunDo4OFBoaKjoLri25MXPsH+IDBo0CEFBQW0+stvX1xfTp0/H9OnT2/Q47OEm2UGqjLGHGycvxpgk8
WUjY0yS+MyLMSZJnLwYY5LEyYsxJkmcvBhjksTJizEmSZy8GGOSxMmLMSZJnLwYY5L0/wH2v8aEKHdsNgA
AAABJRU5ErkJggg==",
Maurice B.ipynb.pdf[1/2/2024 11:21:01
PM]
"text/plain": [
"<Figure size 300x300 with 1 Axes>"
]
},
"metadata": {},
"output_type": "display_data"
}
],
"source": [
"df['justeat'] = df['justeat'].astype(int) # so that false become 0 and true become 1 then we can plot the numbers\n",
"df['thefork'] = df['thefork'].astype(int) # so that false become 0 and true become 1 then we can plot the
numbers\n",
"\n",
"df.plot.scatter(x='excellent', y='thefork',\n",
" title='Figure 1', figsize=(3,3), color='black',\n",
" xlabel='Number of people who rated excellent', ylabel='Reserving a table');\n",
"\n",
"df.plot.scatter(x='terrible', y='thefork',\n",
" title='Figure 1', figsize=(3,3), color='black',\n",
" xlabel='Number of people who rated terrible', ylabel='Reserving a table');\n",
"\n",
"\n",
"df.plot.scatter(x='excellent', y='justeat',\n",
" title='Figure 1', figsize=(3,3), color='black',\n",
" xlabel='Number of people who rated excellent', ylabel='Ordering online');\n",
"\n",
"df.plot.scatter(x='terrible', y='justeat',\n",
" title='Figure 1', figsize=(3,3), color='black',\n",
" xlabel='Number of people who rated excellent', ylabel='Ordering online');\n",
"\n",
"print(\"Correlation between thefork and number of people who rated
excellent\",df['excellent'].corr(df['thefork']).round(2))\n",
"print(\"Correlation between thefork and number of people who rated
terrible\",df['terrible'].corr(df['thefork']).round(2))\n",
"print(\"Correlation between justeat and number of people who rated
excellent\",df['excellent'].corr(df['justeat']).round(2))\n",
"print(\"Correlation between justeat and number of people who rated
terrible\",df['terrible'].corr(df['justeat']).round(2))"
]
},
{
"cell_type": "markdown",
"metadata": {
"id": "7CWZGAa1Lnpp"
},
"source": [
"After investigating more the results shows that correlation between number of photos and number of people rating
excellent is stronger than that between number of photos and number of people rating terrible. (0.82 is closer to 1 than
0.55)\n",
"\n",
"Moreover, the option of reserving a table and ordering online have a weak realtion with both number of people
rating excellent and number of people rating terrible which shows that the two variable goes in negative direction.\n",
"\n",
"I suggest Business Owner to focus more on photos than adding options like reserving tables or ordring online."
Maurice B.ipynb.pdf[1/2/2024 11:21:01
PM]
]
},
{
"cell_type": "markdown",
"metadata": {
"id": "OHZjC1GvNmZ8"
},
"source": [
"**Section 3: Work for TripAdvisor**\n",
"\n",
"I propose analyzing user ratings and restaurant reviews for patterns using machine learning models. Furthermore,
by presenting results based on prior user preference or similar user preferences, machine learning models such as
recommender systems can boost user satisfaction."
]
}
],
"metadata": {
"colab": {
"provenance": []
},
"kernelspec": {
"display_name": "Python 3",
"name": "python3"
},
"language_info": {
"name": "python"
}
},
"nbformat": 4,
"nbformat_minor": 0
}
