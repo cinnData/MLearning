{
 "cells": [
  {
   "cell_type": "markdown",
   "metadata": {},
   "source": [
    "# Example - Telecom churn prediction"
   ]
  },
  {
   "cell_type": "markdown",
   "metadata": {},
   "source": [
    "### Introduction"
   ]
  },
  {
   "cell_type": "markdown",
   "metadata": {},
   "source": [
    "The objective of this example is to develop and validate a **churn model** for a telecom company. The data set is based on a random sample of 7,032 customers. 1,869 of those customers churned during the last month, a **churning rate** of 26.6%. The available data include information about: \n",
    "\n",
    "* Customers who left within the last month.\n",
    "\n",
    "* Services that each customer has signed up for: multiple lines, online security, etc. \n",
    "\n",
    "* Customer account information:  how long they've been a customer, contract, payment method, etc.\n",
    "\n",
    "* Demographic info about customers: gender, age range, etc."
   ]
  },
  {
   "cell_type": "markdown",
   "metadata": {},
   "source": [
    "### The data set"
   ]
  },
  {
   "cell_type": "markdown",
   "metadata": {},
   "source": [
    "The data come in the file `telecom.csv`. The variables included in the data set are:\n",
    "\n",
    "* `id`, customer's unique ID.\n",
    "\n",
    "* `gender`, customer's gender (Female/Male).\n",
    "\n",
    "* `senior_citizen`, a dummy for being more than 60 years of age.\n",
    "\n",
    "* `partner`, whether the customer has a partner (Yes/No).\n",
    "\n",
    "* `dependents`, whether the customer has dependents (Yes/No).\n",
    "\n",
    "* `tenure`, number of months the customer has stayed with the company.\n",
    "\n",
    "* `phone_service`, whether the customer has a phone service (Yes/No).\n",
    "\n",
    "* `multiple_lines`, whether the customer has multiple lines (Yes/No/No phone service).\n",
    "\n",
    "* `internet_service`, customer's internet service provider (DSL/Fiber optic/No).\n",
    "\n",
    "* `online_security`, whether the customer is signed up for online security (Yes/No/No internet service).\n",
    "\n",
    "* `online_backup`, whether the customer is signed up for online backup (Yes/No/No internet service).\n",
    "\n",
    "* `device_protection`, whether the customer is signed up for device protection (Yes/No/No internet service).\n",
    "\n",
    "* `tech_support`, whether the customer is signed up for technical support (Yes/No/No internet service).\n",
    "\n",
    "* `streaming_tv`, whether the customer is signed up for streaming TV (Yes/No/No internet service).\n",
    "\n",
    "* `streaming_movies`, whether the customer is signed up for streaming movies (Yes/No/No internet service).\n",
    "\n",
    "* `contract`, type of contract (Month-to-month/One year/Two year).\n",
    "\n",
    "* `paperless_billing`, whether the customer is signed up for paper billing (Yes/No).\n",
    "\n",
    "* `payment_method`, customer's payment method (Bank transfer/Credit card/Electronic check/Mailed check).\n",
    "\n",
    "* `monthly_charges`, amount charged to the customer last month, in US dollars.\n",
    "\n",
    "* `total_charges`, total amount charged to the customer, in US dollars.\n",
    "\n",
    "* `churn`, whether the customer has churned (Yes/No).\n",
    "\n",
    "Source: Kaggle."
   ]
  },
  {
   "cell_type": "markdown",
   "metadata": {},
   "source": [
    "### Importing the data"
   ]
  },
  {
   "cell_type": "markdown",
   "metadata": {},
   "source": [
    "I import the data to a **structured NumPy array**, as usual:"
   ]
  },
  {
   "cell_type": "code",
   "execution_count": 1,
   "metadata": {},
   "outputs": [],
   "source": [
    "import numpy as np\n",
    "path = 'https://raw.githubusercontent.com/cinnData/MLearning/main/Data/'\n",
    "fname = path + 'telecom.csv'\n",
    "data = np.genfromtxt(fname, delimiter=',', names=True, dtype=None, encoding='utf-8')"
   ]
  },
  {
   "cell_type": "markdown",
   "metadata": {},
   "source": [
    "I also check the data as usual:"
   ]
  },
  {
   "cell_type": "code",
   "execution_count": 2,
   "metadata": {},
   "outputs": [
    {
     "data": {
      "text/plain": [
       "(7032,)"
      ]
     },
     "execution_count": 2,
     "metadata": {},
     "output_type": "execute_result"
    }
   ],
   "source": [
    "data.shape"
   ]
  },
  {
   "cell_type": "code",
   "execution_count": 3,
   "metadata": {},
   "outputs": [
    {
     "data": {
      "text/plain": [
       "array([('7590-VHVEG', 'Female', 0, 'Yes', 'No',  1, 'No', 'No phone service', 'DSL', 'No', 'Yes', 'No', 'No', 'No', 'No', 'Month-to-month', 'Yes', 'Electronic check', 29.85,   29.85, 'No'),\n",
       "       ('5575-GNVDE', 'Male', 0, 'No', 'No', 34, 'Yes', 'No', 'DSL', 'Yes', 'No', 'Yes', 'No', 'No', 'No', 'One year', 'No', 'Mailed check', 56.95, 1889.5 , 'No'),\n",
       "       ('3668-QPYBK', 'Male', 0, 'No', 'No',  2, 'Yes', 'No', 'DSL', 'Yes', 'Yes', 'No', 'No', 'No', 'No', 'Month-to-month', 'Yes', 'Mailed check', 53.85,  108.15, 'Yes')],\n",
       "      dtype=[('id', '<U10'), ('gender', '<U6'), ('senior_citizen', '<i8'), ('partner', '<U3'), ('dependents', '<U3'), ('tenure', '<i8'), ('phone_service', '<U3'), ('multiple_lines', '<U16'), ('internet_service', '<U11'), ('online_security', '<U19'), ('online_backup', '<U19'), ('device_protection', '<U19'), ('tech_support', '<U19'), ('streaming_tv', '<U19'), ('streaming_movies', '<U19'), ('contract', '<U14'), ('paperless_billing', '<U3'), ('payment_method', '<U16'), ('monthly_charges', '<f8'), ('total_charges', '<f8'), ('churn', '<U3')])"
      ]
     },
     "execution_count": 3,
     "metadata": {},
     "output_type": "execute_result"
    }
   ],
   "source": [
    "data[:3]"
   ]
  },
  {
   "cell_type": "markdown",
   "metadata": {},
   "source": [
    "Everything looks right. I also check the churning rate:"
   ]
  },
  {
   "cell_type": "code",
   "execution_count": 4,
   "metadata": {},
   "outputs": [
    {
     "data": {
      "text/plain": [
       "0.266"
      ]
     },
     "execution_count": 4,
     "metadata": {},
     "output_type": "execute_result"
    }
   ],
   "source": [
    "round(np.mean(data['churn'] == 'Yes'), 3)"
   ]
  },
  {
   "cell_type": "markdown",
   "metadata": {},
   "source": [
    "### Target vector and feature matrix"
   ]
  },
  {
   "cell_type": "markdown",
   "metadata": {},
   "source": [
    "I take the last column of the data set as the **target vector**. I turn it into a dummy, to be consistent with other examples. Note that `data['churn'] == 'Yes'` returns a Boolean 1d array, witth `True` value for the churners. The meaning of `astype` is obvious. "
   ]
  },
  {
   "cell_type": "code",
   "execution_count": 5,
   "metadata": {},
   "outputs": [],
   "source": [
    "y = (data['churn'] == 'Yes').astype('int')"
   ]
  },
  {
   "cell_type": "markdown",
   "metadata": {},
   "source": [
    "Leaving aside the first and the last columns of `data`, I extract separately the numeric and the string features:"
   ]
  },
  {
   "cell_type": "code",
   "execution_count": 6,
   "metadata": {},
   "outputs": [],
   "source": [
    "X1 = data[['senior_citizen', 'tenure', 'monthly_charges', 'total_charges']]\n",
    "from numpy.lib.recfunctions import structured_to_unstructured\n",
    "X1 = structured_to_unstructured(X1)"
   ]
  },
  {
   "cell_type": "code",
   "execution_count": 7,
   "metadata": {},
   "outputs": [],
   "source": [
    "X2 = data[['gender', 'partner', 'dependents', 'phone_service', 'multiple_lines', 'internet_service',\n",
    "  'online_security', 'online_backup', 'device_protection', 'tech_support', 'streaming_tv',\n",
    "  'streaming_movies', 'contract', 'paperless_billing', 'payment_method']]\n",
    "X2 = structured_to_unstructured(X2)"
   ]
  },
  {
   "cell_type": "markdown",
   "metadata": {},
   "source": [
    "I turn the columns of `X2` into a collection of dummies. We have seen how to do this in one shot, with a `OneHotEncoder` transformer: "
   ]
  },
  {
   "cell_type": "code",
   "execution_count": 8,
   "metadata": {},
   "outputs": [],
   "source": [
    "from sklearn.preprocessing import OneHotEncoder\n",
    "enc = OneHotEncoder()\n",
    "enc.fit(X2)\n",
    "X2 = enc.transform(X2).toarray()"
   ]
  },
  {
   "cell_type": "markdown",
   "metadata": {},
   "source": [
    "Let us check that `X2` is what we expect it to be: "
   ]
  },
  {
   "cell_type": "code",
   "execution_count": 9,
   "metadata": {},
   "outputs": [
    {
     "data": {
      "text/plain": [
       "(7032, 41)"
      ]
     },
     "execution_count": 9,
     "metadata": {},
     "output_type": "execute_result"
    }
   ],
   "source": [
    "X2.shape"
   ]
  },
  {
   "cell_type": "code",
   "execution_count": 10,
   "metadata": {},
   "outputs": [
    {
     "data": {
      "text/plain": [
       "(array([0., 1.]), array([182832, 105480]))"
      ]
     },
     "execution_count": 10,
     "metadata": {},
     "output_type": "execute_result"
    }
   ],
   "source": [
    "np.unique(X2, return_counts=True)"
   ]
  },
  {
   "cell_type": "markdown",
   "metadata": {},
   "source": [
    "The numbers match: we have converted 15 features (the original `X2` matrix) with 7,032 observations each, into a collection of 41 dummies, which, in total, contain 7,032 x 15 = 105,480 ones.\n",
    "\n",
    "To get the final **feature matrix**, we concatenate these two matrices:"
   ]
  },
  {
   "cell_type": "code",
   "execution_count": 11,
   "metadata": {},
   "outputs": [],
   "source": [
    "X = np.concatenate([X1, X2], axis=1)"
   ]
  },
  {
   "cell_type": "markdown",
   "metadata": {},
   "source": [
    "### A logistic regression classifier"
   ]
  },
  {
   "cell_type": "markdown",
   "metadata": {},
   "source": [
    "We train a **logistic regression classifier** on these data: "
   ]
  },
  {
   "cell_type": "code",
   "execution_count": 12,
   "metadata": {},
   "outputs": [
    {
     "data": {
      "text/plain": [
       "0.804"
      ]
     },
     "execution_count": 12,
     "metadata": {},
     "output_type": "execute_result"
    }
   ],
   "source": [
    "from sklearn.linear_model import LogisticRegression\n",
    "logclf = LogisticRegression(max_iter=500)\n",
    "logclf.fit(X, y)\n",
    "round(logclf.score(X, y), 3)"
   ]
  },
  {
   "cell_type": "markdown",
   "metadata": {},
   "source": [
    "With the default number of iterations (`max_iter=100`), Python would returning a warning about non-convergence. So I have increased the number of iterations to skip the warning, and, by the way, getting a better-fitting model.\n",
    "\n",
    "We know that, under **class imbalance** (not severe in this example), it may be a good idea to choose an adequate **cutoff** for the **predictive scores**, and that exploring the distribution of the scores can help to choose the cutoff. The scores are extracted from the class probabilities returned by `predict_proba`:"
   ]
  },
  {
   "cell_type": "code",
   "execution_count": 13,
   "metadata": {},
   "outputs": [],
   "source": [
    "scores = logclf.predict_proba(X)[:, 1]"
   ]
  },
  {
   "cell_type": "markdown",
   "metadata": {},
   "source": [
    "Now we plot separate histograms:"
   ]
  },
  {
   "cell_type": "code",
   "execution_count": 14,
   "metadata": {},
   "outputs": [],
   "source": [
    "from matplotlib import pyplot as plt"
   ]
  },
  {
   "cell_type": "code",
   "execution_count": 15,
   "metadata": {},
   "outputs": [
    {
     "data": {
      "image/png": "[encoded data removed]",
      "text/plain": [
       "<Figure size 1008x432 with 2 Axes>"
      ]
     },
     "metadata": {
      "needs_background": "light"
     },
     "output_type": "display_data"
    }
   ],
   "source": [
    "plt.figure(figsize = (14,6))\n",
    "plt.subplot(1, 2, 1)\n",
    "plt.hist(scores[y == 1], color='gray', rwidth=0.95, bins=17, range=(0,0.85))\n",
    "plt.title('Figure a. Scores (Churners)')\n",
    "plt.xlabel('Churn score')\n",
    "plt.subplot(1, 2, 2)\n",
    "plt.hist(scores[y == 0], color='gray', rwidth=0.95, bins=17, range=(0,0.85))\n",
    "plt.title('Figure b. Scores (non-churners)')\n",
    "plt.xlabel('Churn score');"
   ]
  },
  {
   "cell_type": "markdown",
   "metadata": {},
   "source": [
    "The default cutoff 0.5 would not be bad here, because many churners get high scores. 0.3 looks better, so let me try. The confusion matrix is:"
   ]
  },
  {
   "cell_type": "code",
   "execution_count": 16,
   "metadata": {},
   "outputs": [
    {
     "data": {
      "text/plain": [
       "array([[3957, 1206],\n",
       "       [ 429, 1440]])"
      ]
     },
     "execution_count": 16,
     "metadata": {},
     "output_type": "execute_result"
    }
   ],
   "source": [
    "ypred = (scores > 0.3).astype('int')\n",
    "from sklearn.metrics import confusion_matrix\n",
    "conf = confusion_matrix(y, ypred)\n",
    "conf"
   ]
  },
  {
   "cell_type": "markdown",
   "metadata": {},
   "source": [
    "The true positive and false positive rates:"
   ]
  },
  {
   "cell_type": "code",
   "execution_count": 17,
   "metadata": {},
   "outputs": [
    {
     "data": {
      "text/plain": [
       "(0.77, 0.234)"
      ]
     },
     "execution_count": 17,
     "metadata": {},
     "output_type": "execute_result"
    }
   ],
   "source": [
    "tp = conf[1, 1]/np.sum(conf[1, :])\n",
    "fp = conf[0, 1]/np.sum(conf[0, :])\n",
    "round(tp, 3), round(fp, 3)"
   ]
  },
  {
   "cell_type": "markdown",
   "metadata": {},
   "source": [
    "### Splitting in training and test data sets"
   ]
  },
  {
   "cell_type": "markdown",
   "metadata": {},
   "source": [
    "In spite of the 23.4% false positive rate, our model is promising, since it can capture 77% of the potential churners. Being a simple model, based on an equation with less than 50 terms, and having more than 7,000 samples, there is not much room for **overfitting**. Anyway, to **validate** the model, I split the data set, at random, in two parts, a **training** set and a **test** set. In scikit-learn, this can be done with the function `train_test_split`, from the subpackage `model_selection`."
   ]
  },
  {
   "cell_type": "code",
   "execution_count": 18,
   "metadata": {},
   "outputs": [],
   "source": [
    "from sklearn.model_selection import train_test_split"
   ]
  },
  {
   "cell_type": "markdown",
   "metadata": {},
   "source": [
    "This function selects the rows at random, returning four arrays: the two parts of the target vector `y` and the two parts of the feature matrix `X`. With the argument `test_size=0.2`, 80% of the samples are used for training the model, keeping the remaining 20% for testing. Note that the split is different every time that the function is applied."
   ]
  },
  {
   "cell_type": "code",
   "execution_count": 19,
   "metadata": {},
   "outputs": [],
   "source": [
    "X_train, X_test, y_train, y_test = train_test_split(X, y, test_size=0.2)"
   ]
  },
  {
   "cell_type": "markdown",
   "metadata": {},
   "source": [
    "I retrain the model, but using only the training data:"
   ]
  },
  {
   "cell_type": "code",
   "execution_count": 20,
   "metadata": {},
   "outputs": [
    {
     "data": {
      "text/plain": [
       "LogisticRegression(max_iter=500)"
      ]
     },
     "execution_count": 20,
     "metadata": {},
     "output_type": "execute_result"
    }
   ],
   "source": [
    "logclf.fit(X_train, y_train)"
   ]
  },
  {
   "cell_type": "markdown",
   "metadata": {},
   "source": [
    "I evaluate the model obtained, first on the training data:"
   ]
  },
  {
   "cell_type": "code",
   "execution_count": 21,
   "metadata": {},
   "outputs": [
    {
     "data": {
      "text/plain": [
       "(0.743, 0.225)"
      ]
     },
     "execution_count": 21,
     "metadata": {},
     "output_type": "execute_result"
    }
   ],
   "source": [
    "score_train = logclf.predict_proba(X_train)[:, 1]\n",
    "conf_train = confusion_matrix(y_train, score_train > 0.3)\n",
    "tp_train = conf_train[1, 1]/sum(conf_train[1, :])\n",
    "fp_train = conf_train[0, 1]/sum(conf_train[0, :])\n",
    "round(tp_train, 3), round(fp_train, 3)"
   ]
  },
  {
   "cell_type": "markdown",
   "metadata": {},
   "source": [
    "And then on the test data:"
   ]
  },
  {
   "cell_type": "code",
   "execution_count": 22,
   "metadata": {},
   "outputs": [
    {
     "data": {
      "text/plain": [
       "(0.769, 0.215)"
      ]
     },
     "execution_count": 22,
     "metadata": {},
     "output_type": "execute_result"
    }
   ],
   "source": [
    "score_test = logclf.predict_proba(X_test)[:, 1]\n",
    "conf_test = confusion_matrix(y_test, score_test > 0.3)\n",
    "tp_test = conf_test[1, 1]/sum(conf_test[1, :])\n",
    "fp_test = conf_test[0, 1]/sum(conf_test[0, :])\n",
    "round(tp_test, 3), round(fp_test, 3)"
   ]
  },
  {
   "cell_type": "markdown",
   "metadata": {},
   "source": [
    "The performance of the model is similar on the training and the test data. So there is no evidence of overfitting. Since there is a random part in the process, you will probably feel more comfortable if you try several splits."
   ]
  },
  {
   "cell_type": "markdown",
   "metadata": {},
   "source": [
    "### Homework"
   ]
  },
  {
   "cell_type": "markdown",
   "metadata": {},
   "source": [
    "1. Repeat the validation five times, collecting the true positive and false positive rates, and checking the variation among them.\n",
    "\n",
    "2. Develop a decision tree classifier for these data and validate it. Is it better than the logistic regression classifier presented in this example? "
   ]
  }
 ],
 "metadata": {
  "kernelspec": {
   "display_name": "Python 3 (ipykernel)",
   "language": "python",
   "name": "python3"
  },
  "language_info": {
   "codemirror_mode": {
    "name": "ipython",
    "version": 3
   },
   "file_extension": ".py",
   "mimetype": "text/x-python",
   "name": "python",
   "nbconvert_exporter": "python",
   "pygments_lexer": "ipython3",
   "version": "3.9.7"
  }
 },
 "nbformat": 4,
 "nbformat_minor": 4
}
