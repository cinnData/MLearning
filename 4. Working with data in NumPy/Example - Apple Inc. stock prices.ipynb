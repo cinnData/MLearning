{
 "cells": [
  {
   "cell_type": "markdown",
   "metadata": {},
   "source": [
    "# Example - Apple Inc. stock prices"
   ]
  },
  {
   "cell_type": "markdown",
   "metadata": {},
   "source": [
    "### Introduction"
   ]
  },
  {
   "cell_type": "markdown",
   "metadata": {},
   "source": [
    "The file `aapl.csv` contains data on the Apple Inc. stock prices in the Nasdaq stock market, for the year 2019, as published by Yahoo Finance (`finance.yahoo.com/quote/AAPL/history?p=AAPL`). The data come in the typical OHLC format (Open/High/Low/Close)."
   ]
  },
  {
   "cell_type": "markdown",
   "metadata": {},
   "source": [
    "### The data set"
   ]
  },
  {
   "cell_type": "markdown",
   "metadata": {},
   "source": [
    "The data set covers 251 trading days. The variables are:\n",
    "\n",
    "* `date`, the date, as yyyy-mm-dd.\n",
    "\n",
    "* `open`, the price (US dollars) of the stock at the beginning of the trading day. It can be different from the closing price of the previous trading day.\n",
    "\n",
    "* `high`, the highest price (US dollars) of the stock on that trading day.\n",
    "\n",
    "* `low`, the lowest price (US dollars) of the stock on that trading day.\n",
    "\n",
    "* `close`, the price (US dollars) of the stock at closing time.\n",
    "\n",
    "* `adj_close`, the closing price adjusted for factors in corporate actions, such as stock splits, dividends, and rights offerings.\n",
    "\n",
    "* `volume`, the amount of the coin that has been traded on that trading day."
   ]
  },
  {
   "cell_type": "markdown",
   "metadata": {},
   "source": [
    "### Importing the data"
   ]
  },
  {
   "cell_type": "markdown",
   "metadata": {},
   "source": [
    "We are going to create a NumPy recarray containing the data from the CSV file as follows. First, we import NumPy as usual:"
   ]
  },
  {
   "cell_type": "code",
   "execution_count": 2,
   "metadata": {},
   "outputs": [],
   "source": [
    "import numpy as np"
   ]
  },
  {
   "cell_type": "markdown",
   "metadata": {},
   "source": [
    "We use the function `recfromcsv` to import the data to a NumPy `recarray`. We use the argument `encoding='utf-8'` because one of the columns of the CSV file is read a string data. Omitting it, we could receive a warning, but nothing else. "
   ]
  },
  {
   "cell_type": "code",
   "execution_count": 9,
   "metadata": {},
   "outputs": [],
   "source": [
    "data = np.recfromcsv('aapl.csv', encoding='utf-8')"
   ]
  },
  {
   "cell_type": "markdown",
   "metadata": {},
   "source": [
    "Now, `data` is a special type of NumPy array:"
   ]
  },
  {
   "cell_type": "code",
   "execution_count": 10,
   "metadata": {},
   "outputs": [
    {
     "data": {
      "text/plain": [
       "numpy.recarray"
      ]
     },
     "execution_count": 10,
     "metadata": {},
     "output_type": "execute_result"
    }
   ],
   "source": [
    "type(data)"
   ]
  },
  {
   "cell_type": "markdown",
   "metadata": {},
   "source": [
    "We can check the shape of this recarray as if it were a common array:"
   ]
  },
  {
   "cell_type": "code",
   "execution_count": 11,
   "metadata": {},
   "outputs": [
    {
     "data": {
      "text/plain": [
       "(251,)"
      ]
     },
     "execution_count": 11,
     "metadata": {},
     "output_type": "execute_result"
    }
   ],
   "source": [
    "data.shape"
   ]
  },
  {
   "cell_type": "markdown",
   "metadata": {},
   "source": [
    "Note that `data` is a 1d array, in which every term is a row of the CSV file:"
   ]
  },
  {
   "cell_type": "code",
   "execution_count": 12,
   "metadata": {},
   "outputs": [
    {
     "data": {
      "text/plain": [
       "rec.array([('2019-01-02', 154.889999, 158.850006, 154.229996, 157.919998, 154.516388, 37039700),\n",
       "           ('2019-01-03', 143.979996, 145.720001, 142.      , 142.190002, 139.125412, 91312200),\n",
       "           ('2019-01-04', 144.529999, 148.550003, 143.800003, 148.259995, 145.064575, 58607100),\n",
       "           ('2019-01-07', 148.699997, 148.830002, 145.899994, 147.929993, 144.741714, 54777800),\n",
       "           ('2019-01-08', 149.559998, 151.820007, 148.520004, 150.75    , 147.500916, 41025300)],\n",
       "          dtype=[('date', '<U10'), ('open', '<f8'), ('high', '<f8'), ('low', '<f8'), ('close', '<f8'), ('adj_close', '<f8'), ('volume', '<i8')])"
      ]
     },
     "execution_count": 12,
     "metadata": {},
     "output_type": "execute_result"
    }
   ],
   "source": [
    "data[:5]"
   ]
  },
  {
   "cell_type": "markdown",
   "metadata": {},
   "source": [
    "Every column of the CSV file keeps the name and is given a data type by Python. This can be controlled more tightly, but we don't have to worry about that for this simple example. `'<U10'` means a string of maximum length 10, `'<f8'` means `float64` (8 bytes), and `'<i8'` means `int64`."
   ]
  },
  {
   "cell_type": "markdown",
   "metadata": {},
   "source": [
    "### Is there a trend in the opening price?"
   ]
  },
  {
   "cell_type": "markdown",
   "metadata": {},
   "source": [
    "We can select one of the columns that contains prices and carry out some elementary analysis, so you get familiar with the way data are managed in NumPy. Suppose that we are interested in a **trend** in the **opening price**. You select the corresponding column as:"
   ]
  },
  {
   "cell_type": "code",
   "execution_count": 32,
   "metadata": {},
   "outputs": [],
   "source": [
    "open = data['open']"
   ]
  },
  {
   "cell_type": "markdown",
   "metadata": {},
   "source": [
    "Now, `open` is an ordinary 1d array:"
   ]
  },
  {
   "cell_type": "code",
   "execution_count": 33,
   "metadata": {},
   "outputs": [
    {
     "data": {
      "text/plain": [
       "numpy.ndarray"
      ]
     },
     "execution_count": 33,
     "metadata": {},
     "output_type": "execute_result"
    }
   ],
   "source": [
    "type(open)"
   ]
  },
  {
   "cell_type": "code",
   "execution_count": 34,
   "metadata": {},
   "outputs": [
    {
     "data": {
      "text/plain": [
       "(251,)"
      ]
     },
     "execution_count": 34,
     "metadata": {},
     "output_type": "execute_result"
    }
   ],
   "source": [
    "open.shape"
   ]
  },
  {
   "cell_type": "markdown",
   "metadata": {},
   "source": [
    "To explore the trend, we use the `matplotlib.pyplot` function `plot`, which returns a **line plot** when a single 1d array is provided. We import `pyplot` in the usual way:"
   ]
  },
  {
   "cell_type": "code",
   "execution_count": 35,
   "metadata": {},
   "outputs": [],
   "source": [
    "from matplotlib import pyplot as plt"
   ]
  },
  {
   "cell_type": "code",
   "execution_count": 36,
   "metadata": {},
   "outputs": [
    {
     "data": {
      "image/png": "[encoded data removed]",
      "text/plain": [
       "<Figure size 720x432 with 1 Axes>"
      ]
     },
     "metadata": {
      "needs_background": "light"
     },
     "output_type": "display_data"
    }
   ],
   "source": [
    "plt.figure(figsize=(10,6))\n",
    "plt.title('Figure 1. Adjusted closing price')\n",
    "plt.plot(open, color='gray');"
   ]
  },
  {
   "cell_type": "markdown",
   "metadata": {},
   "source": [
    "Let us refresh a couple of details:\n",
    "\n",
    "* The default size is `figsize=(6,4)`. You can set `figsize` as appropriate for your screen.\n",
    "\n",
    "* The default color is `color='blue'`. Follow your taste.\n",
    "\n",
    "* The code lines have to be inputted together. The final semicolon skips the Python output, that would be something unreadable for you.\n",
    "\n",
    "The trend is quite clear. If you want to assess how linear it is, you can use a **correlation coefficient**, just as you would do in Excel. You start by creating a \"time\" vector t:"
   ]
  },
  {
   "cell_type": "code",
   "execution_count": 37,
   "metadata": {},
   "outputs": [
    {
     "data": {
      "text/plain": [
       "array([0, 1, 2, 3, 4, 5, 6, 7, 8, 9])"
      ]
     },
     "execution_count": 37,
     "metadata": {},
     "output_type": "execute_result"
    }
   ],
   "source": [
    "t = np.arange(251)\n",
    "t[:10]"
   ]
  },
  {
   "cell_type": "markdown",
   "metadata": {},
   "source": [
    "In NumPy, correlations are obtained as **correlation matrices**, so we put together `t` and `open`, applying the function `corrcoef`:"
   ]
  },
  {
   "cell_type": "code",
   "execution_count": 38,
   "metadata": {},
   "outputs": [
    {
     "data": {
      "text/plain": [
       "array([[1.        , 0.93309587],\n",
       "       [0.93309587, 1.        ]])"
      ]
     },
     "execution_count": 38,
     "metadata": {},
     "output_type": "execute_result"
    }
   ],
   "source": [
    "np.corrcoef(np.array([t, open]))"
   ]
  },
  {
   "cell_type": "markdown",
   "metadata": {},
   "source": [
    "So, the correlation is quite strong. If you wish to have a more elegant output, you can extract any of the non-diagonal terms and round it to three decimals:"
   ]
  },
  {
   "cell_type": "code",
   "execution_count": 39,
   "metadata": {},
   "outputs": [
    {
     "data": {
      "text/plain": [
       "0.933"
      ]
     },
     "execution_count": 39,
     "metadata": {},
     "output_type": "execute_result"
    }
   ],
   "source": [
    "np.corrcoef(np.array([t, open]))[0, 1].round(3)"
   ]
  },
  {
   "cell_type": "markdown",
   "metadata": {},
   "source": [
    "### Daily returns"
   ]
  },
  {
   "cell_type": "markdown",
   "metadata": {},
   "source": [
    "Let us calculate the **daily returns** for the opening price. This is the percentage daily variation of the price, as a percentage of the previous price. The first day in the series does not have a return, since there is no previous price. So `open[1:]` stands for the current price (today) and `open[:-1]` for the previous price (yesterday):"
   ]
  },
  {
   "cell_type": "code",
   "execution_count": 40,
   "metadata": {},
   "outputs": [],
   "source": [
    "returns = 100*(open[1:]/open[:-1] - 1)"
   ]
  },
  {
   "cell_type": "markdown",
   "metadata": {},
   "source": [
    "Note that we cannot use `return` as a name for the vector of returns, because the name is taken by Python. A line plot for the returns:"
   ]
  },
  {
   "cell_type": "code",
   "execution_count": 41,
   "metadata": {},
   "outputs": [
    {
     "data": {
      "image/png": "[encoded data removed]",
      "text/plain": [
       "<Figure size 720x432 with 1 Axes>"
      ]
     },
     "metadata": {
      "needs_background": "light"
     },
     "output_type": "display_data"
    }
   ],
   "source": [
    "plt.figure(figsize=(10,6))\n",
    "plt.title('Figure 2. Daily returns')\n",
    "plt.plot(returns, color='gray');"
   ]
  },
  {
   "cell_type": "markdown",
   "metadata": {},
   "source": [
    "This plot looks quite stationary, so it makes sense to plot a **histogram** to explore the distribution. We just replace `plot` by `hist`:"
   ]
  },
  {
   "cell_type": "code",
   "execution_count": 42,
   "metadata": {},
   "outputs": [
    {
     "data": {
      "image/png": "[encoded data removed]",
      "text/plain": [
       "<Figure size 576x432 with 1 Axes>"
      ]
     },
     "metadata": {
      "needs_background": "light"
     },
     "output_type": "display_data"
    }
   ],
   "source": [
    "plt.figure(figsize=(8,6))\n",
    "plt.title('Figure 3. Daily returns')\n",
    "plt.hist(returns, color='gray', rwidth=0.97);"
   ]
  },
  {
   "cell_type": "markdown",
   "metadata": {},
   "source": [
    "The default color is blue, as in the line plot. The argument `rwidth=0.97` creates a separation between the histogram bars which improves the visual effect (you may disagree). The distribution is not far from bell-shaped, but the tails are longer than in a normal distribution. This pattern, which statisticians call **kurtosis**, is typical of this type of data."
   ]
  },
  {
   "cell_type": "markdown",
   "metadata": {},
   "source": [
    "### Distribution of the trading volume"
   ]
  },
  {
   "cell_type": "markdown",
   "metadata": {},
   "source": [
    "As a second example, and to get some contrast, we look at the distribution of the trading volume. We extract it as a separate vector as we did for the opnening price:"
   ]
  },
  {
   "cell_type": "code",
   "execution_count": 43,
   "metadata": {},
   "outputs": [],
   "source": [
    "volume = data['volume']"
   ]
  },
  {
   "cell_type": "markdown",
   "metadata": {},
   "source": [
    "The histogram is obtained in the same way as for the returns:"
   ]
  },
  {
   "cell_type": "code",
   "execution_count": 44,
   "metadata": {},
   "outputs": [
    {
     "data": {
      "image/png": "[encoded data removed]",
      "text/plain": [
       "<Figure size 576x432 with 1 Axes>"
      ]
     },
     "metadata": {
      "needs_background": "light"
     },
     "output_type": "display_data"
    }
   ],
   "source": [
    "plt.figure(figsize=(8,6))\n",
    "plt.title('Figure 4. Trading volume')\n",
    "plt.hist(volume, color='gray', rwidth=0.97);"
   ]
  },
  {
   "cell_type": "markdown",
   "metadata": {},
   "source": [
    "Now, this is a **skewed distribution**. This type of distribution is typical of variables which represent amounts of money."
   ]
  },
  {
   "cell_type": "markdown",
   "metadata": {},
   "source": [
    "###  Association between daily returns and trading volume"
   ]
  },
  {
   "cell_type": "markdown",
   "metadata": {},
   "source": [
    "Finally, we explore the association between the daily returns and the trading volume. Coincide high or low returns with big small trading volumes? A **scatter plot** may provide some insight on this. The plot can be obtained in Pandas with the method `plot.scatter`. Note that we specify here the *x* and *y* axes.  "
   ]
  },
  {
   "cell_type": "code",
   "execution_count": 52,
   "metadata": {},
   "outputs": [
    {
     "data": {
      "image/png": "[encoded data removed]",
      "text/plain": [
       "<Figure size 432x432 with 1 Axes>"
      ]
     },
     "metadata": {
      "needs_background": "light"
     },
     "output_type": "display_data"
    }
   ],
   "source": [
    "plt.figure(figsize=(6,6))\n",
    "plt.title('Figure 5. Trading volume vs returns')\n",
    "plt.scatter(x=volume[1:], y=returns, color='gray', s=25)\n",
    "plt.xlabel('Trading volume')\n",
    "plt.ylabel('Daily returns');"
   ]
  },
  {
   "cell_type": "markdown",
   "metadata": {},
   "source": [
    "A few more commments here:\n",
    "\n",
    "* We use `volume[1:]`, excluding the first observation of the series to match the returns.\n",
    "\n",
    "* The argument `s=20` controls the size of the dots, which we adapt to the number of dots.\n",
    "\n",
    "* In `plt.scatter`, it is better to set the axes specifying `x` and `y`. Then the order does not matter."
   ]
  },
  {
   "cell_type": "markdown",
   "metadata": {},
   "source": [
    "A linear association can be dismissed at first sight. This is consistent with the low correlation:"
   ]
  },
  {
   "cell_type": "code",
   "execution_count": 54,
   "metadata": {},
   "outputs": [
    {
     "data": {
      "text/plain": [
       "-0.059"
      ]
     },
     "execution_count": 54,
     "metadata": {},
     "output_type": "execute_result"
    }
   ],
   "source": [
    "np.corrcoef(np.array([volume[1:], returns]))[0, 1].round(3)"
   ]
  },
  {
   "cell_type": "markdown",
   "metadata": {},
   "source": [
    "Nevertheless, extreme returns seem to coincide with big trading volumes, which makes sense, since volatility fosters trading. If we replace the returns by their absolute value, the correlation gets relevance:"
   ]
  },
  {
   "cell_type": "code",
   "execution_count": 55,
   "metadata": {},
   "outputs": [
    {
     "data": {
      "text/plain": [
       "0.495"
      ]
     },
     "execution_count": 55,
     "metadata": {},
     "output_type": "execute_result"
    }
   ],
   "source": [
    "np.corrcoef(np.array([volume[1:], np.abs(returns)]))[0, 1].round(3)"
   ]
  }
 ],
 "metadata": {
  "kernelspec": {
   "display_name": "Python 3",
   "language": "python",
   "name": "python3"
  },
  "language_info": {
   "codemirror_mode": {
    "name": "ipython",
    "version": 3
   },
   "file_extension": ".py",
   "mimetype": "text/x-python",
   "name": "python",
   "nbconvert_exporter": "python",
   "pygments_lexer": "ipython3",
   "version": "3.7.9"
  }
 },
 "nbformat": 4,
 "nbformat_minor": 4
}
