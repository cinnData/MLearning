{
 "cells": [
  {
   "cell_type": "markdown",
   "metadata": {},
   "source": [
    "# Example - Marketing to frequent fliers"
   ]
  },
  {
   "cell_type": "markdown",
   "metadata": {},
   "source": [
    "### Introduction"
   ]
  },
  {
   "cell_type": "markdown",
   "metadata": {},
   "source": [
    "The file `fliers.csv` contains information on 3,999 passengers who belong to the EastWest's **frequent flier program**. For each passenger, the data include information on their mileage history and on different ways they accrued or spent miles in the last year. \n",
    "\n",
    "In this example, the goal is to identify **clusters of passengers** that have similar characteristics for the purpose of targeting different segments for different types of mileage offers. Key issues are their flying patterns, earning and use of frequent flier rewards, and use of the airline credit card."
   ]
  },
  {
   "cell_type": "markdown",
   "metadata": {},
   "source": [
    "### The data set"
   ]
  },
  {
   "cell_type": "markdown",
   "metadata": {},
   "source": [
    "The variables included in the data set are:\n",
    "\n",
    "* `id`, a unique customer ID.\n",
    "\n",
    "* `balance`, the number of miles eligible for award travel.\n",
    "\n",
    "* `qual_miles`, the number of miles counted as qualifying for Topflight status.\n",
    "\n",
    "* `cc1_miles`, the number of miles earned with frequent flier credit card in the past 12 months, coded as 1 (under 5,000), 2 (5,000-10,000), 3 (10,001-25,000), 4 (25,001-50,000).\n",
    "\n",
    "* `cc2_miles`, the number of miles earned with Rewards credit card in the past 12 months, coded as above.\n",
    "\n",
    "* `cc3_miles`, the number of miles earned with Small Business credit card in the past 12 months, coded as above.\n",
    "\n",
    "* `bonus_miles`, the number of miles earned from non-flight bonus transactions in the past 12 months.\n",
    "\n",
    "* `bonus_trans`, the number of non-flight bonus transactions in the past 12 months.\n",
    "\n",
    "* `flight_miles_12mo`, the number of miles flight miles in the past 12 months.\n",
    "\n",
    "* `flight_trans_12mo`, the number of flight transactions in the past 12 months.\n",
    "\n",
    "* `days_since_enroll`, the number of days since the customer was enrolled.\n",
    "\n",
    "* `award`, a dummy for having an award.\n",
    "\n",
    "Source: G Shmueli and PC Bruce (2016), based upon a real business case and real data. The company name has been changed."
   ]
  },
  {
   "cell_type": "markdown",
   "metadata": {},
   "source": [
    "### Importing the data"
   ]
  },
  {
   "cell_type": "markdown",
   "metadata": {},
   "source": [
    "We import the data from the seven files with NumPy's `recfromcsv` as usual."
   ]
  },
  {
   "cell_type": "code",
   "execution_count": 1,
   "metadata": {},
   "outputs": [],
   "source": [
    "import numpy as np"
   ]
  },
  {
   "cell_type": "code",
   "execution_count": 2,
   "metadata": {},
   "outputs": [],
   "source": [
    "data = np.recfromcsv('fliers.csv')"
   ]
  },
  {
   "cell_type": "code",
   "execution_count": 7,
   "metadata": {},
   "outputs": [
    {
     "data": {
      "text/plain": [
       "(3999,)"
      ]
     },
     "execution_count": 7,
     "metadata": {},
     "output_type": "execute_result"
    }
   ],
   "source": [
    "data.shape"
   ]
  },
  {
   "cell_type": "code",
   "execution_count": 6,
   "metadata": {},
   "outputs": [
    {
     "data": {
      "text/plain": [
       "rec.array([( 1,  28143, 0, 1, 1, 1,   174,  1,    0,  0, 7000, 0),\n",
       "           ( 2,  19244, 0, 1, 1, 1,   215,  2,    0,  0, 6968, 0),\n",
       "           ( 3,  41354, 0, 1, 1, 1,  4123,  4,    0,  0, 7034, 0),\n",
       "           ( 4,  14776, 0, 1, 1, 1,   500,  1,    0,  0, 6952, 0),\n",
       "           ( 5,  97752, 0, 4, 1, 1, 43300, 26, 2077,  4, 6935, 1),\n",
       "           ( 6,  16420, 0, 1, 1, 1,     0,  0,    0,  0, 6942, 0),\n",
       "           ( 7,  84914, 0, 3, 1, 1, 27482, 25,    0,  0, 6994, 0),\n",
       "           ( 8,  20856, 0, 1, 1, 1,  5250,  4,  250,  1, 6938, 1),\n",
       "           ( 9, 443003, 0, 3, 2, 1,  1753, 43, 3850, 12, 6948, 1),\n",
       "           (10, 104860, 0, 3, 1, 1, 28426, 28, 1150,  3, 6931, 1)],\n",
       "          dtype=[('id', '<i8'), ('balance', '<i8'), ('qual_miles', '<i8'), ('cc1_miles', '<i8'), ('cc2_miles', '<i8'), ('cc3_miles', '<i8'), ('bonus_miles', '<i8'), ('bonus_trans', '<i8'), ('flight_miles_12mo', '<i8'), ('flight_trans_12mo', '<i8'), ('days_since_enroll', '<i8'), ('award', '<i8')])"
      ]
     },
     "execution_count": 6,
     "metadata": {},
     "output_type": "execute_result"
    }
   ],
   "source": [
    "data[:10]"
   ]
  },
  {
   "cell_type": "markdown",
   "metadata": {},
   "source": [
    "### Exploratory analysis"
   ]
  },
  {
   "cell_type": "markdown",
   "metadata": {},
   "source": [
    "At first glance, the data show a mix of scales, suggesting that some of the clustering features can have a much stronger influence on the clusters than others. This first impression can be easily confirmed by a quick explorattion of the data. For instance, the number of miles eiligible for award travel has the highest values and a skewed distribution:"
   ]
  },
  {
   "cell_type": "code",
   "execution_count": 8,
   "metadata": {},
   "outputs": [
    {
     "data": {
      "image/png": "[encoded data removed]",
      "text/plain": [
       "<Figure size 432x288 with 1 Axes>"
      ]
     },
     "metadata": {
      "needs_background": "light"
     },
     "output_type": "display_data"
    }
   ],
   "source": [
    "from matplotlib import pyplot as plt\n",
    "plt.hist(data['balance']);"
   ]
  },
  {
   "cell_type": "markdown",
   "metadata": {},
   "source": [
    "The distribution is also skewed, though with lower values, for the qualified and the bonus miles: "
   ]
  },
  {
   "cell_type": "code",
   "execution_count": 13,
   "metadata": {},
   "outputs": [
    {
     "data": {
      "image/png": "[encoded data removed]",
      "text/plain": [
       "<Figure size 432x288 with 1 Axes>"
      ]
     },
     "metadata": {
      "needs_background": "light"
     },
     "output_type": "display_data"
    }
   ],
   "source": [
    "plt.hist(data['bonus_miles']);"
   ]
  },
  {
   "cell_type": "code",
   "execution_count": 9,
   "metadata": {},
   "outputs": [
    {
     "data": {
      "image/png": "[encoded data removed]",
      "text/plain": [
       "<Figure size 432x288 with 1 Axes>"
      ]
     },
     "metadata": {
      "needs_background": "light"
     },
     "output_type": "display_data"
    }
   ],
   "source": [
    "plt.hist(data['qual_miles']);"
   ]
  },
  {
   "cell_type": "markdown",
   "metadata": {},
   "source": [
    "The days since enrollment show a more symmetric distribution:"
   ]
  },
  {
   "cell_type": "code",
   "execution_count": 15,
   "metadata": {},
   "outputs": [
    {
     "data": {
      "image/png": "[encoded data removed]",
      "text/plain": [
       "<Figure size 432x288 with 1 Axes>"
      ]
     },
     "metadata": {
      "needs_background": "light"
     },
     "output_type": "display_data"
    }
   ],
   "source": [
    "plt.hist(data['days_since_enroll']);"
   ]
  },
  {
   "cell_type": "markdown",
   "metadata": {},
   "source": [
    "The distributions of the features related to the credit cards are, in two cases, very unbalanced."
   ]
  },
  {
   "cell_type": "code",
   "execution_count": 10,
   "metadata": {},
   "outputs": [
    {
     "data": {
      "text/plain": [
       "(array([1, 2, 3, 4, 5]), array([2289,  284,  613,  525,  288]))"
      ]
     },
     "execution_count": 10,
     "metadata": {},
     "output_type": "execute_result"
    }
   ],
   "source": [
    "np.unique(data['cc1_miles'], return_counts=True)"
   ]
  },
  {
   "cell_type": "code",
   "execution_count": 11,
   "metadata": {},
   "outputs": [
    {
     "data": {
      "text/plain": [
       "(array([1, 2, 3]), array([3956,   28,   15]))"
      ]
     },
     "execution_count": 11,
     "metadata": {},
     "output_type": "execute_result"
    }
   ],
   "source": [
    "np.unique(data['cc2_miles'], return_counts=True)"
   ]
  },
  {
   "cell_type": "code",
   "execution_count": 12,
   "metadata": {},
   "outputs": [
    {
     "data": {
      "text/plain": [
       "(array([1, 2, 3, 4, 5]), array([3981,    3,    4,    6,    5]))"
      ]
     },
     "execution_count": 12,
     "metadata": {},
     "output_type": "execute_result"
    }
   ],
   "source": [
    "np.unique(data['cc3_miles'], return_counts=True)"
   ]
  },
  {
   "cell_type": "markdown",
   "metadata": {},
   "source": [
    "### Unstructuring the data"
   ]
  },
  {
   "cell_type": "markdown",
   "metadata": {},
   "source": [
    "In spite of all these problems, data of this type are frequently used in customer segmentation. So, let us see how they work. We create a features matrix by unstructuring the recarray `data`, leaving aside the column `id`:"
   ]
  },
  {
   "cell_type": "code",
   "execution_count": 35,
   "metadata": {},
   "outputs": [],
   "source": [
    "from numpy.lib.recfunctions import structured_to_unstructured\n",
    "X = structured_to_unstructured(data)[:, 1:]"
   ]
  },
  {
   "cell_type": "markdown",
   "metadata": {},
   "source": [
    "### 4-cluster analysis, first round"
   ]
  },
  {
   "cell_type": "markdown",
   "metadata": {},
   "source": [
    "We import the estimator class `KMeans`:"
   ]
  },
  {
   "cell_type": "code",
   "execution_count": 36,
   "metadata": {},
   "outputs": [],
   "source": [
    "from sklearn.cluster import KMeans"
   ]
  },
  {
   "cell_type": "markdown",
   "metadata": {},
   "source": [
    "We instantiate an estimator, which we call `clus`, setting the number of clusters at 4 and `random_state=0`for repeatability:"
   ]
  },
  {
   "cell_type": "code",
   "execution_count": 63,
   "metadata": {},
   "outputs": [],
   "source": [
    "clus = KMeans(n_clusters=4, random_state=0)"
   ]
  },
  {
   "cell_type": "markdown",
   "metadata": {},
   "source": [
    "We fit the estimator to the features matrix `X`. Note that, in unsupervised learning, it is `mod.fit(X)`, instead of `mod.fit(X, y)`."
   ]
  },
  {
   "cell_type": "code",
   "execution_count": 64,
   "metadata": {},
   "outputs": [
    {
     "data": {
      "text/plain": [
       "KMeans(n_clusters=4, random_state=0)"
      ]
     },
     "execution_count": 64,
     "metadata": {},
     "output_type": "execute_result"
    }
   ],
   "source": [
    "clus.fit(X)"
   ]
  },
  {
   "cell_type": "markdown",
   "metadata": {},
   "source": [
    "As a result of fitting `clus`, we can extract two interesting attributes, `labels_` and `cluster_centers_`:"
   ]
  },
  {
   "cell_type": "code",
   "execution_count": 65,
   "metadata": {},
   "outputs": [],
   "source": [
    "labels = clus.labels_\n",
    "centers = clus.cluster_centers_"
   ]
  },
  {
   "cell_type": "markdown",
   "metadata": {},
   "source": [
    "With 4 clusters, the labels are 0, 1, 2 and 3. They come as a 1d array in which every term indicates the cluster to which the corresponding customer has been assigned. In customer segmentation, you should always check that all the segments have a minimum size, compared to the number of customers, which is here 3,999. Unfortunately, this is not the case for these segments:"
   ]
  },
  {
   "cell_type": "code",
   "execution_count": 40,
   "metadata": {},
   "outputs": [
    {
     "data": {
      "text/plain": [
       "(array([0, 1, 2, 3], dtype=int32), array([2810,  185,  978,   26]))"
      ]
     },
     "execution_count": 40,
     "metadata": {},
     "output_type": "execute_result"
    }
   ],
   "source": [
    "np.unique(labels4, return_counts=True)"
   ]
  },
  {
   "cell_type": "markdown",
   "metadata": {},
   "source": [
    "The centers are four 11-dimensional points, one for every segment. The coordinates of a center are the average values of the 11 features for the corresponding segment. They come as a 2d array, with one center in each row:"
   ]
  },
  {
   "cell_type": "code",
   "execution_count": 66,
   "metadata": {},
   "outputs": [
    {
     "data": {
      "text/plain": [
       "(4, 11)"
      ]
     },
     "execution_count": 66,
     "metadata": {},
     "output_type": "execute_result"
    }
   ],
   "source": [
    "centers.shape"
   ]
  },
  {
   "cell_type": "markdown",
   "metadata": {},
   "source": [
    "To examine on the screen the centers having them as a (4,11)-array is a bit challenging for our eyes, so we are going to take advantage of the package Pandas to display them as a friendly table. We add column names and a last column with the cluster size."
   ]
  },
  {
   "cell_type": "code",
   "execution_count": 67,
   "metadata": {},
   "outputs": [
    {
     "data": {
      "text/html": [
       "<div>\n",
       "<style scoped>\n",
       "    .dataframe tbody tr th:only-of-type {\n",
       "        vertical-align: middle;\n",
       "    }\n",
       "\n",
       "    .dataframe tbody tr th {\n",
       "        vertical-align: top;\n",
       "    }\n",
       "\n",
       "    .dataframe thead th {\n",
       "        text-align: right;\n",
       "    }\n",
       "</style>\n",
       "<table border=\"1\" class=\"dataframe\">\n",
       "  <thead>\n",
       "    <tr style=\"text-align: right;\">\n",
       "      <th></th>\n",
       "      <th>balance</th>\n",
       "      <th>qual_miles</th>\n",
       "      <th>cc1_miles</th>\n",
       "      <th>cc2_miles</th>\n",
       "      <th>cc3_miles</th>\n",
       "      <th>bonus_miles</th>\n",
       "      <th>bonus_trans</th>\n",
       "      <th>flight_miles_12mo</th>\n",
       "      <th>flight_trans_12mo</th>\n",
       "      <th>days_since_enroll</th>\n",
       "      <th>award</th>\n",
       "      <th>size</th>\n",
       "    </tr>\n",
       "  </thead>\n",
       "  <tbody>\n",
       "    <tr>\n",
       "      <th>0</th>\n",
       "      <td>31039.4</td>\n",
       "      <td>101.6</td>\n",
       "      <td>1.7</td>\n",
       "      <td>1.0</td>\n",
       "      <td>1.0</td>\n",
       "      <td>10127.8</td>\n",
       "      <td>9.3</td>\n",
       "      <td>290.4</td>\n",
       "      <td>0.9</td>\n",
       "      <td>3785.4</td>\n",
       "      <td>0.3</td>\n",
       "      <td>2810</td>\n",
       "    </tr>\n",
       "    <tr>\n",
       "      <th>1</th>\n",
       "      <td>323009.8</td>\n",
       "      <td>337.2</td>\n",
       "      <td>3.1</td>\n",
       "      <td>1.0</td>\n",
       "      <td>1.0</td>\n",
       "      <td>43644.1</td>\n",
       "      <td>18.6</td>\n",
       "      <td>1283.3</td>\n",
       "      <td>3.9</td>\n",
       "      <td>5532.6</td>\n",
       "      <td>0.6</td>\n",
       "      <td>185</td>\n",
       "    </tr>\n",
       "    <tr>\n",
       "      <th>2</th>\n",
       "      <td>128475.2</td>\n",
       "      <td>220.3</td>\n",
       "      <td>2.9</td>\n",
       "      <td>1.0</td>\n",
       "      <td>1.0</td>\n",
       "      <td>31256.2</td>\n",
       "      <td>16.5</td>\n",
       "      <td>755.9</td>\n",
       "      <td>2.2</td>\n",
       "      <td>4748.0</td>\n",
       "      <td>0.4</td>\n",
       "      <td>978</td>\n",
       "    </tr>\n",
       "    <tr>\n",
       "      <th>3</th>\n",
       "      <td>842320.2</td>\n",
       "      <td>512.7</td>\n",
       "      <td>3.3</td>\n",
       "      <td>1.0</td>\n",
       "      <td>1.1</td>\n",
       "      <td>57797.2</td>\n",
       "      <td>22.7</td>\n",
       "      <td>1845.9</td>\n",
       "      <td>7.0</td>\n",
       "      <td>6463.0</td>\n",
       "      <td>0.8</td>\n",
       "      <td>26</td>\n",
       "    </tr>\n",
       "  </tbody>\n",
       "</table>\n",
       "</div>"
      ],
      "text/plain": [
       "    balance  qual_miles  cc1_miles  cc2_miles  cc3_miles  bonus_miles  \\\n",
       "0   31039.4       101.6        1.7        1.0        1.0      10127.8   \n",
       "1  323009.8       337.2        3.1        1.0        1.0      43644.1   \n",
       "2  128475.2       220.3        2.9        1.0        1.0      31256.2   \n",
       "3  842320.2       512.7        3.3        1.0        1.1      57797.2   \n",
       "\n",
       "   bonus_trans  flight_miles_12mo  flight_trans_12mo  days_since_enroll  \\\n",
       "0          9.3              290.4                0.9             3785.4   \n",
       "1         18.6             1283.3                3.9             5532.6   \n",
       "2         16.5              755.9                2.2             4748.0   \n",
       "3         22.7             1845.9                7.0             6463.0   \n",
       "\n",
       "   award  size  \n",
       "0    0.3  2810  \n",
       "1    0.6   185  \n",
       "2    0.4   978  \n",
       "3    0.8    26  "
      ]
     },
     "execution_count": 67,
     "metadata": {},
     "output_type": "execute_result"
    }
   ],
   "source": [
    "import pandas as pd\n",
    "pdcenters = pd.DataFrame(centers).round(1)\n",
    "pdcenters.columns = data.dtype.names[1:]\n",
    "pdcenters['size'] = np.unique(labels, return_counts=True)[1]\n",
    "pdcenters"
   ]
  },
  {
   "cell_type": "markdown",
   "metadata": {},
   "source": [
    "It is plainly seen that the segments only reflect who flies more. This is not unexpected, given the features that we are using in the analysis."
   ]
  },
  {
   "cell_type": "markdown",
   "metadata": {},
   "source": [
    "### Normalization"
   ]
  },
  {
   "cell_type": "code",
   "execution_count": 58,
   "metadata": {},
   "outputs": [],
   "source": [
    "from sklearn.preprocessing import MinMaxScaler"
   ]
  },
  {
   "cell_type": "code",
   "execution_count": 59,
   "metadata": {},
   "outputs": [],
   "source": [
    "scaler = MinMaxScaler()"
   ]
  },
  {
   "cell_type": "code",
   "execution_count": 60,
   "metadata": {},
   "outputs": [
    {
     "data": {
      "text/plain": [
       "MinMaxScaler()"
      ]
     },
     "execution_count": 60,
     "metadata": {},
     "output_type": "execute_result"
    }
   ],
   "source": [
    "scaler.fit(X)"
   ]
  },
  {
   "cell_type": "code",
   "execution_count": 61,
   "metadata": {},
   "outputs": [],
   "source": [
    "Z = scaler.transform(X)"
   ]
  },
  {
   "cell_type": "markdown",
   "metadata": {},
   "source": [
    "### 4-cluster analysis, second round"
   ]
  },
  {
   "cell_type": "markdown",
   "metadata": {},
   "source": [
    "We redo the analysis, using now the normalized features matrix `Z`."
   ]
  },
  {
   "cell_type": "code",
   "execution_count": 68,
   "metadata": {},
   "outputs": [
    {
     "data": {
      "text/html": [
       "<div>\n",
       "<style scoped>\n",
       "    .dataframe tbody tr th:only-of-type {\n",
       "        vertical-align: middle;\n",
       "    }\n",
       "\n",
       "    .dataframe tbody tr th {\n",
       "        vertical-align: top;\n",
       "    }\n",
       "\n",
       "    .dataframe thead th {\n",
       "        text-align: right;\n",
       "    }\n",
       "</style>\n",
       "<table border=\"1\" class=\"dataframe\">\n",
       "  <thead>\n",
       "    <tr style=\"text-align: right;\">\n",
       "      <th></th>\n",
       "      <th>balance</th>\n",
       "      <th>qual_miles</th>\n",
       "      <th>cc1_miles</th>\n",
       "      <th>cc2_miles</th>\n",
       "      <th>cc3_miles</th>\n",
       "      <th>bonus_miles</th>\n",
       "      <th>bonus_trans</th>\n",
       "      <th>flight_miles_12mo</th>\n",
       "      <th>flight_trans_12mo</th>\n",
       "      <th>days_since_enroll</th>\n",
       "      <th>award</th>\n",
       "      <th>size</th>\n",
       "    </tr>\n",
       "  </thead>\n",
       "  <tbody>\n",
       "    <tr>\n",
       "      <th>0</th>\n",
       "      <td>0.023901</td>\n",
       "      <td>0.008284</td>\n",
       "      <td>0.023195</td>\n",
       "      <td>0.008962</td>\n",
       "      <td>0.001054</td>\n",
       "      <td>0.012648</td>\n",
       "      <td>0.075450</td>\n",
       "      <td>0.007353</td>\n",
       "      <td>0.012433</td>\n",
       "      <td>0.436112</td>\n",
       "      <td>3.275158e-15</td>\n",
       "      <td>1897</td>\n",
       "    </tr>\n",
       "    <tr>\n",
       "      <th>1</th>\n",
       "      <td>0.048995</td>\n",
       "      <td>0.026054</td>\n",
       "      <td>0.039004</td>\n",
       "      <td>0.016345</td>\n",
       "      <td>0.002229</td>\n",
       "      <td>0.033564</td>\n",
       "      <td>0.121825</td>\n",
       "      <td>0.033427</td>\n",
       "      <td>0.059407</td>\n",
       "      <td>0.522892</td>\n",
       "      <td>1.000000e+00</td>\n",
       "      <td>673</td>\n",
       "    </tr>\n",
       "    <tr>\n",
       "      <th>2</th>\n",
       "      <td>0.063535</td>\n",
       "      <td>0.017791</td>\n",
       "      <td>0.728960</td>\n",
       "      <td>0.000619</td>\n",
       "      <td>0.006498</td>\n",
       "      <td>0.172970</td>\n",
       "      <td>0.234904</td>\n",
       "      <td>0.023160</td>\n",
       "      <td>0.040421</td>\n",
       "      <td>0.586139</td>\n",
       "      <td>1.000000e+00</td>\n",
       "      <td>808</td>\n",
       "    </tr>\n",
       "    <tr>\n",
       "      <th>3</th>\n",
       "      <td>0.069234</td>\n",
       "      <td>0.006558</td>\n",
       "      <td>0.644122</td>\n",
       "      <td>0.000805</td>\n",
       "      <td>0.005636</td>\n",
       "      <td>0.118637</td>\n",
       "      <td>0.200595</td>\n",
       "      <td>0.007313</td>\n",
       "      <td>0.011941</td>\n",
       "      <td>0.534640</td>\n",
       "      <td>-3.885781e-16</td>\n",
       "      <td>621</td>\n",
       "    </tr>\n",
       "  </tbody>\n",
       "</table>\n",
       "</div>"
      ],
      "text/plain": [
       "    balance  qual_miles  cc1_miles  cc2_miles  cc3_miles  bonus_miles  \\\n",
       "0  0.023901    0.008284   0.023195   0.008962   0.001054     0.012648   \n",
       "1  0.048995    0.026054   0.039004   0.016345   0.002229     0.033564   \n",
       "2  0.063535    0.017791   0.728960   0.000619   0.006498     0.172970   \n",
       "3  0.069234    0.006558   0.644122   0.000805   0.005636     0.118637   \n",
       "\n",
       "   bonus_trans  flight_miles_12mo  flight_trans_12mo  days_since_enroll  \\\n",
       "0     0.075450           0.007353           0.012433           0.436112   \n",
       "1     0.121825           0.033427           0.059407           0.522892   \n",
       "2     0.234904           0.023160           0.040421           0.586139   \n",
       "3     0.200595           0.007313           0.011941           0.534640   \n",
       "\n",
       "          award  size  \n",
       "0  3.275158e-15  1897  \n",
       "1  1.000000e+00   673  \n",
       "2  1.000000e+00   808  \n",
       "3 -3.885781e-16   621  "
      ]
     },
     "execution_count": 68,
     "metadata": {},
     "output_type": "execute_result"
    }
   ],
   "source": [
    "clus.fit(Z)\n",
    "labels = clus.labels_\n",
    "centers = clus.cluster_centers_\n",
    "pdcenters = pd.DataFrame(centers)\n",
    "pdcenters.columns = data.dtype.names[1:]\n",
    "pdcenters['size'] = np.unique(labels, return_counts=True)[1]\n",
    "pdcenters"
   ]
  },
  {
   "cell_type": "markdown",
   "metadata": {},
   "source": [
    "### Homework"
   ]
  },
  {
   "cell_type": "markdown",
   "metadata": {},
   "source": [
    "Use `random_state=1` and `random_state=2` and compare."
   ]
  }
 ],
 "metadata": {
  "kernelspec": {
   "display_name": "Python 3",
   "language": "python",
   "name": "python3"
  },
  "language_info": {
   "codemirror_mode": {
    "name": "ipython",
    "version": 3
   },
   "file_extension": ".py",
   "mimetype": "text/x-python",
   "name": "python",
   "nbconvert_exporter": "python",
   "pygments_lexer": "ipython3",
   "version": "3.7.9"
  }
 },
 "nbformat": 4,
 "nbformat_minor": 4
}
