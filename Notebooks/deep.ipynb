{
  "nbformat": 4,
  "nbformat_minor": 0,
  "metadata": {
    "colab": {
      "provenance": [],
      "authorship_tag": "ABX9TyMHKUdtwHP2kQXCcvYXCxN8",
      "include_colab_link": true
    },
    "kernelspec": {
      "name": "python3",
      "display_name": "Python 3"
    },
    "language_info": {
      "name": "python"
    }
  },
  "cells": [
    {
      "cell_type": "markdown",
      "metadata": {
        "id": "view-in-github",
        "colab_type": "text"
      },
      "source": [
        "<a href=\"https://colab.research.google.com/github/cinnData/MLearning/blob/main/Notebooks/deep.ipynb\" target=\"_parent\"><img src=\"https://colab.research.google.com/assets/colab-badge.svg\" alt=\"Open In Colab\"/></a>"
      ]
    },
    {
      "cell_type": "markdown",
      "source": [
        "# [MLE-12] Deep learning examples"
      ],
      "metadata": {
        "id": "t0U1gyWNTflM"
      }
    },
    {
      "cell_type": "markdown",
      "source": [
        "## Importing the data"
      ],
      "metadata": {
        "id": "d_C0Ud2fTiyC"
      }
    },
    {
      "cell_type": "code",
      "source": [
        "import numpy as np, pandas as pd\n",
        "path = 'https://raw.githubusercontent.com/cinnData/MLearning/main/Data/'\n",
        "df = pd.read_csv(path + 'digits.csv.zip')"
      ],
      "metadata": {
        "id": "1R6rwYTYUY3f"
      },
      "execution_count": null,
      "outputs": []
    },
    {
      "cell_type": "markdown",
      "source": [
        "## Target vector and feature matrix"
      ],
      "metadata": {
        "id": "WHok5E6wUbcD"
      }
    },
    {
      "cell_type": "code",
      "source": [
        "y = df.iloc[:, 0].values\n",
        "X = df.iloc[:, 1:].values"
      ],
      "metadata": {
        "id": "5O_ECGu_Ug1X"
      },
      "execution_count": null,
      "outputs": []
    },
    {
      "cell_type": "markdown",
      "source": [
        "## Q1. Train-test split"
      ],
      "metadata": {
        "id": "Di_GKOu1Uj1t"
      }
    },
    {
      "cell_type": "code",
      "source": [
        "from sklearn import model_selection\n",
        "X_train, X_test, y_train, y_test = model_selection.train_test_split(X, y, test_size=1/7, random_state=0)"
      ],
      "metadata": {
        "id": "rFkdKM9QUtaa"
      },
      "execution_count": null,
      "outputs": []
    },
    {
      "cell_type": "markdown",
      "source": [
        "## Q2. MLP model"
      ],
      "metadata": {
        "id": "XjE4L_7wUxOE"
      }
    },
    {
      "cell_type": "code",
      "source": [
        "from tensorflow.keras import models, layers"
      ],
      "metadata": {
        "id": "NcFDi2QHVIls"
      },
      "execution_count": null,
      "outputs": []
    },
    {
      "cell_type": "code",
      "source": [
        "net1 = [layers.Dense(32, activation='relu'), layers.Dense(10, activation='softmax')]"
      ],
      "metadata": {
        "id": "dQhfAGPhVOzt"
      },
      "execution_count": null,
      "outputs": []
    },
    {
      "cell_type": "code",
      "source": [
        "clf1 = models.Sequential(layers=net1)"
      ],
      "metadata": {
        "id": "V1AU88yvVW9u"
      },
      "execution_count": null,
      "outputs": []
    },
    {
      "cell_type": "code",
      "source": [
        "clf1.compile(optimizer='adam', loss='sparse_categorical_crossentropy', metrics='acc')"
      ],
      "metadata": {
        "id": "3MPfvzT_VotD"
      },
      "execution_count": null,
      "outputs": []
    },
    {
      "cell_type": "code",
      "source": [
        "clf1.fit(X_train, y_train, epochs=20, validation_data=(X_test, y_test));"
      ],
      "metadata": {
        "id": "7htcy_iiWqEc"
      },
      "execution_count": null,
      "outputs": []
    },
    {
      "cell_type": "code",
      "source": [
        "clf1.summary()"
      ],
      "metadata": {
        "id": "By7K0_vyYeUb"
      },
      "execution_count": null,
      "outputs": []
    },
    {
      "cell_type": "markdown",
      "source": [
        "## Q3. Prediction with a MLP model"
      ],
      "metadata": {
        "id": "0Ij_df5CdmcB"
      }
    },
    {
      "cell_type": "code",
      "source": [
        "clf1.predict(X_test[:1, :])"
      ],
      "metadata": {
        "id": "HGgdhvZ-fbOW"
      },
      "execution_count": null,
      "outputs": []
    },
    {
      "cell_type": "code",
      "source": [
        "y_test[0]"
      ],
      "metadata": {
        "id": "DonfB6u6gvYr"
      },
      "execution_count": null,
      "outputs": []
    },
    {
      "cell_type": "markdown",
      "source": [
        "## Q4. Rescaling the data"
      ],
      "metadata": {
        "id": "3AvCKkm2gwi1"
      }
    },
    {
      "cell_type": "code",
      "source": [
        "X = X/255"
      ],
      "metadata": {
        "id": "V4QztTEOg4bv"
      },
      "execution_count": null,
      "outputs": []
    },
    {
      "cell_type": "code",
      "source": [
        "X_train, X_test = model_selection.train_test_split(X, test_size=1/7, random_state=0)"
      ],
      "metadata": {
        "id": "GG3snUo4g7gI"
      },
      "execution_count": null,
      "outputs": []
    },
    {
      "cell_type": "code",
      "source": [
        "clf2 = models.Sequential(net1)\n",
        "clf2.compile(optimizer='adam', loss='sparse_categorical_crossentropy', metrics='acc')\n",
        "clf2.fit(X_train, y_train, epochs=20, validation_data=(X_test, y_test));"
      ],
      "metadata": {
        "id": "rUQcWun9hOwW"
      },
      "execution_count": null,
      "outputs": []
    },
    {
      "cell_type": "markdown",
      "source": [
        "## Q5. Convolutional neural network"
      ],
      "metadata": {
        "id": "hPGg3rn_hR_8"
      }
    },
    {
      "cell_type": "code",
      "source": [
        "Z_train, Z_test = X_train.reshape(60000, 28, 28, 1), X_test.reshape(10000, 28, 28, 1)"
      ],
      "metadata": {
        "id": "QyZOLZB9h9NB"
      },
      "execution_count": null,
      "outputs": []
    },
    {
      "cell_type": "code",
      "source": [
        "net2 = [layers.Conv2D(32, (3, 3), activation='relu'),\n",
        "    layers.MaxPooling2D((2, 2)),\n",
        "    layers.Conv2D(64, (3, 3), activation='relu'),\n",
        "    layers.MaxPooling2D((2, 2)),\n",
        "    layers.Conv2D(64, (3, 3), activation='relu'),\n",
        "    layers.Flatten(),\n",
        "    layers.Dense(64, activation='relu'),\n",
        "    layers.Dense(10, activation='softmax')]"
      ],
      "metadata": {
        "id": "_2ssCcehiEXh"
      },
      "execution_count": null,
      "outputs": []
    },
    {
      "cell_type": "code",
      "source": [
        "clf3 = models.Sequential(net2)\n",
        "clf3.compile(optimizer='adam', loss='sparse_categorical_crossentropy', metrics='acc')\n",
        "clf3.fit(Z_train, y_train, epochs=10, validation_data=(Z_test, y_test));"
      ],
      "metadata": {
        "id": "PlD4ZildiguN"
      },
      "execution_count": null,
      "outputs": []
    },
    {
      "cell_type": "code",
      "source": [
        "clf3.summary()"
      ],
      "metadata": {
        "collapsed": true,
        "id": "CZ8-rIH5k-nv"
      },
      "execution_count": null,
      "outputs": []
    }
  ]
}