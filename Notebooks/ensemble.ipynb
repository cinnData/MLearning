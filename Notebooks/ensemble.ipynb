{
  "nbformat": 4,
  "nbformat_minor": 0,
  "metadata": {
    "colab": {
      "provenance": [],
      "authorship_tag": "ABX9TyPoOboreHc6GXlEd+EqXlSE",
      "include_colab_link": true
    },
    "kernelspec": {
      "name": "python3",
      "display_name": "Python 3"
    },
    "language_info": {
      "name": "python"
    }
  },
  "cells": [
    {
      "cell_type": "markdown",
      "metadata": {
        "id": "view-in-github",
        "colab_type": "text"
      },
      "source": [
        "<a href=\"https://colab.research.google.com/github/cinnData/MLearning/blob/main/Notebooks/ensemble.ipynb\" target=\"_parent\"><img src=\"https://colab.research.google.com/assets/colab-badge.svg\" alt=\"Open In Colab\"/></a>"
      ]
    },
    {
      "cell_type": "markdown",
      "source": [
        "# [MLE-08] - Ensemble model examples"
      ],
      "metadata": {
        "id": "k6hraqLYMYBf"
      }
    },
    {
      "cell_type": "markdown",
      "source": [
        "## Importing the King County data"
      ],
      "metadata": {
        "id": "cXy8OHCNN9W2"
      }
    },
    {
      "cell_type": "code",
      "source": [
        "import pandas as pd\n",
        "path = 'https://raw.githubusercontent.com/cinnData/MLearning/main/Data/'\n",
        "df = pd.read_csv(path + 'king.csv', index_col=0)\n",
        "df['price'] = df['price']/10**3"
      ],
      "metadata": {
        "id": "tbkfY_sLNaub"
      },
      "execution_count": null,
      "outputs": []
    },
    {
      "cell_type": "code",
      "source": [
        "y = df.iloc[:, -1]\n",
        "X1 = df.iloc[:, 4:-1]\n",
        "X2 = pd.get_dummies(df['zipcode'])\n",
        "X = pd.concat([X1, X2], axis=1)\n",
        "X = X.values"
      ],
      "metadata": {
        "id": "Tx-eIGFiN7h8"
      },
      "execution_count": null,
      "outputs": []
    },
    {
      "cell_type": "code",
      "source": [
        "from sklearn.model_selection import train_test_split\n",
        "X_train, X_test, y_train, y_test = train_test_split(X, y, test_size=0.2)"
      ],
      "metadata": {
        "id": "l5-srHKMOWTO"
      },
      "execution_count": null,
      "outputs": []
    },
    {
      "cell_type": "markdown",
      "source": [
        "## Q1. Linear regression"
      ],
      "metadata": {
        "id": "Y46ur19JObwN"
      }
    },
    {
      "cell_type": "code",
      "source": [
        "from sklearn.linear_model import LinearRegression\n",
        "lin = LinearRegression()\n",
        "lin.fit(X_train, y_train)\n",
        "lin.score(X_train, y_train).round(3), lin.score(X_test, y_test).round(3)"
      ],
      "metadata": {
        "id": "AIMILhy5OiI_"
      },
      "execution_count": null,
      "outputs": []
    },
    {
      "cell_type": "code",
      "source": [
        "from sklearn.metrics import mean_absolute_percentage_error as mape"
      ],
      "metadata": {
        "id": "04T496NHOnnF"
      },
      "execution_count": null,
      "outputs": []
    },
    {
      "cell_type": "code",
      "source": [
        "mape(y_train, lin.predict(X_train)).round(3), mape(y_test, lin.predict(X_test)).round(3)"
      ],
      "metadata": {
        "id": "OZmQ_jB2OxUP"
      },
      "execution_count": null,
      "outputs": []
    },
    {
      "cell_type": "code",
      "source": [
        "from matplotlib import pyplot as plt\n",
        "plt.figure(figsize=(5,5))\n",
        "plt.scatter(lin.predict(X), y, color='black', s=1)\n",
        "plt.title('Figure 1. Linear regression')\n",
        "plt.xlabel('Predicted value (thousands)')\n",
        "plt.ylabel('Actual value (thousands)');"
      ],
      "metadata": {
        "id": "WQOtDLuBOzUq"
      },
      "execution_count": null,
      "outputs": []
    },
    {
      "cell_type": "markdown",
      "source": [
        "## Q2. Decision tree regression"
      ],
      "metadata": {
        "id": "pC7_A3tAO6ZV"
      }
    },
    {
      "cell_type": "code",
      "source": [
        "from sklearn.tree import DecisionTreeRegressor\n",
        "tree = DecisionTreeRegressor(max_depth=6)\n",
        "tree.fit(X_train, y_train)"
      ],
      "metadata": {
        "id": "hUqqV9mUPZGG"
      },
      "execution_count": null,
      "outputs": []
    },
    {
      "cell_type": "code",
      "source": [
        "tree.score(X_train, y_train).round(3), tree.score(X_test, y_test).round(3)"
      ],
      "metadata": {
        "id": "VNWXXSuPSY-q"
      },
      "execution_count": null,
      "outputs": []
    },
    {
      "cell_type": "code",
      "source": [
        "mape(y_train, tree.predict(X_train)).round(3), mape(y_test, tree.predict(X_test)).round(3)"
      ],
      "metadata": {
        "id": "01FIWY3fP6Zy"
      },
      "execution_count": null,
      "outputs": []
    },
    {
      "cell_type": "code",
      "source": [
        "plt.figure(figsize=(5,5))\n",
        "plt.scatter(tree.predict(X), y, color='black', s=1)\n",
        "plt.title('Figure 2. Decision tree regression')\n",
        "plt.xlabel('Predicted value (thousands)')\n",
        "plt.ylabel('Actual value (thousands)');"
      ],
      "metadata": {
        "id": "BRuKtK2_QPM5"
      },
      "execution_count": null,
      "outputs": []
    },
    {
      "cell_type": "markdown",
      "source": [
        "## Q3. Random forest regression"
      ],
      "metadata": {
        "id": "xoY8KgCkRMO5"
      }
    },
    {
      "cell_type": "code",
      "source": [
        "from sklearn.ensemble import RandomForestRegressor"
      ],
      "metadata": {
        "id": "fRPg4P3_Rw-5"
      },
      "execution_count": null,
      "outputs": []
    },
    {
      "cell_type": "code",
      "source": [
        "rf = RandomForestRegressor(n_estimators=100, max_depth=6)"
      ],
      "metadata": {
        "id": "AATA4FX6R484"
      },
      "execution_count": null,
      "outputs": []
    },
    {
      "cell_type": "code",
      "source": [
        "rf.fit(X_train, y_train)\n",
        "rf.score(X_train, y_train).round(3), rf.score(X_test, y_test).round(3)"
      ],
      "metadata": {
        "id": "tuRVpui-R8gx"
      },
      "execution_count": null,
      "outputs": []
    },
    {
      "cell_type": "code",
      "source": [
        "mape(y_train, rf.predict(X_train)).round(3), mape(y_test, rf.predict(X_test)).round(3)"
      ],
      "metadata": {
        "id": "ckt5sQrITeV3"
      },
      "execution_count": null,
      "outputs": []
    },
    {
      "cell_type": "code",
      "source": [
        "# Plotting #\n",
        "plt.figure(figsize=(5,5))\n",
        "plt.scatter(rf.predict(X), y, color='black', s=1)\n",
        "plt.title('Figure 3. Random forest regression')\n",
        "plt.xlabel('Predicted value (thousands)')\n",
        "plt.ylabel('Actual value (thousands)');"
      ],
      "metadata": {
        "id": "uYgaYQE-T02-"
      },
      "execution_count": null,
      "outputs": []
    },
    {
      "cell_type": "markdown",
      "source": [
        "## Q4. Gradient boosting regression"
      ],
      "metadata": {
        "id": "kL9Xvf55T7oV"
      }
    },
    {
      "cell_type": "code",
      "source": [
        "from xgboost import XGBRegressor"
      ],
      "metadata": {
        "id": "c68cUYXVjG_m"
      },
      "execution_count": null,
      "outputs": []
    },
    {
      "cell_type": "code",
      "source": [
        "xgb = XGBRegressor(n_estimators=100, max_depth=6, learning_rate=0.1)"
      ],
      "metadata": {
        "id": "3-6a4sPLwYtV"
      },
      "execution_count": null,
      "outputs": []
    },
    {
      "cell_type": "code",
      "source": [
        "xgb.fit(X_train, y_train)\n",
        "xgb.score(X_train, y_train).round(3), xgb.score(X_test, y_test).round(3)"
      ],
      "metadata": {
        "id": "qLN4bqSlwkyM"
      },
      "execution_count": null,
      "outputs": []
    },
    {
      "cell_type": "code",
      "source": [
        "mape(y_train, xgb.predict(X_train)).round(3), mape(y_test, xgb.predict(X_test)).round(3)"
      ],
      "metadata": {
        "id": "JzYX5KoawqR8"
      },
      "execution_count": null,
      "outputs": []
    },
    {
      "cell_type": "code",
      "source": [
        "plt.figure(figsize=(5,5))\n",
        "plt.scatter(xgb.predict(X), y, color='black', s=1)\n",
        "plt.title('Figure 4. Gradient boosting regression')\n",
        "plt.xlabel('Predicted value (thousands)')\n",
        "plt.ylabel('Actual value (thousands)');"
      ],
      "metadata": {
        "id": "LcW42nmuwxIQ"
      },
      "execution_count": null,
      "outputs": []
    },
    {
      "cell_type": "markdown",
      "source": [
        "## Q5. Analysis of the prediction error"
      ],
      "metadata": {
        "id": "wxkk_KaTw23e"
      }
    },
    {
      "cell_type": "code",
      "source": [
        "lin_error = y_test - lin.predict(X_test)\n",
        "lin_per_error = lin_error/y_test\n",
        "xgb_error = y_test - xgb.predict(X_test)\n",
        "xgb_per_error = xgb_error/y_test"
      ],
      "metadata": {
        "id": "34kUsP7cxHRN"
      },
      "execution_count": null,
      "outputs": []
    },
    {
      "cell_type": "code",
      "source": [
        "pd.concat([lin_error.describe(), xgb_error.describe()], axis=1)"
      ],
      "metadata": {
        "id": "FlDVy_yPxWVU"
      },
      "execution_count": null,
      "outputs": []
    },
    {
      "cell_type": "code",
      "source": [
        "pd.concat([lin_per_error.describe(), xgb_per_error.describe()], axis=1)"
      ],
      "metadata": {
        "id": "WINtboz2xdkG"
      },
      "execution_count": null,
      "outputs": []
    },
    {
      "cell_type": "code",
      "source": [
        "pd.concat([lin_error.abs().describe(), xgb_error.abs().describe()], axis=1)"
      ],
      "metadata": {
        "id": "gFUdG-Vux28d"
      },
      "execution_count": null,
      "outputs": []
    },
    {
      "cell_type": "code",
      "source": [
        "pd.concat([lin_per_error.abs().describe(), xgb_per_error.abs().describe()], axis=1)"
      ],
      "metadata": {
        "id": "4hwCsFWryCvR"
      },
      "execution_count": null,
      "outputs": []
    }
  ]
}