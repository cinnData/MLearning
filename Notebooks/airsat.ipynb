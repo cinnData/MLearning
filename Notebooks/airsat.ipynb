{
  "nbformat": 4,
  "nbformat_minor": 0,
  "metadata": {
    "colab": {
      "provenance": [],
      "authorship_tag": "ABX9TyM9XHImHE/ZN977Rs6uhxpY",
      "include_colab_link": true
    },
    "kernelspec": {
      "name": "python3",
      "display_name": "Python 3"
    },
    "language_info": {
      "name": "python"
    }
  },
  "cells": [
    {
      "cell_type": "markdown",
      "metadata": {
        "id": "view-in-github",
        "colab_type": "text"
      },
      "source": [
        "<a href=\"https://colab.research.google.com/github/cinnData/MLearning/blob/main/Notebooks/airsat.ipynb\" target=\"_parent\"><img src=\"https://colab.research.google.com/assets/colab-badge.svg\" alt=\"Open In Colab\"/></a>"
      ]
    },
    {
      "cell_type": "markdown",
      "source": [
        "# [MLE-11 ] Example - Airline passenger satisfaction"
      ],
      "metadata": {
        "id": "NY_H0SJFXiY4"
      }
    },
    {
      "cell_type": "markdown",
      "source": [
        "## Importing the data"
      ],
      "metadata": {
        "id": "xPzmRBHYYtG9"
      }
    },
    {
      "cell_type": "code",
      "source": [
        "import pandas as pd, numpy as np\n",
        "path = 'https://raw.githubusercontent.com/cinnData/MLearning/main/Data/'\n",
        "df = pd.read_csv(path + 'airsat.csv')"
      ],
      "metadata": {
        "id": "xvTSnvxOYyVD"
      },
      "execution_count": null,
      "outputs": []
    },
    {
      "cell_type": "markdown",
      "source": [
        "## Exploring the data"
      ],
      "metadata": {
        "id": "qCeQeB4TZRl8"
      }
    },
    {
      "cell_type": "code",
      "source": [
        "df.info()"
      ],
      "metadata": {
        "id": "ux1z3H7FZY0D"
      },
      "execution_count": null,
      "outputs": []
    },
    {
      "cell_type": "code",
      "source": [
        "df['sat'].mean().round(3)"
      ],
      "metadata": {
        "id": "HoGKB_qeZc0_"
      },
      "execution_count": null,
      "outputs": []
    },
    {
      "cell_type": "markdown",
      "source": [
        "## Target vector and feature matrix"
      ],
      "metadata": {
        "id": "NKw8EUnoZgEu"
      }
    },
    {
      "cell_type": "code",
      "source": [
        "y = df['sat']\n",
        "X = df.drop(columns='sat')"
      ],
      "metadata": {
        "id": "U8LnU6EBZuwF"
      },
      "execution_count": null,
      "outputs": []
    },
    {
      "cell_type": "markdown",
      "source": [
        "## Train-test split"
      ],
      "metadata": {
        "id": "VoGlBSuVZ4BM"
      }
    },
    {
      "cell_type": "code",
      "source": [
        "from sklearn.model_selection import train_test_split\n",
        "X_train, X_test, y_train, y_test = train_test_split(X, y, test_size=0.2, random_state=0)"
      ],
      "metadata": {
        "id": "L1-pmxgUZ7ru"
      },
      "execution_count": null,
      "outputs": []
    },
    {
      "cell_type": "markdown",
      "source": [
        "## Q1. Random forest model"
      ],
      "metadata": {
        "id": "EFlmBQ7rZ_9v"
      }
    },
    {
      "cell_type": "code",
      "source": [
        "from sklearn.ensemble import RandomForestClassifier\n",
        "rf = RandomForestClassifier(max_depth=5, n_estimators=200, random_state=0)\n",
        "rf.fit(X_train, y_train)"
      ],
      "metadata": {
        "id": "1wjy0w5ebiYn"
      },
      "execution_count": null,
      "outputs": []
    },
    {
      "cell_type": "code",
      "source": [
        "rf.score(X_train, y_train).round(3), rf.score(X_test, y_test).round(3)"
      ],
      "metadata": {
        "id": "E1PmKRzEbokI"
      },
      "execution_count": null,
      "outputs": []
    },
    {
      "cell_type": "markdown",
      "source": [
        "## Q2. XGBoost model"
      ],
      "metadata": {
        "id": "b_GsZmyGbs96"
      }
    },
    {
      "cell_type": "code",
      "source": [
        "from xgboost import XGBClassifier\n",
        "xgb = XGBClassifier(max_depth=5, n_estimators=200, random_state=0)\n",
        "xgb.fit(X_train, y_train)"
      ],
      "metadata": {
        "id": "lV8A8hChb0MK"
      },
      "execution_count": null,
      "outputs": []
    },
    {
      "cell_type": "code",
      "source": [
        "xgb.score(X_train, y_train).round(3), xgb.score(X_test, y_test).round(3)"
      ],
      "metadata": {
        "id": "z7vhoygWb8Sa"
      },
      "execution_count": null,
      "outputs": []
    },
    {
      "cell_type": "markdown",
      "source": [
        "## Q3. Relevant features"
      ],
      "metadata": {
        "id": "U4mYs6uNcBPl"
      }
    },
    {
      "cell_type": "code",
      "source": [
        "pd.Series(xgb.feature_importances_, index=X.columns).sort_values(ascending=False)"
      ],
      "metadata": {
        "id": "7pbooeikcGjC"
      },
      "execution_count": null,
      "outputs": []
    },
    {
      "cell_type": "code",
      "source": [
        "pd.crosstab(df['business'], df['sat'])"
      ],
      "metadata": {
        "id": "Nog5VICbcK6F"
      },
      "execution_count": null,
      "outputs": []
    },
    {
      "cell_type": "markdown",
      "source": [
        "## Q4. MLP model"
      ],
      "metadata": {
        "id": "5QT_scX8cmZa"
      }
    },
    {
      "cell_type": "code",
      "source": [
        "from tensorflow.keras import models, layers"
      ],
      "metadata": {
        "id": "iAc8C--KeGFf"
      },
      "execution_count": null,
      "outputs": []
    },
    {
      "cell_type": "code",
      "source": [
        "network = [layers.Dense(32, activation='relu'), layers.Dense(2, activation='softmax')]"
      ],
      "metadata": {
        "id": "BSYAPoAleON3"
      },
      "execution_count": null,
      "outputs": []
    },
    {
      "cell_type": "code",
      "source": [
        "mlp = models.Sequential(layers=network)"
      ],
      "metadata": {
        "id": "TwFknKGhjyqL"
      },
      "execution_count": null,
      "outputs": []
    },
    {
      "cell_type": "code",
      "source": [
        "mlp.compile(optimizer='adam', loss='sparse_categorical_crossentropy', metrics='acc')"
      ],
      "metadata": {
        "id": "VbkTYYMTkhA0"
      },
      "execution_count": null,
      "outputs": []
    },
    {
      "cell_type": "code",
      "source": [
        "mlp.fit(X_train, y_train, epochs=50, verbose=0);"
      ],
      "metadata": {
        "id": "2MaN4hyYkGat"
      },
      "execution_count": null,
      "outputs": []
    },
    {
      "cell_type": "code",
      "source": [
        "round(mlp.evaluate(X_test, y_test, verbose=0)[1], 3)"
      ],
      "metadata": {
        "id": "6yyJqBP4kb4Z"
      },
      "execution_count": null,
      "outputs": []
    },
    {
      "cell_type": "markdown",
      "source": [
        "## Q5. Multilayer perceptron model (normalized data)"
      ],
      "metadata": {
        "id": "M82E5-iCnWG2"
      }
    },
    {
      "cell_type": "code",
      "source": [
        "def normalize(x):\n",
        "    return (x - x.min())/(x.max() - x.min())"
      ],
      "metadata": {
        "id": "_thZ-GnGnmUY"
      },
      "execution_count": null,
      "outputs": []
    },
    {
      "cell_type": "code",
      "source": [
        "XN = X.apply(normalize)"
      ],
      "metadata": {
        "id": "5GAcNAW6o_cE"
      },
      "execution_count": null,
      "outputs": []
    },
    {
      "cell_type": "code",
      "source": [
        "XN_train, XN_test = train_test_split(XN, test_size=0.2, random_state=0)"
      ],
      "metadata": {
        "id": "ZbMuluAopCga"
      },
      "execution_count": null,
      "outputs": []
    },
    {
      "cell_type": "code",
      "source": [
        "mlp = models.Sequential(layers=network)\n",
        "mlp.compile(optimizer='adam', loss='sparse_categorical_crossentropy', metrics='acc')\n",
        "mlp.fit(XN_train, y_train, epochs=50, verbose=0);\n",
        "round(mlp.evaluate(XN_test, y_test, verbose=0)[1], 3)"
      ],
      "metadata": {
        "id": "NcOBxpAspFOj"
      },
      "execution_count": null,
      "outputs": []
    }
  ]
}