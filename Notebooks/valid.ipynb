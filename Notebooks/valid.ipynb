{
  "nbformat": 4,
  "nbformat_minor": 0,
  "metadata": {
    "colab": {
      "provenance": [],
      "authorship_tag": "ABX9TyONXyvenOSqu8ZG1vzq45bx",
      "include_colab_link": true
    },
    "kernelspec": {
      "name": "python3",
      "display_name": "Python 3"
    },
    "language_info": {
      "name": "python"
    }
  },
  "cells": [
    {
      "cell_type": "markdown",
      "metadata": {
        "id": "view-in-github",
        "colab_type": "text"
      },
      "source": [
        "<a href=\"https://colab.research.google.com/github/cinnData/MLearning/blob/main/Notebooks/valid.ipynb\" target=\"_parent\"><img src=\"https://colab.research.google.com/assets/colab-badge.svg\" alt=\"Open In Colab\"/></a>"
      ]
    },
    {
      "cell_type": "markdown",
      "source": [
        "# [MLE-06] Validation examples"
      ],
      "metadata": {
        "id": "mW6keThTduNu"
      }
    },
    {
      "cell_type": "markdown",
      "source": [
        "## Importing the King County data"
      ],
      "metadata": {
        "id": "RUKdVaBidwvG"
      }
    },
    {
      "cell_type": "code",
      "source": [
        "import pandas as pd\n",
        "path = 'https://raw.githubusercontent.com/cinnData/MLearning/main/Data/'\n",
        "df = pd.read_csv(path + 'king.csv', index_col=0)"
      ],
      "metadata": {
        "id": "AaVoqY0geAK9"
      },
      "execution_count": null,
      "outputs": []
    },
    {
      "cell_type": "code",
      "source": [
        "y = df.iloc[:, -1]\n",
        "X1 = df.iloc[:, 4:-1]\n",
        "X2 = pd.get_dummies(df['zipcode'])\n",
        "X = pd.concat([X1, X2], axis=1)\n",
        "X = X.values"
      ],
      "metadata": {
        "id": "qKb1nB8leRxr"
      },
      "execution_count": null,
      "outputs": []
    },
    {
      "cell_type": "markdown",
      "source": [
        "## Q1. Train-test split"
      ],
      "metadata": {
        "id": "qXFj0AjMuBQX"
      }
    },
    {
      "cell_type": "code",
      "source": [
        "from sklearn.model_selection import train_test_split"
      ],
      "metadata": {
        "id": "1QK1cJt7uGg0"
      },
      "execution_count": null,
      "outputs": []
    },
    {
      "cell_type": "code",
      "source": [
        "X_train, X_test, y_train, y_test = train_test_split(X, y, test_size=0.2)"
      ],
      "metadata": {
        "id": "Q3rbOb5tuMEZ"
      },
      "execution_count": null,
      "outputs": []
    },
    {
      "cell_type": "code",
      "source": [
        "X_train.shape, y_train.shape"
      ],
      "metadata": {
        "id": "l2B6tMdtuRMr"
      },
      "execution_count": null,
      "outputs": []
    },
    {
      "cell_type": "code",
      "source": [
        "X_test.shape, y_test.shape"
      ],
      "metadata": {
        "id": "IzvpIB0fuVLn"
      },
      "execution_count": null,
      "outputs": []
    },
    {
      "cell_type": "code",
      "source": [
        "from sklearn.linear_model import LinearRegression\n",
        "reg = LinearRegression()"
      ],
      "metadata": {
        "id": "pmbueFcUuXW_"
      },
      "execution_count": null,
      "outputs": []
    },
    {
      "cell_type": "code",
      "source": [
        "reg.fit(X_train, y_train)"
      ],
      "metadata": {
        "id": "fBqmO6Qku1yC"
      },
      "execution_count": null,
      "outputs": []
    },
    {
      "cell_type": "code",
      "source": [
        "reg.score(X_train, y_train).round(3), reg.score(X_test, y_test).round(3)"
      ],
      "metadata": {
        "id": "Lf6XUPBou5zO"
      },
      "execution_count": null,
      "outputs": []
    },
    {
      "cell_type": "markdown",
      "source": [
        "## Q2. Repeat the process"
      ],
      "metadata": {
        "id": "QC-0lDa3vAUn"
      }
    },
    {
      "cell_type": "code",
      "source": [
        "def check():\n",
        "\tX_train, X_test, y_train, y_test = train_test_split(X, y, test_size=0.2)\n",
        "\treg.fit(X_train, y_train)\n",
        "\treturn reg.score(X_train, y_train).round(3), reg.score(X_test, y_test).round(3)"
      ],
      "metadata": {
        "id": "4gtBiCnPvHmh"
      },
      "execution_count": null,
      "outputs": []
    },
    {
      "cell_type": "code",
      "source": [
        "check()"
      ],
      "metadata": {
        "id": "b7QKIFKXvzrv"
      },
      "execution_count": null,
      "outputs": []
    },
    {
      "cell_type": "code",
      "source": [
        "check()"
      ],
      "metadata": {
        "id": "FTb6qkuOv2cY"
      },
      "execution_count": null,
      "outputs": []
    },
    {
      "cell_type": "code",
      "source": [
        "check()"
      ],
      "metadata": {
        "id": "l5wG4z70wqZC"
      },
      "execution_count": null,
      "outputs": []
    },
    {
      "cell_type": "markdown",
      "source": [
        "## Q3. Cross-validation"
      ],
      "metadata": {
        "id": "DsSmIrEtwrJN"
      }
    },
    {
      "cell_type": "code",
      "source": [
        "from sklearn.model_selection import cross_val_score"
      ],
      "metadata": {
        "id": "Bv7DHMhMxnVN"
      },
      "execution_count": null,
      "outputs": []
    },
    {
      "cell_type": "code",
      "source": [
        "val_scores = cross_val_score(reg, X, y, cv=3)\n",
        "val_scores.round(3)"
      ],
      "metadata": {
        "id": "m7ud00i1yKem"
      },
      "execution_count": null,
      "outputs": []
    },
    {
      "cell_type": "code",
      "source": [
        "val_scores.mean().round(3)"
      ],
      "metadata": {
        "id": "njqkgJi9yV9v"
      },
      "execution_count": null,
      "outputs": []
    },
    {
      "cell_type": "markdown",
      "source": [
        "## Q4. Using the mean absolute percentage error"
      ],
      "metadata": {
        "id": "5OnceL-myZxH"
      }
    },
    {
      "cell_type": "code",
      "source": [
        "X_train, X_test, y_train, y_test = train_test_split(X, y, test_size=0.2)\n",
        "reg = LinearRegression()\n",
        "reg.fit(X_train, y_train)"
      ],
      "metadata": {
        "id": "ogE9r6WRyoNU"
      },
      "execution_count": null,
      "outputs": []
    },
    {
      "cell_type": "code",
      "source": [
        "from sklearn.metrics import mean_absolute_percentage_error as mape\n",
        "y_pred_train, y_pred_test = reg.predict(X_train), reg.predict(X_test)\n",
        "mape(y_train, y_pred_train).round(3), mape(y_test, y_pred_test).round(3)"
      ],
      "metadata": {
        "id": "8FgnBly3yrNH"
      },
      "execution_count": null,
      "outputs": []
    },
    {
      "cell_type": "code",
      "source": [
        "val_scores = cross_val_score(reg, X, y, cv=3,\n",
        "    scoring='neg_mean_absolute_percentage_error')\n",
        "val_scores.round(3)"
      ],
      "metadata": {
        "id": "2oOjBRQOzYFo"
      },
      "execution_count": null,
      "outputs": []
    }
  ]
}