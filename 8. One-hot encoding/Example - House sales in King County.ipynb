{
 "cells": [
  {
   "cell_type": "markdown",
   "metadata": {},
   "source": [
    "# Example - House sales in King County"
   ]
  },
  {
   "cell_type": "markdown",
   "metadata": {},
   "source": [
    "### Introduction"
   ]
  },
  {
   "cell_type": "markdown",
   "metadata": {},
   "source": [
    "The objective of this example is to develop a model for house sale prices in King County (Washington), which includes Seattle. It is the most populous county in Washington (population 1,931,249 in the 2010 census), and the 13th-most populous in the United States. The data include the homes sold between May 2014 and May 2015."
   ]
  },
  {
   "cell_type": "markdown",
   "metadata": {},
   "source": [
    "### The data set"
   ]
  },
  {
   "cell_type": "markdown",
   "metadata": {},
   "source": [
    "The data set contains 13 house features plus the sale price and date, along with 21,613 observations. The variables included in the data set are:\n",
    "\n",
    "* `id`, an identifier.\n",
    "\n",
    "* `date`, the date when the sale took place.\n",
    "\n",
    "* `zipcode`, the ZIP code of the house.\n",
    "\n",
    "* `lat`, the latitude of the house.\n",
    "\n",
    "* `long`, the longitude of the house.\n",
    "\n",
    "* `bedrooms`, the number of bedrooms.\n",
    "\n",
    "* `bathrooms`, the number of bathrooms.\n",
    "\n",
    "* `sqft_above`, the square footage of the house, discountig the basement.\n",
    "\n",
    "* `sqft_basement`, the square footage of the basement.\n",
    "\n",
    "* `sqft_lot`, the square footage of the lot.\n",
    "\n",
    "* `floors`, the total floors (levels) in house.\n",
    "\n",
    "* `waterfront`, a dummy for having a view to the waterfront.\n",
    "\n",
    "* `condition`, a 1-5 rating.\n",
    "\n",
    "* `yr_built`, the year when the house was built.\n",
    "\n",
    "* `yr_renovated`, the year when the house was renovated.\n",
    "\n",
    "* `price`, the sale price."
   ]
  },
  {
   "cell_type": "markdown",
   "metadata": {},
   "source": [
    "### Importing the data"
   ]
  },
  {
   "cell_type": "markdown",
   "metadata": {},
   "source": [
    "I import the data, from a **remote file**, to a **structured NumPy array**, as usual:"
   ]
  },
  {
   "cell_type": "code",
   "execution_count": 1,
   "metadata": {},
   "outputs": [],
   "source": [
    "import numpy as np\n",
    "path = 'https://raw.githubusercontent.com/cinnData/MLearning/main/Data/'\n",
    "fname = path + 'king.csv'\n",
    "data = np.genfromtxt(fname, delimiter=',', names=True, dtype=None, encoding='utf-8')"
   ]
  },
  {
   "cell_type": "markdown",
   "metadata": {},
   "source": [
    "I check the shape of the array:"
   ]
  },
  {
   "cell_type": "code",
   "execution_count": 2,
   "metadata": {},
   "outputs": [
    {
     "data": {
      "text/plain": [
       "(21613,)"
      ]
     },
     "execution_count": 2,
     "metadata": {},
     "output_type": "execute_result"
    }
   ],
   "source": [
    "data.shape"
   ]
  },
  {
   "cell_type": "markdown",
   "metadata": {},
   "source": [
    "The contents of the first rows:"
   ]
  },
  {
   "cell_type": "code",
   "execution_count": 3,
   "metadata": {},
   "outputs": [
    {
     "data": {
      "text/plain": [
       "array([(7129300520, '\"20141013T000000\"', 98178, 47.5112, -122.257, 3, 1.  , 1180,   0, 5650, 1., 0, 3, 1955,    0, 221900),\n",
       "       (6414100192, '\"20141209T000000\"', 98125, 47.721 , -122.319, 3, 2.25, 2170, 400, 7242, 2., 0, 3, 1951, 1991, 538000)],\n",
       "      dtype=[('id', '<i8'), ('date', '<U17'), ('zipcode', '<i8'), ('lat', '<f8'), ('long', '<f8'), ('bedrooms', '<i8'), ('bathrooms', '<f8'), ('sqft_above', '<i8'), ('sqft_basement', '<i8'), ('sqft_lot', '<i8'), ('floors', '<f8'), ('waterfront', '<i8'), ('condition', '<i8'), ('yr_built', '<i8'), ('yr_renovated', '<i8'), ('price', '<i8')])"
      ]
     },
     "execution_count": 3,
     "metadata": {},
     "output_type": "execute_result"
    }
   ],
   "source": [
    "data[:2]"
   ]
  },
  {
   "cell_type": "markdown",
   "metadata": {},
   "source": [
    "The column `id` is useless for the purpose of this example. The date has been imported with string type, but, since we only have one year of data, I will not use it. The zipcode is currently a numeric feature, but it does not make sense as such, so it has to be taken as **categorical**. I leave it aside for the first round of the analysis."
   ]
  },
  {
   "cell_type": "markdown",
   "metadata": {},
   "source": [
    "### Target vector and feature matrix"
   ]
  },
  {
   "cell_type": "markdown",
   "metadata": {},
   "source": [
    "I turn the price into thousands, to get lower figures, taking it as the **target vector**:"
   ]
  },
  {
   "cell_type": "code",
   "execution_count": 4,
   "metadata": {},
   "outputs": [],
   "source": [
    "y = data['price']/1000"
   ]
  },
  {
   "cell_type": "markdown",
   "metadata": {},
   "source": [
    "To build the **feature matrix**, I leave aside the first three columns and the last one:"
   ]
  },
  {
   "cell_type": "code",
   "execution_count": 5,
   "metadata": {},
   "outputs": [],
   "source": [
    "X = data[list(data.dtype.names[3:-1])]"
   ]
  },
  {
   "cell_type": "markdown",
   "metadata": {},
   "source": [
    "Next, I convert the `X` to an **unstructured array**: "
   ]
  },
  {
   "cell_type": "code",
   "execution_count": 6,
   "metadata": {},
   "outputs": [],
   "source": [
    "from numpy.lib.recfunctions import structured_to_unstructured\n",
    "X = structured_to_unstructured(X)"
   ]
  },
  {
   "cell_type": "markdown",
   "metadata": {},
   "source": [
    "Let me check that this matrix has the expected shape:"
   ]
  },
  {
   "cell_type": "code",
   "execution_count": 7,
   "metadata": {},
   "outputs": [
    {
     "data": {
      "text/plain": [
       "(21613, 12)"
      ]
     },
     "execution_count": 7,
     "metadata": {},
     "output_type": "execute_result"
    }
   ],
   "source": [
    "X.shape"
   ]
  },
  {
   "cell_type": "markdown",
   "metadata": {},
   "source": [
    "### The distribution of the sale price"
   ]
  },
  {
   "cell_type": "markdown",
   "metadata": {},
   "source": [
    "If these are actual sale prices and no filter for the most expensive houses has being applied, one can expect the price to have a **skewed distribution**. I check this with a **histogram**:"
   ]
  },
  {
   "cell_type": "code",
   "execution_count": 8,
   "metadata": {},
   "outputs": [],
   "source": [
    "from matplotlib import pyplot as plt"
   ]
  },
  {
   "cell_type": "code",
   "execution_count": 9,
   "metadata": {},
   "outputs": [
    {
     "data": {
      "image/png": "[encoded data removed]",
      "text/plain": [
       "<Figure size 576x432 with 1 Axes>"
      ]
     },
     "metadata": {
      "needs_background": "light"
     },
     "output_type": "display_data"
    }
   ],
   "source": [
    "plt.figure(figsize=(8,6))\n",
    "plt.title('Figure 1. Sale price')\n",
    "plt.hist(y, color='gray', rwidth=0.97)\n",
    "plt.xlabel('Sale price (thousands)');"
   ]
  },
  {
   "cell_type": "markdown",
   "metadata": {},
   "source": [
    "Indeed, we find very expensive houses here, producing a **long right tail**. From our experience with linear regression, we know that this can produce a high correlation which may lead us to trust too much the predictions of this model."
   ]
  },
  {
   "cell_type": "markdown",
   "metadata": {},
   "source": [
    "### Linear regression (first round)"
   ]
  },
  {
   "cell_type": "markdown",
   "metadata": {},
   "source": [
    "In a first round, I use a linear regression model to predict the sale price of the houses from the current features. To do this I call the class `LinearRegression`, from the scikit-learn subpackage `linear_model`."
   ]
  },
  {
   "cell_type": "code",
   "execution_count": 10,
   "metadata": {},
   "outputs": [],
   "source": [
    "from sklearn.linear_model import LinearRegression"
   ]
  },
  {
   "cell_type": "markdown",
   "metadata": {},
   "source": [
    "I instantiate an estimator of this class, applying the methods `fit` and `score`, as I have done in previous examples:"
   ]
  },
  {
   "cell_type": "code",
   "execution_count": 11,
   "metadata": {},
   "outputs": [
    {
     "data": {
      "text/plain": [
       "0.646"
      ]
     },
     "execution_count": 11,
     "metadata": {},
     "output_type": "execute_result"
    }
   ],
   "source": [
    "linreg1 = LinearRegression()\n",
    "linreg1.fit(X, y)\n",
    "round(linreg1.score(X, y), 3)"
   ]
  },
  {
   "cell_type": "markdown",
   "metadata": {},
   "source": [
    "I got a correlation about 0.8, which is a respectable value, since sale prices are not easy to predict. The predicted prices are obtained as:"
   ]
  },
  {
   "cell_type": "code",
   "execution_count": 12,
   "metadata": {},
   "outputs": [],
   "source": [
    "ypred1 = linreg1.predict(X)"
   ]
  },
  {
   "cell_type": "markdown",
   "metadata": {},
   "source": [
    "As a cautionary step, I plot the actual price versus the predicted price:"
   ]
  },
  {
   "cell_type": "code",
   "execution_count": 13,
   "metadata": {},
   "outputs": [
    {
     "data": {
      "image/png": "[encoded data removed]",
      "text/plain": [
       "<Figure size 432x432 with 1 Axes>"
      ]
     },
     "metadata": {
      "needs_background": "light"
     },
     "output_type": "display_data"
    }
   ],
   "source": [
    "plt.figure(figsize=(6,6))\n",
    "plt.scatter(x=ypred1, y=y, color='black', s=1)\n",
    "plt.title('Figure 2. Actual vs predicted price')\n",
    "plt.xlabel('Predicted price (thousands)')\n",
    "plt.ylabel('Actual price (thousands)');"
   ]
  },
  {
   "cell_type": "markdown",
   "metadata": {},
   "source": [
    "Well, in spite of the correlation found (which I don't trust completely), some of the predicted prices don't make sense. Some of the houses get a negative price (one house is priced at minus one million!). The number of negative predictions can be calculated with:"
   ]
  },
  {
   "cell_type": "code",
   "execution_count": 14,
   "metadata": {},
   "outputs": [
    {
     "data": {
      "text/plain": [
       "38"
      ]
     },
     "execution_count": 14,
     "metadata": {},
     "output_type": "execute_result"
    }
   ],
   "source": [
    "np.sum(ypred1 < 0)"
   ]
  },
  {
   "cell_type": "markdown",
   "metadata": {},
   "source": [
    "### Incorporating the zipcode"
   ]
  },
  {
   "cell_type": "markdown",
   "metadata": {},
   "source": [
    "Discarding the zipcode, I may missing relevant information, since it is known that the location of a house has a strong influence on its price. I have included the longitude and latitude, but probably the zipcodes will bring in more predictive power. So in a second round, I leave aside longitude and latitude (you can keep them if you prefer, but they will not contribute once the zipcode is included), replacing them by the zipcode.\n",
    "\n",
    "Of course, entering the zipcode as a number in a linear equation is not going to be productive, so I turn it into a **set of dummies**. First, I collect the numeric features (without longitude and latitude) in a new matrix: "
   ]
  },
  {
   "cell_type": "code",
   "execution_count": 15,
   "metadata": {},
   "outputs": [],
   "source": [
    "X1 = data[list(data.dtype.names[5:-1])]\n",
    "X1 = structured_to_unstructured(X1)"
   ]
  },
  {
   "cell_type": "markdown",
   "metadata": {},
   "source": [
    "To create the dummies, I use a `OneHotEncoder` transformer. First, I import the **transformer class** from the scikit-learn subpackage `preprocessing`:"
   ]
  },
  {
   "cell_type": "code",
   "execution_count": 16,
   "metadata": {},
   "outputs": [],
   "source": [
    "from sklearn.preprocessing import OneHotEncoder"
   ]
  },
  {
   "cell_type": "markdown",
   "metadata": {},
   "source": [
    "Next, I instantiate a transformer as usual in scikit-learn:"
   ]
  },
  {
   "cell_type": "code",
   "execution_count": 17,
   "metadata": {},
   "outputs": [],
   "source": [
    "enc = OneHotEncoder()"
   ]
  },
  {
   "cell_type": "markdown",
   "metadata": {},
   "source": [
    "Then, I fit the transformer `enc` to the zipcode. Since `fit` takes only 2d arrays, I have to reshape `data['zipcode']`, which is a 1d array, into a 2d array."
   ]
  },
  {
   "cell_type": "code",
   "execution_count": 18,
   "metadata": {},
   "outputs": [
    {
     "data": {
      "text/plain": [
       "OneHotEncoder()"
      ]
     },
     "execution_count": 18,
     "metadata": {},
     "output_type": "execute_result"
    }
   ],
   "source": [
    "enc.fit(data['zipcode'].reshape(21613,1))"
   ]
  },
  {
   "cell_type": "markdown",
   "metadata": {},
   "source": [
    "I get the encoded matrix as:"
   ]
  },
  {
   "cell_type": "code",
   "execution_count": 19,
   "metadata": {},
   "outputs": [],
   "source": [
    "X2 = enc.transform(data['zipcode'].reshape(21613,1)).toarray()"
   ]
  },
  {
   "cell_type": "markdown",
   "metadata": {},
   "source": [
    "Now, `X2` is 2d array made of dummies:"
   ]
  },
  {
   "cell_type": "code",
   "execution_count": 20,
   "metadata": {},
   "outputs": [
    {
     "data": {
      "text/plain": [
       "(21613, 70)"
      ]
     },
     "execution_count": 20,
     "metadata": {},
     "output_type": "execute_result"
    }
   ],
   "source": [
    "X2.shape"
   ]
  },
  {
   "cell_type": "markdown",
   "metadata": {},
   "source": [
    "Let me check that this matrix contains as many ones as houses I have in the data, and the rest are zeros:"
   ]
  },
  {
   "cell_type": "code",
   "execution_count": 21,
   "metadata": {},
   "outputs": [
    {
     "data": {
      "text/plain": [
       "(array([0., 1.]), array([1491297,   21613]))"
      ]
     },
     "execution_count": 21,
     "metadata": {},
     "output_type": "execute_result"
    }
   ],
   "source": [
    "np.unique(X2, return_counts=True)"
   ]
  },
  {
   "cell_type": "markdown",
   "metadata": {},
   "source": [
    "Finally, I put the two feature matrices together with the NumPy function `concatenate`. Note that `axis=1` indicates the two matrices are concatenated horizontally. "
   ]
  },
  {
   "cell_type": "code",
   "execution_count": 22,
   "metadata": {},
   "outputs": [],
   "source": [
    "X = np.concatenate([X1, X2], axis=1)"
   ]
  },
  {
   "cell_type": "markdown",
   "metadata": {},
   "source": [
    "Let me check the shape of the final feature matrix: "
   ]
  },
  {
   "cell_type": "code",
   "execution_count": 23,
   "metadata": {},
   "outputs": [
    {
     "data": {
      "text/plain": [
       "(21613, 80)"
      ]
     },
     "execution_count": 23,
     "metadata": {},
     "output_type": "execute_result"
    }
   ],
   "source": [
    "X.shape"
   ]
  },
  {
   "cell_type": "markdown",
   "metadata": {},
   "source": [
    "### Linear regression (second round)"
   ]
  },
  {
   "cell_type": "markdown",
   "metadata": {},
   "source": [
    "In a second round, I fit a linear equation to the new feature matrix:"
   ]
  },
  {
   "cell_type": "code",
   "execution_count": 24,
   "metadata": {},
   "outputs": [
    {
     "data": {
      "text/plain": [
       "0.785"
      ]
     },
     "execution_count": 24,
     "metadata": {},
     "output_type": "execute_result"
    }
   ],
   "source": [
    "linreg2 = LinearRegression()\n",
    "linreg2.fit(X, y)\n",
    "round(linreg2.score(X, y), 3)"
   ]
  },
  {
   "cell_type": "markdown",
   "metadata": {},
   "source": [
    "The improvement in the correlation is quite clear. Let us examine the predicted prices:"
   ]
  },
  {
   "cell_type": "code",
   "execution_count": 25,
   "metadata": {},
   "outputs": [
    {
     "data": {
      "image/png": "[encoded data removed]",
      "text/plain": [
       "<Figure size 432x432 with 1 Axes>"
      ]
     },
     "metadata": {
      "needs_background": "light"
     },
     "output_type": "display_data"
    }
   ],
   "source": [
    "ypred2 = linreg2.predict(X)\n",
    "plt.figure(figsize=(6,6))\n",
    "plt.scatter(x=ypred2, y=y, color='black', s=1)\n",
    "plt.title('Figure 3. Actual vs predicted price (2nd round)')\n",
    "plt.xlabel('Predicted price (thousands)')\n",
    "plt.ylabel('Actual price (thousands)');"
   ]
  },
  {
   "cell_type": "markdown",
   "metadata": {},
   "source": [
    "So, we have improved our predictive model, though we still have negative predictions:"
   ]
  },
  {
   "cell_type": "code",
   "execution_count": 26,
   "metadata": {},
   "outputs": [
    {
     "data": {
      "text/plain": [
       "16"
      ]
     },
     "execution_count": 26,
     "metadata": {},
     "output_type": "execute_result"
    }
   ],
   "source": [
    "np.sum(ypred2 < 0)"
   ]
  },
  {
   "cell_type": "markdown",
   "metadata": {},
   "source": [
    "### Homework"
   ]
  },
  {
   "cell_type": "markdown",
   "metadata": {},
   "source": [
    "1. The distribution of the price is quite **skewed**, which is a fact of life in real state. So, the extreme values in the right tail of the distribution can exert an undesired influence on the coefficients of the regression equation. Transformations, such as the square root or the logarithm, are recommended in Statistics textbooks in many situations. In particular, the **log transformation** is recommended for variables with skewed distributions, to limit the influence of extreme values. Develop a model for predicting the price which is based on a linear regression equation which has the logarithm of the price on the left side. Do you get better predictions with this model? \n",
    "\n",
    "2. Evaluate both models expressing the prediction errors in percentage term. Which is better?\n",
    "\n",
    "3. Trim the data set, dropping the houses beyond a certain threshold of price and/or size. Do you get better models?"
   ]
  }
 ],
 "metadata": {
  "kernelspec": {
   "display_name": "Python 3 (ipykernel)",
   "language": "python",
   "name": "python3"
  },
  "language_info": {
   "codemirror_mode": {
    "name": "ipython",
    "version": 3
   },
   "file_extension": ".py",
   "mimetype": "text/x-python",
   "name": "python",
   "nbconvert_exporter": "python",
   "pygments_lexer": "ipython3",
   "version": "3.7.9"
  }
 },
 "nbformat": 4,
 "nbformat_minor": 4
}
