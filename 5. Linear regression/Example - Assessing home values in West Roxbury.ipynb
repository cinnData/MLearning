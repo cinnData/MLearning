{
 "cells": [
  {
   "cell_type": "markdown",
   "metadata": {},
   "source": [
    "# Example - Assessing home values in West Roxbury"
   ]
  },
  {
   "cell_type": "markdown",
   "metadata": {},
   "source": [
    "### Introduction"
   ]
  },
  {
   "cell_type": "markdown",
   "metadata": {},
   "source": [
    "In the US, assessed valuation determines the value of a residence for tax purposes. The **assessed value** is the price placed on a home by the corresponding government municipality, in order to calculate property taxes. So a model predicting the current assessed value from available, objective data could be useful for **automatic assessment** and for spotting assessment errors. Although, in general, the assessed value tends to be lower than the appraised fair market value of property, the **predictive model** could also provide rough estimates for the mortgage industry.\n",
    "\n",
    "The objective of this example is to develop a **linear regression model** for predicting home assessed values in the West Roxbury neighborhood, in southwest Boston (Massachussets). The data include information on 5,801 single family owner-occupied homes."
   ]
  },
  {
   "cell_type": "markdown",
   "metadata": {},
   "source": [
    "### The data set"
   ]
  },
  {
   "cell_type": "markdown",
   "metadata": {},
   "source": [
    "The data set (file `roxbury.csv`) contains 12 home features plus the total assessed value of the property. The variables included are:\n",
    "\n",
    "* `value`, the total assesed value for property, in thousands of USD.\n",
    "\n",
    "* `lot_sqft`, the total lot size of parcel in square feet.\n",
    "\n",
    "* `yr_built`, the year the property was built.\n",
    "\n",
    "* `gross_area`, the gross floor area.\n",
    "\n",
    "* `living_area`, the total living area.\n",
    "\n",
    "* `floors`, the number of floors.\n",
    "\n",
    "* `rooms`, the number of rooms.\n",
    "\n",
    "* `bedrooms`, the number of bedrooms.\n",
    "\n",
    "* `full_bath`, the number of full baths.\n",
    "\n",
    "* `half_bath`, the number of half baths.\n",
    "\n",
    "* `kitchen`, the number of kitchens.\n",
    "\n",
    "* `fireplace`, the number of fireplaces.\n",
    "\n",
    "* `remodel`, a dummy for remodeled houses.\n",
    "\n",
    "*Source*. G Shmueli, PC Bruce, I Yahav, NR Patel & KC Lichtendahl (2018), *Data Mining for Business Analytics*, Wiley (slightly edited)."
   ]
  },
  {
   "cell_type": "markdown",
   "metadata": {},
   "source": [
    "### Importing the data"
   ]
  },
  {
   "cell_type": "markdown",
   "metadata": {},
   "source": [
    "I import the data to a NumPy **structured array**. First, I load the NumPy library as usual:"
   ]
  },
  {
   "cell_type": "code",
   "execution_count": 1,
   "metadata": {},
   "outputs": [],
   "source": [
    "import numpy as np"
   ]
  },
  {
   "cell_type": "markdown",
   "metadata": {},
   "source": [
    "I capture the directly from a remote file in a GitHub repository. So, the filename is the URL for that file, composed of the **remote path** plus the name `roxbury.csv` given in the description of the data:"
   ]
  },
  {
   "cell_type": "code",
   "execution_count": 2,
   "metadata": {},
   "outputs": [],
   "source": [
    "path = 'https://raw.githubusercontent.com/cinnData/MLearning/main/5.%20Linear%20regression/'\n",
    "fname = path + 'roxbury.csv'"
   ]
  },
  {
   "cell_type": "markdown",
   "metadata": {},
   "source": [
    "Now, I can use the function `genfromcsv` to import the data:"
   ]
  },
  {
   "cell_type": "code",
   "execution_count": 3,
   "metadata": {},
   "outputs": [],
   "source": [
    "data = np.genfromtxt(fname, delimiter=',', names=True, dtype=None, encoding='utf-8')"
   ]
  },
  {
   "cell_type": "markdown",
   "metadata": {},
   "source": [
    "Let me checking the shape and the content of first rows of `data`:"
   ]
  },
  {
   "cell_type": "code",
   "execution_count": 4,
   "metadata": {},
   "outputs": [
    {
     "data": {
      "text/plain": [
       "(5801,)"
      ]
     },
     "execution_count": 4,
     "metadata": {},
     "output_type": "execute_result"
    }
   ],
   "source": [
    "data.shape"
   ]
  },
  {
   "cell_type": "code",
   "execution_count": 5,
   "metadata": {},
   "outputs": [
    {
     "data": {
      "text/plain": [
       "array([(344.2,  9965, 1880, 2436, 1352, 2.,  6, 3, 1, 1, 1, 0, 0),\n",
       "       (412.6,  6590, 1945, 3108, 1976, 2., 10, 4, 2, 1, 1, 0, 1),\n",
       "       (330.1,  7500, 1890, 2294, 1371, 2.,  8, 4, 1, 1, 1, 0, 0),\n",
       "       (498.6, 13773, 1957, 5032, 2608, 1.,  9, 5, 1, 1, 1, 1, 0),\n",
       "       (331.5,  5000, 1910, 2370, 1438, 2.,  7, 3, 2, 0, 1, 0, 0)],\n",
       "      dtype=[('value', '<f8'), ('lot_sqft', '<i8'), ('yr_built', '<i8'), ('gross_area', '<i8'), ('living_area', '<i8'), ('floors', '<f8'), ('rooms', '<i8'), ('bedrooms', '<i8'), ('full_bath', '<i8'), ('half_bath', '<i8'), ('kitchen', '<i8'), ('fireplace', '<i8'), ('remodel', '<i8')])"
      ]
     },
     "execution_count": 5,
     "metadata": {},
     "output_type": "execute_result"
    }
   ],
   "source": [
    "data[:5]"
   ]
  },
  {
   "cell_type": "markdown",
   "metadata": {},
   "source": [
    "Everything looks right. Note that `floors` takes data type `float`, because the number of floors comes with decimals in the CSV file:"
   ]
  },
  {
   "cell_type": "code",
   "execution_count": 6,
   "metadata": {},
   "outputs": [
    {
     "data": {
      "text/plain": [
       "array([1. , 1.5, 2. , 2.5, 3. ])"
      ]
     },
     "execution_count": 6,
     "metadata": {},
     "output_type": "execute_result"
    }
   ],
   "source": [
    "np.unique(data['floors'])"
   ]
  },
  {
   "cell_type": "markdown",
   "metadata": {},
   "source": [
    "### Target vector and feature matrix"
   ]
  },
  {
   "cell_type": "markdown",
   "metadata": {},
   "source": [
    "This is **supervised learning**, so I have to specify the **target vector**:"
   ]
  },
  {
   "cell_type": "code",
   "execution_count": 7,
   "metadata": {},
   "outputs": [],
   "source": [
    "y = data['value']"
   ]
  },
  {
   "cell_type": "markdown",
   "metadata": {},
   "source": [
    "Now the **feature matrix**. To avoid writing the names of the columns, I extract them from:"
   ]
  },
  {
   "cell_type": "code",
   "execution_count": 8,
   "metadata": {},
   "outputs": [
    {
     "data": {
      "text/plain": [
       "('value',\n",
       " 'lot_sqft',\n",
       " 'yr_built',\n",
       " 'gross_area',\n",
       " 'living_area',\n",
       " 'floors',\n",
       " 'rooms',\n",
       " 'bedrooms',\n",
       " 'full_bath',\n",
       " 'half_bath',\n",
       " 'kitchen',\n",
       " 'fireplace',\n",
       " 'remodel')"
      ]
     },
     "execution_count": 8,
     "metadata": {},
     "output_type": "execute_result"
    }
   ],
   "source": [
    "data.dtype.names"
   ]
  },
  {
   "cell_type": "markdown",
   "metadata": {},
   "source": [
    "Note that this is a **tuple**. Since I need a list to specify the columns to be retained, I turn it into a list. Then, I will get the feature matrix as structured subarray by excluding the first column (`value`):"
   ]
  },
  {
   "cell_type": "code",
   "execution_count": 9,
   "metadata": {},
   "outputs": [],
   "source": [
    "X = data[list(data.dtype.names[1:])]"
   ]
  },
  {
   "cell_type": "markdown",
   "metadata": {},
   "source": [
    "Finally, to get this matrix admitted by scikit-learn, it has to be converted to an **unstructured array**: "
   ]
  },
  {
   "cell_type": "code",
   "execution_count": 10,
   "metadata": {},
   "outputs": [],
   "source": [
    "from numpy.lib.recfunctions import structured_to_unstructured\n",
    "X = structured_to_unstructured(X)"
   ]
  },
  {
   "cell_type": "markdown",
   "metadata": {},
   "source": [
    "Let me check that `X` has the right shape:"
   ]
  },
  {
   "cell_type": "code",
   "execution_count": 11,
   "metadata": {},
   "outputs": [
    {
     "data": {
      "text/plain": [
       "(5801, 12)"
      ]
     },
     "execution_count": 11,
     "metadata": {},
     "output_type": "execute_result"
    }
   ],
   "source": [
    "X.shape"
   ]
  },
  {
   "cell_type": "markdown",
   "metadata": {},
   "source": [
    "### Linear regression equation"
   ]
  },
  {
   "cell_type": "markdown",
   "metadata": {},
   "source": [
    "To obtain the linear regression model, I import `LinearRegression` from the scikit-learn subpackage `linear_model`:"
   ]
  },
  {
   "cell_type": "code",
   "execution_count": 12,
   "metadata": {},
   "outputs": [],
   "source": [
    "from sklearn.linear_model import LinearRegression"
   ]
  },
  {
   "cell_type": "markdown",
   "metadata": {},
   "source": [
    "In a second step, I instantiate a **linear regression estimator**, calling it `linreg` (you can give it any name):"
   ]
  },
  {
   "cell_type": "code",
   "execution_count": 13,
   "metadata": {},
   "outputs": [],
   "source": [
    "linreg = LinearRegression()"
   ]
  },
  {
   "cell_type": "markdown",
   "metadata": {},
   "source": [
    "The three basic methods, `fit`, `score` and `predict`, work as follows. With the method `fit`, I get the regression coefficients (not shown unless you ask for them). These coefficients are optimal in the least squares sense. "
   ]
  },
  {
   "cell_type": "code",
   "execution_count": 14,
   "metadata": {},
   "outputs": [
    {
     "data": {
      "text/plain": [
       "LinearRegression()"
      ]
     },
     "execution_count": 14,
     "metadata": {},
     "output_type": "execute_result"
    }
   ],
   "source": [
    "linreg.fit(X, y)"
   ]
  },
  {
   "cell_type": "markdown",
   "metadata": {},
   "source": [
    "We typically use the **R2 statistic** to evaluate a regression model. It is given by the method `score`:"
   ]
  },
  {
   "cell_type": "code",
   "execution_count": 15,
   "metadata": {},
   "outputs": [
    {
     "data": {
      "text/plain": [
       "0.811"
      ]
     },
     "execution_count": 15,
     "metadata": {},
     "output_type": "execute_result"
    }
   ],
   "source": [
    "round(linreg.score(X, y), 3)"
   ]
  },
  {
   "cell_type": "markdown",
   "metadata": {},
   "source": [
    "### Predicted values"
   ]
  },
  {
   "cell_type": "markdown",
   "metadata": {},
   "source": [
    "The values predicted by the regression equation are given by the method `predict`:"
   ]
  },
  {
   "cell_type": "code",
   "execution_count": 16,
   "metadata": {},
   "outputs": [],
   "source": [
    "ypred = linreg.predict(X)"
   ]
  },
  {
   "cell_type": "markdown",
   "metadata": {},
   "source": [
    "The R2 statistic coincides with the correlation of the actual values and the predicted values. To get this correlation in NumPy, I use the function `corrcoef`, which returns a **correlation matrix**, as a 2d array. The term of this matrix on which we are interested can be selected as usual in NumPy:"
   ]
  },
  {
   "cell_type": "code",
   "execution_count": 17,
   "metadata": {},
   "outputs": [
    {
     "data": {
      "text/plain": [
       "0.811"
      ]
     },
     "execution_count": 17,
     "metadata": {},
     "output_type": "execute_result"
    }
   ],
   "source": [
    "r = np.corrcoef(y, ypred)[0,1]\n",
    "round(r**2, 3)"
   ]
  },
  {
   "cell_type": "markdown",
   "metadata": {},
   "source": [
    "### Scatter plot"
   ]
  },
  {
   "cell_type": "markdown",
   "metadata": {},
   "source": [
    "The correlation provides a \"quick and dirty\" evaluation of a regression model. Nevertheless, a high correlation should not stop you from taking a closer look at the performance of the model. For instance, a **scatter plot** of the actual and the predicted home values frequently helps to get a more complete picture. That scatter plot (Figure 1) can be obtained as follows. First, I load the `pyplot` subpackage from `matplotlib`:"
   ]
  },
  {
   "cell_type": "code",
   "execution_count": 18,
   "metadata": {},
   "outputs": [],
   "source": [
    "from matplotlib import pyplot as plt"
   ]
  },
  {
   "cell_type": "markdown",
   "metadata": {},
   "source": [
    "Now I specify the scatter plot, placing the predicted values in the horizontal axis and the actual values in the vertical axis:"
   ]
  },
  {
   "cell_type": "code",
   "execution_count": 19,
   "metadata": {},
   "outputs": [
    {
     "data": {
      "image/png": "[encoded data removed]",
      "text/plain": [
       "<Figure size 432x432 with 1 Axes>"
      ]
     },
     "metadata": {
      "needs_background": "light"
     },
     "output_type": "display_data"
    }
   ],
   "source": [
    "plt.figure(figsize=(6,6))\n",
    "plt.scatter(x=ypred, y=y, color='black', s=1)\n",
    "plt.title('Figure 1. Actual vs predicted value')\n",
    "plt.xlabel('Predicted value (thousands)')\n",
    "plt.ylabel('Actual value (thousands)');"
   ]
  },
  {
   "cell_type": "markdown",
   "metadata": {},
   "source": [
    "Figure 1 shows a few scattered points on both sides, those on the right side at higher distances. You should attentive to this, since extreme values can be affect the correlation, which may then suggest that the predictions are better than they really are. Let us explore this a bit more."
   ]
  },
  {
   "cell_type": "markdown",
   "metadata": {},
   "source": [
    "### Distribution of the home assessed values"
   ]
  },
  {
   "cell_type": "markdown",
   "metadata": {},
   "source": [
    "**Skewed distributions** always make trouble in statistical analysis. The histogram of Figure 2 illustrates the distribution of the assessed value in West Roxbury, which is, indeed, skewed to the right. This is typical in distributions that are the consequence of the distribution of money across people."
   ]
  },
  {
   "cell_type": "code",
   "execution_count": 20,
   "metadata": {},
   "outputs": [
    {
     "data": {
      "image/png": "[encoded data removed]",
      "text/plain": [
       "<Figure size 576x432 with 1 Axes>"
      ]
     },
     "metadata": {
      "needs_background": "light"
     },
     "output_type": "display_data"
    }
   ],
   "source": [
    "plt.figure(figsize=(8,6))\n",
    "plt.title('Figure 2. Actual value')\n",
    "plt.hist(y, color='gray', rwidth=0.97)\n",
    "plt.xlabel('Actual value (thousands)');"
   ]
  },
  {
   "cell_type": "markdown",
   "metadata": {},
   "source": [
    "### Trimmed data"
   ]
  },
  {
   "cell_type": "markdown",
   "metadata": {},
   "source": [
    "We know that nothing is linear in the real world, but, still, we use linear equations in statistical analysis because of their simplicity, and because we also know than they provide good approximations if we restrict enough the range of some critical variables. In this case, restricting the range of the data also makes sense from the business point of view. In the real estate industry, models for customer segments are better trusted than \"universal\" models.\n",
    "\n",
    "So, what if we trim the data set, keeping only those homes within a restricted value range? For this example, I am going to use the range from 250 to 500 thousand dollars. These limits are based on visual inspection of the above graphics, so you may have a better idea.\n",
    "\n",
    "To obtain the trimmed data set, I create a **Boolean mask** by means of the expression `(y >= 250) & (y <= 500)`, placing it between the square brackets. "
   ]
  },
  {
   "cell_type": "code",
   "execution_count": 21,
   "metadata": {},
   "outputs": [],
   "source": [
    "y_trim = y[(y >= 250) & (y <= 500)]\n",
    "X_trim = X[(y >= 250) & (y <= 500)]"
   ]
  },
  {
   "cell_type": "markdown",
   "metadata": {},
   "source": [
    "Now, I extract the new regression equation and calculate the predicted values, as I did for the complete data set:"
   ]
  },
  {
   "cell_type": "code",
   "execution_count": 22,
   "metadata": {},
   "outputs": [],
   "source": [
    "linreg.fit(X_trim, y_trim)\n",
    "ypred_trim = linreg.predict(X_trim)"
   ]
  },
  {
   "cell_type": "markdown",
   "metadata": {},
   "source": [
    "The new scatter plot is:"
   ]
  },
  {
   "cell_type": "code",
   "execution_count": 23,
   "metadata": {},
   "outputs": [
    {
     "data": {
      "image/png": "[encoded data removed]",
      "text/plain": [
       "<Figure size 432x432 with 1 Axes>"
      ]
     },
     "metadata": {
      "needs_background": "light"
     },
     "output_type": "display_data"
    }
   ],
   "source": [
    "plt.figure(figsize=(6,6))\n",
    "plt.scatter(ypred_trim, y_trim, color='black', s=1)\n",
    "plt.title('Figure 3. Actual vs predicted value (trimmed data)')\n",
    "plt.xlabel('Predicted value (thousands)')\n",
    "plt.ylabel('Actual value (thousands)');"
   ]
  },
  {
   "cell_type": "markdown",
   "metadata": {},
   "source": [
    "Now the R2 statistic does not look so impressive:"
   ]
  },
  {
   "cell_type": "code",
   "execution_count": 24,
   "metadata": {},
   "outputs": [
    {
     "data": {
      "text/plain": [
       "0.647"
      ]
     },
     "execution_count": 24,
     "metadata": {},
     "output_type": "execute_result"
    }
   ],
   "source": [
    "round(linreg.score(X_trim, y_trim), 3)"
   ]
  },
  {
   "cell_type": "markdown",
   "metadata": {},
   "source": [
    "What do we conclude from this? That the former correlation (above 0.9) was giving us an over-optimistic message about our ability to predict the assessed values with a linear regression model. On should not trust too much a correlation derived from data in which the target variable has a skewed distribution."
   ]
  },
  {
   "cell_type": "markdown",
   "metadata": {},
   "source": [
    "### Homework"
   ]
  },
  {
   "cell_type": "markdown",
   "metadata": {},
   "source": [
    "1. Evaluate the predictive performance of these models in dollar terms. A statement in this line would be like \"the value of `x`% of the houses can be predicted with an error below `y` thousand dollars\".\n",
    "\n",
    "2. Would it better to evaluate the models expressing the prediction errors in percentage terms? Then our statement would be like \"the value of `x`% of the houses can be predicted with an error below `y`% of the actual value\".\n",
    "\n",
    "3. Which of the two models predicts better than the house values between 250 and 500 thousand dollars?"
   ]
  }
 ],
 "metadata": {
  "kernelspec": {
   "display_name": "Python 3",
   "language": "python",
   "name": "python3"
  },
  "language_info": {
   "codemirror_mode": {
    "name": "ipython",
    "version": 3
   },
   "file_extension": ".py",
   "mimetype": "text/x-python",
   "name": "python",
   "nbconvert_exporter": "python",
   "pygments_lexer": "ipython3",
   "version": "3.7.9"
  }
 },
 "nbformat": 4,
 "nbformat_minor": 4
}
