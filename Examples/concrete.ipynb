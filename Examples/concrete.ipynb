{
  "nbformat": 4,
  "nbformat_minor": 0,
  "metadata": {
    "colab": {
      "provenance": [],
      "authorship_tag": "ABX9TyMjsT4xgsD0WO7rpTWgXVep",
      "include_colab_link": true
    },
    "kernelspec": {
      "name": "python3",
      "display_name": "Python 3"
    },
    "language_info": {
      "name": "python"
    }
  },
  "cells": [
    {
      "cell_type": "markdown",
      "metadata": {
        "id": "view-in-github",
        "colab_type": "text"
      },
      "source": [
        "<a href=\"https://colab.research.google.com/github/cinnData/MLearning/blob/main/Examples/concrete.ipynb\" target=\"_parent\"><img src=\"https://colab.research.google.com/assets/colab-badge.svg\" alt=\"Open In Colab\"/></a>"
      ]
    },
    {
      "cell_type": "markdown",
      "source": [
        "# [MLE-01] Example - Modeling the strength of concrete"
      ],
      "metadata": {
        "id": "RNqxm9Qi_Znk"
      }
    },
    {
      "cell_type": "markdown",
      "source": [
        "### Q1. Import the data"
      ],
      "metadata": {
        "id": "5i6a2-Gq_z9t"
      }
    },
    {
      "cell_type": "code",
      "source": [
        "import pandas as pd"
      ],
      "metadata": {
        "id": "xmCHJhzY_7L4"
      },
      "execution_count": null,
      "outputs": []
    },
    {
      "cell_type": "code",
      "source": [
        "path = 'https://raw.githubusercontent.com/cinnData/MLearning/main/Data/'\n",
        "df = pd.read_csv(path + 'concrete.csv')"
      ],
      "metadata": {
        "id": "5EnVsDpsAEGE"
      },
      "execution_count": null,
      "outputs": []
    },
    {
      "cell_type": "code",
      "source": [
        "df.info()"
      ],
      "metadata": {
        "id": "x_RH9i-YAMNV"
      },
      "execution_count": null,
      "outputs": []
    },
    {
      "cell_type": "code",
      "source": [
        "df.head()"
      ],
      "metadata": {
        "id": "0FzEt_eTAP9o"
      },
      "execution_count": null,
      "outputs": []
    },
    {
      "cell_type": "code",
      "source": [
        "df.describe()"
      ],
      "metadata": {
        "id": "yyKp4r1lAVCl"
      },
      "execution_count": null,
      "outputs": []
    },
    {
      "cell_type": "markdown",
      "source": [
        "### Q2. Target vector and feature matrix"
      ],
      "metadata": {
        "id": "MBJ16ebsAZ2W"
      }
    },
    {
      "cell_type": "code",
      "source": [
        "y = df.iloc[:, -1]"
      ],
      "metadata": {
        "id": "O0roOtRgAqt7"
      },
      "execution_count": null,
      "outputs": []
    },
    {
      "cell_type": "code",
      "source": [
        "X = df.iloc[:, :-1]"
      ],
      "metadata": {
        "id": "4aQD0lHQAt9p"
      },
      "execution_count": null,
      "outputs": []
    },
    {
      "cell_type": "markdown",
      "source": [
        "\n",
        "### Q3. Linear regression model"
      ],
      "metadata": {
        "id": "Wc-gb_xGAwi3"
      }
    },
    {
      "cell_type": "code",
      "source": [
        "from sklearn.linear_model import LinearRegression"
      ],
      "metadata": {
        "id": "XJmguBXjA0Nm"
      },
      "execution_count": null,
      "outputs": []
    },
    {
      "cell_type": "code",
      "source": [
        "reg = LinearRegression()"
      ],
      "metadata": {
        "id": "EkNAVOcYA5mG"
      },
      "execution_count": null,
      "outputs": []
    },
    {
      "cell_type": "code",
      "source": [
        "reg.fit(X, y)"
      ],
      "metadata": {
        "id": "_vcXGGLOA8jo"
      },
      "execution_count": null,
      "outputs": []
    },
    {
      "cell_type": "markdown",
      "source": [
        "### Q4. Predicted strength values"
      ],
      "metadata": {
        "id": "PYYpj3FQBG6Y"
      }
    },
    {
      "cell_type": "code",
      "source": [
        "y_pred = reg.predict(X)"
      ],
      "metadata": {
        "id": "Y1YoB0wKBK1U"
      },
      "execution_count": null,
      "outputs": []
    },
    {
      "cell_type": "code",
      "source": [
        "X_new = df.describe().iloc[1:2, :-1].round()\n",
        "X_new"
      ],
      "metadata": {
        "id": "2y1Xn6J7BVqk"
      },
      "execution_count": null,
      "outputs": []
    },
    {
      "cell_type": "code",
      "source": [
        "reg.predict(X_new)"
      ],
      "metadata": {
        "id": "bXhZq4MoBa6B"
      },
      "execution_count": null,
      "outputs": []
    },
    {
      "cell_type": "markdown",
      "source": [
        "### Q5. Evaluate the model"
      ],
      "metadata": {
        "id": "Cjn2meqBBzMf"
      }
    },
    {
      "cell_type": "code",
      "source": [
        "reg.score(X, y).round(3)"
      ],
      "metadata": {
        "id": "m_SmkPzbCB8c"
      },
      "execution_count": null,
      "outputs": []
    },
    {
      "cell_type": "code",
      "source": [
        "from matplotlib import pyplot as plt"
      ],
      "metadata": {
        "id": "7l5XXOjdCFLS"
      },
      "execution_count": null,
      "outputs": []
    },
    {
      "cell_type": "code",
      "source": [
        "plt.figure(figsize=(5,5))\n",
        "plt.title('Figure 1. Actual strength vs predicted strength')\n",
        "plt.scatter(y_pred, y, color='black', s=2)\n",
        "plt.xlabel('Predicted strength')\n",
        "plt.ylabel('Actual strength');"
      ],
      "metadata": {
        "id": "URePNpplCKqP"
      },
      "execution_count": null,
      "outputs": []
    },
    {
      "cell_type": "markdown",
      "source": [
        "### Q6. Save the model for future use"
      ],
      "metadata": {
        "id": "DewlmlCyCN2n"
      }
    },
    {
      "cell_type": "code",
      "source": [
        "import joblib"
      ],
      "metadata": {
        "id": "bL5R8NgGCTPt"
      },
      "execution_count": null,
      "outputs": []
    },
    {
      "cell_type": "code",
      "source": [
        "joblib.dump(reg, 'reg.pkl')"
      ],
      "metadata": {
        "id": "96zRQAcqGEH-"
      },
      "execution_count": null,
      "outputs": []
    },
    {
      "cell_type": "code",
      "source": [
        "newreg = joblib.load('reg.pkl')"
      ],
      "metadata": {
        "id": "syiLHq6jC0SI"
      },
      "execution_count": null,
      "outputs": []
    },
    {
      "cell_type": "code",
      "source": [
        "(reg.predict(X) != newreg.predict(X)).sum()"
      ],
      "metadata": {
        "id": "e105Nj6jDpdb"
      },
      "execution_count": null,
      "outputs": []
    }
  ]
}