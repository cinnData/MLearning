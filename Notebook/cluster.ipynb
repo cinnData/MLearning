{
  "nbformat": 4,
  "nbformat_minor": 0,
  "metadata": {
    "colab": {
      "provenance": [],
      "authorship_tag": "ABX9TyMLQ5UiOaqd9D3fOL3oogwb",
      "include_colab_link": true
    },
    "kernelspec": {
      "name": "python3",
      "display_name": "Python 3"
    },
    "language_info": {
      "name": "python"
    }
  },
  "cells": [
    {
      "cell_type": "markdown",
      "metadata": {
        "id": "view-in-github",
        "colab_type": "text"
      },
      "source": [
        "<a href=\"https://colab.research.google.com/github/cinnData/MLearning/blob/main/Notebook/cluster.ipynb\" target=\"_parent\"><img src=\"https://colab.research.google.com/assets/colab-badge.svg\" alt=\"Open In Colab\"/></a>"
      ]
    },
    {
      "cell_type": "markdown",
      "source": [
        "# [ML-09E] Clustering examples"
      ],
      "metadata": {
        "id": "ahE7HZ9BIgql"
      }
    },
    {
      "cell_type": "markdown",
      "source": [
        "## Importing the spam data"
      ],
      "metadata": {
        "id": "D0j3WCnWJDmh"
      }
    },
    {
      "cell_type": "code",
      "source": [
        "import pandas as pd\n",
        "path = 'https://raw.githubusercontent.com/cinnData/MLearning/main/Data/'\n",
        "df = pd.read_csv(path + 'spam.csv')"
      ],
      "metadata": {
        "id": "rOYM13KSJMZU"
      },
      "execution_count": null,
      "outputs": []
    },
    {
      "cell_type": "code",
      "source": [
        "y = df['spam']\n",
        "X = df.drop(columns='spam')"
      ],
      "metadata": {
        "id": "l03ZByGLJQYg"
      },
      "execution_count": null,
      "outputs": []
    },
    {
      "cell_type": "markdown",
      "source": [
        "# Q1. 2-cluster analysis (original data)"
      ],
      "metadata": {
        "id": "iuexkG62Jl_i"
      }
    },
    {
      "cell_type": "code",
      "source": [
        "from sklearn.cluster import KMeans"
      ],
      "metadata": {
        "id": "noMtaAaTJpDl"
      },
      "execution_count": null,
      "outputs": []
    },
    {
      "cell_type": "code",
      "source": [
        "clus = KMeans(n_clusters=2, random_state=0)"
      ],
      "metadata": {
        "id": "jmMJ2p-GKQnj"
      },
      "execution_count": null,
      "outputs": []
    },
    {
      "cell_type": "code",
      "source": [
        "clus.fit(X)"
      ],
      "metadata": {
        "id": "rTY1oOBzKTBF"
      },
      "execution_count": null,
      "outputs": []
    },
    {
      "cell_type": "code",
      "source": [
        "label1 = clus.labels_\n",
        "label1"
      ],
      "metadata": {
        "id": "no0pPsK1Kdkn"
      },
      "execution_count": null,
      "outputs": []
    },
    {
      "cell_type": "code",
      "source": [
        "pd.crosstab(y, label1)"
      ],
      "metadata": {
        "id": "cpe8mo9uKyNl"
      },
      "execution_count": null,
      "outputs": []
    },
    {
      "cell_type": "code",
      "source": [
        "(y == label1).mean().round(3)"
      ],
      "metadata": {
        "id": "BMPZGuf5QyFE"
      },
      "execution_count": null,
      "outputs": []
    },
    {
      "cell_type": "markdown",
      "source": [
        "## Q2. Binary data set"
      ],
      "metadata": {
        "id": "7EVbFcYmQ1_9"
      }
    },
    {
      "cell_type": "code",
      "source": [
        "BX = (X.iloc[:, :-3] > 0).astype('int')"
      ],
      "metadata": {
        "id": "j35B-HktRIVm"
      },
      "execution_count": null,
      "outputs": []
    },
    {
      "cell_type": "code",
      "source": [
        "clus.fit(BX)\n",
        "label2 = clus.labels_"
      ],
      "metadata": {
        "id": "Ll0zrQ9lRNsk"
      },
      "execution_count": null,
      "outputs": []
    },
    {
      "cell_type": "code",
      "source": [
        "pd.crosstab(y, label2)"
      ],
      "metadata": {
        "id": "eKkXK0cCRRVU"
      },
      "execution_count": null,
      "outputs": []
    },
    {
      "cell_type": "code",
      "source": [
        "(y == 1 - label2).mean().round(3)"
      ],
      "metadata": {
        "id": "p_DwZ3h6UvVl"
      },
      "execution_count": null,
      "outputs": []
    },
    {
      "cell_type": "markdown",
      "source": [
        "## Q3. Removing features  "
      ],
      "metadata": {
        "id": "avlfvjyiU6uh"
      }
    },
    {
      "cell_type": "code",
      "source": [
        "from sklearn.tree import DecisionTreeClassifier\n",
        "clf = DecisionTreeClassifier(max_depth=5)\n",
        "clf.fit(BX, y)"
      ],
      "metadata": {
        "id": "57XKF1NaV8NZ"
      },
      "execution_count": null,
      "outputs": []
    },
    {
      "cell_type": "code",
      "source": [
        "clf.feature_importances_"
      ],
      "metadata": {
        "id": "Ta97kdceV-sV"
      },
      "execution_count": null,
      "outputs": []
    },
    {
      "cell_type": "code",
      "source": [
        "DBX = BX.iloc[:, clf.feature_importances_ > 0]"
      ],
      "metadata": {
        "id": "26DgPGHGWVI4"
      },
      "execution_count": null,
      "outputs": []
    },
    {
      "cell_type": "code",
      "source": [
        "clus.fit(DBX)\n",
        "label3 = clus.labels_"
      ],
      "metadata": {
        "id": "Mnw7S17zWbtb"
      },
      "execution_count": null,
      "outputs": []
    },
    {
      "cell_type": "code",
      "source": [
        "pd.crosstab(y, label3)"
      ],
      "metadata": {
        "id": "illln5s7Wj9J"
      },
      "execution_count": null,
      "outputs": []
    },
    {
      "cell_type": "code",
      "source": [
        "(y == 1 - label3).mean().round(3)"
      ],
      "metadata": {
        "id": "S6d7lVhPWoNx"
      },
      "execution_count": null,
      "outputs": []
    }
  ]
}